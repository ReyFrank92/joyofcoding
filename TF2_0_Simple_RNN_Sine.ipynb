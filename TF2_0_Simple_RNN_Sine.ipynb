{
  "nbformat": 4,
  "nbformat_minor": 0,
  "metadata": {
    "colab": {
      "name": "TF2.0 Simple RNN Sine.ipynb",
      "provenance": [],
      "collapsed_sections": [],
      "authorship_tag": "ABX9TyNngJE0Gevj9IFLYHq5zmvs",
      "include_colab_link": true
    },
    "kernelspec": {
      "name": "python3",
      "display_name": "Python 3"
    },
    "language_info": {
      "name": "python"
    }
  },
  "cells": [
    {
      "cell_type": "markdown",
      "metadata": {
        "id": "view-in-github",
        "colab_type": "text"
      },
      "source": [
        "<a href=\"https://colab.research.google.com/github/ReyFrank92/joyofcoding/blob/main/TF2_0_Simple_RNN_Sine.ipynb\" target=\"_parent\"><img src=\"https://colab.research.google.com/assets/colab-badge.svg\" alt=\"Open In Colab\"/></a>"
      ]
    },
    {
      "cell_type": "code",
      "execution_count": 69,
      "metadata": {
        "colab": {
          "base_uri": "https://localhost:8080/"
        },
        "id": "dX5GbCXNLhfp",
        "outputId": "2e62d256-d20c-4132-ae63-237a37bb2cca"
      },
      "outputs": [
        {
          "output_type": "stream",
          "name": "stdout",
          "text": [
            "2.9.1\n"
          ]
        }
      ],
      "source": [
        "#Install TensorFlow\n",
        "!pip install -q tensorflow-gpu==2.0.0\n",
        "import tensorflow as tf\n",
        "print(tf.__version__)"
      ]
    },
    {
      "cell_type": "markdown",
      "source": [
        "Note: recurernt loop implies a time delay of 1\n",
        "\n",
        "helpfull subcripts,\n",
        "\n",
        "x = input,\n",
        "\n",
        "h = hidden,\n",
        "\n",
        "o = output,\n",
        "\n",
        "xh = input-to-hidden,\n",
        "\n",
        "hh = hidden-to-hideen,\n",
        "\n",
        "Practicamente las diferencias entre ann  y rnn es el componente de rezago t-1\n",
        "h0 is the initial hidden state and it can be a learned parameter.\n",
        "\n",
        "In tensorflow, it's not leanrable- just assume it's zero\n",
        "\n",
        "Pseudocode\n",
        "\n",
        "Wxh - input to hidden weight\n",
        "\n",
        "Xhh - hidden to hiiden weight\n",
        "\n",
        "bh - hidden bias\n",
        "\n",
        "Wo - hidden to output weight\n",
        "\n",
        "bo - output bias\n",
        "\n",
        "X - TxD input matrix \n",
        "\n",
        "tanh hidden activation\n",
        "\n",
        "softmax output activation \n",
        "\n",
        "YHat =[]\n",
        "h_last= h0\n",
        "for t in range (T):\n",
        "  h_t = tan[t].dot(Wx) + h_last.dot(Wh) + bh)\n",
        "  yhat = softmax(h_t.dot(Wo) + bo\n",
        "  Yhat.append(yhat)\n",
        "\n",
        "  #important, don't foget to update h_last\n",
        "  h_last = h_t\n",
        "\n",
        "CNNs have \"shared weights\" to take advantages of structure, resulting in savings- let's see how RNNs do the same\n",
        "\n",
        "from tensorflow.keras.layers import Input, SimpleRNN, Dense\n",
        "\n",
        "i = Input(shape=(T,1))\n",
        "x = SimpleRNN(5, activation='relu')(i)\n",
        "x = Dense (1)(x)\n",
        "model = Model (i,x)\n",
        "\n",
        "Train and evaluation is the same\n",
        "al final cuando aparezca:\n",
        "model.predict(x.reshape(1,T,1))[0,0] Los ceros significan que van a tomar el valor como escalar. adem+ás, en este caso son 3 dimensiones, \n",
        "\n",
        "recuerda NxTxD, output will be N x K. N=1, D=1, K=1"
      ],
      "metadata": {
        "id": "FuIddxKLLmox"
      }
    },
    {
      "cell_type": "code",
      "source": [
        "from tensorflow.keras.layers import Input, SimpleRNN, Dense, Flatten\n",
        "from tensorflow.keras.models import Model\n",
        "from tensorflow.keras.optimizers import SGD, Adam\n",
        "\n",
        "import numpy as np\n",
        "import pandas as pd\n",
        "import matplotlib.pyplot as plt"
      ],
      "metadata": {
        "id": "txBVw7HUQ10Q"
      },
      "execution_count": 70,
      "outputs": []
    },
    {
      "cell_type": "code",
      "source": [
        "#make the original data\n",
        "series = np.sin(0.1*np.arange(200)) + np.random.randn(200)*0.1 #quitar o no quitar si queremos probar con o sin ruido\n",
        "\n",
        "#Plot it\n",
        "plt.plot(series)\n",
        "plt.show()"
      ],
      "metadata": {
        "colab": {
          "base_uri": "https://localhost:8080/",
          "height": 265
        },
        "id": "1L7PpAwVZvAJ",
        "outputId": "75c0186a-2797-4fd1-fa01-051af6d8e84e"
      },
      "execution_count": 71,
      "outputs": [
        {
          "output_type": "display_data",
          "data": {
            "text/plain": [
              "<Figure size 432x288 with 1 Axes>"
            ],
            "image/png": "[encoded data removed]"
          },
          "metadata": {
            "needs_background": "light"
          }
        }
      ]
    },
    {
      "cell_type": "code",
      "source": [
        "### Build the dataset []\n",
        "# let's see if we can use T past values to predict the next value\n",
        "T = 10 # to use 10 previous times step to predict the next time stack\n",
        "D = 1 ## En RNN agrego esto porque los RNN son de 3 dimensiones\n",
        "X = []\n",
        "Y = []\n",
        "for t in range(len(series) - T): #lo que mida la serie -10\n",
        "  x = series [t:t+T] # cuando t = 1, entonces corre de 1 a 11, cuando es 2 , corre de 2 a 12 ya si (en la primera iteración irá de 0 a 9 porque T =10)\n",
        "  X.append(x) #Se anexa el x al final \n",
        "  y = series [t+T] #si t  = 3 entonces es 13. i.e. se busca la observación 13 estando en el 3.\n",
        "  Y.append(y) #Se anexa el y al final\n",
        "\n",
        "#Final target index\n",
        " # = Final t + T\n",
        " # [len(series) - T - 1] + T\n",
        " # len(series) -1 \n",
        "\n",
        "X = np.array(X).reshape(-1,T,1) #  N X T x D . #Una vez que tienes un array, ahora transpones los arrays de tal forma que tenga T(osea 10) cada una, los -1 sirven si no sabes cuando hay en algo pero la pc los acomoda automaticamente\n",
        "Y = np.array(Y) #Se crea un array con los valore Y\n",
        "N = len(X) #el número de items en X\n",
        "print(\"X.shape\", X.shape, \"Y.shape\", Y.shape)"
      ],
      "metadata": {
        "colab": {
          "base_uri": "https://localhost:8080/"
        },
        "id": "XV8v50DLaDwu",
        "outputId": "cf97985d-3c84-41e6-9cec-f423a4847db4"
      },
      "execution_count": 81,
      "outputs": [
        {
          "output_type": "stream",
          "name": "stdout",
          "text": [
            "X.shape (190, 10, 1) Y.shape (190,)\n"
          ]
        }
      ]
    },
    {
      "cell_type": "code",
      "source": [
        "print(X)#los 190 de 10 en 10 pero dimensionados en una 3 dimensión de 1 array"
      ],
      "metadata": {
        "colab": {
          "base_uri": "https://localhost:8080/"
        },
        "id": "fF4K2l2zahW-",
        "outputId": "ddf65807-61b1-4833-b0eb-61b2caa6697e"
      },
      "execution_count": 73,
      "outputs": [
        {
          "output_type": "stream",
          "name": "stdout",
          "text": [
            "[[[-0.0502525 ]\n",
            "  [ 0.10683386]\n",
            "  [ 0.21967404]\n",
            "  ...\n",
            "  [ 0.62989653]\n",
            "  [ 0.64735528]\n",
            "  [ 0.82988984]]\n",
            "\n",
            " [[ 0.10683386]\n",
            "  [ 0.21967404]\n",
            "  [ 0.41044698]\n",
            "  ...\n",
            "  [ 0.64735528]\n",
            "  [ 0.82988984]\n",
            "  [ 0.86609698]]\n",
            "\n",
            " [[ 0.21967404]\n",
            "  [ 0.41044698]\n",
            "  [ 0.60610095]\n",
            "  ...\n",
            "  [ 0.82988984]\n",
            "  [ 0.86609698]\n",
            "  [ 0.71686078]]\n",
            "\n",
            " ...\n",
            "\n",
            " [[ 0.10543636]\n",
            "  [-0.14901073]\n",
            "  [ 0.09299798]\n",
            "  ...\n",
            "  [ 0.5717368 ]\n",
            "  [ 0.49902372]\n",
            "  [ 0.67345933]]\n",
            "\n",
            " [[-0.14901073]\n",
            "  [ 0.09299798]\n",
            "  [ 0.25927821]\n",
            "  ...\n",
            "  [ 0.49902372]\n",
            "  [ 0.67345933]\n",
            "  [ 0.61025096]]\n",
            "\n",
            " [[ 0.09299798]\n",
            "  [ 0.25927821]\n",
            "  [ 0.19371353]\n",
            "  ...\n",
            "  [ 0.67345933]\n",
            "  [ 0.61025096]\n",
            "  [ 0.76496365]]]\n"
          ]
        }
      ]
    },
    {
      "cell_type": "code",
      "source": [
        "#try autoregressive RNN model []\n",
        "i = Input(shape=(T,1)) #es solo poner una entrada, en este caso 10 porque es la primera capa y uno busca un AR(10) #Aca si se pone (T,1)\n",
        "x = SimpleRNN(5, activation = 'relu')(i) #simpleRNN(5,activation='relu')(i) # el por defecto es un tanh\n",
        "x = Dense(1)(x) #final layer is one #solo es una capa. \n",
        "model = Model(i, x)\n",
        "model.compile(\n",
        "    loss='mse',\n",
        "    optimizer=Adam(lr=0.1),\n",
        ")\n",
        "\n",
        "# train the RNN\n",
        "r = model.fit(\n",
        "  X[:-N//2], Y[:-N//2], # si fuera _1 , signfica que la borra la última observacion,entonces -N borra todo pero //2 significa que toma última mitad de los datos\n",
        "  epochs = 80,\n",
        "  validation_data=(X[-N//2:], Y[-N//2:]), #valida con los mismos datos\n",
        ")\n",
        "\n",
        "# Select the last element in the list\n",
        "# (the slice starts at the last element, and ends at the end of the list)\n",
        "# surveys_df[-1:]"
      ],
      "metadata": {
        "colab": {
          "base_uri": "https://localhost:8080/"
        },
        "id": "H6-sl8ksbZfG",
        "outputId": "da0c948a-1291-4ff8-a532-16fe5b235d6c"
      },
      "execution_count": 82,
      "outputs": [
        {
          "output_type": "stream",
          "name": "stdout",
          "text": [
            "Epoch 1/80\n"
          ]
        },
        {
          "output_type": "stream",
          "name": "stderr",
          "text": [
            "/usr/local/lib/python3.7/dist-packages/keras/optimizers/optimizer_v2/adam.py:110: UserWarning: The `lr` argument is deprecated, use `learning_rate` instead.\n",
            "  super(Adam, self).__init__(name, **kwargs)\n"
          ]
        },
        {
          "output_type": "stream",
          "name": "stdout",
          "text": [
            "3/3 [==============================] - 1s 138ms/step - loss: 0.0939 - val_loss: 0.0552\n",
            "Epoch 2/80\n",
            "3/3 [==============================] - 0s 25ms/step - loss: 0.0448 - val_loss: 0.0243\n",
            "Epoch 3/80\n",
            "3/3 [==============================] - 0s 22ms/step - loss: 0.0253 - val_loss: 0.0339\n",
            "Epoch 4/80\n",
            "3/3 [==============================] - 0s 29ms/step - loss: 0.0237 - val_loss: 0.0282\n",
            "Epoch 5/80\n",
            "3/3 [==============================] - 0s 19ms/step - loss: 0.0251 - val_loss: 0.0269\n",
            "Epoch 6/80\n",
            "3/3 [==============================] - 0s 28ms/step - loss: 0.0201 - val_loss: 0.0269\n",
            "Epoch 7/80\n",
            "3/3 [==============================] - 0s 20ms/step - loss: 0.0225 - val_loss: 0.0263\n",
            "Epoch 8/80\n",
            "3/3 [==============================] - 0s 23ms/step - loss: 0.0198 - val_loss: 0.0292\n",
            "Epoch 9/80\n",
            "3/3 [==============================] - 0s 25ms/step - loss: 0.0196 - val_loss: 0.0279\n",
            "Epoch 10/80\n",
            "3/3 [==============================] - 0s 24ms/step - loss: 0.0201 - val_loss: 0.0321\n",
            "Epoch 11/80\n",
            "3/3 [==============================] - 0s 24ms/step - loss: 0.0197 - val_loss: 0.0267\n",
            "Epoch 12/80\n",
            "3/3 [==============================] - 0s 19ms/step - loss: 0.0209 - val_loss: 0.0276\n",
            "Epoch 13/80\n",
            "3/3 [==============================] - 0s 16ms/step - loss: 0.0201 - val_loss: 0.0271\n",
            "Epoch 14/80\n",
            "3/3 [==============================] - 0s 17ms/step - loss: 0.0198 - val_loss: 0.0269\n",
            "Epoch 15/80\n",
            "3/3 [==============================] - 0s 17ms/step - loss: 0.0204 - val_loss: 0.0282\n",
            "Epoch 16/80\n",
            "3/3 [==============================] - 0s 17ms/step - loss: 0.0190 - val_loss: 0.0295\n",
            "Epoch 17/80\n",
            "3/3 [==============================] - 0s 20ms/step - loss: 0.0193 - val_loss: 0.0276\n",
            "Epoch 18/80\n",
            "3/3 [==============================] - 0s 19ms/step - loss: 0.0183 - val_loss: 0.0294\n",
            "Epoch 19/80\n",
            "3/3 [==============================] - 0s 25ms/step - loss: 0.0192 - val_loss: 0.0294\n",
            "Epoch 20/80\n",
            "3/3 [==============================] - 0s 18ms/step - loss: 0.0206 - val_loss: 0.0282\n",
            "Epoch 21/80\n",
            "3/3 [==============================] - 0s 18ms/step - loss: 0.0197 - val_loss: 0.0329\n",
            "Epoch 22/80\n",
            "3/3 [==============================] - 0s 18ms/step - loss: 0.0195 - val_loss: 0.0288\n",
            "Epoch 23/80\n",
            "3/3 [==============================] - 0s 17ms/step - loss: 0.0197 - val_loss: 0.0306\n",
            "Epoch 24/80\n",
            "3/3 [==============================] - 0s 18ms/step - loss: 0.0192 - val_loss: 0.0283\n",
            "Epoch 25/80\n",
            "3/3 [==============================] - 0s 17ms/step - loss: 0.0196 - val_loss: 0.0294\n",
            "Epoch 26/80\n",
            "3/3 [==============================] - 0s 25ms/step - loss: 0.0180 - val_loss: 0.0315\n",
            "Epoch 27/80\n",
            "3/3 [==============================] - 0s 17ms/step - loss: 0.0233 - val_loss: 0.0290\n",
            "Epoch 28/80\n",
            "3/3 [==============================] - 0s 20ms/step - loss: 0.0258 - val_loss: 0.0291\n",
            "Epoch 29/80\n",
            "3/3 [==============================] - 0s 27ms/step - loss: 0.0257 - val_loss: 0.0312\n",
            "Epoch 30/80\n",
            "3/3 [==============================] - 0s 17ms/step - loss: 0.0215 - val_loss: 0.0382\n",
            "Epoch 31/80\n",
            "3/3 [==============================] - 0s 26ms/step - loss: 0.0193 - val_loss: 0.0330\n",
            "Epoch 32/80\n",
            "3/3 [==============================] - 0s 17ms/step - loss: 0.0224 - val_loss: 0.0345\n",
            "Epoch 33/80\n",
            "3/3 [==============================] - 0s 26ms/step - loss: 0.0218 - val_loss: 0.0320\n",
            "Epoch 34/80\n",
            "3/3 [==============================] - 0s 28ms/step - loss: 0.0205 - val_loss: 0.0290\n",
            "Epoch 35/80\n",
            "3/3 [==============================] - 0s 18ms/step - loss: 0.0201 - val_loss: 0.0253\n",
            "Epoch 36/80\n",
            "3/3 [==============================] - 0s 18ms/step - loss: 0.0206 - val_loss: 0.0266\n",
            "Epoch 37/80\n",
            "3/3 [==============================] - 0s 20ms/step - loss: 0.0192 - val_loss: 0.0303\n",
            "Epoch 38/80\n",
            "3/3 [==============================] - 0s 25ms/step - loss: 0.0196 - val_loss: 0.0299\n",
            "Epoch 39/80\n",
            "3/3 [==============================] - 0s 18ms/step - loss: 0.0225 - val_loss: 0.0274\n",
            "Epoch 40/80\n",
            "3/3 [==============================] - 0s 27ms/step - loss: 0.0233 - val_loss: 0.0270\n",
            "Epoch 41/80\n",
            "3/3 [==============================] - 0s 17ms/step - loss: 0.0212 - val_loss: 0.0287\n",
            "Epoch 42/80\n",
            "3/3 [==============================] - 0s 18ms/step - loss: 0.0193 - val_loss: 0.0285\n",
            "Epoch 43/80\n",
            "3/3 [==============================] - 0s 17ms/step - loss: 0.0198 - val_loss: 0.0335\n",
            "Epoch 44/80\n",
            "3/3 [==============================] - 0s 22ms/step - loss: 0.0189 - val_loss: 0.0280\n",
            "Epoch 45/80\n",
            "3/3 [==============================] - 0s 16ms/step - loss: 0.0194 - val_loss: 0.0289\n",
            "Epoch 46/80\n",
            "3/3 [==============================] - 0s 24ms/step - loss: 0.0209 - val_loss: 0.0271\n",
            "Epoch 47/80\n",
            "3/3 [==============================] - 0s 17ms/step - loss: 0.0182 - val_loss: 0.0273\n",
            "Epoch 48/80\n",
            "3/3 [==============================] - 0s 19ms/step - loss: 0.0190 - val_loss: 0.0302\n",
            "Epoch 49/80\n",
            "3/3 [==============================] - 0s 20ms/step - loss: 0.0197 - val_loss: 0.0304\n",
            "Epoch 50/80\n",
            "3/3 [==============================] - 0s 25ms/step - loss: 0.0182 - val_loss: 0.0254\n",
            "Epoch 51/80\n",
            "3/3 [==============================] - 0s 29ms/step - loss: 0.0200 - val_loss: 0.0252\n",
            "Epoch 52/80\n",
            "3/3 [==============================] - 0s 26ms/step - loss: 0.0199 - val_loss: 0.0227\n",
            "Epoch 53/80\n",
            "3/3 [==============================] - 0s 28ms/step - loss: 0.0191 - val_loss: 0.0239\n",
            "Epoch 54/80\n",
            "3/3 [==============================] - 0s 25ms/step - loss: 0.0224 - val_loss: 0.0237\n",
            "Epoch 55/80\n",
            "3/3 [==============================] - 0s 27ms/step - loss: 0.0226 - val_loss: 0.0253\n",
            "Epoch 56/80\n",
            "3/3 [==============================] - 0s 25ms/step - loss: 0.0200 - val_loss: 0.0270\n",
            "Epoch 57/80\n",
            "3/3 [==============================] - 0s 17ms/step - loss: 0.0271 - val_loss: 0.0353\n",
            "Epoch 58/80\n",
            "3/3 [==============================] - 0s 28ms/step - loss: 0.0231 - val_loss: 0.0308\n",
            "Epoch 59/80\n",
            "3/3 [==============================] - 0s 19ms/step - loss: 0.0254 - val_loss: 0.0282\n",
            "Epoch 60/80\n",
            "3/3 [==============================] - 0s 18ms/step - loss: 0.0235 - val_loss: 0.0261\n",
            "Epoch 61/80\n",
            "3/3 [==============================] - 0s 26ms/step - loss: 0.0272 - val_loss: 0.0279\n",
            "Epoch 62/80\n",
            "3/3 [==============================] - 0s 18ms/step - loss: 0.0234 - val_loss: 0.0365\n",
            "Epoch 63/80\n",
            "3/3 [==============================] - 0s 19ms/step - loss: 0.0247 - val_loss: 0.0307\n",
            "Epoch 64/80\n",
            "3/3 [==============================] - 0s 26ms/step - loss: 0.0227 - val_loss: 0.0265\n",
            "Epoch 65/80\n",
            "3/3 [==============================] - 0s 20ms/step - loss: 0.0253 - val_loss: 0.0305\n",
            "Epoch 66/80\n",
            "3/3 [==============================] - 0s 17ms/step - loss: 0.0239 - val_loss: 0.0322\n",
            "Epoch 67/80\n",
            "3/3 [==============================] - 0s 25ms/step - loss: 0.0263 - val_loss: 0.0305\n",
            "Epoch 68/80\n",
            "3/3 [==============================] - 0s 19ms/step - loss: 0.0218 - val_loss: 0.0345\n",
            "Epoch 69/80\n",
            "3/3 [==============================] - 0s 21ms/step - loss: 0.0218 - val_loss: 0.0291\n",
            "Epoch 70/80\n",
            "3/3 [==============================] - 0s 27ms/step - loss: 0.0210 - val_loss: 0.0296\n",
            "Epoch 71/80\n",
            "3/3 [==============================] - 0s 27ms/step - loss: 0.0213 - val_loss: 0.0304\n",
            "Epoch 72/80\n",
            "3/3 [==============================] - 0s 17ms/step - loss: 0.0217 - val_loss: 0.0293\n",
            "Epoch 73/80\n",
            "3/3 [==============================] - 0s 18ms/step - loss: 0.0201 - val_loss: 0.0296\n",
            "Epoch 74/80\n",
            "3/3 [==============================] - 0s 20ms/step - loss: 0.0203 - val_loss: 0.0306\n",
            "Epoch 75/80\n",
            "3/3 [==============================] - 0s 26ms/step - loss: 0.0191 - val_loss: 0.0318\n",
            "Epoch 76/80\n",
            "3/3 [==============================] - 0s 27ms/step - loss: 0.0191 - val_loss: 0.0259\n",
            "Epoch 77/80\n",
            "3/3 [==============================] - 0s 19ms/step - loss: 0.0211 - val_loss: 0.0273\n",
            "Epoch 78/80\n",
            "3/3 [==============================] - 0s 19ms/step - loss: 0.0199 - val_loss: 0.0303\n",
            "Epoch 79/80\n",
            "3/3 [==============================] - 0s 26ms/step - loss: 0.0194 - val_loss: 0.0277\n",
            "Epoch 80/80\n",
            "3/3 [==============================] - 0s 25ms/step - loss: 0.0197 - val_loss: 0.0258\n"
          ]
        }
      ]
    },
    {
      "cell_type": "code",
      "source": [
        "model.summary()"
      ],
      "metadata": {
        "colab": {
          "base_uri": "https://localhost:8080/"
        },
        "id": "YENKmGIEc0D9",
        "outputId": "8342b587-2ec7-461d-89f0-3645ebb9722e"
      },
      "execution_count": 75,
      "outputs": [
        {
          "output_type": "stream",
          "name": "stdout",
          "text": [
            "Model: \"model_9\"\n",
            "_________________________________________________________________\n",
            " Layer (type)                Output Shape              Param #   \n",
            "=================================================================\n",
            " input_10 (InputLayer)       [(None, 10, 1)]           0         \n",
            "                                                                 \n",
            " simple_rnn_9 (SimpleRNN)    (None, 5)                 35        \n",
            "                                                                 \n",
            " dense_9 (Dense)             (None, 1)                 6         \n",
            "                                                                 \n",
            "=================================================================\n",
            "Total params: 41\n",
            "Trainable params: 41\n",
            "Non-trainable params: 0\n",
            "_________________________________________________________________\n"
          ]
        }
      ]
    },
    {
      "cell_type": "code",
      "source": [
        "import matplotlib.pyplot as plt\n",
        "plt.plot(r.history['loss'], label='loss')\n",
        "plt.plot(r.history['val_loss'], label = 'val_loss')\n",
        "plt.legend()"
      ],
      "metadata": {
        "colab": {
          "base_uri": "https://localhost:8080/",
          "height": 282
        },
        "id": "3Xt39oaN03VQ",
        "outputId": "e6e7a836-f3c6-45fd-853e-d58bd0fa779b"
      },
      "execution_count": 76,
      "outputs": [
        {
          "output_type": "execute_result",
          "data": {
            "text/plain": [
              "<matplotlib.legend.Legend at 0x7f329fdc1790>"
            ]
          },
          "metadata": {},
          "execution_count": 76
        },
        {
          "output_type": "display_data",
          "data": {
            "text/plain": [
              "<Figure size 432x288 with 1 Axes>"
            ],
            "image/png": "[encoded data removed]"
          },
          "metadata": {
            "needs_background": "light"
          }
        }
      ]
    },
    {
      "cell_type": "code",
      "source": [
        "## \"Wrong\" forecast using true targets\n",
        "validation_target = Y[-N//2:]\n",
        "validation_predictions = []\n",
        "\n",
        " #index of first validation input\n",
        "i = -N//2 # acá el i es el número que corre de la mitad de los 2 hacia adelante \n",
        "\n",
        "while len(validation_predictions) < len(validation_target): \n",
        "  p = model.predict(X[i].reshape(1,-1))[0,0] #1x1 array --> scalar \n",
        "  i += 1 #incrementa i de 1 en 1 por cada iteración \n",
        "\n",
        "  # update the prediction list\n",
        "  validation_predictions.append(p)"
      ],
      "metadata": {
        "colab": {
          "base_uri": "https://localhost:8080/"
        },
        "id": "CJONdowZ3JWJ",
        "outputId": "b2cf76b3-bd24-471a-a71e-335d22e51424"
      },
      "execution_count": 77,
      "outputs": [
        {
          "output_type": "stream",
          "name": "stdout",
          "text": [
            "1/1 [==============================] - 0s 181ms/step\n",
            "1/1 [==============================] - 0s 21ms/step\n",
            "1/1 [==============================] - 0s 23ms/step\n",
            "1/1 [==============================] - 0s 21ms/step\n",
            "1/1 [==============================] - 0s 18ms/step\n",
            "1/1 [==============================] - 0s 20ms/step\n",
            "1/1 [==============================] - 0s 24ms/step\n",
            "1/1 [==============================] - 0s 24ms/step\n",
            "1/1 [==============================] - 0s 25ms/step\n",
            "1/1 [==============================] - 0s 20ms/step\n",
            "1/1 [==============================] - 0s 19ms/step\n",
            "1/1 [==============================] - 0s 22ms/step\n",
            "1/1 [==============================] - 0s 21ms/step\n",
            "1/1 [==============================] - 0s 21ms/step\n",
            "1/1 [==============================] - 0s 26ms/step\n",
            "1/1 [==============================] - 0s 19ms/step\n",
            "1/1 [==============================] - 0s 18ms/step\n",
            "1/1 [==============================] - 0s 30ms/step\n",
            "1/1 [==============================] - 0s 22ms/step\n",
            "1/1 [==============================] - 0s 20ms/step\n",
            "1/1 [==============================] - 0s 27ms/step\n",
            "1/1 [==============================] - 0s 21ms/step\n",
            "1/1 [==============================] - 0s 21ms/step\n",
            "1/1 [==============================] - 0s 26ms/step\n",
            "1/1 [==============================] - 0s 19ms/step\n",
            "1/1 [==============================] - 0s 21ms/step\n",
            "1/1 [==============================] - 0s 21ms/step\n",
            "1/1 [==============================] - 0s 37ms/step\n",
            "1/1 [==============================] - 0s 36ms/step\n",
            "1/1 [==============================] - 0s 29ms/step\n",
            "1/1 [==============================] - 0s 22ms/step\n",
            "1/1 [==============================] - 0s 23ms/step\n",
            "1/1 [==============================] - 0s 22ms/step\n",
            "1/1 [==============================] - 0s 20ms/step\n",
            "1/1 [==============================] - 0s 25ms/step\n",
            "1/1 [==============================] - 0s 21ms/step\n",
            "1/1 [==============================] - 0s 20ms/step\n",
            "1/1 [==============================] - 0s 19ms/step\n",
            "1/1 [==============================] - 0s 23ms/step\n",
            "1/1 [==============================] - 0s 25ms/step\n",
            "1/1 [==============================] - 0s 24ms/step\n",
            "1/1 [==============================] - 0s 22ms/step\n",
            "1/1 [==============================] - 0s 20ms/step\n",
            "1/1 [==============================] - 0s 22ms/step\n",
            "1/1 [==============================] - 0s 19ms/step\n",
            "1/1 [==============================] - 0s 20ms/step\n",
            "1/1 [==============================] - 0s 22ms/step\n",
            "1/1 [==============================] - 0s 24ms/step\n",
            "1/1 [==============================] - 0s 27ms/step\n",
            "1/1 [==============================] - 0s 24ms/step\n",
            "1/1 [==============================] - 0s 21ms/step\n",
            "1/1 [==============================] - 0s 28ms/step\n",
            "1/1 [==============================] - 0s 20ms/step\n",
            "1/1 [==============================] - 0s 25ms/step\n",
            "1/1 [==============================] - 0s 48ms/step\n",
            "1/1 [==============================] - 0s 46ms/step\n",
            "1/1 [==============================] - 0s 27ms/step\n",
            "1/1 [==============================] - 0s 34ms/step\n",
            "1/1 [==============================] - 0s 29ms/step\n",
            "1/1 [==============================] - 0s 31ms/step\n",
            "1/1 [==============================] - 0s 40ms/step\n",
            "1/1 [==============================] - 0s 35ms/step\n",
            "1/1 [==============================] - 0s 35ms/step\n",
            "1/1 [==============================] - 0s 30ms/step\n",
            "1/1 [==============================] - 0s 39ms/step\n",
            "1/1 [==============================] - 0s 59ms/step\n",
            "1/1 [==============================] - 0s 38ms/step\n",
            "1/1 [==============================] - 0s 37ms/step\n",
            "1/1 [==============================] - 0s 41ms/step\n",
            "1/1 [==============================] - 0s 39ms/step\n",
            "1/1 [==============================] - 0s 30ms/step\n",
            "1/1 [==============================] - 0s 29ms/step\n",
            "1/1 [==============================] - 0s 34ms/step\n",
            "1/1 [==============================] - 0s 48ms/step\n",
            "1/1 [==============================] - 0s 52ms/step\n",
            "1/1 [==============================] - 0s 47ms/step\n",
            "1/1 [==============================] - 0s 29ms/step\n",
            "1/1 [==============================] - 0s 35ms/step\n",
            "1/1 [==============================] - 0s 30ms/step\n",
            "1/1 [==============================] - 0s 30ms/step\n",
            "1/1 [==============================] - 0s 50ms/step\n",
            "1/1 [==============================] - 0s 38ms/step\n",
            "1/1 [==============================] - 0s 35ms/step\n",
            "1/1 [==============================] - 0s 35ms/step\n",
            "1/1 [==============================] - 0s 38ms/step\n",
            "1/1 [==============================] - 0s 40ms/step\n",
            "1/1 [==============================] - 0s 40ms/step\n",
            "1/1 [==============================] - 0s 56ms/step\n",
            "1/1 [==============================] - 0s 38ms/step\n",
            "1/1 [==============================] - 0s 37ms/step\n",
            "1/1 [==============================] - 0s 29ms/step\n",
            "1/1 [==============================] - 0s 33ms/step\n",
            "1/1 [==============================] - 0s 34ms/step\n",
            "1/1 [==============================] - 0s 34ms/step\n",
            "1/1 [==============================] - 0s 28ms/step\n"
          ]
        }
      ]
    },
    {
      "cell_type": "code",
      "source": [
        "plt.plot(validation_target, label='forecast target')\n",
        "plt.plot(validation_predictions, label='forecast prediction')\n",
        "plt.legend()"
      ],
      "metadata": {
        "colab": {
          "base_uri": "https://localhost:8080/",
          "height": 282
        },
        "id": "aZ4oozbw4vi9",
        "outputId": "042ded91-9c66-44f0-cc91-30674482eae0"
      },
      "execution_count": 78,
      "outputs": [
        {
          "output_type": "execute_result",
          "data": {
            "text/plain": [
              "<matplotlib.legend.Legend at 0x7f326f8f9a50>"
            ]
          },
          "metadata": {},
          "execution_count": 78
        },
        {
          "output_type": "display_data",
          "data": {
            "text/plain": [
              "<Figure size 432x288 with 1 Axes>"
            ],
            "image/png": "[encoded data removed]"
          },
          "metadata": {
            "needs_background": "light"
          }
        }
      ]
    },
    {
      "cell_type": "code",
      "source": [
        "##The correct form[]\n",
        "# forecast future values (use only self-predictions for making future predictions)\n",
        "\n",
        "validation_target = Y[-N//2:] #Selecciona la ultima mitad de las observaciones a predecir(variable dependiente)\n",
        "validaiton_predictions = []\n",
        "\n",
        "#last train input\n",
        "last_x = X[-N//2] # 1-D array of lenght T. toma la última mitad de las observaciones (variable independiente)\n",
        "\n",
        "while len(validation_predictions) < len(validation_target): #este bucle está mientras el numero de predicciones sea menor a las observaciones de la variable dependiente\n",
        "  p = model.predict(last_x.reshape(1,-1, 1))[0,0] # 1x1 array -> scalar. se define la variable p como la predicción donde se va a guardar el resultado (escalar obvio)\n",
        "  \n",
        "  #update the prediction list\n",
        "  validation_predictions.append(p) #cada resultado lo va guardando en la lista\n",
        " \n",
        "  #the make the new input\n",
        "  last_x = np.roll(last_x,-1) #Vamos a hacer un shift, ponemos la priemera observacion de X como si fuera la última, esto hace que se mueva hacia atras (-1)\n",
        "  last_x[-1] = p #Aquí lo chido es que sustituimos la última observacion con el p, osea con la predicción que nos da"
      ],
      "metadata": {
        "id": "xWEptfUx6hKB"
      },
      "execution_count": 83,
      "outputs": []
    },
    {
      "cell_type": "code",
      "source": [
        "plt.plot(validation_target, label='forecast target')\n",
        "plt.plot(validation_predictions,label ='forecast predictions')\n",
        "plt.legend()"
      ],
      "metadata": {
        "colab": {
          "base_uri": "https://localhost:8080/",
          "height": 282
        },
        "id": "6qlNLYmP7Ur9",
        "outputId": "34cd120b-2d6a-4b5f-9723-9de6f8cbcddc"
      },
      "execution_count": 84,
      "outputs": [
        {
          "output_type": "execute_result",
          "data": {
            "text/plain": [
              "<matplotlib.legend.Legend at 0x7f326e2b4e10>"
            ]
          },
          "metadata": {},
          "execution_count": 84
        },
        {
          "output_type": "display_data",
          "data": {
            "text/plain": [
              "<Figure size 432x288 with 1 Axes>"
            ],
            "image/png": "[encoded data removed]"
          },
          "metadata": {
            "needs_background": "light"
          }
        }
      ]
    },
    {
      "cell_type": "code",
      "source": [
        ""
      ],
      "metadata": {
        "id": "kR-XhRwU9Jzu"
      },
      "execution_count": 80,
      "outputs": []
    }
  ]
}