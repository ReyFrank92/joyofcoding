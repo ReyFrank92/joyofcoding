{
  "nbformat": 4,
  "nbformat_minor": 0,
  "metadata": {
    "colab": {
      "name": "TF 2.0 Linear Regression.ipynb",
      "provenance": [],
      "collapsed_sections": [],
      "authorship_tag": "ABX9TyMfWhX89QTncpUbm0aFbUlT",
      "include_colab_link": true
    },
    "kernelspec": {
      "name": "python3",
      "display_name": "Python 3"
    },
    "language_info": {
      "name": "python"
    }
  },
  "cells": [
    {
      "cell_type": "markdown",
      "metadata": {
        "id": "view-in-github",
        "colab_type": "text"
      },
      "source": [
        "<a href=\"https://colab.research.google.com/github/ReyFrank92/joyofcoding/blob/main/TF_2_0_Linear_Regression.ipynb\" target=\"_parent\"><img src=\"https://colab.research.google.com/assets/colab-badge.svg\" alt=\"Open In Colab\"/></a>"
      ]
    },
    {
      "cell_type": "code",
      "execution_count": 1,
      "metadata": {
        "colab": {
          "base_uri": "https://localhost:8080/"
        },
        "id": "7H0AMf1U4-Ux",
        "outputId": "86b0646a-5c3b-4031-cb70-dcf593cdd925"
      },
      "outputs": [
        {
          "output_type": "stream",
          "name": "stdout",
          "text": [
            "\u001b[K     |████████████████████████████████| 86.3 MB 44 kB/s \n",
            "\u001b[K     |████████████████████████████████| 449 kB 88.0 MB/s \n",
            "\u001b[K     |████████████████████████████████| 50 kB 7.4 MB/s \n",
            "\u001b[K     |████████████████████████████████| 3.8 MB 51.1 MB/s \n",
            "\u001b[?25h  Building wheel for gast (setup.py) ... \u001b[?25l\u001b[?25hdone\n",
            "\u001b[31mERROR: pip's dependency resolver does not currently take into account all the packages that are installed. This behaviour is the source of the following dependency conflicts.\n",
            "tensorflow-probability 0.16.0 requires gast>=0.3.2, but you have gast 0.2.2 which is incompatible.\u001b[0m\n",
            "2.0.0\n"
          ]
        }
      ],
      "source": [
        "# install TensorFlow\n",
        "!pip install -q TensorFlow==2.0.0\n",
        "import tensorflow as tf\n",
        "print(tf.__version__)"
      ]
    },
    {
      "cell_type": "code",
      "source": [
        "#other imports\n",
        "import pandas as pd\n",
        "import numpy as np\n",
        "import matplotlib.pyplot as plt"
      ],
      "metadata": {
        "id": "NMGNPlik8pU_"
      },
      "execution_count": 2,
      "outputs": []
    },
    {
      "cell_type": "code",
      "source": [
        "# Get the data\n",
        "!wget https://raw.githubusercontent.com/lazyprogrammer/machine_learning_examples/master/tf2.0/moore.csv"
      ],
      "metadata": {
        "colab": {
          "base_uri": "https://localhost:8080/"
        },
        "id": "XXZj0ZzY84zu",
        "outputId": "bce8a0a5-2800-434a-f828-468e09f4aa20"
      },
      "execution_count": 4,
      "outputs": [
        {
          "output_type": "stream",
          "name": "stdout",
          "text": [
            "--2022-06-24 18:24:37--  https://raw.githubusercontent.com/lazyprogrammer/machine_learning_examples/master/tf2.0/moore.csv\n",
            "Resolving raw.githubusercontent.com (raw.githubusercontent.com)... 185.199.108.133, 185.199.109.133, 185.199.111.133, ...\n",
            "Connecting to raw.githubusercontent.com (raw.githubusercontent.com)|185.199.108.133|:443... connected.\n",
            "HTTP request sent, awaiting response... 200 OK\n",
            "Length: 2302 (2.2K) [text/plain]\n",
            "Saving to: ‘moore.csv’\n",
            "\n",
            "\rmoore.csv             0%[                    ]       0  --.-KB/s               \rmoore.csv           100%[===================>]   2.25K  --.-KB/s    in 0s      \n",
            "\n",
            "2022-06-24 18:24:37 (43.3 MB/s) - ‘moore.csv’ saved [2302/2302]\n",
            "\n"
          ]
        }
      ]
    },
    {
      "cell_type": "code",
      "source": [
        "#Load in the data\n",
        "data = pd.read_csv('moore.csv', header=None).values\n",
        "X = data[:,0].reshape(-1,1) #make it a 2-d array of size N x D where D=! (ahora ya esta en Vertical\n",
        "Y = data[:,1] #(Aquí esta en Horizontal)"
      ],
      "metadata": {
        "id": "9KduW5rZ9YRm"
      },
      "execution_count": 11,
      "outputs": []
    },
    {
      "cell_type": "code",
      "source": [
        "#Plot the data - it is exponential!\n",
        "plt.scatter(X,Y)"
      ],
      "metadata": {
        "colab": {
          "base_uri": "https://localhost:8080/",
          "height": 293
        },
        "id": "BpP-E_TR-GoE",
        "outputId": "1b6b8361-3bcb-4fa6-82dd-428ae78fba6d"
      },
      "execution_count": 13,
      "outputs": [
        {
          "output_type": "execute_result",
          "data": {
            "text/plain": [
              "<matplotlib.collections.PathCollection at 0x7f855c28efd0>"
            ]
          },
          "metadata": {},
          "execution_count": 13
        },
        {
          "output_type": "display_data",
          "data": {
            "text/plain": [
              "<Figure size 432x288 with 1 Axes>"
            ],
            "image/png": "[encoded data removed]"
          },
          "metadata": {
            "needs_background": "light"
          }
        }
      ]
    },
    {
      "cell_type": "code",
      "source": [
        "#since we want a linear model, let's take the log\n",
        "Y = np.log(Y)\n",
        "plt.scatter(X,Y)"
      ],
      "metadata": {
        "colab": {
          "base_uri": "https://localhost:8080/",
          "height": 282
        },
        "id": "yEgKjOcN-rdr",
        "outputId": "4aae47c9-9ebb-4cd4-c96e-aadaacdb6601"
      },
      "execution_count": 15,
      "outputs": [
        {
          "output_type": "execute_result",
          "data": {
            "text/plain": [
              "<matplotlib.collections.PathCollection at 0x7f855d4efb50>"
            ]
          },
          "metadata": {},
          "execution_count": 15
        },
        {
          "output_type": "display_data",
          "data": {
            "text/plain": [
              "<Figure size 432x288 with 1 Axes>"
            ],
            "image/png": "[encoded data removed]"
          },
          "metadata": {
            "needs_background": "light"
          }
        }
      ]
    },
    {
      "cell_type": "code",
      "source": [
        "# Let's also center the X data so the values are not too large\n",
        "# We could scale it too but then we'd have to reverse the transformation later\n",
        "\n",
        "X = X - X.mean() #Hay muchas maneras pero para facilitar ahora la reversa, solo haremos esto"
      ],
      "metadata": {
        "id": "uI0Nf0zP_TgW"
      },
      "execution_count": 16,
      "outputs": []
    },
    {
      "cell_type": "code",
      "source": [
        "#Not create our Tensorflow model\n",
        "model = tf.keras.models.Sequential([\n",
        "  tf.keras.layers.Input(shape=(1,)),\n",
        "  tf.keras.layers.Dense(1)\n",
        "])"
      ],
      "metadata": {
        "id": "xadjNyUR_f4c"
      },
      "execution_count": 17,
      "outputs": []
    },
    {
      "cell_type": "code",
      "source": [
        "model.compile(optimizer=tf.keras.optimizers.SGD(0.001, 0.9), loss='mse')\n",
        "#model.compile(optimizer='adam', loss='mse')"
      ],
      "metadata": {
        "id": "oG2ROnRPATps"
      },
      "execution_count": 18,
      "outputs": []
    },
    {
      "cell_type": "code",
      "source": [
        "# learning rate scheduler\n",
        "def schedule(epoch, lr):\n",
        "  if epoch >= 50:\n",
        "    return 0.0001\n",
        "  return 0.001\n",
        "\n",
        "scheduler = tf.keras.callbacks.LearningRateScheduler(schedule)\n",
        "\n",
        "#train the model\n",
        "r = model.fit(X,Y, epochs=200, callbacks=[scheduler])"
      ],
      "metadata": {
        "colab": {
          "base_uri": "https://localhost:8080/"
        },
        "id": "hxFb2YatAmJO",
        "outputId": "ef92bd17-169c-49e7-b421-3dc87393121e"
      },
      "execution_count": 20,
      "outputs": [
        {
          "output_type": "stream",
          "name": "stdout",
          "text": [
            "Train on 162 samples\n",
            "Epoch 1/200\n",
            "162/162 [==============================] - 1s 4ms/sample - loss: 554.4829\n",
            "Epoch 2/200\n",
            "162/162 [==============================] - 0s 132us/sample - loss: 447.1505\n",
            "Epoch 3/200\n",
            "162/162 [==============================] - 0s 115us/sample - loss: 450.7776\n",
            "Epoch 4/200\n",
            "162/162 [==============================] - 0s 122us/sample - loss: 271.9038\n",
            "Epoch 5/200\n",
            "162/162 [==============================] - 0s 114us/sample - loss: 204.2452\n",
            "Epoch 6/200\n",
            "162/162 [==============================] - 0s 206us/sample - loss: 203.5746\n",
            "Epoch 7/200\n",
            "162/162 [==============================] - 0s 150us/sample - loss: 144.1809\n",
            "Epoch 8/200\n",
            "162/162 [==============================] - 0s 121us/sample - loss: 111.0641\n",
            "Epoch 9/200\n",
            "162/162 [==============================] - 0s 119us/sample - loss: 62.2759\n",
            "Epoch 10/200\n",
            "162/162 [==============================] - 0s 224us/sample - loss: 39.8399\n",
            "Epoch 11/200\n",
            "162/162 [==============================] - 0s 135us/sample - loss: 29.6650\n",
            "Epoch 12/200\n",
            "162/162 [==============================] - 0s 116us/sample - loss: 21.5620\n",
            "Epoch 13/200\n",
            "162/162 [==============================] - 0s 125us/sample - loss: 16.2596\n",
            "Epoch 14/200\n",
            "162/162 [==============================] - 0s 116us/sample - loss: 16.7522\n",
            "Epoch 15/200\n",
            "162/162 [==============================] - 0s 118us/sample - loss: 10.9086\n",
            "Epoch 16/200\n",
            "162/162 [==============================] - 0s 129us/sample - loss: 6.9011\n",
            "Epoch 17/200\n",
            "162/162 [==============================] - 0s 187us/sample - loss: 5.6042\n",
            "Epoch 18/200\n",
            "162/162 [==============================] - 0s 132us/sample - loss: 4.7045\n",
            "Epoch 19/200\n",
            "162/162 [==============================] - 0s 143us/sample - loss: 3.0276\n",
            "Epoch 20/200\n",
            "162/162 [==============================] - 0s 128us/sample - loss: 2.3325\n",
            "Epoch 21/200\n",
            "162/162 [==============================] - 0s 167us/sample - loss: 1.8639\n",
            "Epoch 22/200\n",
            "162/162 [==============================] - 0s 225us/sample - loss: 1.7655\n",
            "Epoch 23/200\n",
            "162/162 [==============================] - 0s 145us/sample - loss: 1.6935\n",
            "Epoch 24/200\n",
            "162/162 [==============================] - 0s 230us/sample - loss: 1.3186\n",
            "Epoch 25/200\n",
            "162/162 [==============================] - 0s 197us/sample - loss: 1.2018\n",
            "Epoch 26/200\n",
            "162/162 [==============================] - 0s 230us/sample - loss: 1.2970\n",
            "Epoch 27/200\n",
            "162/162 [==============================] - 0s 145us/sample - loss: 1.3416\n",
            "Epoch 28/200\n",
            "162/162 [==============================] - 0s 105us/sample - loss: 1.2331\n",
            "Epoch 29/200\n",
            "162/162 [==============================] - 0s 95us/sample - loss: 1.1074\n",
            "Epoch 30/200\n",
            "162/162 [==============================] - 0s 115us/sample - loss: 1.0164\n",
            "Epoch 31/200\n",
            "162/162 [==============================] - 0s 163us/sample - loss: 0.9438\n",
            "Epoch 32/200\n",
            "162/162 [==============================] - 0s 104us/sample - loss: 0.9573\n",
            "Epoch 33/200\n",
            "162/162 [==============================] - 0s 128us/sample - loss: 0.9070\n",
            "Epoch 34/200\n",
            "162/162 [==============================] - 0s 170us/sample - loss: 0.9098\n",
            "Epoch 35/200\n",
            "162/162 [==============================] - 0s 101us/sample - loss: 0.9775\n",
            "Epoch 36/200\n",
            "162/162 [==============================] - 0s 158us/sample - loss: 0.9743\n",
            "Epoch 37/200\n",
            "162/162 [==============================] - 0s 164us/sample - loss: 0.9196\n",
            "Epoch 38/200\n",
            "162/162 [==============================] - 0s 176us/sample - loss: 0.8804\n",
            "Epoch 39/200\n",
            "162/162 [==============================] - 0s 137us/sample - loss: 0.8812\n",
            "Epoch 40/200\n",
            "162/162 [==============================] - 0s 186us/sample - loss: 0.8805\n",
            "Epoch 41/200\n",
            "162/162 [==============================] - 0s 192us/sample - loss: 0.8917\n",
            "Epoch 42/200\n",
            "162/162 [==============================] - 0s 248us/sample - loss: 0.8766\n",
            "Epoch 43/200\n",
            "162/162 [==============================] - 0s 193us/sample - loss: 0.8869\n",
            "Epoch 44/200\n",
            "162/162 [==============================] - 0s 245us/sample - loss: 1.0061\n",
            "Epoch 45/200\n",
            "162/162 [==============================] - 0s 240us/sample - loss: 0.9481\n",
            "Epoch 46/200\n",
            "162/162 [==============================] - 0s 165us/sample - loss: 1.2244\n",
            "Epoch 47/200\n",
            "162/162 [==============================] - 0s 178us/sample - loss: 1.0006\n",
            "Epoch 48/200\n",
            "162/162 [==============================] - 0s 159us/sample - loss: 0.9882\n",
            "Epoch 49/200\n",
            "162/162 [==============================] - 0s 177us/sample - loss: 1.0306\n",
            "Epoch 50/200\n",
            "162/162 [==============================] - 0s 147us/sample - loss: 1.0798\n",
            "Epoch 51/200\n",
            "162/162 [==============================] - 0s 206us/sample - loss: 1.8643\n",
            "Epoch 52/200\n",
            "162/162 [==============================] - 0s 280us/sample - loss: 2.3064\n",
            "Epoch 53/200\n",
            "162/162 [==============================] - 0s 192us/sample - loss: 0.9569\n",
            "Epoch 54/200\n",
            "162/162 [==============================] - 0s 142us/sample - loss: 1.0778\n",
            "Epoch 55/200\n",
            "162/162 [==============================] - 0s 142us/sample - loss: 1.0443\n",
            "Epoch 56/200\n",
            "162/162 [==============================] - 0s 202us/sample - loss: 0.8828\n",
            "Epoch 57/200\n",
            "162/162 [==============================] - 0s 71us/sample - loss: 0.9331\n",
            "Epoch 58/200\n",
            "162/162 [==============================] - 0s 83us/sample - loss: 0.8903\n",
            "Epoch 59/200\n",
            "162/162 [==============================] - 0s 87us/sample - loss: 0.8676\n",
            "Epoch 60/200\n",
            "162/162 [==============================] - 0s 159us/sample - loss: 0.8843\n",
            "Epoch 61/200\n",
            "162/162 [==============================] - 0s 259us/sample - loss: 0.8737\n",
            "Epoch 62/200\n",
            "162/162 [==============================] - 0s 90us/sample - loss: 0.8767\n",
            "Epoch 63/200\n",
            "162/162 [==============================] - 0s 122us/sample - loss: 0.8807\n",
            "Epoch 64/200\n",
            "162/162 [==============================] - 0s 137us/sample - loss: 0.8749\n",
            "Epoch 65/200\n",
            "162/162 [==============================] - 0s 167us/sample - loss: 0.8866\n",
            "Epoch 66/200\n",
            "162/162 [==============================] - 0s 122us/sample - loss: 0.8755\n",
            "Epoch 67/200\n",
            "162/162 [==============================] - 0s 224us/sample - loss: 0.8719\n",
            "Epoch 68/200\n",
            "162/162 [==============================] - 0s 149us/sample - loss: 0.8745\n",
            "Epoch 69/200\n",
            "162/162 [==============================] - 0s 186us/sample - loss: 0.8747\n",
            "Epoch 70/200\n",
            "162/162 [==============================] - 0s 186us/sample - loss: 0.8703\n",
            "Epoch 71/200\n",
            "162/162 [==============================] - 0s 152us/sample - loss: 0.8837\n",
            "Epoch 72/200\n",
            "162/162 [==============================] - 0s 127us/sample - loss: 0.8777\n",
            "Epoch 73/200\n",
            "162/162 [==============================] - 0s 164us/sample - loss: 0.8692\n",
            "Epoch 74/200\n",
            "162/162 [==============================] - 0s 129us/sample - loss: 0.8714\n",
            "Epoch 75/200\n",
            "162/162 [==============================] - 0s 154us/sample - loss: 0.8710\n",
            "Epoch 76/200\n",
            "162/162 [==============================] - 0s 147us/sample - loss: 0.8718\n",
            "Epoch 77/200\n",
            "162/162 [==============================] - 0s 236us/sample - loss: 0.8926\n",
            "Epoch 78/200\n",
            "162/162 [==============================] - 0s 239us/sample - loss: 0.8787\n",
            "Epoch 79/200\n",
            "162/162 [==============================] - 0s 162us/sample - loss: 0.8772\n",
            "Epoch 80/200\n",
            "162/162 [==============================] - 0s 195us/sample - loss: 0.8689\n",
            "Epoch 81/200\n",
            "162/162 [==============================] - 0s 144us/sample - loss: 0.8780\n",
            "Epoch 82/200\n",
            "162/162 [==============================] - 0s 180us/sample - loss: 0.8843\n",
            "Epoch 83/200\n",
            "162/162 [==============================] - 0s 132us/sample - loss: 0.8761\n",
            "Epoch 84/200\n",
            "162/162 [==============================] - 0s 98us/sample - loss: 0.8715\n",
            "Epoch 85/200\n",
            "162/162 [==============================] - 0s 170us/sample - loss: 0.8749\n",
            "Epoch 86/200\n",
            "162/162 [==============================] - 0s 117us/sample - loss: 0.8781\n",
            "Epoch 87/200\n",
            "162/162 [==============================] - 0s 137us/sample - loss: 0.8807\n",
            "Epoch 88/200\n",
            "162/162 [==============================] - 0s 165us/sample - loss: 0.8730\n",
            "Epoch 89/200\n",
            "162/162 [==============================] - 0s 206us/sample - loss: 0.8716\n",
            "Epoch 90/200\n",
            "162/162 [==============================] - 0s 137us/sample - loss: 0.8741\n",
            "Epoch 91/200\n",
            "162/162 [==============================] - 0s 146us/sample - loss: 0.8828\n",
            "Epoch 92/200\n",
            "162/162 [==============================] - 0s 120us/sample - loss: 0.8786\n",
            "Epoch 93/200\n",
            "162/162 [==============================] - 0s 222us/sample - loss: 0.8702\n",
            "Epoch 94/200\n",
            "162/162 [==============================] - 0s 89us/sample - loss: 0.8739\n",
            "Epoch 95/200\n",
            "162/162 [==============================] - 0s 165us/sample - loss: 0.8771\n",
            "Epoch 96/200\n",
            "162/162 [==============================] - 0s 157us/sample - loss: 0.8772\n",
            "Epoch 97/200\n",
            "162/162 [==============================] - 0s 157us/sample - loss: 0.8794\n",
            "Epoch 98/200\n",
            "162/162 [==============================] - 0s 183us/sample - loss: 0.8922\n",
            "Epoch 99/200\n",
            "162/162 [==============================] - 0s 196us/sample - loss: 0.8831\n",
            "Epoch 100/200\n",
            "162/162 [==============================] - 0s 247us/sample - loss: 0.9826\n",
            "Epoch 101/200\n",
            "162/162 [==============================] - 0s 199us/sample - loss: 0.9133\n",
            "Epoch 102/200\n",
            "162/162 [==============================] - 0s 128us/sample - loss: 0.8757\n",
            "Epoch 103/200\n",
            "162/162 [==============================] - 0s 195us/sample - loss: 0.8742\n",
            "Epoch 104/200\n",
            "162/162 [==============================] - 0s 138us/sample - loss: 0.8729\n",
            "Epoch 105/200\n",
            "162/162 [==============================] - 0s 114us/sample - loss: 0.8830\n",
            "Epoch 106/200\n",
            "162/162 [==============================] - 0s 122us/sample - loss: 0.8732\n",
            "Epoch 107/200\n",
            "162/162 [==============================] - 0s 118us/sample - loss: 0.8787\n",
            "Epoch 108/200\n",
            "162/162 [==============================] - 0s 110us/sample - loss: 0.8750\n",
            "Epoch 109/200\n",
            "162/162 [==============================] - 0s 124us/sample - loss: 0.8724\n",
            "Epoch 110/200\n",
            "162/162 [==============================] - 0s 111us/sample - loss: 0.8743\n",
            "Epoch 111/200\n",
            "162/162 [==============================] - 0s 102us/sample - loss: 0.8835\n",
            "Epoch 112/200\n",
            "162/162 [==============================] - 0s 117us/sample - loss: 0.9093\n",
            "Epoch 113/200\n",
            "162/162 [==============================] - 0s 120us/sample - loss: 0.8819\n",
            "Epoch 114/200\n",
            "162/162 [==============================] - 0s 130us/sample - loss: 0.8707\n",
            "Epoch 115/200\n",
            "162/162 [==============================] - 0s 112us/sample - loss: 0.8792\n",
            "Epoch 116/200\n",
            "162/162 [==============================] - 0s 94us/sample - loss: 0.9049\n",
            "Epoch 117/200\n",
            "162/162 [==============================] - 0s 94us/sample - loss: 0.8728\n",
            "Epoch 118/200\n",
            "162/162 [==============================] - 0s 114us/sample - loss: 0.8857\n",
            "Epoch 119/200\n",
            "162/162 [==============================] - 0s 101us/sample - loss: 0.8699\n",
            "Epoch 120/200\n",
            "162/162 [==============================] - 0s 327us/sample - loss: 0.8836\n",
            "Epoch 121/200\n",
            "162/162 [==============================] - 0s 159us/sample - loss: 0.8875\n",
            "Epoch 122/200\n",
            "162/162 [==============================] - 0s 102us/sample - loss: 0.8717\n",
            "Epoch 123/200\n",
            "162/162 [==============================] - 0s 147us/sample - loss: 0.8717\n",
            "Epoch 124/200\n",
            "162/162 [==============================] - 0s 158us/sample - loss: 0.8709\n",
            "Epoch 125/200\n",
            "162/162 [==============================] - 0s 208us/sample - loss: 0.8709\n",
            "Epoch 126/200\n",
            "162/162 [==============================] - 0s 129us/sample - loss: 0.8748\n",
            "Epoch 127/200\n",
            "162/162 [==============================] - 0s 250us/sample - loss: 0.9104\n",
            "Epoch 128/200\n",
            "162/162 [==============================] - 0s 241us/sample - loss: 0.9092\n",
            "Epoch 129/200\n",
            "162/162 [==============================] - 0s 211us/sample - loss: 0.8804\n",
            "Epoch 130/200\n",
            "162/162 [==============================] - 0s 478us/sample - loss: 0.8765\n",
            "Epoch 131/200\n",
            "162/162 [==============================] - 0s 229us/sample - loss: 0.8739\n",
            "Epoch 132/200\n",
            "162/162 [==============================] - 0s 252us/sample - loss: 0.8724\n",
            "Epoch 133/200\n",
            "162/162 [==============================] - 0s 154us/sample - loss: 0.8824\n",
            "Epoch 134/200\n",
            "162/162 [==============================] - 0s 157us/sample - loss: 0.8878\n",
            "Epoch 135/200\n",
            "162/162 [==============================] - 0s 176us/sample - loss: 0.8713\n",
            "Epoch 136/200\n",
            "162/162 [==============================] - 0s 250us/sample - loss: 0.8776\n",
            "Epoch 137/200\n",
            "162/162 [==============================] - 0s 203us/sample - loss: 0.8735\n",
            "Epoch 138/200\n",
            "162/162 [==============================] - 0s 262us/sample - loss: 0.8715\n",
            "Epoch 139/200\n",
            "162/162 [==============================] - 0s 263us/sample - loss: 0.8722\n",
            "Epoch 140/200\n",
            "162/162 [==============================] - 0s 217us/sample - loss: 0.8725\n",
            "Epoch 141/200\n",
            "162/162 [==============================] - 0s 219us/sample - loss: 0.8717\n",
            "Epoch 142/200\n",
            "162/162 [==============================] - 0s 119us/sample - loss: 0.8731\n",
            "Epoch 143/200\n",
            "162/162 [==============================] - 0s 122us/sample - loss: 0.8724\n",
            "Epoch 144/200\n",
            "162/162 [==============================] - 0s 140us/sample - loss: 0.9088\n",
            "Epoch 145/200\n",
            "162/162 [==============================] - 0s 115us/sample - loss: 0.8886\n",
            "Epoch 146/200\n",
            "162/162 [==============================] - 0s 127us/sample - loss: 0.8728\n",
            "Epoch 147/200\n",
            "162/162 [==============================] - 0s 172us/sample - loss: 0.8736\n",
            "Epoch 148/200\n",
            "162/162 [==============================] - 0s 161us/sample - loss: 0.8713\n",
            "Epoch 149/200\n",
            "162/162 [==============================] - 0s 93us/sample - loss: 0.8725\n",
            "Epoch 150/200\n",
            "162/162 [==============================] - 0s 100us/sample - loss: 0.8984\n",
            "Epoch 151/200\n",
            "162/162 [==============================] - 0s 96us/sample - loss: 0.8815\n",
            "Epoch 152/200\n",
            "162/162 [==============================] - 0s 96us/sample - loss: 0.8759\n",
            "Epoch 153/200\n",
            "162/162 [==============================] - 0s 115us/sample - loss: 0.8717\n",
            "Epoch 154/200\n",
            "162/162 [==============================] - 0s 110us/sample - loss: 0.8713\n",
            "Epoch 155/200\n",
            "162/162 [==============================] - 0s 95us/sample - loss: 0.8748\n",
            "Epoch 156/200\n",
            "162/162 [==============================] - 0s 136us/sample - loss: 0.8757\n",
            "Epoch 157/200\n",
            "162/162 [==============================] - 0s 104us/sample - loss: 0.8726\n",
            "Epoch 158/200\n",
            "162/162 [==============================] - 0s 94us/sample - loss: 0.8775\n",
            "Epoch 159/200\n",
            "162/162 [==============================] - 0s 89us/sample - loss: 0.8972\n",
            "Epoch 160/200\n",
            "162/162 [==============================] - 0s 151us/sample - loss: 0.8939\n",
            "Epoch 161/200\n",
            "162/162 [==============================] - 0s 92us/sample - loss: 0.8704\n",
            "Epoch 162/200\n",
            "162/162 [==============================] - 0s 87us/sample - loss: 0.8779\n",
            "Epoch 163/200\n",
            "162/162 [==============================] - 0s 123us/sample - loss: 0.8829\n",
            "Epoch 164/200\n",
            "162/162 [==============================] - 0s 162us/sample - loss: 0.8792\n",
            "Epoch 165/200\n",
            "162/162 [==============================] - 0s 155us/sample - loss: 0.8742\n",
            "Epoch 166/200\n",
            "162/162 [==============================] - 0s 117us/sample - loss: 0.8707\n",
            "Epoch 167/200\n",
            "162/162 [==============================] - 0s 101us/sample - loss: 0.8715\n",
            "Epoch 168/200\n",
            "162/162 [==============================] - 0s 123us/sample - loss: 0.8729\n",
            "Epoch 169/200\n",
            "162/162 [==============================] - 0s 168us/sample - loss: 0.8739\n",
            "Epoch 170/200\n",
            "162/162 [==============================] - 0s 100us/sample - loss: 0.8734\n",
            "Epoch 171/200\n",
            "162/162 [==============================] - 0s 116us/sample - loss: 0.8733\n",
            "Epoch 172/200\n",
            "162/162 [==============================] - 0s 105us/sample - loss: 0.8784\n",
            "Epoch 173/200\n",
            "162/162 [==============================] - 0s 130us/sample - loss: 0.8948\n",
            "Epoch 174/200\n",
            "162/162 [==============================] - 0s 147us/sample - loss: 0.8780\n",
            "Epoch 175/200\n",
            "162/162 [==============================] - 0s 129us/sample - loss: 0.9001\n",
            "Epoch 176/200\n",
            "162/162 [==============================] - 0s 115us/sample - loss: 0.8807\n",
            "Epoch 177/200\n",
            "162/162 [==============================] - 0s 176us/sample - loss: 0.8856\n",
            "Epoch 178/200\n",
            "162/162 [==============================] - 0s 110us/sample - loss: 0.8915\n",
            "Epoch 179/200\n",
            "162/162 [==============================] - 0s 121us/sample - loss: 0.8761\n",
            "Epoch 180/200\n",
            "162/162 [==============================] - 0s 106us/sample - loss: 0.8718\n",
            "Epoch 181/200\n",
            "162/162 [==============================] - 0s 109us/sample - loss: 0.8865\n",
            "Epoch 182/200\n",
            "162/162 [==============================] - 0s 146us/sample - loss: 0.8889\n",
            "Epoch 183/200\n",
            "162/162 [==============================] - 0s 109us/sample - loss: 0.8954\n",
            "Epoch 184/200\n",
            "162/162 [==============================] - 0s 112us/sample - loss: 0.9202\n",
            "Epoch 185/200\n",
            "162/162 [==============================] - 0s 103us/sample - loss: 0.8673\n",
            "Epoch 186/200\n",
            "162/162 [==============================] - 0s 121us/sample - loss: 0.9019\n",
            "Epoch 187/200\n",
            "162/162 [==============================] - 0s 136us/sample - loss: 0.9294\n",
            "Epoch 188/200\n",
            "162/162 [==============================] - 0s 114us/sample - loss: 0.8787\n",
            "Epoch 189/200\n",
            "162/162 [==============================] - 0s 109us/sample - loss: 0.9690\n",
            "Epoch 190/200\n",
            "162/162 [==============================] - 0s 97us/sample - loss: 0.9929\n",
            "Epoch 191/200\n",
            "162/162 [==============================] - 0s 101us/sample - loss: 0.8823\n",
            "Epoch 192/200\n",
            "162/162 [==============================] - 0s 101us/sample - loss: 0.8971\n",
            "Epoch 193/200\n",
            "162/162 [==============================] - 0s 102us/sample - loss: 0.8865\n",
            "Epoch 194/200\n",
            "162/162 [==============================] - 0s 129us/sample - loss: 0.8709\n",
            "Epoch 195/200\n",
            "162/162 [==============================] - 0s 162us/sample - loss: 0.8808\n",
            "Epoch 196/200\n",
            "162/162 [==============================] - 0s 138us/sample - loss: 0.8762\n",
            "Epoch 197/200\n",
            "162/162 [==============================] - 0s 112us/sample - loss: 0.8726\n",
            "Epoch 198/200\n",
            "162/162 [==============================] - 0s 106us/sample - loss: 0.8758\n",
            "Epoch 199/200\n",
            "162/162 [==============================] - 0s 124us/sample - loss: 0.8721\n",
            "Epoch 200/200\n",
            "162/162 [==============================] - 0s 206us/sample - loss: 0.8744\n"
          ]
        }
      ]
    },
    {
      "cell_type": "code",
      "source": [
        "#plot the loss\n",
        "plt.plot(r.history['loss'], label='loss')"
      ],
      "metadata": {
        "colab": {
          "base_uri": "https://localhost:8080/",
          "height": 282
        },
        "id": "cF9iX1n-DET4",
        "outputId": "c520c422-9fcd-49b5-a768-ca8e4e06c436"
      },
      "execution_count": 23,
      "outputs": [
        {
          "output_type": "execute_result",
          "data": {
            "text/plain": [
              "[<matplotlib.lines.Line2D at 0x7f8554126fd0>]"
            ]
          },
          "metadata": {},
          "execution_count": 23
        },
        {
          "output_type": "display_data",
          "data": {
            "text/plain": [
              "<Figure size 432x288 with 1 Axes>"
            ],
            "image/png": "[encoded data removed]"
          },
          "metadata": {
            "needs_background": "light"
          }
        }
      ]
    },
    {
      "cell_type": "code",
      "source": [
        "# Get the slope of the line\n",
        "# The slope of the line is related to the doubling rate of transistors count\n",
        "print(model.layers) #Note: there is only 1 layer, the \"input\" layer doesn't count\n",
        "print(model.layers[0].get_weights())"
      ],
      "metadata": {
        "colab": {
          "base_uri": "https://localhost:8080/"
        },
        "id": "iHcIC6mEDmr5",
        "outputId": "fd5d7546-482c-408e-cc24-a16206542f00"
      },
      "execution_count": 25,
      "outputs": [
        {
          "output_type": "stream",
          "name": "stdout",
          "text": [
            "[<tensorflow.python.keras.layers.core.Dense object at 0x7f855c11b8d0>]\n",
            "[array([[0.34426075]], dtype=float32), array([17.754269], dtype=float32)]\n"
          ]
        }
      ]
    },
    {
      "cell_type": "code",
      "source": [
        "#The slope of the line is:\n",
        "\n",
        "a = model.layers[0].get_weights()[0][0,0]\n",
        "#El resultado es la t en la ecuación C=A*^t"
      ],
      "metadata": {
        "colab": {
          "base_uri": "https://localhost:8080/"
        },
        "id": "6nkA79qpMvrs",
        "outputId": "78d29cb2-db6e-47eb-840e-23251cc22962"
      },
      "execution_count": 27,
      "outputs": [
        {
          "output_type": "execute_result",
          "data": {
            "text/plain": [
              "0.34426075"
            ]
          },
          "metadata": {},
          "execution_count": 27
        }
      ]
    },
    {
      "cell_type": "code",
      "source": [
        "print (\"Time to double:\", np.log(2)/a)"
      ],
      "metadata": {
        "colab": {
          "base_uri": "https://localhost:8080/"
        },
        "id": "7-vd1ljPPYds",
        "outputId": "96e9a519-dfef-4456-9c50-9b1eea26017c"
      },
      "execution_count": 30,
      "outputs": [
        {
          "output_type": "stream",
          "name": "stdout",
          "text": [
            "Time to double: 2.0286295205239204\n"
          ]
        }
      ]
    },
    {
      "cell_type": "code",
      "source": [
        "# if you know the analytical solution\n",
        "X = np.array(X).flatten()\n",
        "Y = np.array(Y)\n",
        "denominator = X.dot(X)-X.mean()*X.sum()\n",
        "a = (X.dot(Y)-Y.mean()*X.sum())/denominator\n",
        "b = (Y.mean()*X.dot(X)-X.mean()*X.dot(Y))/denominator\n",
        "print(a,b)\n",
        "print(\"Time to double:\", np.log(2)/a)"
      ],
      "metadata": {
        "colab": {
          "base_uri": "https://localhost:8080/"
        },
        "id": "TVOCQ7tUPi3-",
        "outputId": "d0889b60-5f8b-4ca3-b4e7-c2eac02b2000"
      },
      "execution_count": 29,
      "outputs": [
        {
          "output_type": "stream",
          "name": "stdout",
          "text": [
            "0.341682487387313 17.764939393631764\n",
            "Time to double: 2.0286295205239204\n"
          ]
        }
      ]
    }
  ]
}