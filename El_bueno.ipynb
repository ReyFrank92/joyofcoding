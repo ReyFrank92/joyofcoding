{
  "nbformat": 4,
  "nbformat_minor": 0,
  "metadata": {
    "colab": {
      "name": "El bueno.ipynb",
      "provenance": [],
      "collapsed_sections": [],
      "authorship_tag": "ABX9TyOUhSnDTm23GhNrgipKnHKJ",
      "include_colab_link": true
    },
    "kernelspec": {
      "name": "python3",
      "display_name": "Python 3"
    },
    "language_info": {
      "name": "python"
    }
  },
  "cells": [
    {
      "cell_type": "markdown",
      "metadata": {
        "id": "view-in-github",
        "colab_type": "text"
      },
      "source": [
        "<a href=\"https://colab.research.google.com/github/ReyFrank92/joyofcoding/blob/main/El_bueno.ipynb\" target=\"_parent\"><img src=\"https://colab.research.google.com/assets/colab-badge.svg\" alt=\"Open In Colab\"/></a>"
      ]
    },
    {
      "cell_type": "code",
      "execution_count": 982,
      "metadata": {
        "colab": {
          "base_uri": "https://localhost:8080/"
        },
        "id": "7O45KZTy37Ea",
        "outputId": "5f76b0bf-c2de-4cd6-aad1-6852e588880e"
      },
      "outputs": [
        {
          "output_type": "stream",
          "name": "stdout",
          "text": [
            "2.9.0\n"
          ]
        }
      ],
      "source": [
        "#Install TensorFlow\n",
        "!pip install -q tensorflow-gpu==2.9.0\n",
        "import tensorflow as tf\n",
        "print(tf.__version__)"
      ]
    },
    {
      "cell_type": "code",
      "source": [
        "from tensorflow.keras.layers import Input, SimpleRNN, Dense,  GRU, LSTM, GlobalMaxPool1D, Flatten\n",
        "from tensorflow.keras.models import Model\n",
        "from tensorflow.keras.optimizers import SGD, Adam\n",
        "from tensorflow.keras.callbacks import ModelCheckpoint\n",
        "\n",
        "import numpy as np\n",
        "import pandas as pd\n",
        "import matplotlib.pyplot as plt\n",
        "from sklearn.preprocessing import StandardScaler"
      ],
      "metadata": {
        "id": "wi-7f41g39bI"
      },
      "execution_count": 983,
      "outputs": []
    },
    {
      "cell_type": "code",
      "source": [
        "from google.colab import files\n",
        "data_to_load = files.upload()"
      ],
      "metadata": {
        "colab": {
          "resources": {
            "http://localhost:8080/nbextensions/google.colab/files.js": {
              "data": "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",
              "ok": true,
              "headers": [
                [
                  "content-type",
                  "application/javascript"
                ]
              ],
              "status": 200,
              "status_text": ""
            }
          },
          "base_uri": "https://localhost:8080/",
          "height": 74
        },
        "id": "Rfh9c9uK3_I3",
        "outputId": "bb730f03-fa1d-4a23-b557-1b7a5fbcbb56"
      },
      "execution_count": 984,
      "outputs": [
        {
          "output_type": "display_data",
          "data": {
            "text/plain": [
              "<IPython.core.display.HTML object>"
            ],
            "text/html": [
              "\n",
              "     <input type=\"file\" id=\"files-6ed94dbe-e213-43d8-9811-028da7e0415b\" name=\"files[]\" multiple disabled\n",
              "        style=\"border:none\" />\n",
              "     <output id=\"result-6ed94dbe-e213-43d8-9811-028da7e0415b\">\n",
              "      Upload widget is only available when the cell has been executed in the\n",
              "      current browser session. Please rerun this cell to enable.\n",
              "      </output>\n",
              "      <script src=\"/nbextensions/google.colab/files.js\"></script> "
            ]
          },
          "metadata": {}
        },
        {
          "output_type": "stream",
          "name": "stdout",
          "text": [
            "Saving Resumen_binario.csv to Resumen_binario.csv\n"
          ]
        }
      ]
    },
    {
      "cell_type": "code",
      "source": [
        "df = pd.read_csv('Resumen_petroleo.csv', index_col='Fecha', parse_dates=True)\n",
        "df.shape"
      ],
      "metadata": {
        "colab": {
          "base_uri": "https://localhost:8080/"
        },
        "id": "6eY3LUkW4Al3",
        "outputId": "2deb0173-a096-4dff-aed1-e33f0ce60757"
      },
      "execution_count": 985,
      "outputs": [
        {
          "output_type": "execute_result",
          "data": {
            "text/plain": [
              "(318, 6)"
            ]
          },
          "metadata": {},
          "execution_count": 985
        }
      ]
    },
    {
      "cell_type": "code",
      "source": [
        "from sklearn.metrics import mean_absolute_percentage_error\n",
        "from typing import ValuesView"
      ],
      "metadata": {
        "id": "65YQc42d4Bhm"
      },
      "execution_count": 986,
      "outputs": []
    },
    {
      "cell_type": "code",
      "source": [
        "# N = number of samples\n",
        "# T = sequence length\n",
        "# D = number of input features\n",
        "# M = number of hideen units \n",
        "# K = number of output units"
      ],
      "metadata": {
        "id": "-RE4X1UA4PK8"
      },
      "execution_count": 987,
      "outputs": []
    },
    {
      "cell_type": "code",
      "source": [
        "df['Log_MM'] = np.log(df['MM'])\n",
        "df['Log_WTI'] = np.log(df['WTI'])\n",
        "df['Log_Brent'] = np.log(df['BRENT'])\n",
        "df['Log_DJI'] = np.log(df['DJI'])\n",
        "df['Log_XAU'] = np.log(df['XAU'])\n",
        "df['Log_Oil C1'] = np.log(df['Oil C1'])"
      ],
      "metadata": {
        "id": "ykkUKW7w4Qdl"
      },
      "execution_count": 988,
      "outputs": []
    },
    {
      "cell_type": "code",
      "source": [
        "train"
      ],
      "metadata": {
        "colab": {
          "base_uri": "https://localhost:8080/",
          "height": 455
        },
        "id": "itr6l2qQ4xzX",
        "outputId": "f929d57b-1b1c-4fa6-96c8-71a0365b5a70"
      },
      "execution_count": 989,
      "outputs": [
        {
          "output_type": "execute_result",
          "data": {
            "text/plain": [
              "                MM     WTI   BRENT       DJI      XAU  Oil C1    Log_MM  \\\n",
              "Fecha                                                                     \n",
              "1996-01-31   15.12   17.76   16.63   5395.30   406.45   17.74  2.716018   \n",
              "1996-02-29   16.82   19.59   18.80   5485.62   399.75   19.54  2.822569   \n",
              "1996-03-29   18.35   21.43   20.33   5587.14   395.45   21.47  2.909630   \n",
              "1996-04-30   17.61   20.95   19.50   5569.07   391.65   21.20  2.868467   \n",
              "1996-05-31   16.48   19.77   18.10   5643.17   391.00   19.76  2.802148   \n",
              "...            ...     ...     ...       ...      ...     ...       ...   \n",
              "2013-05-31   95.58   91.93  100.43  15115.57  1386.90   91.97  4.559964   \n",
              "2013-06-28   96.30   96.36  102.49  14909.60  1234.25   96.56  4.567468   \n",
              "2013-07-31  100.87  105.10  107.89  15499.54  1323.10  105.03  4.613833   \n",
              "2013-08-30  102.98  107.98  115.97  14810.31  1396.40  107.65  4.634535   \n",
              "2013-09-30   97.94  102.36  107.85  15129.67  1327.55  102.33  4.584355   \n",
              "\n",
              "             Log_WTI  Log_Brent   Log_DJI   Log_XAU  Log_Oil C1  DiffLogMM  \\\n",
              "Fecha                                                                        \n",
              "1996-01-31  2.876949   2.811208  8.593283  6.007461    2.875822        NaN   \n",
              "1996-02-29  2.975019   2.933857  8.609885  5.990839    2.972464   0.106550   \n",
              "1996-03-29  3.064792   3.012098  8.628223  5.980024    3.066657   0.087061   \n",
              "1996-04-30  3.042139   2.970414  8.624983  5.970369    3.054001  -0.041163   \n",
              "1996-05-31  2.984166   2.895912  8.638201  5.968708    2.983660  -0.066319   \n",
              "...              ...        ...       ...       ...         ...        ...   \n",
              "2013-05-31  4.521027   4.609461  9.623481  7.234826    4.521462  -0.036771   \n",
              "2013-06-28  4.568091   4.629765  9.609761  7.118219    4.570165   0.007505   \n",
              "2013-07-31  4.654912   4.681112  9.648566  7.187733    4.654246   0.046364   \n",
              "2013-08-30  4.681946   4.753332  9.603079  7.241653    4.678885   0.020702   \n",
              "2013-09-30  4.628496   4.680741  9.624413  7.191090    4.628203  -0.050180   \n",
              "\n",
              "            DiffLogWTI  DiffLogBRENT  DiffLogDJI  DiffLogXAU  DiffLogOil C1  \n",
              "Fecha                                                                        \n",
              "1996-01-31         NaN           NaN         NaN         NaN            NaN  \n",
              "1996-02-29    0.098070      0.122649    0.016602   -0.016622       0.096642  \n",
              "1996-03-29    0.089773      0.078241    0.018337   -0.010815       0.094193  \n",
              "1996-04-30   -0.022653     -0.041683   -0.003239   -0.009656      -0.012655  \n",
              "1996-05-31   -0.057973     -0.074503    0.013218   -0.001661      -0.070341  \n",
              "...                ...           ...         ...         ...            ...  \n",
              "2013-05-31   -0.013935     -0.010893    0.018413   -0.063010      -0.016071  \n",
              "2013-06-28    0.047064      0.020304   -0.013720   -0.116608       0.048702  \n",
              "2013-07-31    0.086821      0.051347    0.038805    0.069514       0.084081  \n",
              "2013-08-30    0.027034      0.072219   -0.045487    0.053920       0.024639  \n",
              "2013-09-30   -0.053450     -0.072590    0.021334   -0.050562      -0.050682  \n",
              "\n",
              "[213 rows x 18 columns]"
            ],
            "text/html": [
              "\n",
              "  <div id=\"df-1b214065-9bb0-4a41-956f-fce304a0949a\">\n",
              "    <div class=\"colab-df-container\">\n",
              "      <div>\n",
              "<style scoped>\n",
              "    .dataframe tbody tr th:only-of-type {\n",
              "        vertical-align: middle;\n",
              "    }\n",
              "\n",
              "    .dataframe tbody tr th {\n",
              "        vertical-align: top;\n",
              "    }\n",
              "\n",
              "    .dataframe thead th {\n",
              "        text-align: right;\n",
              "    }\n",
              "</style>\n",
              "<table border=\"1\" class=\"dataframe\">\n",
              "  <thead>\n",
              "    <tr style=\"text-align: right;\">\n",
              "      <th></th>\n",
              "      <th>MM</th>\n",
              "      <th>WTI</th>\n",
              "      <th>BRENT</th>\n",
              "      <th>DJI</th>\n",
              "      <th>XAU</th>\n",
              "      <th>Oil C1</th>\n",
              "      <th>Log_MM</th>\n",
              "      <th>Log_WTI</th>\n",
              "      <th>Log_Brent</th>\n",
              "      <th>Log_DJI</th>\n",
              "      <th>Log_XAU</th>\n",
              "      <th>Log_Oil C1</th>\n",
              "      <th>DiffLogMM</th>\n",
              "      <th>DiffLogWTI</th>\n",
              "      <th>DiffLogBRENT</th>\n",
              "      <th>DiffLogDJI</th>\n",
              "      <th>DiffLogXAU</th>\n",
              "      <th>DiffLogOil C1</th>\n",
              "    </tr>\n",
              "    <tr>\n",
              "      <th>Fecha</th>\n",
              "      <th></th>\n",
              "      <th></th>\n",
              "      <th></th>\n",
              "      <th></th>\n",
              "      <th></th>\n",
              "      <th></th>\n",
              "      <th></th>\n",
              "      <th></th>\n",
              "      <th></th>\n",
              "      <th></th>\n",
              "      <th></th>\n",
              "      <th></th>\n",
              "      <th></th>\n",
              "      <th></th>\n",
              "      <th></th>\n",
              "      <th></th>\n",
              "      <th></th>\n",
              "      <th></th>\n",
              "    </tr>\n",
              "  </thead>\n",
              "  <tbody>\n",
              "    <tr>\n",
              "      <th>1996-01-31</th>\n",
              "      <td>15.12</td>\n",
              "      <td>17.76</td>\n",
              "      <td>16.63</td>\n",
              "      <td>5395.30</td>\n",
              "      <td>406.45</td>\n",
              "      <td>17.74</td>\n",
              "      <td>2.716018</td>\n",
              "      <td>2.876949</td>\n",
              "      <td>2.811208</td>\n",
              "      <td>8.593283</td>\n",
              "      <td>6.007461</td>\n",
              "      <td>2.875822</td>\n",
              "      <td>NaN</td>\n",
              "      <td>NaN</td>\n",
              "      <td>NaN</td>\n",
              "      <td>NaN</td>\n",
              "      <td>NaN</td>\n",
              "      <td>NaN</td>\n",
              "    </tr>\n",
              "    <tr>\n",
              "      <th>1996-02-29</th>\n",
              "      <td>16.82</td>\n",
              "      <td>19.59</td>\n",
              "      <td>18.80</td>\n",
              "      <td>5485.62</td>\n",
              "      <td>399.75</td>\n",
              "      <td>19.54</td>\n",
              "      <td>2.822569</td>\n",
              "      <td>2.975019</td>\n",
              "      <td>2.933857</td>\n",
              "      <td>8.609885</td>\n",
              "      <td>5.990839</td>\n",
              "      <td>2.972464</td>\n",
              "      <td>0.106550</td>\n",
              "      <td>0.098070</td>\n",
              "      <td>0.122649</td>\n",
              "      <td>0.016602</td>\n",
              "      <td>-0.016622</td>\n",
              "      <td>0.096642</td>\n",
              "    </tr>\n",
              "    <tr>\n",
              "      <th>1996-03-29</th>\n",
              "      <td>18.35</td>\n",
              "      <td>21.43</td>\n",
              "      <td>20.33</td>\n",
              "      <td>5587.14</td>\n",
              "      <td>395.45</td>\n",
              "      <td>21.47</td>\n",
              "      <td>2.909630</td>\n",
              "      <td>3.064792</td>\n",
              "      <td>3.012098</td>\n",
              "      <td>8.628223</td>\n",
              "      <td>5.980024</td>\n",
              "      <td>3.066657</td>\n",
              "      <td>0.087061</td>\n",
              "      <td>0.089773</td>\n",
              "      <td>0.078241</td>\n",
              "      <td>0.018337</td>\n",
              "      <td>-0.010815</td>\n",
              "      <td>0.094193</td>\n",
              "    </tr>\n",
              "    <tr>\n",
              "      <th>1996-04-30</th>\n",
              "      <td>17.61</td>\n",
              "      <td>20.95</td>\n",
              "      <td>19.50</td>\n",
              "      <td>5569.07</td>\n",
              "      <td>391.65</td>\n",
              "      <td>21.20</td>\n",
              "      <td>2.868467</td>\n",
              "      <td>3.042139</td>\n",
              "      <td>2.970414</td>\n",
              "      <td>8.624983</td>\n",
              "      <td>5.970369</td>\n",
              "      <td>3.054001</td>\n",
              "      <td>-0.041163</td>\n",
              "      <td>-0.022653</td>\n",
              "      <td>-0.041683</td>\n",
              "      <td>-0.003239</td>\n",
              "      <td>-0.009656</td>\n",
              "      <td>-0.012655</td>\n",
              "    </tr>\n",
              "    <tr>\n",
              "      <th>1996-05-31</th>\n",
              "      <td>16.48</td>\n",
              "      <td>19.77</td>\n",
              "      <td>18.10</td>\n",
              "      <td>5643.17</td>\n",
              "      <td>391.00</td>\n",
              "      <td>19.76</td>\n",
              "      <td>2.802148</td>\n",
              "      <td>2.984166</td>\n",
              "      <td>2.895912</td>\n",
              "      <td>8.638201</td>\n",
              "      <td>5.968708</td>\n",
              "      <td>2.983660</td>\n",
              "      <td>-0.066319</td>\n",
              "      <td>-0.057973</td>\n",
              "      <td>-0.074503</td>\n",
              "      <td>0.013218</td>\n",
              "      <td>-0.001661</td>\n",
              "      <td>-0.070341</td>\n",
              "    </tr>\n",
              "    <tr>\n",
              "      <th>...</th>\n",
              "      <td>...</td>\n",
              "      <td>...</td>\n",
              "      <td>...</td>\n",
              "      <td>...</td>\n",
              "      <td>...</td>\n",
              "      <td>...</td>\n",
              "      <td>...</td>\n",
              "      <td>...</td>\n",
              "      <td>...</td>\n",
              "      <td>...</td>\n",
              "      <td>...</td>\n",
              "      <td>...</td>\n",
              "      <td>...</td>\n",
              "      <td>...</td>\n",
              "      <td>...</td>\n",
              "      <td>...</td>\n",
              "      <td>...</td>\n",
              "      <td>...</td>\n",
              "    </tr>\n",
              "    <tr>\n",
              "      <th>2013-05-31</th>\n",
              "      <td>95.58</td>\n",
              "      <td>91.93</td>\n",
              "      <td>100.43</td>\n",
              "      <td>15115.57</td>\n",
              "      <td>1386.90</td>\n",
              "      <td>91.97</td>\n",
              "      <td>4.559964</td>\n",
              "      <td>4.521027</td>\n",
              "      <td>4.609461</td>\n",
              "      <td>9.623481</td>\n",
              "      <td>7.234826</td>\n",
              "      <td>4.521462</td>\n",
              "      <td>-0.036771</td>\n",
              "      <td>-0.013935</td>\n",
              "      <td>-0.010893</td>\n",
              "      <td>0.018413</td>\n",
              "      <td>-0.063010</td>\n",
              "      <td>-0.016071</td>\n",
              "    </tr>\n",
              "    <tr>\n",
              "      <th>2013-06-28</th>\n",
              "      <td>96.30</td>\n",
              "      <td>96.36</td>\n",
              "      <td>102.49</td>\n",
              "      <td>14909.60</td>\n",
              "      <td>1234.25</td>\n",
              "      <td>96.56</td>\n",
              "      <td>4.567468</td>\n",
              "      <td>4.568091</td>\n",
              "      <td>4.629765</td>\n",
              "      <td>9.609761</td>\n",
              "      <td>7.118219</td>\n",
              "      <td>4.570165</td>\n",
              "      <td>0.007505</td>\n",
              "      <td>0.047064</td>\n",
              "      <td>0.020304</td>\n",
              "      <td>-0.013720</td>\n",
              "      <td>-0.116608</td>\n",
              "      <td>0.048702</td>\n",
              "    </tr>\n",
              "    <tr>\n",
              "      <th>2013-07-31</th>\n",
              "      <td>100.87</td>\n",
              "      <td>105.10</td>\n",
              "      <td>107.89</td>\n",
              "      <td>15499.54</td>\n",
              "      <td>1323.10</td>\n",
              "      <td>105.03</td>\n",
              "      <td>4.613833</td>\n",
              "      <td>4.654912</td>\n",
              "      <td>4.681112</td>\n",
              "      <td>9.648566</td>\n",
              "      <td>7.187733</td>\n",
              "      <td>4.654246</td>\n",
              "      <td>0.046364</td>\n",
              "      <td>0.086821</td>\n",
              "      <td>0.051347</td>\n",
              "      <td>0.038805</td>\n",
              "      <td>0.069514</td>\n",
              "      <td>0.084081</td>\n",
              "    </tr>\n",
              "    <tr>\n",
              "      <th>2013-08-30</th>\n",
              "      <td>102.98</td>\n",
              "      <td>107.98</td>\n",
              "      <td>115.97</td>\n",
              "      <td>14810.31</td>\n",
              "      <td>1396.40</td>\n",
              "      <td>107.65</td>\n",
              "      <td>4.634535</td>\n",
              "      <td>4.681946</td>\n",
              "      <td>4.753332</td>\n",
              "      <td>9.603079</td>\n",
              "      <td>7.241653</td>\n",
              "      <td>4.678885</td>\n",
              "      <td>0.020702</td>\n",
              "      <td>0.027034</td>\n",
              "      <td>0.072219</td>\n",
              "      <td>-0.045487</td>\n",
              "      <td>0.053920</td>\n",
              "      <td>0.024639</td>\n",
              "    </tr>\n",
              "    <tr>\n",
              "      <th>2013-09-30</th>\n",
              "      <td>97.94</td>\n",
              "      <td>102.36</td>\n",
              "      <td>107.85</td>\n",
              "      <td>15129.67</td>\n",
              "      <td>1327.55</td>\n",
              "      <td>102.33</td>\n",
              "      <td>4.584355</td>\n",
              "      <td>4.628496</td>\n",
              "      <td>4.680741</td>\n",
              "      <td>9.624413</td>\n",
              "      <td>7.191090</td>\n",
              "      <td>4.628203</td>\n",
              "      <td>-0.050180</td>\n",
              "      <td>-0.053450</td>\n",
              "      <td>-0.072590</td>\n",
              "      <td>0.021334</td>\n",
              "      <td>-0.050562</td>\n",
              "      <td>-0.050682</td>\n",
              "    </tr>\n",
              "  </tbody>\n",
              "</table>\n",
              "<p>213 rows × 18 columns</p>\n",
              "</div>\n",
              "      <button class=\"colab-df-convert\" onclick=\"convertToInteractive('df-1b214065-9bb0-4a41-956f-fce304a0949a')\"\n",
              "              title=\"Convert this dataframe to an interactive table.\"\n",
              "              style=\"display:none;\">\n",
              "        \n",
              "  <svg xmlns=\"http://www.w3.org/2000/svg\" height=\"24px\"viewBox=\"0 0 24 24\"\n",
              "       width=\"24px\">\n",
              "    <path d=\"M0 0h24v24H0V0z\" fill=\"none\"/>\n",
              "    <path d=\"M18.56 5.44l.94 2.06.94-2.06 2.06-.94-2.06-.94-.94-2.06-.94 2.06-2.06.94zm-11 1L8.5 8.5l.94-2.06 2.06-.94-2.06-.94L8.5 2.5l-.94 2.06-2.06.94zm10 10l.94 2.06.94-2.06 2.06-.94-2.06-.94-.94-2.06-.94 2.06-2.06.94z\"/><path d=\"M17.41 7.96l-1.37-1.37c-.4-.4-.92-.59-1.43-.59-.52 0-1.04.2-1.43.59L10.3 9.45l-7.72 7.72c-.78.78-.78 2.05 0 2.83L4 21.41c.39.39.9.59 1.41.59.51 0 1.02-.2 1.41-.59l7.78-7.78 2.81-2.81c.8-.78.8-2.07 0-2.86zM5.41 20L4 18.59l7.72-7.72 1.47 1.35L5.41 20z\"/>\n",
              "  </svg>\n",
              "      </button>\n",
              "      \n",
              "  <style>\n",
              "    .colab-df-container {\n",
              "      display:flex;\n",
              "      flex-wrap:wrap;\n",
              "      gap: 12px;\n",
              "    }\n",
              "\n",
              "    .colab-df-convert {\n",
              "      background-color: #E8F0FE;\n",
              "      border: none;\n",
              "      border-radius: 50%;\n",
              "      cursor: pointer;\n",
              "      display: none;\n",
              "      fill: #1967D2;\n",
              "      height: 32px;\n",
              "      padding: 0 0 0 0;\n",
              "      width: 32px;\n",
              "    }\n",
              "\n",
              "    .colab-df-convert:hover {\n",
              "      background-color: #E2EBFA;\n",
              "      box-shadow: 0px 1px 2px rgba(60, 64, 67, 0.3), 0px 1px 3px 1px rgba(60, 64, 67, 0.15);\n",
              "      fill: #174EA6;\n",
              "    }\n",
              "\n",
              "    [theme=dark] .colab-df-convert {\n",
              "      background-color: #3B4455;\n",
              "      fill: #D2E3FC;\n",
              "    }\n",
              "\n",
              "    [theme=dark] .colab-df-convert:hover {\n",
              "      background-color: #434B5C;\n",
              "      box-shadow: 0px 1px 3px 1px rgba(0, 0, 0, 0.15);\n",
              "      filter: drop-shadow(0px 1px 2px rgba(0, 0, 0, 0.3));\n",
              "      fill: #FFFFFF;\n",
              "    }\n",
              "  </style>\n",
              "\n",
              "      <script>\n",
              "        const buttonEl =\n",
              "          document.querySelector('#df-1b214065-9bb0-4a41-956f-fce304a0949a button.colab-df-convert');\n",
              "        buttonEl.style.display =\n",
              "          google.colab.kernel.accessAllowed ? 'block' : 'none';\n",
              "\n",
              "        async function convertToInteractive(key) {\n",
              "          const element = document.querySelector('#df-1b214065-9bb0-4a41-956f-fce304a0949a');\n",
              "          const dataTable =\n",
              "            await google.colab.kernel.invokeFunction('convertToInteractive',\n",
              "                                                     [key], {});\n",
              "          if (!dataTable) return;\n",
              "\n",
              "          const docLinkHtml = 'Like what you see? Visit the ' +\n",
              "            '<a target=\"_blank\" href=https://colab.research.google.com/notebooks/data_table.ipynb>data table notebook</a>'\n",
              "            + ' to learn more about interactive tables.';\n",
              "          element.innerHTML = '';\n",
              "          dataTable['output_type'] = 'display_data';\n",
              "          await google.colab.output.renderOutput(dataTable, element);\n",
              "          const docLink = document.createElement('div');\n",
              "          docLink.innerHTML = docLinkHtml;\n",
              "          element.appendChild(docLink);\n",
              "        }\n",
              "      </script>\n",
              "    </div>\n",
              "  </div>\n",
              "  "
            ]
          },
          "metadata": {},
          "execution_count": 989
        }
      ]
    },
    {
      "cell_type": "code",
      "source": [
        "df['DiffLogMM'] = df['Log_MM'].diff() #crea una nueva columna con la diferencia del logaritmo \n",
        "df['DiffLogWTI'] = df['Log_WTI'].diff()\n",
        "df['DiffLogBRENT'] = df['Log_Brent'].diff()\n",
        "df['DiffLogDJI'] = df['Log_DJI'].diff()\n",
        "df['DiffLogXAU'] = df['Log_XAU'].diff()\n",
        "df['DiffLogOil C1'] = df['Log_Oil C1'].diff()"
      ],
      "metadata": {
        "id": "V1V3ZQ1K5E1K"
      },
      "execution_count": 990,
      "outputs": []
    },
    {
      "cell_type": "code",
      "source": [
        "input_data = df[['DiffLogWTI','DiffLogBRENT','DiffLogDJI', 'DiffLogXAU','DiffLogOil C1']].values\n",
        "targets = df['DiffLogMM'].values"
      ],
      "metadata": {
        "id": "9RnWbvxS_HO_"
      },
      "execution_count": 991,
      "outputs": []
    },
    {
      "cell_type": "code",
      "source": [
        "input_data = df[['DiffLogWTI','DiffLogBRENT','DiffLogDJI', 'DiffLogXAU','DiffLogOil C1']].dropna()\n",
        "targets = df['DiffLogMM'].dropna()"
      ],
      "metadata": {
        "id": "MYOqn98cGu-C"
      },
      "execution_count": 992,
      "outputs": []
    },
    {
      "cell_type": "code",
      "source": [
        "print(input_data.shape, targets.shape)"
      ],
      "metadata": {
        "colab": {
          "base_uri": "https://localhost:8080/"
        },
        "id": "ehTRFfdx-hn9",
        "outputId": "8831a7d9-b8e1-4378-9581-46490400cef2"
      },
      "execution_count": 993,
      "outputs": [
        {
          "output_type": "stream",
          "name": "stdout",
          "text": [
            "(317, 5) (317,)\n"
          ]
        }
      ]
    },
    {
      "cell_type": "code",
      "source": [
        "# Now make the actual data which will go into the neural network\n",
        "T = 24 #the number of time steps to look at to make a prediction for the next day\n",
        "D = input_data.shape[1] #en este ejemplo son 5 porque usamos 5 variables disitntas\n",
        "N = len(input_data) - T # (e.g. if T = 10 and you have 11 data points then you'd onlye have 1 sample )\n",
        "print(T,D,N, len(input_data)*1//3)"
      ],
      "metadata": {
        "colab": {
          "base_uri": "https://localhost:8080/"
        },
        "id": "BtYRYuKf58fo",
        "outputId": "01c11a94-925a-4f5e-ca0a-f48c072dceec"
      },
      "execution_count": 994,
      "outputs": [
        {
          "output_type": "stream",
          "name": "stdout",
          "text": [
            "24 5 293 105\n"
          ]
        }
      ]
    },
    {
      "cell_type": "code",
      "source": [
        "Ntest = len(input_data) * 1//3\n",
        "train = df.iloc[:-Ntest] #todos -12\n",
        "test = df.iloc[-Ntest:] #solo las últimas 12 observaciones"
      ],
      "metadata": {
        "id": "Hh9nNJmjLD0U"
      },
      "execution_count": 995,
      "outputs": []
    },
    {
      "cell_type": "code",
      "source": [
        "# boolean series to index df rows []\n",
        "train_idx = df.index <= train.index[-1] #pone true a lo que sea train del data set y lo demás false\n",
        "test_idx = df.index > train.index[-1] # pone true a lo que sea del test solamente y lo demás false\n",
        "print(train_idx.shape, test_idx.shape)"
      ],
      "metadata": {
        "colab": {
          "base_uri": "https://localhost:8080/"
        },
        "id": "P87Tr28VLGBa",
        "outputId": "e36e5959-8360-41c1-c7db-19ed0ae062af"
      },
      "execution_count": 996,
      "outputs": [
        {
          "output_type": "stream",
          "name": "stdout",
          "text": [
            "(318,) (318,)\n"
          ]
        }
      ]
    },
    {
      "cell_type": "code",
      "source": [
        "print(train_idx,len(input_data) - Ntest)"
      ],
      "metadata": {
        "colab": {
          "base_uri": "https://localhost:8080/"
        },
        "id": "dzWNnG_tPYpb",
        "outputId": "551f8a8d-276f-4539-eccc-5552f1aba972"
      },
      "execution_count": 997,
      "outputs": [
        {
          "output_type": "stream",
          "name": "stdout",
          "text": [
            "[ True  True  True  True  True  True  True  True  True  True  True  True\n",
            "  True  True  True  True  True  True  True  True  True  True  True  True\n",
            "  True  True  True  True  True  True  True  True  True  True  True  True\n",
            "  True  True  True  True  True  True  True  True  True  True  True  True\n",
            "  True  True  True  True  True  True  True  True  True  True  True  True\n",
            "  True  True  True  True  True  True  True  True  True  True  True  True\n",
            "  True  True  True  True  True  True  True  True  True  True  True  True\n",
            "  True  True  True  True  True  True  True  True  True  True  True  True\n",
            "  True  True  True  True  True  True  True  True  True  True  True  True\n",
            "  True  True  True  True  True  True  True  True  True  True  True  True\n",
            "  True  True  True  True  True  True  True  True  True  True  True  True\n",
            "  True  True  True  True  True  True  True  True  True  True  True  True\n",
            "  True  True  True  True  True  True  True  True  True  True  True  True\n",
            "  True  True  True  True  True  True  True  True  True  True  True  True\n",
            "  True  True  True  True  True  True  True  True  True  True  True  True\n",
            "  True  True  True  True  True  True  True  True  True  True  True  True\n",
            "  True  True  True  True  True  True  True  True  True  True  True  True\n",
            "  True  True  True  True  True  True  True  True  True False False False\n",
            " False False False False False False False False False False False False\n",
            " False False False False False False False False False False False False\n",
            " False False False False False False False False False False False False\n",
            " False False False False False False False False False False False False\n",
            " False False False False False False False False False False False False\n",
            " False False False False False False False False False False False False\n",
            " False False False False False False False False False False False False\n",
            " False False False False False False False False False False False False\n",
            " False False False False False False] 212\n"
          ]
        }
      ]
    },
    {
      "cell_type": "code",
      "source": [
        "# normalize the inputs\n",
        "Ntrain = len(input_data) * 2//3 - T + 1 #// Ntrain = len(input_data) * 2//3  sin el -T es el orignal // EL CAMBIADO: Ntrain = len(input_data) * 2//3 - T + 1 \n",
        "scaler = StandardScaler()\n",
        "scaler.fit(input_data[:Ntrain + T]) #escala los primeros 2/3 de datos + T\n",
        "input_data = scaler.transform(input_data) # remplaza el dataset a los datos escalados\n",
        "\n",
        "print(Ntrain)"
      ],
      "metadata": {
        "colab": {
          "base_uri": "https://localhost:8080/"
        },
        "id": "n1rQsBtq6FoP",
        "outputId": "87bde811-f731-4857-c2da-4bfcbb56b27e"
      },
      "execution_count": 998,
      "outputs": [
        {
          "output_type": "stream",
          "name": "stdout",
          "text": [
            "188\n"
          ]
        }
      ]
    },
    {
      "cell_type": "code",
      "source": [
        "# Setup X_train and Y_train\n",
        "X_train = np.zeros((Ntrain, T, D)) #crea ceros del tensor de 3 dimensiones y la medida son los números de cada definición (1249,5,10)\n",
        "Y_train = np.zeros(Ntrain)\n",
        "\n",
        "for t in range(Ntrain): \n",
        "  X_train[t, :, :] = input_data[t:t+T] #es el recorrido que hacen los datos de 1 en 1 con las 5 variables // X_train[t, :, :] = input_data[t:t+T] \n",
        "  Y_train[t] = (targets[t+T]>0) #booleano, mientras t+T sean > a 0 entonces Y_train será igual a x numero"
      ],
      "metadata": {
        "id": "pIpUXPfiAvtf"
      },
      "execution_count": 999,
      "outputs": []
    },
    {
      "cell_type": "code",
      "source": [
        "# Setup X_test and Y_test\n",
        "X_test = np.zeros((N - Ntrain , T, D)) #crea ceros del tensor de 3 dimensiones y la medida son los números de cada definición (1249-2/3 Ntrain ,5,10) // original : X_test = np.zeros((N - Ntrain, T, D)) \n",
        "Y_test = np.zeros(N - Ntrain) # (1249-839) //original : Y_test = np.zeros(N - Ntrain ) // el original: Y_test = np.zeros(N - Ntrain + T) \n",
        "\n",
        "#X_test = np.zeros((N - Ntrain + T, T, D)) \n",
        "#Y_test = np.zeros(N - Ntrain + T)\n",
        "\n",
        "\n",
        "#Acá llenamos los ceros generados\n",
        "for u in range(N - Ntrain): \n",
        "  # u ocunts from 0... (N - Ntrain)\n",
        "  # t counts form Ntrain...N \n",
        "  t = u + Ntrain #(U toma de 0 hasta N, Ntrain siempre es 839)\n",
        "  X_test[u, :, :] = input_data[t:t+T] #es el recorrido que hacen los datos de 1 en 1 con las 5 variables\n",
        "  Y_test[u] = (targets[t+T]>0) #booleano, mientras t+T sean > a 0 entonces Y_train será igual a x numero"
      ],
      "metadata": {
        "id": "RA7d-gXm6JqB"
      },
      "execution_count": 1000,
      "outputs": []
    },
    {
      "cell_type": "code",
      "source": [
        "print(X_train)"
      ],
      "metadata": {
        "colab": {
          "base_uri": "https://localhost:8080/"
        },
        "id": "xDnatHmAEwsI",
        "outputId": "cfce0106-5990-46f5-f701-e3199292c70d"
      },
      "execution_count": 1001,
      "outputs": [
        {
          "output_type": "stream",
          "name": "stdout",
          "text": [
            "[[[ 0.95813413  1.04409343  0.26286024 -0.45922505  0.93349902]\n",
            "  [ 0.86960666  0.63676757  0.30172432 -0.33913692  0.90763374]\n",
            "  [-0.32982284 -0.46322144 -0.18146277 -0.31516258 -0.22098926]\n",
            "  ...\n",
            "  [-1.13383372 -0.30076744  1.0092702  -1.09797254 -0.7864075 ]\n",
            "  [-0.9472045  -1.71844581  0.13342167 -0.676605   -1.27004705]\n",
            "  [-0.35747606 -0.23838204 -0.1138469   0.8217372  -0.34798645]]\n",
            "\n",
            " [[ 0.86960666  0.63676757  0.30172432 -0.33913692  0.90763374]\n",
            "  [-0.32982284 -0.46322144 -0.18146277 -0.31516258 -0.22098926]\n",
            "  [-0.70663749 -0.76425347  0.18707911 -0.14981989 -0.83031815]\n",
            "  ...\n",
            "  [-0.9472045  -1.71844581  0.13342167 -0.676605   -1.27004705]\n",
            "  [-0.35747606 -0.23838204 -0.1138469   0.8217372  -0.34798645]\n",
            "  [-1.24600174 -1.38080059  1.63206593 -0.34236032 -1.23368758]]\n",
            "\n",
            " [[-0.32982284 -0.46322144 -0.18146277 -0.31516258 -0.22098926]\n",
            "  [-0.70663749 -0.76425347  0.18707911 -0.14981989 -0.83031815]\n",
            "  [ 0.51506035  0.4984075  -0.06352825 -0.68116199  0.51525555]\n",
            "  ...\n",
            "  [-0.35747606 -0.23838204 -0.1138469   0.8217372  -0.34798645]\n",
            "  [-1.24600174 -1.38080059  1.63206593 -0.34236032 -1.23368758]\n",
            "  [ 0.12393549  0.14676045  0.54720891  0.00860057  0.02835323]]\n",
            "\n",
            " ...\n",
            "\n",
            " [[-0.04568882  0.25922809 -0.60336497  1.55941153 -0.05636175]\n",
            "  [-0.88306501 -0.03747406 -1.10772221  2.25060355 -0.87655756]\n",
            "  [-1.34638089 -0.99599103 -1.50139113 -2.5183154  -1.29700013]\n",
            "  ...\n",
            "  [-0.53857283 -0.68651373  0.31787808 -1.75804301 -0.40789493]\n",
            "  [-0.23681056 -0.1808053   0.30340771 -1.41859628 -0.25706846]\n",
            "  [ 0.41396176  0.10535145 -0.41616247 -2.52707594  0.42712122]]\n",
            "\n",
            " [[-0.88306501 -0.03747406 -1.10772221  2.25060355 -0.87655756]\n",
            "  [-1.34638089 -0.99599103 -1.50139113 -2.5183154  -1.29700013]\n",
            "  [ 1.68369263  0.17733789  1.93251592  1.01829875  1.63088392]\n",
            "  ...\n",
            "  [-0.23681056 -0.1808053   0.30340771 -1.41859628 -0.25706846]\n",
            "  [ 0.41396176  0.10535145 -0.41616247 -2.52707594  0.42712122]\n",
            "  [ 0.83811842  0.39008713  0.7600718   1.32217931  0.80082734]]\n",
            "\n",
            " [[-1.34638089 -0.99599103 -1.50139113 -2.5183154  -1.29700013]\n",
            "  [ 1.68369263  0.17733789  1.93251592  1.01829875  1.63088392]\n",
            "  [ 0.70265021  0.15214121  0.06028028  0.24845861  0.695641  ]\n",
            "  ...\n",
            "  [ 0.41396176  0.10535145 -0.41616247 -2.52707594  0.42712122]\n",
            "  [ 0.83811842  0.39008713  0.7600718   1.32217931  0.80082734]\n",
            "  [ 0.2002688   0.58153685 -1.12753952  0.99967462  0.17294812]]]\n"
          ]
        }
      ]
    },
    {
      "cell_type": "code",
      "source": [
        "#RNN \n",
        "i = Input(shape=(T,D))\n",
        "x = LSTM(4)(i)\n",
        "x = Dense(1)(x)\n",
        "model = Model(i,x)"
      ],
      "metadata": {
        "id": "NSLv4E1Z9Umu"
      },
      "execution_count": 1002,
      "outputs": []
    },
    {
      "cell_type": "code",
      "source": [
        "model.summary()"
      ],
      "metadata": {
        "colab": {
          "base_uri": "https://localhost:8080/"
        },
        "id": "fxscy75sBPsX",
        "outputId": "89c5ce9e-5332-4843-853f-588e1d0ac28f"
      },
      "execution_count": 1003,
      "outputs": [
        {
          "output_type": "stream",
          "name": "stdout",
          "text": [
            "Model: \"model_31\"\n",
            "_________________________________________________________________\n",
            " Layer (type)                Output Shape              Param #   \n",
            "=================================================================\n",
            " input_33 (InputLayer)       [(None, 24, 5)]           0         \n",
            "                                                                 \n",
            " lstm_34 (LSTM)              (None, 4)                 160       \n",
            "                                                                 \n",
            " dense_31 (Dense)            (None, 1)                 5         \n",
            "                                                                 \n",
            "=================================================================\n",
            "Total params: 165\n",
            "Trainable params: 165\n",
            "Non-trainable params: 0\n",
            "_________________________________________________________________\n"
          ]
        }
      ]
    },
    {
      "cell_type": "code",
      "source": [
        "model.compile(\n",
        "    loss='mse',\n",
        "    optimizer='adam',\n",
        ")"
      ],
      "metadata": {
        "id": "z8CPfNKvBTEJ"
      },
      "execution_count": 1004,
      "outputs": []
    },
    {
      "cell_type": "code",
      "source": [
        "print(X_test.shape)"
      ],
      "metadata": {
        "colab": {
          "base_uri": "https://localhost:8080/"
        },
        "id": "kKWBzOz_BtAH",
        "outputId": "c02a3ec1-3321-4fcb-ba5b-82f45ed8c082"
      },
      "execution_count": 1005,
      "outputs": [
        {
          "output_type": "stream",
          "name": "stdout",
          "text": [
            "(105, 24, 5)\n"
          ]
        }
      ]
    },
    {
      "cell_type": "code",
      "source": [
        "print(Y_test.shape)"
      ],
      "metadata": {
        "colab": {
          "base_uri": "https://localhost:8080/"
        },
        "id": "-zcTC9f0ByWE",
        "outputId": "c1b2e70a-12dd-4fd0-d052-4e660fdcc8a9"
      },
      "execution_count": 1006,
      "outputs": [
        {
          "output_type": "stream",
          "name": "stdout",
          "text": [
            "(105,)\n"
          ]
        }
      ]
    },
    {
      "cell_type": "code",
      "source": [
        "print(X_train.shape, Y_train.shape)"
      ],
      "metadata": {
        "colab": {
          "base_uri": "https://localhost:8080/"
        },
        "id": "dLXqLtEKEeM7",
        "outputId": "f50303af-3603-41d0-f981-d151d3110330"
      },
      "execution_count": 1007,
      "outputs": [
        {
          "output_type": "stream",
          "name": "stdout",
          "text": [
            "(188, 24, 5) (188,)\n"
          ]
        }
      ]
    },
    {
      "cell_type": "code",
      "source": [
        "print(X_test.shape, Y_test.shape)"
      ],
      "metadata": {
        "colab": {
          "base_uri": "https://localhost:8080/"
        },
        "id": "0hLwfxI6HGMb",
        "outputId": "251d27f7-e829-45a8-9fb3-018451199127"
      },
      "execution_count": 1008,
      "outputs": [
        {
          "output_type": "stream",
          "name": "stdout",
          "text": [
            "(105, 24, 5) (105,)\n"
          ]
        }
      ]
    },
    {
      "cell_type": "code",
      "source": [
        "r = model.fit(\n",
        "    X_train,\n",
        "    Y_train,\n",
        "    epochs=100,\n",
        "    validation_data=(X_test,Y_test),\n",
        ")"
      ],
      "metadata": {
        "colab": {
          "base_uri": "https://localhost:8080/"
        },
        "id": "1ytEW4gyBWDW",
        "outputId": "4f35692a-30eb-4fd3-e5d9-18329b22af85"
      },
      "execution_count": 1009,
      "outputs": [
        {
          "output_type": "stream",
          "name": "stdout",
          "text": [
            "Epoch 1/100\n",
            "6/6 [==============================] - 6s 283ms/step - loss: 0.5771 - val_loss: 0.6206\n",
            "Epoch 2/100\n",
            "6/6 [==============================] - 0s 35ms/step - loss: 0.5481 - val_loss: 0.5906\n",
            "Epoch 3/100\n",
            "6/6 [==============================] - 0s 35ms/step - loss: 0.5200 - val_loss: 0.5621\n",
            "Epoch 4/100\n",
            "6/6 [==============================] - 0s 30ms/step - loss: 0.4950 - val_loss: 0.5339\n",
            "Epoch 5/100\n",
            "6/6 [==============================] - 0s 61ms/step - loss: 0.4687 - val_loss: 0.5068\n",
            "Epoch 6/100\n",
            "6/6 [==============================] - 0s 48ms/step - loss: 0.4450 - val_loss: 0.4799\n",
            "Epoch 7/100\n",
            "6/6 [==============================] - 0s 29ms/step - loss: 0.4208 - val_loss: 0.4539\n",
            "Epoch 8/100\n",
            "6/6 [==============================] - 0s 49ms/step - loss: 0.3974 - val_loss: 0.4293\n",
            "Epoch 9/100\n",
            "6/6 [==============================] - 0s 43ms/step - loss: 0.3754 - val_loss: 0.4059\n",
            "Epoch 10/100\n",
            "6/6 [==============================] - 0s 38ms/step - loss: 0.3567 - val_loss: 0.3829\n",
            "Epoch 11/100\n",
            "6/6 [==============================] - 0s 46ms/step - loss: 0.3363 - val_loss: 0.3628\n",
            "Epoch 12/100\n",
            "6/6 [==============================] - 0s 44ms/step - loss: 0.3198 - val_loss: 0.3443\n",
            "Epoch 13/100\n",
            "6/6 [==============================] - 0s 36ms/step - loss: 0.3049 - val_loss: 0.3277\n",
            "Epoch 14/100\n",
            "6/6 [==============================] - 0s 37ms/step - loss: 0.2921 - val_loss: 0.3132\n",
            "Epoch 15/100\n",
            "6/6 [==============================] - 0s 49ms/step - loss: 0.2811 - val_loss: 0.3014\n",
            "Epoch 16/100\n",
            "6/6 [==============================] - 0s 29ms/step - loss: 0.2720 - val_loss: 0.2912\n",
            "Epoch 17/100\n",
            "6/6 [==============================] - 0s 29ms/step - loss: 0.2646 - val_loss: 0.2832\n",
            "Epoch 18/100\n",
            "6/6 [==============================] - 0s 32ms/step - loss: 0.2587 - val_loss: 0.2770\n",
            "Epoch 19/100\n",
            "6/6 [==============================] - 0s 39ms/step - loss: 0.2545 - val_loss: 0.2722\n",
            "Epoch 20/100\n",
            "6/6 [==============================] - 0s 32ms/step - loss: 0.2521 - val_loss: 0.2683\n",
            "Epoch 21/100\n",
            "6/6 [==============================] - 0s 46ms/step - loss: 0.2494 - val_loss: 0.2653\n",
            "Epoch 22/100\n",
            "6/6 [==============================] - 0s 33ms/step - loss: 0.2477 - val_loss: 0.2631\n",
            "Epoch 23/100\n",
            "6/6 [==============================] - 0s 34ms/step - loss: 0.2464 - val_loss: 0.2614\n",
            "Epoch 24/100\n",
            "6/6 [==============================] - 0s 51ms/step - loss: 0.2455 - val_loss: 0.2601\n",
            "Epoch 25/100\n",
            "6/6 [==============================] - 0s 41ms/step - loss: 0.2448 - val_loss: 0.2588\n",
            "Epoch 26/100\n",
            "6/6 [==============================] - 0s 28ms/step - loss: 0.2441 - val_loss: 0.2577\n",
            "Epoch 27/100\n",
            "6/6 [==============================] - 0s 51ms/step - loss: 0.2437 - val_loss: 0.2567\n",
            "Epoch 28/100\n",
            "6/6 [==============================] - 0s 49ms/step - loss: 0.2432 - val_loss: 0.2559\n",
            "Epoch 29/100\n",
            "6/6 [==============================] - 0s 59ms/step - loss: 0.2425 - val_loss: 0.2552\n",
            "Epoch 30/100\n",
            "6/6 [==============================] - 0s 63ms/step - loss: 0.2421 - val_loss: 0.2545\n",
            "Epoch 31/100\n",
            "6/6 [==============================] - 0s 56ms/step - loss: 0.2417 - val_loss: 0.2541\n",
            "Epoch 32/100\n",
            "6/6 [==============================] - 0s 45ms/step - loss: 0.2413 - val_loss: 0.2535\n",
            "Epoch 33/100\n",
            "6/6 [==============================] - 0s 40ms/step - loss: 0.2408 - val_loss: 0.2531\n",
            "Epoch 34/100\n",
            "6/6 [==============================] - 0s 58ms/step - loss: 0.2404 - val_loss: 0.2527\n",
            "Epoch 35/100\n",
            "6/6 [==============================] - 0s 63ms/step - loss: 0.2401 - val_loss: 0.2525\n",
            "Epoch 36/100\n",
            "6/6 [==============================] - 0s 51ms/step - loss: 0.2398 - val_loss: 0.2522\n",
            "Epoch 37/100\n",
            "6/6 [==============================] - 0s 48ms/step - loss: 0.2393 - val_loss: 0.2519\n",
            "Epoch 38/100\n",
            "6/6 [==============================] - 0s 55ms/step - loss: 0.2390 - val_loss: 0.2517\n",
            "Epoch 39/100\n",
            "6/6 [==============================] - 0s 62ms/step - loss: 0.2386 - val_loss: 0.2514\n",
            "Epoch 40/100\n",
            "6/6 [==============================] - 0s 53ms/step - loss: 0.2385 - val_loss: 0.2511\n",
            "Epoch 41/100\n",
            "6/6 [==============================] - 0s 51ms/step - loss: 0.2380 - val_loss: 0.2511\n",
            "Epoch 42/100\n",
            "6/6 [==============================] - 0s 51ms/step - loss: 0.2376 - val_loss: 0.2509\n",
            "Epoch 43/100\n",
            "6/6 [==============================] - 0s 58ms/step - loss: 0.2373 - val_loss: 0.2507\n",
            "Epoch 44/100\n",
            "6/6 [==============================] - 0s 72ms/step - loss: 0.2370 - val_loss: 0.2504\n",
            "Epoch 45/100\n",
            "6/6 [==============================] - 0s 65ms/step - loss: 0.2367 - val_loss: 0.2504\n",
            "Epoch 46/100\n",
            "6/6 [==============================] - 0s 56ms/step - loss: 0.2364 - val_loss: 0.2504\n",
            "Epoch 47/100\n",
            "6/6 [==============================] - 0s 65ms/step - loss: 0.2361 - val_loss: 0.2505\n",
            "Epoch 48/100\n",
            "6/6 [==============================] - 0s 56ms/step - loss: 0.2358 - val_loss: 0.2504\n",
            "Epoch 49/100\n",
            "6/6 [==============================] - 0s 55ms/step - loss: 0.2355 - val_loss: 0.2504\n",
            "Epoch 50/100\n",
            "6/6 [==============================] - 0s 53ms/step - loss: 0.2353 - val_loss: 0.2505\n",
            "Epoch 51/100\n",
            "6/6 [==============================] - 0s 60ms/step - loss: 0.2350 - val_loss: 0.2504\n",
            "Epoch 52/100\n",
            "6/6 [==============================] - 0s 61ms/step - loss: 0.2346 - val_loss: 0.2503\n",
            "Epoch 53/100\n",
            "6/6 [==============================] - 0s 60ms/step - loss: 0.2344 - val_loss: 0.2504\n",
            "Epoch 54/100\n",
            "6/6 [==============================] - 0s 63ms/step - loss: 0.2341 - val_loss: 0.2502\n",
            "Epoch 55/100\n",
            "6/6 [==============================] - 0s 55ms/step - loss: 0.2339 - val_loss: 0.2503\n",
            "Epoch 56/100\n",
            "6/6 [==============================] - 0s 41ms/step - loss: 0.2336 - val_loss: 0.2503\n",
            "Epoch 57/100\n",
            "6/6 [==============================] - 0s 68ms/step - loss: 0.2334 - val_loss: 0.2502\n",
            "Epoch 58/100\n",
            "6/6 [==============================] - 0s 52ms/step - loss: 0.2330 - val_loss: 0.2504\n",
            "Epoch 59/100\n",
            "6/6 [==============================] - 0s 41ms/step - loss: 0.2328 - val_loss: 0.2504\n",
            "Epoch 60/100\n",
            "6/6 [==============================] - 0s 51ms/step - loss: 0.2325 - val_loss: 0.2504\n",
            "Epoch 61/100\n",
            "6/6 [==============================] - 0s 43ms/step - loss: 0.2323 - val_loss: 0.2505\n",
            "Epoch 62/100\n",
            "6/6 [==============================] - 0s 66ms/step - loss: 0.2320 - val_loss: 0.2505\n",
            "Epoch 63/100\n",
            "6/6 [==============================] - 0s 62ms/step - loss: 0.2318 - val_loss: 0.2502\n",
            "Epoch 64/100\n",
            "6/6 [==============================] - 0s 58ms/step - loss: 0.2316 - val_loss: 0.2502\n",
            "Epoch 65/100\n",
            "6/6 [==============================] - 0s 46ms/step - loss: 0.2313 - val_loss: 0.2504\n",
            "Epoch 66/100\n",
            "6/6 [==============================] - 0s 61ms/step - loss: 0.2311 - val_loss: 0.2507\n",
            "Epoch 67/100\n",
            "6/6 [==============================] - 0s 79ms/step - loss: 0.2307 - val_loss: 0.2507\n",
            "Epoch 68/100\n",
            "6/6 [==============================] - 0s 63ms/step - loss: 0.2305 - val_loss: 0.2509\n",
            "Epoch 69/100\n",
            "6/6 [==============================] - 0s 53ms/step - loss: 0.2303 - val_loss: 0.2509\n",
            "Epoch 70/100\n",
            "6/6 [==============================] - 0s 70ms/step - loss: 0.2301 - val_loss: 0.2511\n",
            "Epoch 71/100\n",
            "6/6 [==============================] - 0s 72ms/step - loss: 0.2297 - val_loss: 0.2511\n",
            "Epoch 72/100\n",
            "6/6 [==============================] - 0s 52ms/step - loss: 0.2296 - val_loss: 0.2512\n",
            "Epoch 73/100\n",
            "6/6 [==============================] - 0s 58ms/step - loss: 0.2293 - val_loss: 0.2514\n",
            "Epoch 74/100\n",
            "6/6 [==============================] - 0s 49ms/step - loss: 0.2289 - val_loss: 0.2514\n",
            "Epoch 75/100\n",
            "6/6 [==============================] - 0s 59ms/step - loss: 0.2288 - val_loss: 0.2510\n",
            "Epoch 76/100\n",
            "6/6 [==============================] - 0s 59ms/step - loss: 0.2285 - val_loss: 0.2511\n",
            "Epoch 77/100\n",
            "6/6 [==============================] - 0s 51ms/step - loss: 0.2283 - val_loss: 0.2515\n",
            "Epoch 78/100\n",
            "6/6 [==============================] - 0s 69ms/step - loss: 0.2280 - val_loss: 0.2515\n",
            "Epoch 79/100\n",
            "6/6 [==============================] - 0s 79ms/step - loss: 0.2279 - val_loss: 0.2516\n",
            "Epoch 80/100\n",
            "6/6 [==============================] - 0s 49ms/step - loss: 0.2275 - val_loss: 0.2517\n",
            "Epoch 81/100\n",
            "6/6 [==============================] - 0s 48ms/step - loss: 0.2273 - val_loss: 0.2517\n",
            "Epoch 82/100\n",
            "6/6 [==============================] - 0s 63ms/step - loss: 0.2271 - val_loss: 0.2518\n",
            "Epoch 83/100\n",
            "6/6 [==============================] - 0s 56ms/step - loss: 0.2272 - val_loss: 0.2520\n",
            "Epoch 84/100\n",
            "6/6 [==============================] - 0s 54ms/step - loss: 0.2266 - val_loss: 0.2519\n",
            "Epoch 85/100\n",
            "6/6 [==============================] - 0s 78ms/step - loss: 0.2265 - val_loss: 0.2522\n",
            "Epoch 86/100\n",
            "6/6 [==============================] - 0s 56ms/step - loss: 0.2262 - val_loss: 0.2521\n",
            "Epoch 87/100\n",
            "6/6 [==============================] - 0s 63ms/step - loss: 0.2260 - val_loss: 0.2519\n",
            "Epoch 88/100\n",
            "6/6 [==============================] - 0s 71ms/step - loss: 0.2257 - val_loss: 0.2519\n",
            "Epoch 89/100\n",
            "6/6 [==============================] - 0s 47ms/step - loss: 0.2255 - val_loss: 0.2521\n",
            "Epoch 90/100\n",
            "6/6 [==============================] - 0s 58ms/step - loss: 0.2254 - val_loss: 0.2523\n",
            "Epoch 91/100\n",
            "6/6 [==============================] - 0s 66ms/step - loss: 0.2250 - val_loss: 0.2522\n",
            "Epoch 92/100\n",
            "6/6 [==============================] - 0s 58ms/step - loss: 0.2248 - val_loss: 0.2522\n",
            "Epoch 93/100\n",
            "6/6 [==============================] - 0s 52ms/step - loss: 0.2247 - val_loss: 0.2522\n",
            "Epoch 94/100\n",
            "6/6 [==============================] - 0s 49ms/step - loss: 0.2244 - val_loss: 0.2521\n",
            "Epoch 95/100\n",
            "6/6 [==============================] - 0s 57ms/step - loss: 0.2245 - val_loss: 0.2526\n",
            "Epoch 96/100\n",
            "6/6 [==============================] - 0s 57ms/step - loss: 0.2239 - val_loss: 0.2527\n",
            "Epoch 97/100\n",
            "6/6 [==============================] - 0s 70ms/step - loss: 0.2237 - val_loss: 0.2528\n",
            "Epoch 98/100\n",
            "6/6 [==============================] - 0s 58ms/step - loss: 0.2235 - val_loss: 0.2531\n",
            "Epoch 99/100\n",
            "6/6 [==============================] - 0s 60ms/step - loss: 0.2233 - val_loss: 0.2531\n",
            "Epoch 100/100\n",
            "6/6 [==============================] - 0s 58ms/step - loss: 0.2230 - val_loss: 0.2529\n"
          ]
        }
      ]
    },
    {
      "cell_type": "code",
      "source": [
        "plt.plot(r.history['loss'],label='train loss')\n",
        "plt.plot(r.history['val_loss'], label='test loss')\n",
        "plt.legend();"
      ],
      "metadata": {
        "colab": {
          "base_uri": "https://localhost:8080/",
          "height": 265
        },
        "id": "xsbtNl4gHMma",
        "outputId": "50ad12a1-233b-4390-8023-3a8c7be09c52"
      },
      "execution_count": 1010,
      "outputs": [
        {
          "output_type": "display_data",
          "data": {
            "text/plain": [
              "<Figure size 432x288 with 1 Axes>"
            ],
            "image/png": "[encoded data removed]"
          },
          "metadata": {
            "needs_background": "light"
          }
        }
      ]
    },
    {
      "cell_type": "code",
      "source": [
        "train_idx[:T+1] = False # First T+1 values are not predictable"
      ],
      "metadata": {
        "id": "RM_Ojfi2HOJa"
      },
      "execution_count": 1011,
      "outputs": []
    },
    {
      "cell_type": "code",
      "source": [
        "print(train_idx[:T+1]) #Me imprime lo que tenemos False en el entrenamiento "
      ],
      "metadata": {
        "colab": {
          "base_uri": "https://localhost:8080/"
        },
        "id": "rVk2H5juHQvs",
        "outputId": "7541ea7c-0e62-4d24-8d5f-c7112098db8a"
      },
      "execution_count": 1012,
      "outputs": [
        {
          "output_type": "stream",
          "name": "stdout",
          "text": [
            "[False False False False False False False False False False False False\n",
            " False False False False False False False False False False False False\n",
            " False]\n"
          ]
        }
      ]
    },
    {
      "cell_type": "code",
      "source": [
        "Ptrain = model.predict(X_train).flatten()\n",
        "Ptest = model.predict(X_test).flatten()"
      ],
      "metadata": {
        "colab": {
          "base_uri": "https://localhost:8080/"
        },
        "id": "DBymf8o3HT6k",
        "outputId": "4dcd8bc9-66ce-4064-9c04-33dd6bdab381"
      },
      "execution_count": 1013,
      "outputs": [
        {
          "output_type": "stream",
          "name": "stdout",
          "text": [
            "6/6 [==============================] - 1s 5ms/step\n",
            "4/4 [==============================] - 0s 9ms/step\n"
          ]
        }
      ]
    },
    {
      "cell_type": "code",
      "source": [
        "print(Ptrain.shape)"
      ],
      "metadata": {
        "colab": {
          "base_uri": "https://localhost:8080/"
        },
        "id": "1zuOGHZXHre1",
        "outputId": "cc5b891c-e21e-438f-9aa5-f69c320896e9"
      },
      "execution_count": 1014,
      "outputs": [
        {
          "output_type": "stream",
          "name": "stdout",
          "text": [
            "(188,)\n"
          ]
        }
      ]
    },
    {
      "cell_type": "code",
      "source": [
        "print(Ptest.shape)"
      ],
      "metadata": {
        "colab": {
          "base_uri": "https://localhost:8080/"
        },
        "id": "CH2XJ_PFHWX2",
        "outputId": "9c21b1ba-f35f-45a1-b340-a683d494925e"
      },
      "execution_count": 1015,
      "outputs": [
        {
          "output_type": "stream",
          "name": "stdout",
          "text": [
            "(105,)\n"
          ]
        }
      ]
    },
    {
      "cell_type": "code",
      "source": [
        "print(input_data.shape)"
      ],
      "metadata": {
        "colab": {
          "base_uri": "https://localhost:8080/"
        },
        "id": "XogAQAbgHxqI",
        "outputId": "63ab2cfd-5ab6-48e0-f122-47fd2d20b289"
      },
      "execution_count": 1016,
      "outputs": [
        {
          "output_type": "stream",
          "name": "stdout",
          "text": [
            "(317, 5)\n"
          ]
        }
      ]
    },
    {
      "cell_type": "code",
      "source": [
        "print(200+105+12,211+94+12)"
      ],
      "metadata": {
        "colab": {
          "base_uri": "https://localhost:8080/"
        },
        "id": "zyXVmbrzIDTs",
        "outputId": "0c7707fe-d16c-4ca3-b013-dc5ded798888"
      },
      "execution_count": 1017,
      "outputs": [
        {
          "output_type": "stream",
          "name": "stdout",
          "text": [
            "317 317\n"
          ]
        }
      ]
    },
    {
      "cell_type": "code",
      "source": [
        "#Needed to compute un-differenced predictions\n",
        "df['ShiftLogMM'] = df['Log_MM'].shift(1) #cambia 1 periodo hacia adelante los datos\n",
        "prev = df['ShiftLogMM']\n",
        "ValuesView(prev.tail())"
      ],
      "metadata": {
        "colab": {
          "base_uri": "https://localhost:8080/"
        },
        "id": "UNICwVGiIHda",
        "outputId": "22e031ed-a383-4b2a-9f1e-9d4f3dbcf7f4"
      },
      "execution_count": 1018,
      "outputs": [
        {
          "output_type": "execute_result",
          "data": {
            "text/plain": [
              "ValuesView(Fecha\n",
              "2022-02-28    4.420165\n",
              "2022-03-31    4.519612\n",
              "2022-04-29    4.584967\n",
              "2022-05-31    4.625169\n",
              "2022-06-30    4.734706\n",
              "Name: ShiftLogMM, dtype: float64)"
            ]
          },
          "metadata": {},
          "execution_count": 1018
        }
      ]
    },
    {
      "cell_type": "code",
      "source": [
        "print(Ptrain.shape, prev[train_idx].shape)"
      ],
      "metadata": {
        "colab": {
          "base_uri": "https://localhost:8080/"
        },
        "id": "ViFNaKMmIV1v",
        "outputId": "fc32d9e0-808e-4e8b-8bec-da72a8a16629"
      },
      "execution_count": 1019,
      "outputs": [
        {
          "output_type": "stream",
          "name": "stdout",
          "text": [
            "(188,) (188,)\n"
          ]
        }
      ]
    },
    {
      "cell_type": "code",
      "source": [
        "# Last-known train value\n",
        "last_train = train.iloc[-1]['Log_MM']"
      ],
      "metadata": {
        "id": "e2ZzB32bIerL"
      },
      "execution_count": 1020,
      "outputs": []
    },
    {
      "cell_type": "code",
      "source": [
        "ValuesView(last_train)"
      ],
      "metadata": {
        "colab": {
          "base_uri": "https://localhost:8080/"
        },
        "id": "LEa46A01IhS2",
        "outputId": "78b22e9b-c270-4a75-862c-7f5315873ab6"
      },
      "execution_count": 1021,
      "outputs": [
        {
          "output_type": "execute_result",
          "data": {
            "text/plain": [
              "ValuesView(4.584355046274172)"
            ]
          },
          "metadata": {},
          "execution_count": 1021
        }
      ]
    },
    {
      "cell_type": "code",
      "source": [
        "# 1-step forecast[]\n",
        "df.loc[train_idx, '1step_train'] = prev[train_idx] + Ptrain #Te regresa las 121 observaciones con true //con el loc me regresa del df algo en específico //prev[train_idx] =121 lenght + 121 lenght ptrain\n",
        "df.loc[test_idx, '1step_test'] = prev[test_idx] + Ptest #Te regresa las 12 observaciones con true // prev[test_idx] 12 lenght + ptest 12 lenght"
      ],
      "metadata": {
        "id": "INV4yhtgIf89"
      },
      "execution_count": 1022,
      "outputs": []
    },
    {
      "cell_type": "code",
      "source": [
        "# Plot 1-step forecast []\n",
        "df[['Log_MM','1step_train','1step_test']].plot(figsize=(15,5));"
      ],
      "metadata": {
        "colab": {
          "base_uri": "https://localhost:8080/",
          "height": 334
        },
        "id": "FQUWGWQPYieo",
        "outputId": "14d06977-6813-4ada-8a4c-b7d8596256e2"
      },
      "execution_count": 1023,
      "outputs": [
        {
          "output_type": "display_data",
          "data": {
            "text/plain": [
              "<Figure size 1080x360 with 1 Axes>"
            ],
            "image/png": "[encoded data removed]"
          },
          "metadata": {
            "needs_background": "light"
          }
        }
      ]
    },
    {
      "cell_type": "code",
      "source": [
        "# N = number of samples\n",
        "# T = sequence length\n",
        "# D = number of input features\n",
        "# M = number of hideen units \n",
        "# K = number of output units\n",
        "\n",
        "#Reshape the input_ to N x T x D"
      ],
      "metadata": {
        "id": "G9FiPnqbZYvi"
      },
      "execution_count": 1024,
      "outputs": []
    },
    {
      "cell_type": "code",
      "source": [
        "#multi-step forecast\n",
        "multistep_predictions = []\n",
        "\n",
        "# first test input\n",
        "last_x = X_test[0] #acá hay 10 observaciones\n",
        "\n",
        "while len(multistep_predictions) < Ntest:#Ntest es 12, entonces el while es hasta 11. Prediceme las sig 12 observaciones. Recuerda que 11 es la 12 porque se incluye el 0\n",
        "  p = model.predict(last_x.reshape(T, -1, D))[0]#damelo en 1 fila por x columnas que no se cuantas son. (el que debe de ir es 1,-1)\n",
        "  #update the predictions list\n",
        "  multistep_predictions.append(p)#añademe el resultado a p\n",
        "\n",
        "  #make the new input\n",
        "  last_x = np.roll(last_x,-1)\n",
        "  last_x[-1] = p"
      ],
      "metadata": {
        "colab": {
          "base_uri": "https://localhost:8080/"
        },
        "id": "aSu6Uc3BYzyq",
        "outputId": "1ab37ac7-c638-463f-e4ec-e6a4cc56dc5a"
      },
      "execution_count": 1025,
      "outputs": [
        {
          "output_type": "stream",
          "name": "stdout",
          "text": [
            "1/1 [==============================] - 1s 589ms/step\n",
            "1/1 [==============================] - 0s 23ms/step\n",
            "1/1 [==============================] - 0s 26ms/step\n",
            "1/1 [==============================] - 0s 22ms/step\n",
            "1/1 [==============================] - 0s 27ms/step\n",
            "1/1 [==============================] - 0s 28ms/step\n",
            "1/1 [==============================] - 0s 24ms/step\n",
            "1/1 [==============================] - 0s 27ms/step\n",
            "1/1 [==============================] - 0s 23ms/step\n",
            "1/1 [==============================] - 0s 25ms/step\n",
            "1/1 [==============================] - 0s 34ms/step\n",
            "1/1 [==============================] - 0s 22ms/step\n",
            "1/1 [==============================] - 0s 26ms/step\n",
            "1/1 [==============================] - 0s 23ms/step\n",
            "1/1 [==============================] - 0s 26ms/step\n",
            "1/1 [==============================] - 0s 23ms/step\n",
            "1/1 [==============================] - 0s 28ms/step\n",
            "1/1 [==============================] - 0s 29ms/step\n",
            "1/1 [==============================] - 0s 27ms/step\n",
            "1/1 [==============================] - 0s 24ms/step\n",
            "1/1 [==============================] - 0s 23ms/step\n",
            "1/1 [==============================] - 0s 32ms/step\n",
            "1/1 [==============================] - 0s 35ms/step\n",
            "1/1 [==============================] - 0s 23ms/step\n",
            "1/1 [==============================] - 0s 31ms/step\n",
            "1/1 [==============================] - 0s 27ms/step\n",
            "1/1 [==============================] - 0s 22ms/step\n",
            "1/1 [==============================] - 0s 24ms/step\n",
            "1/1 [==============================] - 0s 25ms/step\n",
            "1/1 [==============================] - 0s 23ms/step\n",
            "1/1 [==============================] - 0s 22ms/step\n",
            "1/1 [==============================] - 0s 26ms/step\n",
            "1/1 [==============================] - 0s 28ms/step\n",
            "1/1 [==============================] - 0s 22ms/step\n",
            "1/1 [==============================] - 0s 21ms/step\n",
            "1/1 [==============================] - 0s 29ms/step\n",
            "1/1 [==============================] - 0s 23ms/step\n",
            "1/1 [==============================] - 0s 27ms/step\n",
            "1/1 [==============================] - 0s 27ms/step\n",
            "1/1 [==============================] - 0s 28ms/step\n",
            "1/1 [==============================] - 0s 22ms/step\n",
            "1/1 [==============================] - 0s 27ms/step\n",
            "1/1 [==============================] - 0s 22ms/step\n",
            "1/1 [==============================] - 0s 25ms/step\n",
            "1/1 [==============================] - 0s 20ms/step\n",
            "1/1 [==============================] - 0s 26ms/step\n",
            "1/1 [==============================] - 0s 26ms/step\n",
            "1/1 [==============================] - 0s 26ms/step\n",
            "1/1 [==============================] - 0s 33ms/step\n",
            "1/1 [==============================] - 0s 31ms/step\n",
            "1/1 [==============================] - 0s 25ms/step\n",
            "1/1 [==============================] - 0s 35ms/step\n",
            "1/1 [==============================] - 0s 25ms/step\n",
            "1/1 [==============================] - 0s 31ms/step\n",
            "1/1 [==============================] - 0s 21ms/step\n",
            "1/1 [==============================] - 0s 25ms/step\n",
            "1/1 [==============================] - 0s 29ms/step\n",
            "1/1 [==============================] - 0s 25ms/step\n",
            "1/1 [==============================] - 0s 25ms/step\n",
            "1/1 [==============================] - 0s 24ms/step\n",
            "1/1 [==============================] - 0s 23ms/step\n",
            "1/1 [==============================] - 0s 27ms/step\n",
            "1/1 [==============================] - 0s 23ms/step\n",
            "1/1 [==============================] - 0s 27ms/step\n",
            "1/1 [==============================] - 0s 25ms/step\n",
            "1/1 [==============================] - 0s 25ms/step\n",
            "1/1 [==============================] - 0s 33ms/step\n",
            "1/1 [==============================] - 0s 26ms/step\n",
            "1/1 [==============================] - 0s 24ms/step\n",
            "1/1 [==============================] - 0s 27ms/step\n",
            "1/1 [==============================] - 0s 23ms/step\n",
            "1/1 [==============================] - 0s 26ms/step\n",
            "1/1 [==============================] - 0s 23ms/step\n",
            "1/1 [==============================] - 0s 26ms/step\n",
            "1/1 [==============================] - 0s 23ms/step\n",
            "1/1 [==============================] - 0s 32ms/step\n",
            "1/1 [==============================] - 0s 27ms/step\n",
            "1/1 [==============================] - 0s 24ms/step\n",
            "1/1 [==============================] - 0s 26ms/step\n",
            "1/1 [==============================] - 0s 29ms/step\n",
            "1/1 [==============================] - 0s 24ms/step\n",
            "1/1 [==============================] - 0s 27ms/step\n",
            "1/1 [==============================] - 0s 21ms/step\n",
            "1/1 [==============================] - 0s 28ms/step\n",
            "1/1 [==============================] - 0s 21ms/step\n",
            "1/1 [==============================] - 0s 30ms/step\n",
            "1/1 [==============================] - 0s 27ms/step\n",
            "1/1 [==============================] - 0s 24ms/step\n",
            "1/1 [==============================] - 0s 25ms/step\n",
            "1/1 [==============================] - 0s 24ms/step\n",
            "1/1 [==============================] - 0s 24ms/step\n",
            "1/1 [==============================] - 0s 24ms/step\n",
            "1/1 [==============================] - 0s 21ms/step\n",
            "1/1 [==============================] - 0s 30ms/step\n",
            "1/1 [==============================] - 0s 27ms/step\n",
            "1/1 [==============================] - 0s 25ms/step\n",
            "1/1 [==============================] - 0s 24ms/step\n",
            "1/1 [==============================] - 0s 28ms/step\n",
            "1/1 [==============================] - 0s 22ms/step\n",
            "1/1 [==============================] - 0s 25ms/step\n",
            "1/1 [==============================] - 0s 30ms/step\n",
            "1/1 [==============================] - 0s 24ms/step\n",
            "1/1 [==============================] - 0s 29ms/step\n",
            "1/1 [==============================] - 0s 26ms/step\n",
            "1/1 [==============================] - 0s 30ms/step\n"
          ]
        }
      ]
    },
    {
      "cell_type": "code",
      "source": [
        "print(p)"
      ],
      "metadata": {
        "colab": {
          "base_uri": "https://localhost:8080/"
        },
        "id": "88ifLa7-ZnIW",
        "outputId": "cb76d584-6dc4-481b-f2f2-6142c6f0a332"
      },
      "execution_count": 1026,
      "outputs": [
        {
          "output_type": "stream",
          "name": "stdout",
          "text": [
            "[0.09563296]\n"
          ]
        }
      ]
    },
    {
      "cell_type": "code",
      "source": [
        "#save multi-step forecast to dataframe\n",
        "df.loc[test_idx, 'multistep'] = last_train + np.cumsum(multistep_predictions)"
      ],
      "metadata": {
        "id": "Q2TgAI_ZZoG7"
      },
      "execution_count": 1027,
      "outputs": []
    },
    {
      "cell_type": "code",
      "source": [
        "#plot 1-step and multi-step forecast\n",
        "df[['Log_MM','multistep','1step_test']].plot(figsize=(15,5));"
      ],
      "metadata": {
        "colab": {
          "base_uri": "https://localhost:8080/",
          "height": 334
        },
        "id": "_s20TJMiZp2T",
        "outputId": "f85e9df4-3b87-46da-c508-fc5ae1a04282"
      },
      "execution_count": 1028,
      "outputs": [
        {
          "output_type": "display_data",
          "data": {
            "text/plain": [
              "<Figure size 1080x360 with 1 Axes>"
            ],
            "image/png": "[encoded data removed]"
          },
          "metadata": {
            "needs_background": "light"
          }
        }
      ]
    },
    {
      "cell_type": "code",
      "source": [
        "# make multi-output supevised dataset\n",
        "Tx = T\n",
        "Ty = Ntest\n",
        "X = []\n",
        "Y = []\n",
        "for t in range(len(series)- Tx -Ty +1):\n",
        "  x = series[t:t+Tx] #si t es 1 enotnces corre de 1 a 11\n",
        "  X.append(x)\n",
        "  y =series[t+Tx:t+Tx+Ty] #si t es 1, entonces corre de 11 a (1+10+12 = 23)\n",
        "  Y.append(y)\n",
        "\n",
        "X = np.array(X).reshape(-1, Tx, 1)\n",
        "Y = np.array(Y).reshape(-1,Ty)\n",
        "N = len(X)\n",
        "print(\"X.shape\", X.shape, \"Y.shape\", Y.shape)"
      ],
      "metadata": {
        "colab": {
          "base_uri": "https://localhost:8080/"
        },
        "id": "mDXUcX0Xabaj",
        "outputId": "e087fe50-bc09-4fa5-c0b3-f40f092c749f"
      },
      "execution_count": 1029,
      "outputs": [
        {
          "output_type": "stream",
          "name": "stdout",
          "text": [
            "X.shape (1134, 24, 1) Y.shape (1134, 105)\n"
          ]
        }
      ]
    },
    {
      "cell_type": "code",
      "source": [
        "Xtrain_m, Ytrain_m = X[:-1], Y[:-1]\n",
        "Xtest_m, Ytest_m = X[-1:], Y[-1:]"
      ],
      "metadata": {
        "id": "wsnMwXN8ahgV"
      },
      "execution_count": 1030,
      "outputs": []
    },
    {
      "cell_type": "code",
      "source": [
        "#RNN\n",
        "i = Input(shape=(Tx,1))\n",
        "x = LSTM(12, return_sequences=True)(i)\n",
        "x = GlobalMaxPool1D()(x) #NameError: name 'GlobalMaxPooling1D' is not defined\n",
        "x = Dense(Ty)(x) #en este caso es 12 =Ty\n",
        "model = Model(i,x)"
      ],
      "metadata": {
        "id": "OKOfmv50alw5"
      },
      "execution_count": 1031,
      "outputs": []
    },
    {
      "cell_type": "code",
      "source": [
        "model.summary()"
      ],
      "metadata": {
        "colab": {
          "base_uri": "https://localhost:8080/"
        },
        "id": "Y-xrIOivasVY",
        "outputId": "95743380-3d97-4654-b144-b0bc6b861727"
      },
      "execution_count": 1032,
      "outputs": [
        {
          "output_type": "stream",
          "name": "stdout",
          "text": [
            "Model: \"model_32\"\n",
            "_________________________________________________________________\n",
            " Layer (type)                Output Shape              Param #   \n",
            "=================================================================\n",
            " input_34 (InputLayer)       [(None, 24, 1)]           0         \n",
            "                                                                 \n",
            " lstm_35 (LSTM)              (None, 24, 12)            672       \n",
            "                                                                 \n",
            " global_max_pooling1d_6 (Glo  (None, 12)               0         \n",
            " balMaxPooling1D)                                                \n",
            "                                                                 \n",
            " dense_32 (Dense)            (None, 105)               1365      \n",
            "                                                                 \n",
            "=================================================================\n",
            "Total params: 2,037\n",
            "Trainable params: 2,037\n",
            "Non-trainable params: 0\n",
            "_________________________________________________________________\n"
          ]
        }
      ]
    },
    {
      "cell_type": "code",
      "source": [
        "check_point  = ModelCheckpoint('best_model.h5', monitor ='val_loss',save_best_only=True)"
      ],
      "metadata": {
        "id": "PnB-d51Van1h"
      },
      "execution_count": 1033,
      "outputs": []
    },
    {
      "cell_type": "code",
      "source": [
        "model.compile(\n",
        "    loss='mse',\n",
        "    optimizer='adam',\n",
        ")"
      ],
      "metadata": {
        "id": "92zjYDpPa0NA"
      },
      "execution_count": 1034,
      "outputs": []
    },
    {
      "cell_type": "code",
      "source": [
        "r = model.fit(\n",
        "    Xtrain_m,\n",
        "    Ytrain_m,\n",
        "    epochs=100,\n",
        "    validation_data=(Xtest_m,Ytest_m),\n",
        ")"
      ],
      "metadata": {
        "colab": {
          "base_uri": "https://localhost:8080/"
        },
        "id": "KQmfguQda3U9",
        "outputId": "d081665e-bfee-4622-b9f8-be8972525146"
      },
      "execution_count": 1035,
      "outputs": [
        {
          "output_type": "stream",
          "name": "stdout",
          "text": [
            "Epoch 1/100\n",
            "36/36 [==============================] - 5s 36ms/step - loss: 0.0088 - val_loss: 0.0074\n",
            "Epoch 2/100\n",
            "36/36 [==============================] - 1s 18ms/step - loss: 0.0088 - val_loss: 0.0075\n",
            "Epoch 3/100\n",
            "36/36 [==============================] - 1s 17ms/step - loss: 0.0088 - val_loss: 0.0075\n",
            "Epoch 4/100\n",
            "36/36 [==============================] - 1s 16ms/step - loss: 0.0088 - val_loss: 0.0075\n",
            "Epoch 5/100\n",
            "36/36 [==============================] - 1s 15ms/step - loss: 0.0088 - val_loss: 0.0074\n",
            "Epoch 6/100\n",
            "36/36 [==============================] - 1s 17ms/step - loss: 0.0088 - val_loss: 0.0075\n",
            "Epoch 7/100\n",
            "36/36 [==============================] - 1s 15ms/step - loss: 0.0088 - val_loss: 0.0074\n",
            "Epoch 8/100\n",
            "36/36 [==============================] - 1s 15ms/step - loss: 0.0088 - val_loss: 0.0075\n",
            "Epoch 9/100\n",
            "36/36 [==============================] - 1s 15ms/step - loss: 0.0088 - val_loss: 0.0074\n",
            "Epoch 10/100\n",
            "36/36 [==============================] - 1s 15ms/step - loss: 0.0088 - val_loss: 0.0075\n",
            "Epoch 11/100\n",
            "36/36 [==============================] - 1s 15ms/step - loss: 0.0088 - val_loss: 0.0075\n",
            "Epoch 12/100\n",
            "36/36 [==============================] - 1s 14ms/step - loss: 0.0088 - val_loss: 0.0075\n",
            "Epoch 13/100\n",
            "36/36 [==============================] - 1s 16ms/step - loss: 0.0088 - val_loss: 0.0075\n",
            "Epoch 14/100\n",
            "36/36 [==============================] - 1s 15ms/step - loss: 0.0088 - val_loss: 0.0075\n",
            "Epoch 15/100\n",
            "36/36 [==============================] - 1s 15ms/step - loss: 0.0088 - val_loss: 0.0075\n",
            "Epoch 16/100\n",
            "36/36 [==============================] - 1s 15ms/step - loss: 0.0088 - val_loss: 0.0075\n",
            "Epoch 17/100\n",
            "36/36 [==============================] - 1s 15ms/step - loss: 0.0088 - val_loss: 0.0074\n",
            "Epoch 18/100\n",
            "36/36 [==============================] - 1s 15ms/step - loss: 0.0088 - val_loss: 0.0076\n",
            "Epoch 19/100\n",
            "36/36 [==============================] - 1s 16ms/step - loss: 0.0088 - val_loss: 0.0075\n",
            "Epoch 20/100\n",
            "36/36 [==============================] - 1s 15ms/step - loss: 0.0088 - val_loss: 0.0075\n",
            "Epoch 21/100\n",
            "36/36 [==============================] - 1s 16ms/step - loss: 0.0088 - val_loss: 0.0075\n",
            "Epoch 22/100\n",
            "36/36 [==============================] - 1s 15ms/step - loss: 0.0088 - val_loss: 0.0075\n",
            "Epoch 23/100\n",
            "36/36 [==============================] - 1s 15ms/step - loss: 0.0088 - val_loss: 0.0075\n",
            "Epoch 24/100\n",
            "36/36 [==============================] - 1s 18ms/step - loss: 0.0088 - val_loss: 0.0075\n",
            "Epoch 25/100\n",
            "36/36 [==============================] - 1s 15ms/step - loss: 0.0088 - val_loss: 0.0075\n",
            "Epoch 26/100\n",
            "36/36 [==============================] - 1s 15ms/step - loss: 0.0088 - val_loss: 0.0075\n",
            "Epoch 27/100\n",
            "36/36 [==============================] - 1s 14ms/step - loss: 0.0088 - val_loss: 0.0076\n",
            "Epoch 28/100\n",
            "36/36 [==============================] - 1s 15ms/step - loss: 0.0088 - val_loss: 0.0076\n",
            "Epoch 29/100\n",
            "36/36 [==============================] - 1s 16ms/step - loss: 0.0088 - val_loss: 0.0075\n",
            "Epoch 30/100\n",
            "36/36 [==============================] - 1s 15ms/step - loss: 0.0088 - val_loss: 0.0076\n",
            "Epoch 31/100\n",
            "36/36 [==============================] - 1s 16ms/step - loss: 0.0088 - val_loss: 0.0076\n",
            "Epoch 32/100\n",
            "36/36 [==============================] - 1s 15ms/step - loss: 0.0088 - val_loss: 0.0074\n",
            "Epoch 33/100\n",
            "36/36 [==============================] - 1s 16ms/step - loss: 0.0088 - val_loss: 0.0076\n",
            "Epoch 34/100\n",
            "36/36 [==============================] - 1s 15ms/step - loss: 0.0088 - val_loss: 0.0075\n",
            "Epoch 35/100\n",
            "36/36 [==============================] - 1s 16ms/step - loss: 0.0088 - val_loss: 0.0075\n",
            "Epoch 36/100\n",
            "36/36 [==============================] - 1s 15ms/step - loss: 0.0088 - val_loss: 0.0076\n",
            "Epoch 37/100\n",
            "36/36 [==============================] - 1s 15ms/step - loss: 0.0088 - val_loss: 0.0076\n",
            "Epoch 38/100\n",
            "36/36 [==============================] - 1s 16ms/step - loss: 0.0088 - val_loss: 0.0075\n",
            "Epoch 39/100\n",
            "36/36 [==============================] - 1s 16ms/step - loss: 0.0088 - val_loss: 0.0076\n",
            "Epoch 40/100\n",
            "36/36 [==============================] - 1s 15ms/step - loss: 0.0088 - val_loss: 0.0075\n",
            "Epoch 41/100\n",
            "36/36 [==============================] - 1s 16ms/step - loss: 0.0088 - val_loss: 0.0076\n",
            "Epoch 42/100\n",
            "36/36 [==============================] - 1s 16ms/step - loss: 0.0088 - val_loss: 0.0075\n",
            "Epoch 43/100\n",
            "36/36 [==============================] - 1s 15ms/step - loss: 0.0088 - val_loss: 0.0075\n",
            "Epoch 44/100\n",
            "36/36 [==============================] - 1s 15ms/step - loss: 0.0088 - val_loss: 0.0075\n",
            "Epoch 45/100\n",
            "36/36 [==============================] - 1s 15ms/step - loss: 0.0088 - val_loss: 0.0075\n",
            "Epoch 46/100\n",
            "36/36 [==============================] - 1s 15ms/step - loss: 0.0088 - val_loss: 0.0075\n",
            "Epoch 47/100\n",
            "36/36 [==============================] - 1s 15ms/step - loss: 0.0088 - val_loss: 0.0076\n",
            "Epoch 48/100\n",
            "36/36 [==============================] - 1s 15ms/step - loss: 0.0088 - val_loss: 0.0075\n",
            "Epoch 49/100\n",
            "36/36 [==============================] - 1s 14ms/step - loss: 0.0088 - val_loss: 0.0075\n",
            "Epoch 50/100\n",
            "36/36 [==============================] - 1s 15ms/step - loss: 0.0088 - val_loss: 0.0075\n",
            "Epoch 51/100\n",
            "36/36 [==============================] - 1s 17ms/step - loss: 0.0088 - val_loss: 0.0075\n",
            "Epoch 52/100\n",
            "36/36 [==============================] - 1s 19ms/step - loss: 0.0088 - val_loss: 0.0076\n",
            "Epoch 53/100\n",
            "36/36 [==============================] - 1s 20ms/step - loss: 0.0088 - val_loss: 0.0076\n",
            "Epoch 54/100\n",
            "36/36 [==============================] - 1s 21ms/step - loss: 0.0088 - val_loss: 0.0076\n",
            "Epoch 55/100\n",
            "36/36 [==============================] - 1s 18ms/step - loss: 0.0088 - val_loss: 0.0076\n",
            "Epoch 56/100\n",
            "36/36 [==============================] - 1s 16ms/step - loss: 0.0088 - val_loss: 0.0074\n",
            "Epoch 57/100\n",
            "36/36 [==============================] - 1s 16ms/step - loss: 0.0088 - val_loss: 0.0075\n",
            "Epoch 58/100\n",
            "36/36 [==============================] - 1s 15ms/step - loss: 0.0088 - val_loss: 0.0076\n",
            "Epoch 59/100\n",
            "36/36 [==============================] - 1s 16ms/step - loss: 0.0088 - val_loss: 0.0076\n",
            "Epoch 60/100\n",
            "36/36 [==============================] - 1s 15ms/step - loss: 0.0088 - val_loss: 0.0076\n",
            "Epoch 61/100\n",
            "36/36 [==============================] - 1s 14ms/step - loss: 0.0088 - val_loss: 0.0075\n",
            "Epoch 62/100\n",
            "36/36 [==============================] - 1s 15ms/step - loss: 0.0088 - val_loss: 0.0075\n",
            "Epoch 63/100\n",
            "36/36 [==============================] - 1s 15ms/step - loss: 0.0088 - val_loss: 0.0076\n",
            "Epoch 64/100\n",
            "36/36 [==============================] - 1s 15ms/step - loss: 0.0088 - val_loss: 0.0075\n",
            "Epoch 65/100\n",
            "36/36 [==============================] - 1s 16ms/step - loss: 0.0088 - val_loss: 0.0076\n",
            "Epoch 66/100\n",
            "36/36 [==============================] - 1s 15ms/step - loss: 0.0088 - val_loss: 0.0076\n",
            "Epoch 67/100\n",
            "36/36 [==============================] - 1s 16ms/step - loss: 0.0088 - val_loss: 0.0075\n",
            "Epoch 68/100\n",
            "36/36 [==============================] - 1s 15ms/step - loss: 0.0088 - val_loss: 0.0076\n",
            "Epoch 69/100\n",
            "36/36 [==============================] - 1s 16ms/step - loss: 0.0088 - val_loss: 0.0076\n",
            "Epoch 70/100\n",
            "36/36 [==============================] - 1s 16ms/step - loss: 0.0088 - val_loss: 0.0075\n",
            "Epoch 71/100\n",
            "36/36 [==============================] - 1s 15ms/step - loss: 0.0088 - val_loss: 0.0076\n",
            "Epoch 72/100\n",
            "36/36 [==============================] - 1s 15ms/step - loss: 0.0088 - val_loss: 0.0077\n",
            "Epoch 73/100\n",
            "36/36 [==============================] - 1s 15ms/step - loss: 0.0088 - val_loss: 0.0076\n",
            "Epoch 74/100\n",
            "36/36 [==============================] - 1s 16ms/step - loss: 0.0088 - val_loss: 0.0075\n",
            "Epoch 75/100\n",
            "36/36 [==============================] - 1s 14ms/step - loss: 0.0088 - val_loss: 0.0076\n",
            "Epoch 76/100\n",
            "36/36 [==============================] - 1s 16ms/step - loss: 0.0088 - val_loss: 0.0075\n",
            "Epoch 77/100\n",
            "36/36 [==============================] - 1s 15ms/step - loss: 0.0088 - val_loss: 0.0076\n",
            "Epoch 78/100\n",
            "36/36 [==============================] - 1s 17ms/step - loss: 0.0088 - val_loss: 0.0076\n",
            "Epoch 79/100\n",
            "36/36 [==============================] - 1s 17ms/step - loss: 0.0088 - val_loss: 0.0075\n",
            "Epoch 80/100\n",
            "36/36 [==============================] - 1s 15ms/step - loss: 0.0088 - val_loss: 0.0077\n",
            "Epoch 81/100\n",
            "36/36 [==============================] - 1s 16ms/step - loss: 0.0088 - val_loss: 0.0075\n",
            "Epoch 82/100\n",
            "36/36 [==============================] - 1s 16ms/step - loss: 0.0088 - val_loss: 0.0075\n",
            "Epoch 83/100\n",
            "36/36 [==============================] - 1s 16ms/step - loss: 0.0088 - val_loss: 0.0076\n",
            "Epoch 84/100\n",
            "36/36 [==============================] - 1s 20ms/step - loss: 0.0088 - val_loss: 0.0075\n",
            "Epoch 85/100\n",
            "36/36 [==============================] - 1s 21ms/step - loss: 0.0088 - val_loss: 0.0076\n",
            "Epoch 86/100\n",
            "36/36 [==============================] - 1s 31ms/step - loss: 0.0088 - val_loss: 0.0076\n",
            "Epoch 87/100\n",
            "36/36 [==============================] - 1s 28ms/step - loss: 0.0088 - val_loss: 0.0075\n",
            "Epoch 88/100\n",
            "36/36 [==============================] - 1s 24ms/step - loss: 0.0088 - val_loss: 0.0075\n",
            "Epoch 89/100\n",
            "36/36 [==============================] - 1s 24ms/step - loss: 0.0088 - val_loss: 0.0075\n",
            "Epoch 90/100\n",
            "36/36 [==============================] - 1s 23ms/step - loss: 0.0088 - val_loss: 0.0076\n",
            "Epoch 91/100\n",
            "36/36 [==============================] - 1s 15ms/step - loss: 0.0088 - val_loss: 0.0076\n",
            "Epoch 92/100\n",
            "36/36 [==============================] - 1s 16ms/step - loss: 0.0088 - val_loss: 0.0076\n",
            "Epoch 93/100\n",
            "36/36 [==============================] - 1s 15ms/step - loss: 0.0087 - val_loss: 0.0076\n",
            "Epoch 94/100\n",
            "36/36 [==============================] - 1s 15ms/step - loss: 0.0088 - val_loss: 0.0076\n",
            "Epoch 95/100\n",
            "36/36 [==============================] - 1s 15ms/step - loss: 0.0087 - val_loss: 0.0075\n",
            "Epoch 96/100\n",
            "36/36 [==============================] - 1s 15ms/step - loss: 0.0087 - val_loss: 0.0075\n",
            "Epoch 97/100\n",
            "36/36 [==============================] - 1s 14ms/step - loss: 0.0087 - val_loss: 0.0076\n",
            "Epoch 98/100\n",
            "36/36 [==============================] - 1s 15ms/step - loss: 0.0087 - val_loss: 0.0076\n",
            "Epoch 99/100\n",
            "36/36 [==============================] - 1s 15ms/step - loss: 0.0087 - val_loss: 0.0075\n",
            "Epoch 100/100\n",
            "36/36 [==============================] - 1s 15ms/step - loss: 0.0087 - val_loss: 0.0076\n"
          ]
        }
      ]
    },
    {
      "cell_type": "code",
      "source": [
        "#Plot the loss\n",
        "plt.plot(r.history['loss'], label='train loss')\n",
        "plt.plot(r.history['val_loss'], label='test loss')\n",
        "plt.legend();"
      ],
      "metadata": {
        "colab": {
          "base_uri": "https://localhost:8080/",
          "height": 265
        },
        "id": "0icHm4oNa41L",
        "outputId": "c189866a-009a-4bd8-f868-2e7f63361757"
      },
      "execution_count": 1036,
      "outputs": [
        {
          "output_type": "display_data",
          "data": {
            "text/plain": [
              "<Figure size 432x288 with 1 Axes>"
            ],
            "image/png": "[encoded data removed]"
          },
          "metadata": {
            "needs_background": "light"
          }
        }
      ]
    },
    {
      "cell_type": "code",
      "source": [
        "#load best model \n",
        "best_model = tf.keras.models.load_model('best_model.h5')\n"
      ],
      "metadata": {
        "colab": {
          "base_uri": "https://localhost:8080/",
          "height": 344
        },
        "id": "q8oZt1Pta-4W",
        "outputId": "755c6d44-fd4a-4d50-9e27-63bc4b0ad381"
      },
      "execution_count": 1037,
      "outputs": [
        {
          "output_type": "error",
          "ename": "OSError",
          "evalue": "ignored",
          "traceback": [
            "\u001b[0;31m---------------------------------------------------------------------------\u001b[0m",
            "\u001b[0;31mOSError\u001b[0m                                   Traceback (most recent call last)",
            "\u001b[0;32m<ipython-input-1037-ea4edf93f1c6>\u001b[0m in \u001b[0;36m<module>\u001b[0;34m()\u001b[0m\n\u001b[1;32m      1\u001b[0m \u001b[0;31m#load best model\u001b[0m\u001b[0;34m\u001b[0m\u001b[0;34m\u001b[0m\u001b[0;34m\u001b[0m\u001b[0m\n\u001b[0;32m----> 2\u001b[0;31m \u001b[0mbest_model\u001b[0m \u001b[0;34m=\u001b[0m \u001b[0mtf\u001b[0m\u001b[0;34m.\u001b[0m\u001b[0mkeras\u001b[0m\u001b[0;34m.\u001b[0m\u001b[0mmodels\u001b[0m\u001b[0;34m.\u001b[0m\u001b[0mload_model\u001b[0m\u001b[0;34m(\u001b[0m\u001b[0;34m'best_model.h5'\u001b[0m\u001b[0;34m)\u001b[0m\u001b[0;34m\u001b[0m\u001b[0;34m\u001b[0m\u001b[0m\n\u001b[0m",
            "\u001b[0;32m/usr/local/lib/python3.7/dist-packages/keras/utils/traceback_utils.py\u001b[0m in \u001b[0;36merror_handler\u001b[0;34m(*args, **kwargs)\u001b[0m\n\u001b[1;32m     65\u001b[0m     \u001b[0;32mexcept\u001b[0m \u001b[0mException\u001b[0m \u001b[0;32mas\u001b[0m \u001b[0me\u001b[0m\u001b[0;34m:\u001b[0m  \u001b[0;31m# pylint: disable=broad-except\u001b[0m\u001b[0;34m\u001b[0m\u001b[0;34m\u001b[0m\u001b[0m\n\u001b[1;32m     66\u001b[0m       \u001b[0mfiltered_tb\u001b[0m \u001b[0;34m=\u001b[0m \u001b[0m_process_traceback_frames\u001b[0m\u001b[0;34m(\u001b[0m\u001b[0me\u001b[0m\u001b[0;34m.\u001b[0m\u001b[0m__traceback__\u001b[0m\u001b[0;34m)\u001b[0m\u001b[0;34m\u001b[0m\u001b[0;34m\u001b[0m\u001b[0m\n\u001b[0;32m---> 67\u001b[0;31m       \u001b[0;32mraise\u001b[0m \u001b[0me\u001b[0m\u001b[0;34m.\u001b[0m\u001b[0mwith_traceback\u001b[0m\u001b[0;34m(\u001b[0m\u001b[0mfiltered_tb\u001b[0m\u001b[0;34m)\u001b[0m \u001b[0;32mfrom\u001b[0m \u001b[0;32mNone\u001b[0m\u001b[0;34m\u001b[0m\u001b[0;34m\u001b[0m\u001b[0m\n\u001b[0m\u001b[1;32m     68\u001b[0m     \u001b[0;32mfinally\u001b[0m\u001b[0;34m:\u001b[0m\u001b[0;34m\u001b[0m\u001b[0;34m\u001b[0m\u001b[0m\n\u001b[1;32m     69\u001b[0m       \u001b[0;32mdel\u001b[0m \u001b[0mfiltered_tb\u001b[0m\u001b[0;34m\u001b[0m\u001b[0;34m\u001b[0m\u001b[0m\n",
            "\u001b[0;32m/usr/local/lib/python3.7/dist-packages/keras/saving/save.py\u001b[0m in \u001b[0;36mload_model\u001b[0;34m(filepath, custom_objects, compile, options)\u001b[0m\n\u001b[1;32m    204\u001b[0m         \u001b[0;32mif\u001b[0m \u001b[0misinstance\u001b[0m\u001b[0;34m(\u001b[0m\u001b[0mfilepath_str\u001b[0m\u001b[0;34m,\u001b[0m \u001b[0mstr\u001b[0m\u001b[0;34m)\u001b[0m\u001b[0;34m:\u001b[0m\u001b[0;34m\u001b[0m\u001b[0;34m\u001b[0m\u001b[0m\n\u001b[1;32m    205\u001b[0m           \u001b[0;32mif\u001b[0m \u001b[0;32mnot\u001b[0m \u001b[0mtf\u001b[0m\u001b[0;34m.\u001b[0m\u001b[0mio\u001b[0m\u001b[0;34m.\u001b[0m\u001b[0mgfile\u001b[0m\u001b[0;34m.\u001b[0m\u001b[0mexists\u001b[0m\u001b[0;34m(\u001b[0m\u001b[0mfilepath_str\u001b[0m\u001b[0;34m)\u001b[0m\u001b[0;34m:\u001b[0m\u001b[0;34m\u001b[0m\u001b[0;34m\u001b[0m\u001b[0m\n\u001b[0;32m--> 206\u001b[0;31m             \u001b[0;32mraise\u001b[0m \u001b[0mIOError\u001b[0m\u001b[0;34m(\u001b[0m\u001b[0;34mf'No file or directory found at {filepath_str}'\u001b[0m\u001b[0;34m)\u001b[0m\u001b[0;34m\u001b[0m\u001b[0;34m\u001b[0m\u001b[0m\n\u001b[0m\u001b[1;32m    207\u001b[0m \u001b[0;34m\u001b[0m\u001b[0m\n\u001b[1;32m    208\u001b[0m           \u001b[0;32mif\u001b[0m \u001b[0mtf\u001b[0m\u001b[0;34m.\u001b[0m\u001b[0mio\u001b[0m\u001b[0;34m.\u001b[0m\u001b[0mgfile\u001b[0m\u001b[0;34m.\u001b[0m\u001b[0misdir\u001b[0m\u001b[0;34m(\u001b[0m\u001b[0mfilepath_str\u001b[0m\u001b[0;34m)\u001b[0m\u001b[0;34m:\u001b[0m\u001b[0;34m\u001b[0m\u001b[0;34m\u001b[0m\u001b[0m\n",
            "\u001b[0;31mOSError\u001b[0m: No file or directory found at best_model.h5"
          ]
        }
      ]
    },
    {
      "cell_type": "code",
      "source": [
        "Ptrain = model.predict(Xtrain_m)\n",
        "Ptest = model.predict(Xtest_m)"
      ],
      "metadata": {
        "colab": {
          "base_uri": "https://localhost:8080/"
        },
        "id": "Wv8-l_GzbAWn",
        "outputId": "f7e44c77-0ba1-4331-a397-05bb65d74dd8"
      },
      "execution_count": 1038,
      "outputs": [
        {
          "output_type": "stream",
          "name": "stdout",
          "text": [
            "36/36 [==============================] - 2s 5ms/step\n",
            "1/1 [==============================] - 0s 24ms/step\n"
          ]
        }
      ]
    },
    {
      "cell_type": "code",
      "source": [
        "Ptrain.shape, Ptest.shape"
      ],
      "metadata": {
        "colab": {
          "base_uri": "https://localhost:8080/"
        },
        "id": "HrPjNGhgbBvf",
        "outputId": "f787d184-252a-43bc-dcb2-78fb4bcd52ad"
      },
      "execution_count": 1039,
      "outputs": [
        {
          "output_type": "execute_result",
          "data": {
            "text/plain": [
              "((1133, 105), (1, 105))"
            ]
          },
          "metadata": {},
          "execution_count": 1039
        }
      ]
    },
    {
      "cell_type": "code",
      "source": [
        "Ptrain = Ptrain[:,0]\n",
        "Ptest = Ptest [0]"
      ],
      "metadata": {
        "id": "PFOroafAbDBi"
      },
      "execution_count": 1040,
      "outputs": []
    },
    {
      "cell_type": "code",
      "source": [
        "print(Ptest)"
      ],
      "metadata": {
        "colab": {
          "base_uri": "https://localhost:8080/"
        },
        "id": "cwW3P4m1bFRI",
        "outputId": "c0c0353a-e3e7-4f9b-b37e-7a9c95874617"
      },
      "execution_count": 1041,
      "outputs": [
        {
          "output_type": "stream",
          "name": "stdout",
          "text": [
            "[ 7.48250913e-03  8.99735373e-03  4.52265516e-03  3.67382308e-03\n",
            "  4.45969077e-03  4.95780166e-03  1.05801998e-02  7.48446025e-03\n",
            "  6.89832680e-03  4.59604058e-03  8.02908652e-03  5.83227351e-03\n",
            "  5.76123083e-03  1.06424298e-02  4.92447801e-03  1.08144917e-02\n",
            "  9.46149603e-03  1.20241083e-02  9.98479035e-03  7.49388803e-03\n",
            "  1.06348591e-02  1.16993105e-02  1.16178123e-02  1.17900940e-02\n",
            "  4.02813312e-03  1.19355461e-03  8.96710344e-03  4.77398187e-03\n",
            "  7.82235246e-03  1.33942580e-04  2.95311399e-03  2.45586876e-03\n",
            "  8.58078478e-04  6.05910411e-03  5.07152639e-03  1.14578148e-03\n",
            "  3.19870329e-03  2.51517445e-03  5.28279692e-04  1.70442229e-03\n",
            "  4.36589122e-03 -1.61111075e-03  2.07867799e-03  3.38105392e-03\n",
            "  2.03683833e-03 -2.56160647e-03  7.63279153e-04 -8.08632467e-04\n",
            "  5.54424152e-03  4.01799660e-03  8.55052262e-04  3.10112769e-03\n",
            "  3.29827424e-03  3.73691274e-03  4.07699868e-03  3.74665204e-03\n",
            "  2.69697141e-03  4.19976376e-03  3.70060280e-03  5.52338641e-03\n",
            "  2.93967896e-03  3.08696018e-03  3.79363238e-03  3.18994722e-03\n",
            "  5.25998697e-03  4.40438977e-04  7.47374375e-04  1.53850112e-03\n",
            "  4.41761455e-04  1.73389702e-03  2.43204669e-03  5.69588505e-04\n",
            "  3.95134557e-03  4.49779211e-03 -2.45122239e-04 -2.23341677e-03\n",
            "  2.89800903e-03 -2.06229510e-03  2.72613578e-03  2.25471798e-03\n",
            " -1.57531351e-04  1.32745178e-03  1.62765384e-04 -2.82015838e-03\n",
            "  3.88409570e-03  6.81335013e-03  6.73227012e-04  1.59329083e-03\n",
            "  8.44095834e-04 -5.29896235e-04  6.01284578e-03  6.40031323e-03\n",
            "  5.83687797e-05  1.84638333e-03  2.89584324e-03  2.18556542e-03\n",
            "  1.24167269e-02  7.66718294e-03  8.11014790e-03  5.57511160e-03\n",
            "  5.01151569e-03  7.16313161e-03  1.18919713e-02  1.13407373e-02\n",
            "  9.29244887e-03]\n"
          ]
        }
      ]
    },
    {
      "cell_type": "code",
      "source": [
        "# save multi-output forecast to dataframe []\n",
        "df.loc[test_idx, 'multioutput'] = last_train + \\\n",
        "  np.cumsum(Ptest)"
      ],
      "metadata": {
        "id": "fyMx_hENbHzK"
      },
      "execution_count": 1042,
      "outputs": []
    },
    {
      "cell_type": "code",
      "source": [
        "#plot all forecasts\n",
        "cols = ['Log_MM', '1step_test','multioutput']\n",
        "df[cols].plot(figsize=(15,5));"
      ],
      "metadata": {
        "colab": {
          "base_uri": "https://localhost:8080/",
          "height": 334
        },
        "id": "ab94UtbmbKHO",
        "outputId": "e7c04b19-d548-47c3-fdc5-25cae0b8d62a"
      },
      "execution_count": 1043,
      "outputs": [
        {
          "output_type": "display_data",
          "data": {
            "text/plain": [
              "<Figure size 1080x360 with 1 Axes>"
            ],
            "image/png": "[encoded data removed]"
          },
          "metadata": {
            "needs_background": "light"
          }
        }
      ]
    },
    {
      "cell_type": "code",
      "source": [
        "#RNN multiple LSTM Layers\n",
        "i = Input(shape=(Tx,1)) #recuerda Tx = T \n",
        "x = LSTM(12, return_sequences=True)(i)\n",
        "x = LSTM(12, return_sequences=True)(x)\n",
        "x = GlobalMaxPool1D()(x) #convertir la secuencia en 1 solo vector y aplicar solo una capa de densidad al final\n",
        "x = Dense(Ty)(x) #Ty = Ntest el cual es 12 en el ejemplo\n",
        "model = Model(i,x)"
      ],
      "metadata": {
        "id": "s-0dILyXmWEB"
      },
      "execution_count": 1044,
      "outputs": []
    },
    {
      "cell_type": "code",
      "source": [
        "model.summary()"
      ],
      "metadata": {
        "colab": {
          "base_uri": "https://localhost:8080/"
        },
        "id": "kR9SR_LtmZWb",
        "outputId": "d8784c3e-2081-498e-c1bf-44bea5710618"
      },
      "execution_count": 1045,
      "outputs": [
        {
          "output_type": "stream",
          "name": "stdout",
          "text": [
            "Model: \"model_33\"\n",
            "_________________________________________________________________\n",
            " Layer (type)                Output Shape              Param #   \n",
            "=================================================================\n",
            " input_35 (InputLayer)       [(None, 24, 1)]           0         \n",
            "                                                                 \n",
            " lstm_36 (LSTM)              (None, 24, 12)            672       \n",
            "                                                                 \n",
            " lstm_37 (LSTM)              (None, 24, 12)            1200      \n",
            "                                                                 \n",
            " global_max_pooling1d_7 (Glo  (None, 12)               0         \n",
            " balMaxPooling1D)                                                \n",
            "                                                                 \n",
            " dense_33 (Dense)            (None, 105)               1365      \n",
            "                                                                 \n",
            "=================================================================\n",
            "Total params: 3,237\n",
            "Trainable params: 3,237\n",
            "Non-trainable params: 0\n",
            "_________________________________________________________________\n"
          ]
        }
      ]
    },
    {
      "cell_type": "code",
      "source": [
        "check_point = ModelCheckpoint(\n",
        "    'best_model.h5',monitor='val_loss',save_best_only=True)"
      ],
      "metadata": {
        "id": "SJnXQhbTmaXD"
      },
      "execution_count": 1046,
      "outputs": []
    },
    {
      "cell_type": "code",
      "source": [
        "model.compile(\n",
        "    loss='mse',\n",
        "    optimizer='adam',\n",
        ")"
      ],
      "metadata": {
        "id": "KwOhfT73mc-I"
      },
      "execution_count": 1047,
      "outputs": []
    },
    {
      "cell_type": "code",
      "source": [
        "r = model.fit(\n",
        "    Xtrain_m,\n",
        "    Ytrain_m,\n",
        "    epochs=20,\n",
        "    validation_data=(Xtest_m,Ytest_m),\n",
        ")"
      ],
      "metadata": {
        "colab": {
          "base_uri": "https://localhost:8080/"
        },
        "id": "Q2h6sTOomen7",
        "outputId": "7e7c9f33-a0b2-4aec-d0f1-5f9858d55621"
      },
      "execution_count": 1048,
      "outputs": [
        {
          "output_type": "stream",
          "name": "stdout",
          "text": [
            "Epoch 1/20\n",
            "36/36 [==============================] - 7s 60ms/step - loss: 0.0088 - val_loss: 0.0075\n",
            "Epoch 2/20\n",
            "36/36 [==============================] - 1s 27ms/step - loss: 0.0088 - val_loss: 0.0074\n",
            "Epoch 3/20\n",
            "36/36 [==============================] - 1s 27ms/step - loss: 0.0088 - val_loss: 0.0075\n",
            "Epoch 4/20\n",
            "36/36 [==============================] - 1s 26ms/step - loss: 0.0088 - val_loss: 0.0074\n",
            "Epoch 5/20\n",
            "36/36 [==============================] - 1s 27ms/step - loss: 0.0088 - val_loss: 0.0075\n",
            "Epoch 6/20\n",
            "36/36 [==============================] - 1s 26ms/step - loss: 0.0088 - val_loss: 0.0074\n",
            "Epoch 7/20\n",
            "36/36 [==============================] - 1s 28ms/step - loss: 0.0088 - val_loss: 0.0074\n",
            "Epoch 8/20\n",
            "36/36 [==============================] - 1s 27ms/step - loss: 0.0088 - val_loss: 0.0074\n",
            "Epoch 9/20\n",
            "36/36 [==============================] - 1s 26ms/step - loss: 0.0088 - val_loss: 0.0075\n",
            "Epoch 10/20\n",
            "36/36 [==============================] - 1s 28ms/step - loss: 0.0088 - val_loss: 0.0075\n",
            "Epoch 11/20\n",
            "36/36 [==============================] - 1s 30ms/step - loss: 0.0088 - val_loss: 0.0075\n",
            "Epoch 12/20\n",
            "36/36 [==============================] - 1s 37ms/step - loss: 0.0088 - val_loss: 0.0074\n",
            "Epoch 13/20\n",
            "36/36 [==============================] - 1s 35ms/step - loss: 0.0088 - val_loss: 0.0075\n",
            "Epoch 14/20\n",
            "36/36 [==============================] - 1s 27ms/step - loss: 0.0088 - val_loss: 0.0074\n",
            "Epoch 15/20\n",
            "36/36 [==============================] - 1s 27ms/step - loss: 0.0088 - val_loss: 0.0075\n",
            "Epoch 16/20\n",
            "36/36 [==============================] - 1s 27ms/step - loss: 0.0088 - val_loss: 0.0075\n",
            "Epoch 17/20\n",
            "36/36 [==============================] - 1s 27ms/step - loss: 0.0088 - val_loss: 0.0074\n",
            "Epoch 18/20\n",
            "36/36 [==============================] - 1s 27ms/step - loss: 0.0088 - val_loss: 0.0074\n",
            "Epoch 19/20\n",
            "36/36 [==============================] - 1s 28ms/step - loss: 0.0088 - val_loss: 0.0075\n",
            "Epoch 20/20\n",
            "36/36 [==============================] - 1s 28ms/step - loss: 0.0088 - val_loss: 0.0075\n"
          ]
        }
      ]
    },
    {
      "cell_type": "code",
      "source": [
        "#Plot the loss\n",
        "plt.plot(r.history['loss'], label='train loss')\n",
        "plt.plot(r.history['val_loss'], label='test loss')\n",
        "plt.legend();"
      ],
      "metadata": {
        "colab": {
          "base_uri": "https://localhost:8080/",
          "height": 265
        },
        "id": "l9hW43oMmgY7",
        "outputId": "0c7f023d-22b7-4ffc-c0ed-df9e47a00700"
      },
      "execution_count": 1049,
      "outputs": [
        {
          "output_type": "display_data",
          "data": {
            "text/plain": [
              "<Figure size 432x288 with 1 Axes>"
            ],
            "image/png": "[encoded data removed]"
          },
          "metadata": {
            "needs_background": "light"
          }
        }
      ]
    },
    {
      "cell_type": "code",
      "source": [
        "#load best model \n",
        "best_model = tf.keras.models.load_model('best_model.h5')\n"
      ],
      "metadata": {
        "colab": {
          "base_uri": "https://localhost:8080/",
          "height": 344
        },
        "id": "2t95otdKmiJc",
        "outputId": "32a827f8-f0a2-4af4-e7e5-01913e40cc28"
      },
      "execution_count": 1050,
      "outputs": [
        {
          "output_type": "error",
          "ename": "OSError",
          "evalue": "ignored",
          "traceback": [
            "\u001b[0;31m---------------------------------------------------------------------------\u001b[0m",
            "\u001b[0;31mOSError\u001b[0m                                   Traceback (most recent call last)",
            "\u001b[0;32m<ipython-input-1050-ea4edf93f1c6>\u001b[0m in \u001b[0;36m<module>\u001b[0;34m()\u001b[0m\n\u001b[1;32m      1\u001b[0m \u001b[0;31m#load best model\u001b[0m\u001b[0;34m\u001b[0m\u001b[0;34m\u001b[0m\u001b[0;34m\u001b[0m\u001b[0m\n\u001b[0;32m----> 2\u001b[0;31m \u001b[0mbest_model\u001b[0m \u001b[0;34m=\u001b[0m \u001b[0mtf\u001b[0m\u001b[0;34m.\u001b[0m\u001b[0mkeras\u001b[0m\u001b[0;34m.\u001b[0m\u001b[0mmodels\u001b[0m\u001b[0;34m.\u001b[0m\u001b[0mload_model\u001b[0m\u001b[0;34m(\u001b[0m\u001b[0;34m'best_model.h5'\u001b[0m\u001b[0;34m)\u001b[0m\u001b[0;34m\u001b[0m\u001b[0;34m\u001b[0m\u001b[0m\n\u001b[0m",
            "\u001b[0;32m/usr/local/lib/python3.7/dist-packages/keras/utils/traceback_utils.py\u001b[0m in \u001b[0;36merror_handler\u001b[0;34m(*args, **kwargs)\u001b[0m\n\u001b[1;32m     65\u001b[0m     \u001b[0;32mexcept\u001b[0m \u001b[0mException\u001b[0m \u001b[0;32mas\u001b[0m \u001b[0me\u001b[0m\u001b[0;34m:\u001b[0m  \u001b[0;31m# pylint: disable=broad-except\u001b[0m\u001b[0;34m\u001b[0m\u001b[0;34m\u001b[0m\u001b[0m\n\u001b[1;32m     66\u001b[0m       \u001b[0mfiltered_tb\u001b[0m \u001b[0;34m=\u001b[0m \u001b[0m_process_traceback_frames\u001b[0m\u001b[0;34m(\u001b[0m\u001b[0me\u001b[0m\u001b[0;34m.\u001b[0m\u001b[0m__traceback__\u001b[0m\u001b[0;34m)\u001b[0m\u001b[0;34m\u001b[0m\u001b[0;34m\u001b[0m\u001b[0m\n\u001b[0;32m---> 67\u001b[0;31m       \u001b[0;32mraise\u001b[0m \u001b[0me\u001b[0m\u001b[0;34m.\u001b[0m\u001b[0mwith_traceback\u001b[0m\u001b[0;34m(\u001b[0m\u001b[0mfiltered_tb\u001b[0m\u001b[0;34m)\u001b[0m \u001b[0;32mfrom\u001b[0m \u001b[0;32mNone\u001b[0m\u001b[0;34m\u001b[0m\u001b[0;34m\u001b[0m\u001b[0m\n\u001b[0m\u001b[1;32m     68\u001b[0m     \u001b[0;32mfinally\u001b[0m\u001b[0;34m:\u001b[0m\u001b[0;34m\u001b[0m\u001b[0;34m\u001b[0m\u001b[0m\n\u001b[1;32m     69\u001b[0m       \u001b[0;32mdel\u001b[0m \u001b[0mfiltered_tb\u001b[0m\u001b[0;34m\u001b[0m\u001b[0;34m\u001b[0m\u001b[0m\n",
            "\u001b[0;32m/usr/local/lib/python3.7/dist-packages/keras/saving/save.py\u001b[0m in \u001b[0;36mload_model\u001b[0;34m(filepath, custom_objects, compile, options)\u001b[0m\n\u001b[1;32m    204\u001b[0m         \u001b[0;32mif\u001b[0m \u001b[0misinstance\u001b[0m\u001b[0;34m(\u001b[0m\u001b[0mfilepath_str\u001b[0m\u001b[0;34m,\u001b[0m \u001b[0mstr\u001b[0m\u001b[0;34m)\u001b[0m\u001b[0;34m:\u001b[0m\u001b[0;34m\u001b[0m\u001b[0;34m\u001b[0m\u001b[0m\n\u001b[1;32m    205\u001b[0m           \u001b[0;32mif\u001b[0m \u001b[0;32mnot\u001b[0m \u001b[0mtf\u001b[0m\u001b[0;34m.\u001b[0m\u001b[0mio\u001b[0m\u001b[0;34m.\u001b[0m\u001b[0mgfile\u001b[0m\u001b[0;34m.\u001b[0m\u001b[0mexists\u001b[0m\u001b[0;34m(\u001b[0m\u001b[0mfilepath_str\u001b[0m\u001b[0;34m)\u001b[0m\u001b[0;34m:\u001b[0m\u001b[0;34m\u001b[0m\u001b[0;34m\u001b[0m\u001b[0m\n\u001b[0;32m--> 206\u001b[0;31m             \u001b[0;32mraise\u001b[0m \u001b[0mIOError\u001b[0m\u001b[0;34m(\u001b[0m\u001b[0;34mf'No file or directory found at {filepath_str}'\u001b[0m\u001b[0;34m)\u001b[0m\u001b[0;34m\u001b[0m\u001b[0;34m\u001b[0m\u001b[0m\n\u001b[0m\u001b[1;32m    207\u001b[0m \u001b[0;34m\u001b[0m\u001b[0m\n\u001b[1;32m    208\u001b[0m           \u001b[0;32mif\u001b[0m \u001b[0mtf\u001b[0m\u001b[0;34m.\u001b[0m\u001b[0mio\u001b[0m\u001b[0;34m.\u001b[0m\u001b[0mgfile\u001b[0m\u001b[0;34m.\u001b[0m\u001b[0misdir\u001b[0m\u001b[0;34m(\u001b[0m\u001b[0mfilepath_str\u001b[0m\u001b[0;34m)\u001b[0m\u001b[0;34m:\u001b[0m\u001b[0;34m\u001b[0m\u001b[0;34m\u001b[0m\u001b[0m\n",
            "\u001b[0;31mOSError\u001b[0m: No file or directory found at best_model.h5"
          ]
        }
      ]
    },
    {
      "cell_type": "code",
      "source": [
        "Ptrain = model.predict(Xtrain_m)\n",
        "Ptest = model.predict(Xtest_m)\n",
        "\n",
        "Ptrain = Ptrain[:,0]\n",
        "Ptest = Ptest[0]"
      ],
      "metadata": {
        "colab": {
          "base_uri": "https://localhost:8080/"
        },
        "id": "lSGNgjG8mj11",
        "outputId": "929db063-f3c3-483e-b06e-77967bf94310"
      },
      "execution_count": 1051,
      "outputs": [
        {
          "output_type": "stream",
          "name": "stdout",
          "text": [
            "36/36 [==============================] - 1s 8ms/step\n",
            "1/1 [==============================] - 0s 31ms/step\n"
          ]
        }
      ]
    },
    {
      "cell_type": "code",
      "source": [
        "print(Ptest)"
      ],
      "metadata": {
        "colab": {
          "base_uri": "https://localhost:8080/"
        },
        "id": "BJVc20APmlKc",
        "outputId": "389692b1-f759-47fc-84fe-fadb2302a5af"
      },
      "execution_count": 1052,
      "outputs": [
        {
          "output_type": "stream",
          "name": "stdout",
          "text": [
            "[ 0.00127811  0.00627721  0.00140371  0.00428006  0.00388463  0.00188742\n",
            "  0.00390472  0.0045389   0.00137935  0.00252085  0.00612335  0.00339448\n",
            "  0.00410087  0.00695376  0.0028785   0.00255055  0.00665791  0.00189161\n",
            "  0.00255324  0.00413399  0.00389541  0.00501804  0.00661811  0.00389556\n",
            "  0.00431422  0.00537625  0.00535574  0.00708853  0.00924512  0.00395645\n",
            "  0.00581422  0.00437861  0.00450925  0.00574841  0.00659618  0.00370355\n",
            "  0.00507056  0.00445174  0.00557151  0.00326302  0.00665262  0.00310143\n",
            "  0.00327854  0.00483005  0.00324034  0.0036576   0.00352105  0.00386398\n",
            "  0.00540422  0.00730974  0.00284147  0.00670483  0.00552227  0.00540396\n",
            "  0.0064036   0.00867944  0.0043058   0.00507089  0.00549747  0.00362313\n",
            "  0.00620703  0.00536166  0.00585993  0.00531647  0.00550128  0.0059758\n",
            "  0.00529002  0.00687339  0.00519221  0.00328126  0.00449844  0.00342177\n",
            "  0.00406763  0.00515998  0.00284137  0.00164359  0.0031408   0.00241455\n",
            "  0.00326022  0.00439894  0.0022923   0.00126847  0.0026455   0.00172979\n",
            " -0.0006991   0.00271663 -0.0016079   0.0023653   0.00593407  0.00067719\n",
            "  0.00321089  0.00618762  0.00143823  0.00249923  0.00340996  0.00078637\n",
            "  0.00468049  0.00501405  0.00408186  0.00383469  0.00676487  0.00423466\n",
            "  0.00785482  0.00738406  0.00298507]\n"
          ]
        }
      ]
    },
    {
      "cell_type": "code",
      "source": [
        "print(last_train)"
      ],
      "metadata": {
        "colab": {
          "base_uri": "https://localhost:8080/"
        },
        "id": "QduzqKcpmmYF",
        "outputId": "8ce110d5-3a52-449a-998c-121b31117bc8"
      },
      "execution_count": 1054,
      "outputs": [
        {
          "output_type": "stream",
          "name": "stdout",
          "text": [
            "4.584355046274172\n"
          ]
        }
      ]
    },
    {
      "cell_type": "code",
      "source": [
        "print( np.cumsum(Ptest))"
      ],
      "metadata": {
        "colab": {
          "base_uri": "https://localhost:8080/"
        },
        "id": "LoaRhVVempY_",
        "outputId": "296077d4-7aab-4892-eb86-000abf4e8871"
      },
      "execution_count": 1053,
      "outputs": [
        {
          "output_type": "stream",
          "name": "stdout",
          "text": [
            "[0.00127811 0.00755532 0.00895903 0.01323909 0.01712372 0.01901114\n",
            " 0.02291587 0.02745476 0.02883411 0.03135496 0.03747831 0.04087279\n",
            " 0.04497366 0.05192742 0.05480592 0.05735647 0.06401438 0.06590599\n",
            " 0.06845922 0.0725932  0.07648861 0.08150665 0.08812476 0.09202032\n",
            " 0.09633454 0.10171079 0.10706653 0.11415506 0.12340018 0.12735663\n",
            " 0.13317086 0.13754946 0.14205872 0.14780712 0.1544033  0.15810685\n",
            " 0.1631774  0.16762914 0.17320064 0.17646366 0.18311629 0.18621771\n",
            " 0.18949625 0.1943263  0.19756663 0.20122422 0.20474528 0.20860925\n",
            " 0.21401347 0.2213232  0.22416468 0.23086952 0.23639178 0.24179573\n",
            " 0.24819934 0.2568788  0.2611846  0.2662555  0.27175298 0.2753761\n",
            " 0.28158313 0.28694478 0.2928047  0.29812115 0.30362242 0.30959824\n",
            " 0.31488827 0.32176167 0.3269539  0.33023515 0.3347336  0.33815536\n",
            " 0.342223   0.34738296 0.35022435 0.35186794 0.35500875 0.3574233\n",
            " 0.36068353 0.36508247 0.36737478 0.36864325 0.37128875 0.37301853\n",
            " 0.37231943 0.37503606 0.37342817 0.37579346 0.38172752 0.3824047\n",
            " 0.38561562 0.39180323 0.39324147 0.3957407  0.39915064 0.399937\n",
            " 0.4046175  0.40963152 0.4137134  0.4175481  0.42431295 0.42854762\n",
            " 0.43640244 0.4437865  0.44677156]\n"
          ]
        }
      ]
    },
    {
      "cell_type": "code",
      "source": [
        "#save multi-output forecast to dataframe []\n",
        "df.loc[test_idx, 'multioutput2'] = last_train + \\\n",
        "  np.cumsum(Ptest)"
      ],
      "metadata": {
        "id": "VeFw6aGGmrUV"
      },
      "execution_count": 1055,
      "outputs": []
    },
    {
      "cell_type": "code",
      "source": [
        "# plot all forecasts\n",
        "cols = ['Log_MM', 'multioutput','multioutput2']\n",
        "df[cols].plot(figsize=(15,5));"
      ],
      "metadata": {
        "colab": {
          "base_uri": "https://localhost:8080/",
          "height": 334
        },
        "id": "jXAjFhbimx1z",
        "outputId": "652e9434-8471-4c7f-e21c-7f355eb00a46"
      },
      "execution_count": 1059,
      "outputs": [
        {
          "output_type": "display_data",
          "data": {
            "text/plain": [
              "<Figure size 1080x360 with 1 Axes>"
            ],
            "image/png": "[encoded data removed]"
          },
          "metadata": {
            "needs_background": "light"
          }
        }
      ]
    },
    {
      "cell_type": "code",
      "source": [
        "# MAPE\n",
        "test_log_pass = df.iloc[-Ntest:]['Log_MM']\n",
        "mape1 = mean_absolute_percentage_error(\n",
        "    test_log_pass, df.loc[test_idx, 'multistep'])\n",
        "print(\"multi-step MAPE:\", mape1)\n",
        "mape2 = mean_absolute_percentage_error(\n",
        "    test_log_pass,df.loc[test_idx,'multioutput'])\n",
        "print(\"multi-output MAPE:\", mape2)\n",
        "mape3 = mean_absolute_percentage_error(\n",
        "    test_log_pass, df.loc[test_idx, 'multioutput2'])\n",
        "print(\"multi-output(2 LSTMs MAPE:\", mape3)"
      ],
      "metadata": {
        "colab": {
          "base_uri": "https://localhost:8080/"
        },
        "id": "LuHf_hpPmzrW",
        "outputId": "4af2ad06-a9db-41ff-ab89-78a1b41e56fa"
      },
      "execution_count": 1057,
      "outputs": [
        {
          "output_type": "stream",
          "name": "stdout",
          "text": [
            "multi-step MAPE: 2.249966143662003\n",
            "multi-output MAPE: 0.23072436247653\n",
            "multi-output(2 LSTMs MAPE: 0.22410208180562322\n"
          ]
        }
      ]
    }
  ]
}