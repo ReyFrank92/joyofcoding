{
  "nbformat": 4,
  "nbformat_minor": 0,
  "metadata": {
    "colab": {
      "name": "RNN Airline.ipynb",
      "provenance": [],
      "collapsed_sections": [],
      "authorship_tag": "ABX9TyPM2xWIaB2C+XeGAl4nK6b3",
      "include_colab_link": true
    },
    "kernelspec": {
      "name": "python3",
      "display_name": "Python 3"
    },
    "language_info": {
      "name": "python"
    }
  },
  "cells": [
    {
      "cell_type": "markdown",
      "metadata": {
        "id": "view-in-github",
        "colab_type": "text"
      },
      "source": [
        "<a href=\"https://colab.research.google.com/github/ReyFrank92/joyofcoding/blob/main/RNN_Airline_2.ipynb\" target=\"_parent\"><img src=\"https://colab.research.google.com/assets/colab-badge.svg\" alt=\"Open In Colab\"/></a>"
      ]
    },
    {
      "cell_type": "code",
      "execution_count": 72,
      "metadata": {
        "colab": {
          "base_uri": "https://localhost:8080/"
        },
        "id": "HAalECXjjwP7",
        "outputId": "b4720c85-a8ac-4d24-dcd0-aa9dd9d38403"
      },
      "outputs": [
        {
          "output_type": "stream",
          "name": "stdout",
          "text": [
            "\u001b[K     |████████████████████████████████| 511.7 MB 4.6 kB/s \n",
            "\u001b[?25h2.9.0\n"
          ]
        }
      ],
      "source": [
        "#Install TensorFlow\n",
        "!pip install -q tensorflow-gpu==2.9.1\n",
        "import tensorflow as tf\n",
        "print(tf.__version__)"
      ]
    },
    {
      "cell_type": "code",
      "source": [
        "from tensorflow.keras.layers import Input, SimpleRNN, Dense,  GRU, LSTM, GlobalMaxPool1D, Flatten\n",
        "from tensorflow.keras.models import Model\n",
        "from tensorflow.keras.optimizers import SGD, Adam\n",
        "from tensorflow.keras.callbacks import ModelCheckpoint\n",
        "\n",
        "import numpy as np\n",
        "import pandas as pd\n",
        "import matplotlib.pyplot as plt\n",
        "from sklearn.preprocessing import StandardScaler\n"
      ],
      "metadata": {
        "id": "3NBl--qe7f7G"
      },
      "execution_count": 127,
      "outputs": []
    },
    {
      "cell_type": "code",
      "source": [
        "!pip install -U scikit-learn"
      ],
      "metadata": {
        "colab": {
          "base_uri": "https://localhost:8080/"
        },
        "id": "nhstOxdsDZtF",
        "outputId": "8591f9c5-79d4-4822-9433-9e15f89f9c39"
      },
      "execution_count": 74,
      "outputs": [
        {
          "output_type": "stream",
          "name": "stdout",
          "text": [
            "Looking in indexes: https://pypi.org/simple, https://us-python.pkg.dev/colab-wheels/public/simple/\n",
            "Requirement already satisfied: scikit-learn in /usr/local/lib/python3.7/dist-packages (1.0.2)\n",
            "Requirement already satisfied: threadpoolctl>=2.0.0 in /usr/local/lib/python3.7/dist-packages (from scikit-learn) (3.1.0)\n",
            "Requirement already satisfied: numpy>=1.14.6 in /usr/local/lib/python3.7/dist-packages (from scikit-learn) (1.21.6)\n",
            "Requirement already satisfied: scipy>=1.1.0 in /usr/local/lib/python3.7/dist-packages (from scikit-learn) (1.7.3)\n",
            "Requirement already satisfied: joblib>=0.11 in /usr/local/lib/python3.7/dist-packages (from scikit-learn) (1.1.0)\n"
          ]
        }
      ]
    },
    {
      "cell_type": "code",
      "source": [
        "np.random.seed(0)\n",
        "tf.random.set_seed(0)"
      ],
      "metadata": {
        "id": "LrWtcSCuBclJ"
      },
      "execution_count": 75,
      "outputs": []
    },
    {
      "cell_type": "code",
      "source": [
        "# N = number of samples\n",
        "# T = sequence length\n",
        "# D = number of input features\n",
        "# M = number of hideen units \n",
        "# K = number of output units"
      ],
      "metadata": {
        "id": "py69KV6T70Ds"
      },
      "execution_count": 76,
      "outputs": []
    },
    {
      "cell_type": "code",
      "source": [
        "from sklearn.metrics import mean_absolute_percentage_error"
      ],
      "metadata": {
        "id": "DBJfpdbF75Hf"
      },
      "execution_count": 77,
      "outputs": []
    },
    {
      "cell_type": "code",
      "source": [
        "!wget -nc https://lazyprogrammer.me/course_files/airline_passengers.csv"
      ],
      "metadata": {
        "colab": {
          "base_uri": "https://localhost:8080/"
        },
        "id": "dtezfIbe8eRB",
        "outputId": "fd546efe-46da-46f0-c41f-5b5b1d053495"
      },
      "execution_count": 78,
      "outputs": [
        {
          "output_type": "stream",
          "name": "stdout",
          "text": [
            "File ‘airline_passengers.csv’ already there; not retrieving.\n",
            "\n"
          ]
        }
      ]
    },
    {
      "cell_type": "code",
      "source": [
        "df = pd.read_csv('airline_passengers.csv', index_col='Month', parse_dates=True)"
      ],
      "metadata": {
        "id": "Ek_tD5s687xT"
      },
      "execution_count": 79,
      "outputs": []
    },
    {
      "cell_type": "code",
      "source": [
        "df['LogPassengers'] = np.log(df['Passengers'])"
      ],
      "metadata": {
        "id": "4Qc1RwTWF5NY"
      },
      "execution_count": 80,
      "outputs": []
    },
    {
      "cell_type": "code",
      "source": [
        "Ntest = 12\n",
        "train = df.iloc[:-Ntest] #todos -12\n",
        "test = df.iloc[-Ntest:] #solo las últimas 12 observaciones"
      ],
      "metadata": {
        "id": "1bfd8T9OGFBx"
      },
      "execution_count": 81,
      "outputs": []
    },
    {
      "cell_type": "code",
      "source": [
        "from typing import ValuesView\n",
        "ValuesView(df)"
      ],
      "metadata": {
        "colab": {
          "base_uri": "https://localhost:8080/"
        },
        "id": "ftrcPhpjGa8c",
        "outputId": "cf98f5db-1d3b-4432-8c05-938e6ba72385"
      },
      "execution_count": 82,
      "outputs": [
        {
          "output_type": "execute_result",
          "data": {
            "text/plain": [
              "ValuesView(            Passengers  LogPassengers\n",
              "Month                                \n",
              "1949-01-01         112       4.718499\n",
              "1949-02-01         118       4.770685\n",
              "1949-03-01         132       4.882802\n",
              "1949-04-01         129       4.859812\n",
              "1949-05-01         121       4.795791\n",
              "...                ...            ...\n",
              "1960-08-01         606       6.406880\n",
              "1960-09-01         508       6.230481\n",
              "1960-10-01         461       6.133398\n",
              "1960-11-01         390       5.966147\n",
              "1960-12-01         432       6.068426\n",
              "\n",
              "[144 rows x 2 columns])"
            ]
          },
          "metadata": {},
          "execution_count": 82
        }
      ]
    },
    {
      "cell_type": "code",
      "source": [
        "ValuesView(train)"
      ],
      "metadata": {
        "colab": {
          "base_uri": "https://localhost:8080/"
        },
        "id": "kfXigt1QGfzm",
        "outputId": "4965c131-bb4a-48ab-de2d-b52e99aeddaf"
      },
      "execution_count": 83,
      "outputs": [
        {
          "output_type": "execute_result",
          "data": {
            "text/plain": [
              "ValuesView(            Passengers  LogPassengers\n",
              "Month                                \n",
              "1949-01-01         112       4.718499\n",
              "1949-02-01         118       4.770685\n",
              "1949-03-01         132       4.882802\n",
              "1949-04-01         129       4.859812\n",
              "1949-05-01         121       4.795791\n",
              "...                ...            ...\n",
              "1959-08-01         559       6.326149\n",
              "1959-09-01         463       6.137727\n",
              "1959-10-01         407       6.008813\n",
              "1959-11-01         362       5.891644\n",
              "1959-12-01         405       6.003887\n",
              "\n",
              "[132 rows x 2 columns])"
            ]
          },
          "metadata": {},
          "execution_count": 83
        }
      ]
    },
    {
      "cell_type": "code",
      "source": [
        "ValuesView(test)"
      ],
      "metadata": {
        "colab": {
          "base_uri": "https://localhost:8080/"
        },
        "id": "2E_G96avGmpu",
        "outputId": "b60fee88-7c38-420b-ffcb-b7964a52bd37"
      },
      "execution_count": 84,
      "outputs": [
        {
          "output_type": "execute_result",
          "data": {
            "text/plain": [
              "ValuesView(            Passengers  LogPassengers\n",
              "Month                                \n",
              "1960-01-01         417       6.033086\n",
              "1960-02-01         391       5.968708\n",
              "1960-03-01         419       6.037871\n",
              "1960-04-01         461       6.133398\n",
              "1960-05-01         472       6.156979\n",
              "1960-06-01         535       6.282267\n",
              "1960-07-01         622       6.432940\n",
              "1960-08-01         606       6.406880\n",
              "1960-09-01         508       6.230481\n",
              "1960-10-01         461       6.133398\n",
              "1960-11-01         390       5.966147\n",
              "1960-12-01         432       6.068426)"
            ]
          },
          "metadata": {},
          "execution_count": 84
        }
      ]
    },
    {
      "cell_type": "code",
      "source": [
        "# boolean series to index df rows []\n",
        "train_idx = df.index <= train.index[-1] #pone true a lo que sea train del data set y lo demás false\n",
        "test_idx = df.index > train.index[-1] # pone true a lo que sea del test solamente y lo demás false"
      ],
      "metadata": {
        "id": "T3fA_ODoGziv"
      },
      "execution_count": 85,
      "outputs": []
    },
    {
      "cell_type": "code",
      "source": [
        "df['DiffLogPassengers'] = df['LogPassengers'].diff() #crea una nueva columna con la diferencia del logaritmo de los pasajeros"
      ],
      "metadata": {
        "id": "3YnhCpnaHEzP"
      },
      "execution_count": 86,
      "outputs": []
    },
    {
      "cell_type": "code",
      "source": [
        "#Make supervised dataset\n",
        "series = df['DiffLogPassengers'].dropna().to_numpy()\n",
        "\n",
        "T = 10\n",
        "X = []\n",
        "Y = []\n",
        "for t in range(len(series) - T): #corre en el rango de 144-10 = 134- \n",
        "  x = series[t:t+T] #e.g. si t =1 entonces corre de 1 a 11\n",
        "  X.append(x) #agrega lo anterior\n",
        "  y = series[t+T] # e.g. si t = 1 entonces y es 11\n",
        "  Y.append(y) #aagrega lo anterior\n",
        "\n",
        "X = np.array(X).reshape(-1,T,1) #el tensor es una caja\n",
        "Y = np.array(Y)\n",
        "N = len(X)\n",
        "print(\"X.shape\", X.shape, \"Y.shape\",Y.shape)"
      ],
      "metadata": {
        "colab": {
          "base_uri": "https://localhost:8080/"
        },
        "id": "aZMkJGdaHfjq",
        "outputId": "09765ebe-ca69-4a4e-aec7-b66f8fd7dade"
      },
      "execution_count": 87,
      "outputs": [
        {
          "output_type": "stream",
          "name": "stdout",
          "text": [
            "X.shape (133, 10, 1) Y.shape (133,)\n"
          ]
        }
      ]
    },
    {
      "cell_type": "code",
      "source": [
        "Xtrain, Ytrain = X[: -Ntest], Y[:-Ntest]\n",
        "Xtest, Ytest = X[-Ntest:], Y[-Ntest:]"
      ],
      "metadata": {
        "id": "BiNalZr_IsbE"
      },
      "execution_count": 88,
      "outputs": []
    },
    {
      "cell_type": "code",
      "source": [
        "#RNN \n",
        "i = Input(shape=(T,1))\n",
        "x = LSTM(24)(i)\n",
        "x = Dense(1)(x)\n",
        "model = Model(i,x)"
      ],
      "metadata": {
        "id": "IHKxwV-pJcO6"
      },
      "execution_count": 89,
      "outputs": []
    },
    {
      "cell_type": "code",
      "source": [
        "model.summary()"
      ],
      "metadata": {
        "colab": {
          "base_uri": "https://localhost:8080/"
        },
        "id": "6P3bZyPsJpy2",
        "outputId": "da72a722-5102-4957-ad0d-585381e6791e"
      },
      "execution_count": 90,
      "outputs": [
        {
          "output_type": "stream",
          "name": "stdout",
          "text": [
            "Model: \"model_2\"\n",
            "_________________________________________________________________\n",
            " Layer (type)                Output Shape              Param #   \n",
            "=================================================================\n",
            " input_3 (InputLayer)        [(None, 10, 1)]           0         \n",
            "                                                                 \n",
            " lstm_1 (LSTM)               (None, 24)                2496      \n",
            "                                                                 \n",
            " dense_2 (Dense)             (None, 1)                 25        \n",
            "                                                                 \n",
            "=================================================================\n",
            "Total params: 2,521\n",
            "Trainable params: 2,521\n",
            "Non-trainable params: 0\n",
            "_________________________________________________________________\n"
          ]
        }
      ]
    },
    {
      "cell_type": "code",
      "source": [
        "model.compile(\n",
        "    loss='mse',\n",
        "    optimizer='adam',\n",
        ")"
      ],
      "metadata": {
        "id": "-ELTqdprJ3bY"
      },
      "execution_count": 91,
      "outputs": []
    },
    {
      "cell_type": "code",
      "source": [
        "r = model.fit(\n",
        "    Xtrain,\n",
        "    Ytrain,\n",
        "    epochs=100,\n",
        "    validation_data=(Xtest,Ytest)\n",
        ")"
      ],
      "metadata": {
        "colab": {
          "base_uri": "https://localhost:8080/"
        },
        "id": "qGTSBTBVKHs0",
        "outputId": "e71af639-c56e-4056-9f59-58a70770ef9f"
      },
      "execution_count": 92,
      "outputs": [
        {
          "output_type": "stream",
          "name": "stdout",
          "text": [
            "Epoch 1/100\n",
            "4/4 [==============================] - 3s 186ms/step - loss: 0.0116 - val_loss: 0.0112\n",
            "Epoch 2/100\n",
            "4/4 [==============================] - 0s 13ms/step - loss: 0.0112 - val_loss: 0.0109\n",
            "Epoch 3/100\n",
            "4/4 [==============================] - 0s 13ms/step - loss: 0.0110 - val_loss: 0.0106\n",
            "Epoch 4/100\n",
            "4/4 [==============================] - 0s 13ms/step - loss: 0.0109 - val_loss: 0.0104\n",
            "Epoch 5/100\n",
            "4/4 [==============================] - 0s 14ms/step - loss: 0.0106 - val_loss: 0.0101\n",
            "Epoch 6/100\n",
            "4/4 [==============================] - 0s 14ms/step - loss: 0.0103 - val_loss: 0.0099\n",
            "Epoch 7/100\n",
            "4/4 [==============================] - 0s 13ms/step - loss: 0.0101 - val_loss: 0.0095\n",
            "Epoch 8/100\n",
            "4/4 [==============================] - 0s 14ms/step - loss: 0.0098 - val_loss: 0.0091\n",
            "Epoch 9/100\n",
            "4/4 [==============================] - 0s 13ms/step - loss: 0.0095 - val_loss: 0.0087\n",
            "Epoch 10/100\n",
            "4/4 [==============================] - 0s 17ms/step - loss: 0.0090 - val_loss: 0.0081\n",
            "Epoch 11/100\n",
            "4/4 [==============================] - 0s 14ms/step - loss: 0.0086 - val_loss: 0.0075\n",
            "Epoch 12/100\n",
            "4/4 [==============================] - 0s 14ms/step - loss: 0.0081 - val_loss: 0.0069\n",
            "Epoch 13/100\n",
            "4/4 [==============================] - 0s 14ms/step - loss: 0.0077 - val_loss: 0.0064\n",
            "Epoch 14/100\n",
            "4/4 [==============================] - 0s 14ms/step - loss: 0.0072 - val_loss: 0.0061\n",
            "Epoch 15/100\n",
            "4/4 [==============================] - 0s 13ms/step - loss: 0.0070 - val_loss: 0.0060\n",
            "Epoch 16/100\n",
            "4/4 [==============================] - 0s 13ms/step - loss: 0.0069 - val_loss: 0.0057\n",
            "Epoch 17/100\n",
            "4/4 [==============================] - 0s 13ms/step - loss: 0.0067 - val_loss: 0.0054\n",
            "Epoch 18/100\n",
            "4/4 [==============================] - 0s 14ms/step - loss: 0.0064 - val_loss: 0.0054\n",
            "Epoch 19/100\n",
            "4/4 [==============================] - 0s 13ms/step - loss: 0.0063 - val_loss: 0.0053\n",
            "Epoch 20/100\n",
            "4/4 [==============================] - 0s 13ms/step - loss: 0.0064 - val_loss: 0.0049\n",
            "Epoch 21/100\n",
            "4/4 [==============================] - 0s 14ms/step - loss: 0.0062 - val_loss: 0.0050\n",
            "Epoch 22/100\n",
            "4/4 [==============================] - 0s 14ms/step - loss: 0.0060 - val_loss: 0.0047\n",
            "Epoch 23/100\n",
            "4/4 [==============================] - 0s 19ms/step - loss: 0.0060 - val_loss: 0.0045\n",
            "Epoch 24/100\n",
            "4/4 [==============================] - 0s 13ms/step - loss: 0.0058 - val_loss: 0.0046\n",
            "Epoch 25/100\n",
            "4/4 [==============================] - 0s 13ms/step - loss: 0.0058 - val_loss: 0.0045\n",
            "Epoch 26/100\n",
            "4/4 [==============================] - 0s 13ms/step - loss: 0.0058 - val_loss: 0.0043\n",
            "Epoch 27/100\n",
            "4/4 [==============================] - 0s 15ms/step - loss: 0.0057 - val_loss: 0.0045\n",
            "Epoch 28/100\n",
            "4/4 [==============================] - 0s 15ms/step - loss: 0.0056 - val_loss: 0.0043\n",
            "Epoch 29/100\n",
            "4/4 [==============================] - 0s 13ms/step - loss: 0.0057 - val_loss: 0.0042\n",
            "Epoch 30/100\n",
            "4/4 [==============================] - 0s 19ms/step - loss: 0.0054 - val_loss: 0.0044\n",
            "Epoch 31/100\n",
            "4/4 [==============================] - 0s 20ms/step - loss: 0.0055 - val_loss: 0.0043\n",
            "Epoch 32/100\n",
            "4/4 [==============================] - 0s 14ms/step - loss: 0.0054 - val_loss: 0.0041\n",
            "Epoch 33/100\n",
            "4/4 [==============================] - 0s 19ms/step - loss: 0.0054 - val_loss: 0.0040\n",
            "Epoch 34/100\n",
            "4/4 [==============================] - 0s 13ms/step - loss: 0.0054 - val_loss: 0.0041\n",
            "Epoch 35/100\n",
            "4/4 [==============================] - 0s 13ms/step - loss: 0.0053 - val_loss: 0.0042\n",
            "Epoch 36/100\n",
            "4/4 [==============================] - 0s 15ms/step - loss: 0.0053 - val_loss: 0.0041\n",
            "Epoch 37/100\n",
            "4/4 [==============================] - 0s 14ms/step - loss: 0.0053 - val_loss: 0.0039\n",
            "Epoch 38/100\n",
            "4/4 [==============================] - 0s 13ms/step - loss: 0.0053 - val_loss: 0.0040\n",
            "Epoch 39/100\n",
            "4/4 [==============================] - 0s 13ms/step - loss: 0.0052 - val_loss: 0.0040\n",
            "Epoch 40/100\n",
            "4/4 [==============================] - 0s 13ms/step - loss: 0.0053 - val_loss: 0.0041\n",
            "Epoch 41/100\n",
            "4/4 [==============================] - 0s 14ms/step - loss: 0.0053 - val_loss: 0.0038\n",
            "Epoch 42/100\n",
            "4/4 [==============================] - 0s 14ms/step - loss: 0.0052 - val_loss: 0.0040\n",
            "Epoch 43/100\n",
            "4/4 [==============================] - 0s 14ms/step - loss: 0.0052 - val_loss: 0.0041\n",
            "Epoch 44/100\n",
            "4/4 [==============================] - 0s 13ms/step - loss: 0.0052 - val_loss: 0.0038\n",
            "Epoch 45/100\n",
            "4/4 [==============================] - 0s 15ms/step - loss: 0.0051 - val_loss: 0.0039\n",
            "Epoch 46/100\n",
            "4/4 [==============================] - 0s 13ms/step - loss: 0.0051 - val_loss: 0.0040\n",
            "Epoch 47/100\n",
            "4/4 [==============================] - 0s 19ms/step - loss: 0.0051 - val_loss: 0.0039\n",
            "Epoch 48/100\n",
            "4/4 [==============================] - 0s 13ms/step - loss: 0.0051 - val_loss: 0.0037\n",
            "Epoch 49/100\n",
            "4/4 [==============================] - 0s 13ms/step - loss: 0.0051 - val_loss: 0.0038\n",
            "Epoch 50/100\n",
            "4/4 [==============================] - 0s 14ms/step - loss: 0.0051 - val_loss: 0.0041\n",
            "Epoch 51/100\n",
            "4/4 [==============================] - 0s 14ms/step - loss: 0.0051 - val_loss: 0.0038\n",
            "Epoch 52/100\n",
            "4/4 [==============================] - 0s 13ms/step - loss: 0.0051 - val_loss: 0.0038\n",
            "Epoch 53/100\n",
            "4/4 [==============================] - 0s 13ms/step - loss: 0.0050 - val_loss: 0.0039\n",
            "Epoch 54/100\n",
            "4/4 [==============================] - 0s 14ms/step - loss: 0.0050 - val_loss: 0.0039\n",
            "Epoch 55/100\n",
            "4/4 [==============================] - 0s 13ms/step - loss: 0.0050 - val_loss: 0.0038\n",
            "Epoch 56/100\n",
            "4/4 [==============================] - 0s 14ms/step - loss: 0.0051 - val_loss: 0.0037\n",
            "Epoch 57/100\n",
            "4/4 [==============================] - 0s 13ms/step - loss: 0.0050 - val_loss: 0.0040\n",
            "Epoch 58/100\n",
            "4/4 [==============================] - 0s 19ms/step - loss: 0.0051 - val_loss: 0.0039\n",
            "Epoch 59/100\n",
            "4/4 [==============================] - 0s 13ms/step - loss: 0.0050 - val_loss: 0.0036\n",
            "Epoch 60/100\n",
            "4/4 [==============================] - 0s 13ms/step - loss: 0.0051 - val_loss: 0.0037\n",
            "Epoch 61/100\n",
            "4/4 [==============================] - 0s 14ms/step - loss: 0.0050 - val_loss: 0.0042\n",
            "Epoch 62/100\n",
            "4/4 [==============================] - 0s 15ms/step - loss: 0.0050 - val_loss: 0.0038\n",
            "Epoch 63/100\n",
            "4/4 [==============================] - 0s 16ms/step - loss: 0.0050 - val_loss: 0.0036\n",
            "Epoch 64/100\n",
            "4/4 [==============================] - 0s 14ms/step - loss: 0.0050 - val_loss: 0.0038\n",
            "Epoch 65/100\n",
            "4/4 [==============================] - 0s 14ms/step - loss: 0.0051 - val_loss: 0.0044\n",
            "Epoch 66/100\n",
            "4/4 [==============================] - 0s 13ms/step - loss: 0.0050 - val_loss: 0.0037\n",
            "Epoch 67/100\n",
            "4/4 [==============================] - 0s 14ms/step - loss: 0.0049 - val_loss: 0.0036\n",
            "Epoch 68/100\n",
            "4/4 [==============================] - 0s 13ms/step - loss: 0.0049 - val_loss: 0.0038\n",
            "Epoch 69/100\n",
            "4/4 [==============================] - 0s 13ms/step - loss: 0.0049 - val_loss: 0.0038\n",
            "Epoch 70/100\n",
            "4/4 [==============================] - 0s 13ms/step - loss: 0.0049 - val_loss: 0.0037\n",
            "Epoch 71/100\n",
            "4/4 [==============================] - 0s 19ms/step - loss: 0.0049 - val_loss: 0.0037\n",
            "Epoch 72/100\n",
            "4/4 [==============================] - 0s 13ms/step - loss: 0.0049 - val_loss: 0.0038\n",
            "Epoch 73/100\n",
            "4/4 [==============================] - 0s 13ms/step - loss: 0.0049 - val_loss: 0.0037\n",
            "Epoch 74/100\n",
            "4/4 [==============================] - 0s 13ms/step - loss: 0.0049 - val_loss: 0.0036\n",
            "Epoch 75/100\n",
            "4/4 [==============================] - 0s 13ms/step - loss: 0.0049 - val_loss: 0.0036\n",
            "Epoch 76/100\n",
            "4/4 [==============================] - 0s 13ms/step - loss: 0.0049 - val_loss: 0.0039\n",
            "Epoch 77/100\n",
            "4/4 [==============================] - 0s 13ms/step - loss: 0.0049 - val_loss: 0.0038\n",
            "Epoch 78/100\n",
            "4/4 [==============================] - 0s 15ms/step - loss: 0.0049 - val_loss: 0.0036\n",
            "Epoch 79/100\n",
            "4/4 [==============================] - 0s 13ms/step - loss: 0.0048 - val_loss: 0.0037\n",
            "Epoch 80/100\n",
            "4/4 [==============================] - 0s 20ms/step - loss: 0.0049 - val_loss: 0.0039\n",
            "Epoch 81/100\n",
            "4/4 [==============================] - 0s 13ms/step - loss: 0.0049 - val_loss: 0.0036\n",
            "Epoch 82/100\n",
            "4/4 [==============================] - 0s 14ms/step - loss: 0.0048 - val_loss: 0.0036\n",
            "Epoch 83/100\n",
            "4/4 [==============================] - 0s 14ms/step - loss: 0.0048 - val_loss: 0.0038\n",
            "Epoch 84/100\n",
            "4/4 [==============================] - 0s 13ms/step - loss: 0.0048 - val_loss: 0.0036\n",
            "Epoch 85/100\n",
            "4/4 [==============================] - 0s 14ms/step - loss: 0.0048 - val_loss: 0.0035\n",
            "Epoch 86/100\n",
            "4/4 [==============================] - 0s 13ms/step - loss: 0.0051 - val_loss: 0.0040\n",
            "Epoch 87/100\n",
            "4/4 [==============================] - 0s 13ms/step - loss: 0.0048 - val_loss: 0.0035\n",
            "Epoch 88/100\n",
            "4/4 [==============================] - 0s 13ms/step - loss: 0.0048 - val_loss: 0.0035\n",
            "Epoch 89/100\n",
            "4/4 [==============================] - 0s 13ms/step - loss: 0.0048 - val_loss: 0.0038\n",
            "Epoch 90/100\n",
            "4/4 [==============================] - 0s 13ms/step - loss: 0.0048 - val_loss: 0.0037\n",
            "Epoch 91/100\n",
            "4/4 [==============================] - 0s 14ms/step - loss: 0.0047 - val_loss: 0.0035\n",
            "Epoch 92/100\n",
            "4/4 [==============================] - 0s 13ms/step - loss: 0.0048 - val_loss: 0.0036\n",
            "Epoch 93/100\n",
            "4/4 [==============================] - 0s 13ms/step - loss: 0.0047 - val_loss: 0.0037\n",
            "Epoch 94/100\n",
            "4/4 [==============================] - 0s 15ms/step - loss: 0.0047 - val_loss: 0.0035\n",
            "Epoch 95/100\n",
            "4/4 [==============================] - 0s 14ms/step - loss: 0.0047 - val_loss: 0.0036\n",
            "Epoch 96/100\n",
            "4/4 [==============================] - 0s 13ms/step - loss: 0.0047 - val_loss: 0.0036\n",
            "Epoch 97/100\n",
            "4/4 [==============================] - 0s 13ms/step - loss: 0.0046 - val_loss: 0.0034\n",
            "Epoch 98/100\n",
            "4/4 [==============================] - 0s 15ms/step - loss: 0.0047 - val_loss: 0.0035\n",
            "Epoch 99/100\n",
            "4/4 [==============================] - 0s 14ms/step - loss: 0.0047 - val_loss: 0.0035\n",
            "Epoch 100/100\n",
            "4/4 [==============================] - 0s 14ms/step - loss: 0.0046 - val_loss: 0.0036\n"
          ]
        }
      ]
    },
    {
      "cell_type": "code",
      "source": [
        "plt.plot(r.history['loss'],label='train loss')\n",
        "plt.plot(r.history['val_loss'], label='test loss')\n",
        "plt.legend();"
      ],
      "metadata": {
        "colab": {
          "base_uri": "https://localhost:8080/",
          "height": 265
        },
        "id": "CtxZ17S1KW0u",
        "outputId": "607938d1-09a2-4d1b-da16-a205f1610ac5"
      },
      "execution_count": 93,
      "outputs": [
        {
          "output_type": "display_data",
          "data": {
            "text/plain": [
              "<Figure size 432x288 with 1 Axes>"
            ],
            "image/png": "[encoded data removed]"
          },
          "metadata": {
            "needs_background": "light"
          }
        }
      ]
    },
    {
      "cell_type": "code",
      "source": [
        "train_idx[:T+1] = False # First T+1 values are not predictable"
      ],
      "metadata": {
        "id": "nJCmkxYcK4cv"
      },
      "execution_count": 94,
      "outputs": []
    },
    {
      "cell_type": "code",
      "source": [
        "print(train_idx[:T+1]) #Mwe imprime lo que tenemos False en el entrenamiento "
      ],
      "metadata": {
        "colab": {
          "base_uri": "https://localhost:8080/"
        },
        "id": "0ckxQ6vkLCHd",
        "outputId": "455b3d96-8430-4e30-b65a-383bd6e8d03c"
      },
      "execution_count": 95,
      "outputs": [
        {
          "output_type": "stream",
          "name": "stdout",
          "text": [
            "[False False False False False False False False False False False]\n"
          ]
        }
      ]
    },
    {
      "cell_type": "code",
      "source": [
        "Ptrain = model.predict(Xtrain).flatten()\n",
        "Ptest = model.predict(Xtest).flatten()"
      ],
      "metadata": {
        "colab": {
          "base_uri": "https://localhost:8080/"
        },
        "id": "PVenp_o5LSJo",
        "outputId": "edd4c4fc-49b9-4721-953e-10b5f5dd1956"
      },
      "execution_count": 96,
      "outputs": [
        {
          "output_type": "stream",
          "name": "stdout",
          "text": [
            "4/4 [==============================] - 0s 4ms/step\n",
            "1/1 [==============================] - 0s 28ms/step\n"
          ]
        }
      ]
    },
    {
      "cell_type": "code",
      "source": [
        "print(Ptrain.shape)"
      ],
      "metadata": {
        "colab": {
          "base_uri": "https://localhost:8080/"
        },
        "id": "Ty7DSxSdLZZy",
        "outputId": "223ae1d1-044f-400b-8aef-fedbe423b0bd"
      },
      "execution_count": 97,
      "outputs": [
        {
          "output_type": "stream",
          "name": "stdout",
          "text": [
            "(121,)\n"
          ]
        }
      ]
    },
    {
      "cell_type": "code",
      "source": [
        "print(Ptest.shape)"
      ],
      "metadata": {
        "colab": {
          "base_uri": "https://localhost:8080/"
        },
        "id": "l4SpPi6iLfRc",
        "outputId": "c5b8d7e4-a010-49a8-ac72-c459d0426f80"
      },
      "execution_count": 98,
      "outputs": [
        {
          "output_type": "stream",
          "name": "stdout",
          "text": [
            "(12,)\n"
          ]
        }
      ]
    },
    {
      "cell_type": "code",
      "source": [
        "print(series.shape)"
      ],
      "metadata": {
        "colab": {
          "base_uri": "https://localhost:8080/"
        },
        "id": "u2XjqLfzL08s",
        "outputId": "54067dbd-7a50-4239-aff1-4eacaf3421ff"
      },
      "execution_count": 99,
      "outputs": [
        {
          "output_type": "stream",
          "name": "stdout",
          "text": [
            "(143,)\n"
          ]
        }
      ]
    },
    {
      "cell_type": "code",
      "source": [
        "143-121-12 #es 10 porque el T = 10. "
      ],
      "metadata": {
        "colab": {
          "base_uri": "https://localhost:8080/"
        },
        "id": "HAuhAQjBOC6h",
        "outputId": "22fe73ad-f683-49d9-f2c5-ddec1fe4e1b5"
      },
      "execution_count": 100,
      "outputs": [
        {
          "output_type": "execute_result",
          "data": {
            "text/plain": [
              "10"
            ]
          },
          "metadata": {},
          "execution_count": 100
        }
      ]
    },
    {
      "cell_type": "code",
      "source": [
        "#Needed to compute un-differenced predictions\n",
        "df['ShiftLogPassengers'] = df['LogPassengers'].shift(1) #cambia 1 periodo hacia adelante los datos\n",
        "prev = df['ShiftLogPassengers']\n",
        "ValuesView(prev.tail())"
      ],
      "metadata": {
        "colab": {
          "base_uri": "https://localhost:8080/"
        },
        "id": "mYnJNy08L4Es",
        "outputId": "18837b44-4db9-45cc-a2e7-e9fb438cd3ad"
      },
      "execution_count": 101,
      "outputs": [
        {
          "output_type": "execute_result",
          "data": {
            "text/plain": [
              "ValuesView(Month\n",
              "1960-08-01    6.432940\n",
              "1960-09-01    6.406880\n",
              "1960-10-01    6.230481\n",
              "1960-11-01    6.133398\n",
              "1960-12-01    5.966147\n",
              "Name: ShiftLogPassengers, dtype: float64)"
            ]
          },
          "metadata": {},
          "execution_count": 101
        }
      ]
    },
    {
      "cell_type": "code",
      "source": [
        "print(prev.shape)"
      ],
      "metadata": {
        "colab": {
          "base_uri": "https://localhost:8080/"
        },
        "id": "yUvh2J2YM5o5",
        "outputId": "f8096fa2-926c-41b4-91fe-ef9ac699f42b"
      },
      "execution_count": 102,
      "outputs": [
        {
          "output_type": "stream",
          "name": "stdout",
          "text": [
            "(144,)\n"
          ]
        }
      ]
    },
    {
      "cell_type": "code",
      "source": [
        "# Last-known train value\n",
        "last_train = train.iloc[-1]['LogPassengers']"
      ],
      "metadata": {
        "id": "u-GILvavMgLz"
      },
      "execution_count": 103,
      "outputs": []
    },
    {
      "cell_type": "code",
      "source": [
        "ValuesView(last_train)"
      ],
      "metadata": {
        "colab": {
          "base_uri": "https://localhost:8080/"
        },
        "id": "69i_6XfjMmZl",
        "outputId": "24d8dd33-8b78-43d9-d663-29d1a9cc98db"
      },
      "execution_count": 104,
      "outputs": [
        {
          "output_type": "execute_result",
          "data": {
            "text/plain": [
              "ValuesView(6.003887067106539)"
            ]
          },
          "metadata": {},
          "execution_count": 104
        }
      ]
    },
    {
      "cell_type": "code",
      "source": [
        "# 1-step forecast[]\n",
        "df.loc[train_idx, '1step_train'] = prev[train_idx] + Ptrain #Te regresa las 121 observaciones con true //con el loc me regresa del df algo en específico //prev[train_idx] =121 lenght + 121 lenght ptrain\n",
        "df.loc[test_idx, '1step_test'] = prev[test_idx] + Ptest #Te regresa las 12 observaciones con true // prev[test_idx] 12 lenght + ptest 12 lenght"
      ],
      "metadata": {
        "id": "p2RQ33cfNHKV"
      },
      "execution_count": 105,
      "outputs": []
    },
    {
      "cell_type": "code",
      "source": [
        "# Plot 1-step forecast []\n",
        "df[['LogPassengers','1step_train','1step_test']].plot(figsize=(15,5));"
      ],
      "metadata": {
        "colab": {
          "base_uri": "https://localhost:8080/",
          "height": 334
        },
        "id": "T6xuTLA6NwCx",
        "outputId": "86636d5c-81f6-4d9e-a2d7-5141aecdcff2"
      },
      "execution_count": 106,
      "outputs": [
        {
          "output_type": "display_data",
          "data": {
            "text/plain": [
              "<Figure size 1080x360 with 1 Axes>"
            ],
            "image/png": "[encoded data removed]"
          },
          "metadata": {
            "needs_background": "light"
          }
        }
      ]
    },
    {
      "cell_type": "code",
      "source": [
        "#multi-step forecast\n",
        "multistep_predictions = []\n",
        "\n",
        "# first test input\n",
        "last_x = Xtest[0] #acá hay 10 observaciones\n",
        "\n",
        "while len(multistep_predictions) < Ntest:#Ntest es 12, entonces el while es hasta 11. Prediceme las sig 12 observaciones. Recuerda que 11 es la 12 porque se incluye el 0\n",
        "  p = model.predict(last_x.reshape(1,-1, 1))[0]#damelo en 1 fila por x columnas que no se cuantas son. (el que debe de ir es 1,-1)\n",
        "  #update the predictions list\n",
        "  multistep_predictions.append(p)#añademe el resultado a p\n",
        "\n",
        "  #make the new input\n",
        "  last_x = np.roll(last_x,-1)\n",
        "  last_x[-1] = p"
      ],
      "metadata": {
        "colab": {
          "base_uri": "https://localhost:8080/"
        },
        "id": "nH5cc9FdN_Ly",
        "outputId": "d853b62e-ae3a-430d-d3cc-e7b97139b6be"
      },
      "execution_count": 116,
      "outputs": [
        {
          "output_type": "stream",
          "name": "stdout",
          "text": [
            "1/1 [==============================] - 0s 25ms/step\n",
            "1/1 [==============================] - 0s 22ms/step\n",
            "1/1 [==============================] - 0s 19ms/step\n",
            "1/1 [==============================] - 0s 21ms/step\n",
            "1/1 [==============================] - 0s 26ms/step\n",
            "1/1 [==============================] - 0s 21ms/step\n",
            "1/1 [==============================] - 0s 25ms/step\n",
            "1/1 [==============================] - 0s 19ms/step\n",
            "1/1 [==============================] - 0s 20ms/step\n",
            "1/1 [==============================] - 0s 18ms/step\n",
            "1/1 [==============================] - 0s 23ms/step\n",
            "1/1 [==============================] - 0s 23ms/step\n"
          ]
        }
      ]
    },
    {
      "cell_type": "code",
      "source": [
        "print(p)"
      ],
      "metadata": {
        "colab": {
          "base_uri": "https://localhost:8080/"
        },
        "id": "ouQOyh7UYnVj",
        "outputId": "2f6d28e7-a1f7-4229-a7b8-6090dcaff910"
      },
      "execution_count": 119,
      "outputs": [
        {
          "output_type": "stream",
          "name": "stdout",
          "text": [
            "[0.01812311]\n"
          ]
        }
      ]
    },
    {
      "cell_type": "code",
      "source": [
        "#save multi-step forecast to dataframe\n",
        "df.loc[test_idx, 'multistep'] = last_train + np.cumsum(multistep_predictions)"
      ],
      "metadata": {
        "id": "_ySfNd2-R1QK"
      },
      "execution_count": 117,
      "outputs": []
    },
    {
      "cell_type": "code",
      "source": [
        "#plot 1-step and multi-step forecast\n",
        "df[['LogPassengers','multistep','1step_test']].plot(figsize=(15,5));"
      ],
      "metadata": {
        "colab": {
          "base_uri": "https://localhost:8080/",
          "height": 334
        },
        "id": "Hl4_soa0X1_B",
        "outputId": "914ff7d3-17b4-4d7d-8638-a63977c13779"
      },
      "execution_count": 118,
      "outputs": [
        {
          "output_type": "display_data",
          "data": {
            "text/plain": [
              "<Figure size 1080x360 with 1 Axes>"
            ],
            "image/png": "[encoded data removed]"
          },
          "metadata": {
            "needs_background": "light"
          }
        }
      ]
    },
    {
      "cell_type": "code",
      "source": [
        "# make multi-output supevised dataset\n",
        "Tx = T\n",
        "Ty = Ntest\n",
        "X = []\n",
        "Y = []\n",
        "for t in range(len(series)- Tx -Ty +1):\n",
        "  x = series[t:t+Tx] #si t es 1 enotnces corre de 1 a 11\n",
        "  X.append(x)\n",
        "  y =series[t+Tx:t+Tx+Ty] #si t es 1, entonces corre de 11 a (1+10+12 = 23)\n",
        "  Y.append(y)\n",
        "\n",
        "X = np.array(X).reshape(-1, Tx, 1)\n",
        "Y = np.array(Y).reshape(-1,Ty)\n",
        "N = len(X)\n",
        "print(\"X.shape\", X.shape, \"Y.shape\", Y.shape)"
      ],
      "metadata": {
        "colab": {
          "base_uri": "https://localhost:8080/"
        },
        "id": "NDm0ChbOYD2s",
        "outputId": "0c8a5b3d-872a-486f-ec0a-74da6cf9d28a"
      },
      "execution_count": 122,
      "outputs": [
        {
          "output_type": "stream",
          "name": "stdout",
          "text": [
            "X.shape (122, 10, 1) Y.shape (122, 12)\n"
          ]
        }
      ]
    },
    {
      "cell_type": "code",
      "source": [
        "Xtrain_m, Ytrain_m = X[:-1], Y[:-1]\n",
        "Xtest_m, Ytest_m = X[-1:], Y[-1:]"
      ],
      "metadata": {
        "id": "qXnwXH5pZ-qk"
      },
      "execution_count": 123,
      "outputs": []
    },
    {
      "cell_type": "code",
      "source": [
        "#RNN\n",
        "i = Input(shape=(Tx,1))\n",
        "x = LSTM(24, return_sequences=True)(i)\n",
        "x = GlobalMaxPool1D()(x) #NameError: name 'GlobalMaxPooling1D' is not defined\n",
        "x = Dense(Ty)(x) #en este caso es 12 =Ty\n",
        "model = Model(i,x)"
      ],
      "metadata": {
        "id": "_QQuzSXXaYht"
      },
      "execution_count": 134,
      "outputs": []
    },
    {
      "cell_type": "code",
      "source": [
        "check_point = ModelCheckpoint(\n",
        "    'best_model.h5', monitor='val_loss',save_best_only=True\n",
        ")"
      ],
      "metadata": {
        "id": "7LXbocRja-jn"
      },
      "execution_count": 135,
      "outputs": []
    },
    {
      "cell_type": "code",
      "source": [
        "model.compile(\n",
        "    loss='mse',\n",
        "    optimizer='adam',\n",
        ")"
      ],
      "metadata": {
        "id": "yrlGW6Isav4X"
      },
      "execution_count": 136,
      "outputs": []
    },
    {
      "cell_type": "code",
      "source": [
        "r = model.fit(\n",
        "    Xtrain_m,\n",
        "    Ytrain_m,\n",
        "    epochs=300,\n",
        "    validation_data=(Xtest_m, Ytest_m),\n",
        "    callbacks=[check_point],\n",
        ")"
      ],
      "metadata": {
        "colab": {
          "base_uri": "https://localhost:8080/"
        },
        "id": "4LgtNHGrcDkv",
        "outputId": "9b0e6712-dbf5-4611-f182-0388c19fc270"
      },
      "execution_count": 141,
      "outputs": [
        {
          "output_type": "stream",
          "name": "stdout",
          "text": [
            "Epoch 1/300\n",
            "4/4 [==============================] - 4s 209ms/step - loss: 0.0116 - val_loss: 0.0111\n",
            "Epoch 2/300\n",
            "4/4 [==============================] - 0s 20ms/step - loss: 0.0115 - val_loss: 0.0110\n",
            "Epoch 3/300\n",
            "4/4 [==============================] - 0s 21ms/step - loss: 0.0114 - val_loss: 0.0110\n",
            "Epoch 4/300\n",
            "4/4 [==============================] - 0s 21ms/step - loss: 0.0113 - val_loss: 0.0109\n",
            "Epoch 5/300\n",
            "4/4 [==============================] - 0s 22ms/step - loss: 0.0113 - val_loss: 0.0107\n",
            "Epoch 6/300\n",
            "4/4 [==============================] - 0s 21ms/step - loss: 0.0112 - val_loss: 0.0105\n",
            "Epoch 7/300\n",
            "4/4 [==============================] - 0s 22ms/step - loss: 0.0112 - val_loss: 0.0104\n",
            "Epoch 8/300\n",
            "4/4 [==============================] - 0s 24ms/step - loss: 0.0111 - val_loss: 0.0104\n",
            "Epoch 9/300\n",
            "4/4 [==============================] - 0s 19ms/step - loss: 0.0110 - val_loss: 0.0105\n",
            "Epoch 10/300\n",
            "4/4 [==============================] - 0s 20ms/step - loss: 0.0110 - val_loss: 0.0103\n",
            "Epoch 11/300\n",
            "4/4 [==============================] - 0s 22ms/step - loss: 0.0109 - val_loss: 0.0101\n",
            "Epoch 12/300\n",
            "4/4 [==============================] - 0s 20ms/step - loss: 0.0109 - val_loss: 0.0098\n",
            "Epoch 13/300\n",
            "4/4 [==============================] - 0s 21ms/step - loss: 0.0108 - val_loss: 0.0098\n",
            "Epoch 14/300\n",
            "4/4 [==============================] - 0s 20ms/step - loss: 0.0107 - val_loss: 0.0097\n",
            "Epoch 15/300\n",
            "4/4 [==============================] - 0s 23ms/step - loss: 0.0106 - val_loss: 0.0096\n",
            "Epoch 16/300\n",
            "4/4 [==============================] - 0s 20ms/step - loss: 0.0106 - val_loss: 0.0095\n",
            "Epoch 17/300\n",
            "4/4 [==============================] - 0s 21ms/step - loss: 0.0105 - val_loss: 0.0093\n",
            "Epoch 18/300\n",
            "4/4 [==============================] - 0s 24ms/step - loss: 0.0104 - val_loss: 0.0090\n",
            "Epoch 19/300\n",
            "4/4 [==============================] - 0s 22ms/step - loss: 0.0103 - val_loss: 0.0088\n",
            "Epoch 20/300\n",
            "4/4 [==============================] - 0s 20ms/step - loss: 0.0102 - val_loss: 0.0087\n",
            "Epoch 21/300\n",
            "4/4 [==============================] - 0s 23ms/step - loss: 0.0100 - val_loss: 0.0085\n",
            "Epoch 22/300\n",
            "4/4 [==============================] - 0s 14ms/step - loss: 0.0099 - val_loss: 0.0086\n",
            "Epoch 23/300\n",
            "4/4 [==============================] - 0s 21ms/step - loss: 0.0098 - val_loss: 0.0085\n",
            "Epoch 24/300\n",
            "4/4 [==============================] - 0s 21ms/step - loss: 0.0097 - val_loss: 0.0084\n",
            "Epoch 25/300\n",
            "4/4 [==============================] - 0s 22ms/step - loss: 0.0096 - val_loss: 0.0082\n",
            "Epoch 26/300\n",
            "4/4 [==============================] - 0s 22ms/step - loss: 0.0096 - val_loss: 0.0082\n",
            "Epoch 27/300\n",
            "4/4 [==============================] - 0s 17ms/step - loss: 0.0095 - val_loss: 0.0083\n",
            "Epoch 28/300\n",
            "4/4 [==============================] - 0s 15ms/step - loss: 0.0094 - val_loss: 0.0084\n",
            "Epoch 29/300\n",
            "4/4 [==============================] - 0s 19ms/step - loss: 0.0093 - val_loss: 0.0084\n",
            "Epoch 30/300\n",
            "4/4 [==============================] - 0s 14ms/step - loss: 0.0093 - val_loss: 0.0084\n",
            "Epoch 31/300\n",
            "4/4 [==============================] - 0s 14ms/step - loss: 0.0092 - val_loss: 0.0083\n",
            "Epoch 32/300\n",
            "4/4 [==============================] - 0s 17ms/step - loss: 0.0092 - val_loss: 0.0083\n",
            "Epoch 33/300\n",
            "4/4 [==============================] - 0s 14ms/step - loss: 0.0091 - val_loss: 0.0082\n",
            "Epoch 34/300\n",
            "4/4 [==============================] - 0s 21ms/step - loss: 0.0090 - val_loss: 0.0081\n",
            "Epoch 35/300\n",
            "4/4 [==============================] - 0s 14ms/step - loss: 0.0090 - val_loss: 0.0082\n",
            "Epoch 36/300\n",
            "4/4 [==============================] - 0s 18ms/step - loss: 0.0089 - val_loss: 0.0082\n",
            "Epoch 37/300\n",
            "4/4 [==============================] - 0s 15ms/step - loss: 0.0088 - val_loss: 0.0081\n",
            "Epoch 38/300\n",
            "4/4 [==============================] - 0s 20ms/step - loss: 0.0088 - val_loss: 0.0080\n",
            "Epoch 39/300\n",
            "4/4 [==============================] - 0s 22ms/step - loss: 0.0087 - val_loss: 0.0079\n",
            "Epoch 40/300\n",
            "4/4 [==============================] - 0s 22ms/step - loss: 0.0086 - val_loss: 0.0078\n",
            "Epoch 41/300\n",
            "4/4 [==============================] - 0s 20ms/step - loss: 0.0086 - val_loss: 0.0077\n",
            "Epoch 42/300\n",
            "4/4 [==============================] - 0s 22ms/step - loss: 0.0085 - val_loss: 0.0074\n",
            "Epoch 43/300\n",
            "4/4 [==============================] - 0s 14ms/step - loss: 0.0084 - val_loss: 0.0074\n",
            "Epoch 44/300\n",
            "4/4 [==============================] - 0s 21ms/step - loss: 0.0084 - val_loss: 0.0074\n",
            "Epoch 45/300\n",
            "4/4 [==============================] - 0s 14ms/step - loss: 0.0083 - val_loss: 0.0075\n",
            "Epoch 46/300\n",
            "4/4 [==============================] - 0s 21ms/step - loss: 0.0082 - val_loss: 0.0069\n",
            "Epoch 47/300\n",
            "4/4 [==============================] - 0s 20ms/step - loss: 0.0081 - val_loss: 0.0069\n",
            "Epoch 48/300\n",
            "4/4 [==============================] - 0s 16ms/step - loss: 0.0081 - val_loss: 0.0069\n",
            "Epoch 49/300\n",
            "4/4 [==============================] - 0s 21ms/step - loss: 0.0080 - val_loss: 0.0067\n",
            "Epoch 50/300\n",
            "4/4 [==============================] - 0s 23ms/step - loss: 0.0080 - val_loss: 0.0063\n",
            "Epoch 51/300\n",
            "4/4 [==============================] - 0s 20ms/step - loss: 0.0079 - val_loss: 0.0061\n",
            "Epoch 52/300\n",
            "4/4 [==============================] - 0s 22ms/step - loss: 0.0078 - val_loss: 0.0060\n",
            "Epoch 53/300\n",
            "4/4 [==============================] - 0s 14ms/step - loss: 0.0078 - val_loss: 0.0060\n",
            "Epoch 54/300\n",
            "4/4 [==============================] - 0s 23ms/step - loss: 0.0077 - val_loss: 0.0058\n",
            "Epoch 55/300\n",
            "4/4 [==============================] - 0s 21ms/step - loss: 0.0076 - val_loss: 0.0058\n",
            "Epoch 56/300\n",
            "4/4 [==============================] - 0s 20ms/step - loss: 0.0076 - val_loss: 0.0053\n",
            "Epoch 57/300\n",
            "4/4 [==============================] - 0s 22ms/step - loss: 0.0075 - val_loss: 0.0052\n",
            "Epoch 58/300\n",
            "4/4 [==============================] - 0s 20ms/step - loss: 0.0074 - val_loss: 0.0049\n",
            "Epoch 59/300\n",
            "4/4 [==============================] - 0s 21ms/step - loss: 0.0074 - val_loss: 0.0048\n",
            "Epoch 60/300\n",
            "4/4 [==============================] - 0s 14ms/step - loss: 0.0073 - val_loss: 0.0048\n",
            "Epoch 61/300\n",
            "4/4 [==============================] - 0s 22ms/step - loss: 0.0073 - val_loss: 0.0046\n",
            "Epoch 62/300\n",
            "4/4 [==============================] - 0s 20ms/step - loss: 0.0072 - val_loss: 0.0041\n",
            "Epoch 63/300\n",
            "4/4 [==============================] - 0s 18ms/step - loss: 0.0071 - val_loss: 0.0041\n",
            "Epoch 64/300\n",
            "4/4 [==============================] - 0s 15ms/step - loss: 0.0070 - val_loss: 0.0046\n",
            "Epoch 65/300\n",
            "4/4 [==============================] - 0s 14ms/step - loss: 0.0070 - val_loss: 0.0043\n",
            "Epoch 66/300\n",
            "4/4 [==============================] - 0s 21ms/step - loss: 0.0069 - val_loss: 0.0038\n",
            "Epoch 67/300\n",
            "4/4 [==============================] - 0s 21ms/step - loss: 0.0069 - val_loss: 0.0037\n",
            "Epoch 68/300\n",
            "4/4 [==============================] - 0s 15ms/step - loss: 0.0068 - val_loss: 0.0041\n",
            "Epoch 69/300\n",
            "4/4 [==============================] - 0s 22ms/step - loss: 0.0067 - val_loss: 0.0036\n",
            "Epoch 70/300\n",
            "4/4 [==============================] - 0s 20ms/step - loss: 0.0067 - val_loss: 0.0036\n",
            "Epoch 71/300\n",
            "4/4 [==============================] - 0s 15ms/step - loss: 0.0066 - val_loss: 0.0036\n",
            "Epoch 72/300\n",
            "4/4 [==============================] - 0s 14ms/step - loss: 0.0065 - val_loss: 0.0036\n",
            "Epoch 73/300\n",
            "4/4 [==============================] - 0s 23ms/step - loss: 0.0065 - val_loss: 0.0034\n",
            "Epoch 74/300\n",
            "4/4 [==============================] - 0s 21ms/step - loss: 0.0064 - val_loss: 0.0032\n",
            "Epoch 75/300\n",
            "4/4 [==============================] - 0s 16ms/step - loss: 0.0064 - val_loss: 0.0036\n",
            "Epoch 76/300\n",
            "4/4 [==============================] - 0s 20ms/step - loss: 0.0063 - val_loss: 0.0031\n",
            "Epoch 77/300\n",
            "4/4 [==============================] - 0s 25ms/step - loss: 0.0063 - val_loss: 0.0028\n",
            "Epoch 78/300\n",
            "4/4 [==============================] - 0s 15ms/step - loss: 0.0062 - val_loss: 0.0032\n",
            "Epoch 79/300\n",
            "4/4 [==============================] - 0s 15ms/step - loss: 0.0061 - val_loss: 0.0031\n",
            "Epoch 80/300\n",
            "4/4 [==============================] - 0s 15ms/step - loss: 0.0061 - val_loss: 0.0031\n",
            "Epoch 81/300\n",
            "4/4 [==============================] - 0s 14ms/step - loss: 0.0060 - val_loss: 0.0028\n",
            "Epoch 82/300\n",
            "4/4 [==============================] - 0s 24ms/step - loss: 0.0060 - val_loss: 0.0028\n",
            "Epoch 83/300\n",
            "4/4 [==============================] - 0s 15ms/step - loss: 0.0059 - val_loss: 0.0029\n",
            "Epoch 84/300\n",
            "4/4 [==============================] - 0s 21ms/step - loss: 0.0059 - val_loss: 0.0026\n",
            "Epoch 85/300\n",
            "4/4 [==============================] - 0s 21ms/step - loss: 0.0058 - val_loss: 0.0025\n",
            "Epoch 86/300\n",
            "4/4 [==============================] - 0s 15ms/step - loss: 0.0058 - val_loss: 0.0026\n",
            "Epoch 87/300\n",
            "4/4 [==============================] - 0s 16ms/step - loss: 0.0058 - val_loss: 0.0027\n",
            "Epoch 88/300\n",
            "4/4 [==============================] - 0s 14ms/step - loss: 0.0058 - val_loss: 0.0025\n",
            "Epoch 89/300\n",
            "4/4 [==============================] - 0s 23ms/step - loss: 0.0056 - val_loss: 0.0024\n",
            "Epoch 90/300\n",
            "4/4 [==============================] - 0s 15ms/step - loss: 0.0056 - val_loss: 0.0025\n",
            "Epoch 91/300\n",
            "4/4 [==============================] - 0s 15ms/step - loss: 0.0056 - val_loss: 0.0024\n",
            "Epoch 92/300\n",
            "4/4 [==============================] - 0s 18ms/step - loss: 0.0055 - val_loss: 0.0024\n",
            "Epoch 93/300\n",
            "4/4 [==============================] - 0s 22ms/step - loss: 0.0055 - val_loss: 0.0024\n",
            "Epoch 94/300\n",
            "4/4 [==============================] - 0s 14ms/step - loss: 0.0055 - val_loss: 0.0026\n",
            "Epoch 95/300\n",
            "4/4 [==============================] - 0s 19ms/step - loss: 0.0054 - val_loss: 0.0026\n",
            "Epoch 96/300\n",
            "4/4 [==============================] - 0s 14ms/step - loss: 0.0054 - val_loss: 0.0025\n",
            "Epoch 97/300\n",
            "4/4 [==============================] - 0s 15ms/step - loss: 0.0054 - val_loss: 0.0024\n",
            "Epoch 98/300\n",
            "4/4 [==============================] - 0s 15ms/step - loss: 0.0053 - val_loss: 0.0025\n",
            "Epoch 99/300\n",
            "4/4 [==============================] - 0s 14ms/step - loss: 0.0053 - val_loss: 0.0025\n",
            "Epoch 100/300\n",
            "4/4 [==============================] - 0s 24ms/step - loss: 0.0052 - val_loss: 0.0022\n",
            "Epoch 101/300\n",
            "4/4 [==============================] - 0s 17ms/step - loss: 0.0052 - val_loss: 0.0022\n",
            "Epoch 102/300\n",
            "4/4 [==============================] - 0s 16ms/step - loss: 0.0052 - val_loss: 0.0022\n",
            "Epoch 103/300\n",
            "4/4 [==============================] - 0s 15ms/step - loss: 0.0051 - val_loss: 0.0023\n",
            "Epoch 104/300\n",
            "4/4 [==============================] - 0s 17ms/step - loss: 0.0051 - val_loss: 0.0024\n",
            "Epoch 105/300\n",
            "4/4 [==============================] - 0s 15ms/step - loss: 0.0051 - val_loss: 0.0022\n",
            "Epoch 106/300\n",
            "4/4 [==============================] - 0s 14ms/step - loss: 0.0051 - val_loss: 0.0023\n",
            "Epoch 107/300\n",
            "4/4 [==============================] - 0s 26ms/step - loss: 0.0050 - val_loss: 0.0021\n",
            "Epoch 108/300\n",
            "4/4 [==============================] - 0s 15ms/step - loss: 0.0050 - val_loss: 0.0022\n",
            "Epoch 109/300\n",
            "4/4 [==============================] - 0s 13ms/step - loss: 0.0050 - val_loss: 0.0023\n",
            "Epoch 110/300\n",
            "4/4 [==============================] - 0s 15ms/step - loss: 0.0050 - val_loss: 0.0024\n",
            "Epoch 111/300\n",
            "4/4 [==============================] - 0s 16ms/step - loss: 0.0049 - val_loss: 0.0021\n",
            "Epoch 112/300\n",
            "4/4 [==============================] - 0s 15ms/step - loss: 0.0049 - val_loss: 0.0024\n",
            "Epoch 113/300\n",
            "4/4 [==============================] - 0s 16ms/step - loss: 0.0049 - val_loss: 0.0021\n",
            "Epoch 114/300\n",
            "4/4 [==============================] - 0s 14ms/step - loss: 0.0049 - val_loss: 0.0022\n",
            "Epoch 115/300\n",
            "4/4 [==============================] - 0s 14ms/step - loss: 0.0049 - val_loss: 0.0022\n",
            "Epoch 116/300\n",
            "4/4 [==============================] - 0s 15ms/step - loss: 0.0048 - val_loss: 0.0024\n",
            "Epoch 117/300\n",
            "4/4 [==============================] - 0s 15ms/step - loss: 0.0048 - val_loss: 0.0024\n",
            "Epoch 118/300\n",
            "4/4 [==============================] - 0s 21ms/step - loss: 0.0048 - val_loss: 0.0020\n",
            "Epoch 119/300\n",
            "4/4 [==============================] - 0s 15ms/step - loss: 0.0048 - val_loss: 0.0023\n",
            "Epoch 120/300\n",
            "4/4 [==============================] - 0s 14ms/step - loss: 0.0047 - val_loss: 0.0025\n",
            "Epoch 121/300\n",
            "4/4 [==============================] - 0s 15ms/step - loss: 0.0047 - val_loss: 0.0024\n",
            "Epoch 122/300\n",
            "4/4 [==============================] - 0s 17ms/step - loss: 0.0047 - val_loss: 0.0023\n",
            "Epoch 123/300\n",
            "4/4 [==============================] - 0s 16ms/step - loss: 0.0047 - val_loss: 0.0021\n",
            "Epoch 124/300\n",
            "4/4 [==============================] - 0s 14ms/step - loss: 0.0047 - val_loss: 0.0023\n",
            "Epoch 125/300\n",
            "4/4 [==============================] - 0s 15ms/step - loss: 0.0046 - val_loss: 0.0023\n",
            "Epoch 126/300\n",
            "4/4 [==============================] - 0s 15ms/step - loss: 0.0046 - val_loss: 0.0025\n",
            "Epoch 127/300\n",
            "4/4 [==============================] - 0s 15ms/step - loss: 0.0046 - val_loss: 0.0024\n",
            "Epoch 128/300\n",
            "4/4 [==============================] - 0s 15ms/step - loss: 0.0046 - val_loss: 0.0025\n",
            "Epoch 129/300\n",
            "4/4 [==============================] - 0s 14ms/step - loss: 0.0046 - val_loss: 0.0023\n",
            "Epoch 130/300\n",
            "4/4 [==============================] - 0s 14ms/step - loss: 0.0045 - val_loss: 0.0021\n",
            "Epoch 131/300\n",
            "4/4 [==============================] - 0s 16ms/step - loss: 0.0045 - val_loss: 0.0024\n",
            "Epoch 132/300\n",
            "4/4 [==============================] - 0s 14ms/step - loss: 0.0045 - val_loss: 0.0022\n",
            "Epoch 133/300\n",
            "4/4 [==============================] - 0s 14ms/step - loss: 0.0045 - val_loss: 0.0024\n",
            "Epoch 134/300\n",
            "4/4 [==============================] - 0s 14ms/step - loss: 0.0045 - val_loss: 0.0025\n",
            "Epoch 135/300\n",
            "4/4 [==============================] - 0s 14ms/step - loss: 0.0044 - val_loss: 0.0023\n",
            "Epoch 136/300\n",
            "4/4 [==============================] - 0s 17ms/step - loss: 0.0045 - val_loss: 0.0021\n",
            "Epoch 137/300\n",
            "4/4 [==============================] - 0s 13ms/step - loss: 0.0044 - val_loss: 0.0029\n",
            "Epoch 138/300\n",
            "4/4 [==============================] - 0s 16ms/step - loss: 0.0045 - val_loss: 0.0026\n",
            "Epoch 139/300\n",
            "4/4 [==============================] - 0s 16ms/step - loss: 0.0045 - val_loss: 0.0021\n",
            "Epoch 140/300\n",
            "4/4 [==============================] - 0s 15ms/step - loss: 0.0044 - val_loss: 0.0023\n",
            "Epoch 141/300\n",
            "4/4 [==============================] - 0s 14ms/step - loss: 0.0043 - val_loss: 0.0026\n",
            "Epoch 142/300\n",
            "4/4 [==============================] - 0s 14ms/step - loss: 0.0043 - val_loss: 0.0024\n",
            "Epoch 143/300\n",
            "4/4 [==============================] - 0s 15ms/step - loss: 0.0043 - val_loss: 0.0023\n",
            "Epoch 144/300\n",
            "4/4 [==============================] - 0s 14ms/step - loss: 0.0043 - val_loss: 0.0027\n",
            "Epoch 145/300\n",
            "4/4 [==============================] - 0s 14ms/step - loss: 0.0043 - val_loss: 0.0022\n",
            "Epoch 146/300\n",
            "4/4 [==============================] - 0s 16ms/step - loss: 0.0043 - val_loss: 0.0023\n",
            "Epoch 147/300\n",
            "4/4 [==============================] - 0s 15ms/step - loss: 0.0042 - val_loss: 0.0026\n",
            "Epoch 148/300\n",
            "4/4 [==============================] - 0s 15ms/step - loss: 0.0043 - val_loss: 0.0024\n",
            "Epoch 149/300\n",
            "4/4 [==============================] - 0s 14ms/step - loss: 0.0042 - val_loss: 0.0025\n",
            "Epoch 150/300\n",
            "4/4 [==============================] - 0s 16ms/step - loss: 0.0042 - val_loss: 0.0022\n",
            "Epoch 151/300\n",
            "4/4 [==============================] - 0s 15ms/step - loss: 0.0042 - val_loss: 0.0025\n",
            "Epoch 152/300\n",
            "4/4 [==============================] - 0s 21ms/step - loss: 0.0042 - val_loss: 0.0026\n",
            "Epoch 153/300\n",
            "4/4 [==============================] - 0s 15ms/step - loss: 0.0042 - val_loss: 0.0024\n",
            "Epoch 154/300\n",
            "4/4 [==============================] - 0s 15ms/step - loss: 0.0042 - val_loss: 0.0022\n",
            "Epoch 155/300\n",
            "4/4 [==============================] - 0s 16ms/step - loss: 0.0041 - val_loss: 0.0024\n",
            "Epoch 156/300\n",
            "4/4 [==============================] - 0s 15ms/step - loss: 0.0041 - val_loss: 0.0027\n",
            "Epoch 157/300\n",
            "4/4 [==============================] - 0s 14ms/step - loss: 0.0041 - val_loss: 0.0025\n",
            "Epoch 158/300\n",
            "4/4 [==============================] - 0s 14ms/step - loss: 0.0041 - val_loss: 0.0024\n",
            "Epoch 159/300\n",
            "4/4 [==============================] - 0s 15ms/step - loss: 0.0041 - val_loss: 0.0025\n",
            "Epoch 160/300\n",
            "4/4 [==============================] - 0s 14ms/step - loss: 0.0041 - val_loss: 0.0025\n",
            "Epoch 161/300\n",
            "4/4 [==============================] - 0s 15ms/step - loss: 0.0041 - val_loss: 0.0023\n",
            "Epoch 162/300\n",
            "4/4 [==============================] - 0s 14ms/step - loss: 0.0040 - val_loss: 0.0025\n",
            "Epoch 163/300\n",
            "4/4 [==============================] - 0s 14ms/step - loss: 0.0040 - val_loss: 0.0025\n",
            "Epoch 164/300\n",
            "4/4 [==============================] - 0s 18ms/step - loss: 0.0040 - val_loss: 0.0024\n",
            "Epoch 165/300\n",
            "4/4 [==============================] - 0s 15ms/step - loss: 0.0040 - val_loss: 0.0023\n",
            "Epoch 166/300\n",
            "4/4 [==============================] - 0s 21ms/step - loss: 0.0040 - val_loss: 0.0026\n",
            "Epoch 167/300\n",
            "4/4 [==============================] - 0s 15ms/step - loss: 0.0040 - val_loss: 0.0025\n",
            "Epoch 168/300\n",
            "4/4 [==============================] - 0s 14ms/step - loss: 0.0040 - val_loss: 0.0027\n",
            "Epoch 169/300\n",
            "4/4 [==============================] - 0s 15ms/step - loss: 0.0040 - val_loss: 0.0024\n",
            "Epoch 170/300\n",
            "4/4 [==============================] - 0s 17ms/step - loss: 0.0040 - val_loss: 0.0025\n",
            "Epoch 171/300\n",
            "4/4 [==============================] - 0s 17ms/step - loss: 0.0040 - val_loss: 0.0024\n",
            "Epoch 172/300\n",
            "4/4 [==============================] - 0s 17ms/step - loss: 0.0039 - val_loss: 0.0026\n",
            "Epoch 173/300\n",
            "4/4 [==============================] - 0s 15ms/step - loss: 0.0040 - val_loss: 0.0026\n",
            "Epoch 174/300\n",
            "4/4 [==============================] - 0s 16ms/step - loss: 0.0039 - val_loss: 0.0025\n",
            "Epoch 175/300\n",
            "4/4 [==============================] - 0s 16ms/step - loss: 0.0039 - val_loss: 0.0026\n",
            "Epoch 176/300\n",
            "4/4 [==============================] - 0s 23ms/step - loss: 0.0039 - val_loss: 0.0025\n",
            "Epoch 177/300\n",
            "4/4 [==============================] - 0s 26ms/step - loss: 0.0039 - val_loss: 0.0028\n",
            "Epoch 178/300\n",
            "4/4 [==============================] - 0s 23ms/step - loss: 0.0039 - val_loss: 0.0025\n",
            "Epoch 179/300\n",
            "4/4 [==============================] - 0s 22ms/step - loss: 0.0038 - val_loss: 0.0026\n",
            "Epoch 180/300\n",
            "4/4 [==============================] - 0s 22ms/step - loss: 0.0038 - val_loss: 0.0025\n",
            "Epoch 181/300\n",
            "4/4 [==============================] - 0s 24ms/step - loss: 0.0038 - val_loss: 0.0027\n",
            "Epoch 182/300\n",
            "4/4 [==============================] - 0s 24ms/step - loss: 0.0038 - val_loss: 0.0022\n",
            "Epoch 183/300\n",
            "4/4 [==============================] - 0s 24ms/step - loss: 0.0038 - val_loss: 0.0026\n",
            "Epoch 184/300\n",
            "4/4 [==============================] - 0s 22ms/step - loss: 0.0038 - val_loss: 0.0029\n",
            "Epoch 185/300\n",
            "4/4 [==============================] - 0s 22ms/step - loss: 0.0038 - val_loss: 0.0026\n",
            "Epoch 186/300\n",
            "4/4 [==============================] - 0s 21ms/step - loss: 0.0038 - val_loss: 0.0025\n",
            "Epoch 187/300\n",
            "4/4 [==============================] - 0s 21ms/step - loss: 0.0038 - val_loss: 0.0026\n",
            "Epoch 188/300\n",
            "4/4 [==============================] - 0s 22ms/step - loss: 0.0037 - val_loss: 0.0026\n",
            "Epoch 189/300\n",
            "4/4 [==============================] - 0s 26ms/step - loss: 0.0038 - val_loss: 0.0024\n",
            "Epoch 190/300\n",
            "4/4 [==============================] - 0s 25ms/step - loss: 0.0038 - val_loss: 0.0026\n",
            "Epoch 191/300\n",
            "4/4 [==============================] - 0s 21ms/step - loss: 0.0038 - val_loss: 0.0026\n",
            "Epoch 192/300\n",
            "4/4 [==============================] - 0s 20ms/step - loss: 0.0037 - val_loss: 0.0027\n",
            "Epoch 193/300\n",
            "4/4 [==============================] - 0s 21ms/step - loss: 0.0037 - val_loss: 0.0027\n",
            "Epoch 194/300\n",
            "4/4 [==============================] - 0s 24ms/step - loss: 0.0037 - val_loss: 0.0026\n",
            "Epoch 195/300\n",
            "4/4 [==============================] - 0s 26ms/step - loss: 0.0037 - val_loss: 0.0026\n",
            "Epoch 196/300\n",
            "4/4 [==============================] - 0s 23ms/step - loss: 0.0037 - val_loss: 0.0027\n",
            "Epoch 197/300\n",
            "4/4 [==============================] - 0s 22ms/step - loss: 0.0037 - val_loss: 0.0026\n",
            "Epoch 198/300\n",
            "4/4 [==============================] - 0s 22ms/step - loss: 0.0036 - val_loss: 0.0027\n",
            "Epoch 199/300\n",
            "4/4 [==============================] - 0s 24ms/step - loss: 0.0036 - val_loss: 0.0027\n",
            "Epoch 200/300\n",
            "4/4 [==============================] - 0s 22ms/step - loss: 0.0037 - val_loss: 0.0026\n",
            "Epoch 201/300\n",
            "4/4 [==============================] - 0s 22ms/step - loss: 0.0036 - val_loss: 0.0026\n",
            "Epoch 202/300\n",
            "4/4 [==============================] - 0s 21ms/step - loss: 0.0036 - val_loss: 0.0025\n",
            "Epoch 203/300\n",
            "4/4 [==============================] - 0s 24ms/step - loss: 0.0036 - val_loss: 0.0027\n",
            "Epoch 204/300\n",
            "4/4 [==============================] - 0s 22ms/step - loss: 0.0036 - val_loss: 0.0026\n",
            "Epoch 205/300\n",
            "4/4 [==============================] - 0s 15ms/step - loss: 0.0036 - val_loss: 0.0025\n",
            "Epoch 206/300\n",
            "4/4 [==============================] - 0s 17ms/step - loss: 0.0036 - val_loss: 0.0028\n",
            "Epoch 207/300\n",
            "4/4 [==============================] - 0s 15ms/step - loss: 0.0036 - val_loss: 0.0027\n",
            "Epoch 208/300\n",
            "4/4 [==============================] - 0s 14ms/step - loss: 0.0036 - val_loss: 0.0028\n",
            "Epoch 209/300\n",
            "4/4 [==============================] - 0s 14ms/step - loss: 0.0035 - val_loss: 0.0028\n",
            "Epoch 210/300\n",
            "4/4 [==============================] - 0s 15ms/step - loss: 0.0035 - val_loss: 0.0025\n",
            "Epoch 211/300\n",
            "4/4 [==============================] - 0s 16ms/step - loss: 0.0035 - val_loss: 0.0028\n",
            "Epoch 212/300\n",
            "4/4 [==============================] - 0s 16ms/step - loss: 0.0035 - val_loss: 0.0028\n",
            "Epoch 213/300\n",
            "4/4 [==============================] - 0s 15ms/step - loss: 0.0035 - val_loss: 0.0029\n",
            "Epoch 214/300\n",
            "4/4 [==============================] - 0s 15ms/step - loss: 0.0035 - val_loss: 0.0024\n",
            "Epoch 215/300\n",
            "4/4 [==============================] - 0s 15ms/step - loss: 0.0035 - val_loss: 0.0027\n",
            "Epoch 216/300\n",
            "4/4 [==============================] - 0s 16ms/step - loss: 0.0035 - val_loss: 0.0030\n",
            "Epoch 217/300\n",
            "4/4 [==============================] - 0s 15ms/step - loss: 0.0035 - val_loss: 0.0028\n",
            "Epoch 218/300\n",
            "4/4 [==============================] - 0s 16ms/step - loss: 0.0035 - val_loss: 0.0025\n",
            "Epoch 219/300\n",
            "4/4 [==============================] - 0s 15ms/step - loss: 0.0035 - val_loss: 0.0028\n",
            "Epoch 220/300\n",
            "4/4 [==============================] - 0s 15ms/step - loss: 0.0035 - val_loss: 0.0029\n",
            "Epoch 221/300\n",
            "4/4 [==============================] - 0s 15ms/step - loss: 0.0035 - val_loss: 0.0027\n",
            "Epoch 222/300\n",
            "4/4 [==============================] - 0s 15ms/step - loss: 0.0034 - val_loss: 0.0028\n",
            "Epoch 223/300\n",
            "4/4 [==============================] - 0s 14ms/step - loss: 0.0034 - val_loss: 0.0027\n",
            "Epoch 224/300\n",
            "4/4 [==============================] - 0s 16ms/step - loss: 0.0034 - val_loss: 0.0027\n",
            "Epoch 225/300\n",
            "4/4 [==============================] - 0s 16ms/step - loss: 0.0034 - val_loss: 0.0026\n",
            "Epoch 226/300\n",
            "4/4 [==============================] - 0s 22ms/step - loss: 0.0034 - val_loss: 0.0030\n",
            "Epoch 227/300\n",
            "4/4 [==============================] - 0s 15ms/step - loss: 0.0034 - val_loss: 0.0029\n",
            "Epoch 228/300\n",
            "4/4 [==============================] - 0s 16ms/step - loss: 0.0033 - val_loss: 0.0027\n",
            "Epoch 229/300\n",
            "4/4 [==============================] - 0s 16ms/step - loss: 0.0034 - val_loss: 0.0031\n",
            "Epoch 230/300\n",
            "4/4 [==============================] - 0s 17ms/step - loss: 0.0034 - val_loss: 0.0028\n",
            "Epoch 231/300\n",
            "4/4 [==============================] - 0s 15ms/step - loss: 0.0033 - val_loss: 0.0027\n",
            "Epoch 232/300\n",
            "4/4 [==============================] - 0s 15ms/step - loss: 0.0033 - val_loss: 0.0029\n",
            "Epoch 233/300\n",
            "4/4 [==============================] - 0s 17ms/step - loss: 0.0033 - val_loss: 0.0028\n",
            "Epoch 234/300\n",
            "4/4 [==============================] - 0s 17ms/step - loss: 0.0033 - val_loss: 0.0027\n",
            "Epoch 235/300\n",
            "4/4 [==============================] - 0s 17ms/step - loss: 0.0033 - val_loss: 0.0029\n",
            "Epoch 236/300\n",
            "4/4 [==============================] - 0s 18ms/step - loss: 0.0033 - val_loss: 0.0028\n",
            "Epoch 237/300\n",
            "4/4 [==============================] - 0s 16ms/step - loss: 0.0033 - val_loss: 0.0028\n",
            "Epoch 238/300\n",
            "4/4 [==============================] - 0s 15ms/step - loss: 0.0033 - val_loss: 0.0029\n",
            "Epoch 239/300\n",
            "4/4 [==============================] - 0s 15ms/step - loss: 0.0033 - val_loss: 0.0028\n",
            "Epoch 240/300\n",
            "4/4 [==============================] - 0s 16ms/step - loss: 0.0033 - val_loss: 0.0030\n",
            "Epoch 241/300\n",
            "4/4 [==============================] - 0s 14ms/step - loss: 0.0033 - val_loss: 0.0028\n",
            "Epoch 242/300\n",
            "4/4 [==============================] - 0s 14ms/step - loss: 0.0032 - val_loss: 0.0029\n",
            "Epoch 243/300\n",
            "4/4 [==============================] - 0s 15ms/step - loss: 0.0032 - val_loss: 0.0026\n",
            "Epoch 244/300\n",
            "4/4 [==============================] - 0s 19ms/step - loss: 0.0032 - val_loss: 0.0030\n",
            "Epoch 245/300\n",
            "4/4 [==============================] - 0s 16ms/step - loss: 0.0032 - val_loss: 0.0030\n",
            "Epoch 246/300\n",
            "4/4 [==============================] - 0s 14ms/step - loss: 0.0032 - val_loss: 0.0029\n",
            "Epoch 247/300\n",
            "4/4 [==============================] - 0s 14ms/step - loss: 0.0032 - val_loss: 0.0027\n",
            "Epoch 248/300\n",
            "4/4 [==============================] - 0s 16ms/step - loss: 0.0032 - val_loss: 0.0027\n",
            "Epoch 249/300\n",
            "4/4 [==============================] - 0s 17ms/step - loss: 0.0032 - val_loss: 0.0028\n",
            "Epoch 250/300\n",
            "4/4 [==============================] - 0s 16ms/step - loss: 0.0032 - val_loss: 0.0031\n",
            "Epoch 251/300\n",
            "4/4 [==============================] - 0s 15ms/step - loss: 0.0032 - val_loss: 0.0028\n",
            "Epoch 252/300\n",
            "4/4 [==============================] - 0s 18ms/step - loss: 0.0032 - val_loss: 0.0031\n",
            "Epoch 253/300\n",
            "4/4 [==============================] - 0s 15ms/step - loss: 0.0032 - val_loss: 0.0027\n",
            "Epoch 254/300\n",
            "4/4 [==============================] - 0s 15ms/step - loss: 0.0032 - val_loss: 0.0028\n",
            "Epoch 255/300\n",
            "4/4 [==============================] - 0s 15ms/step - loss: 0.0032 - val_loss: 0.0030\n",
            "Epoch 256/300\n",
            "4/4 [==============================] - 0s 16ms/step - loss: 0.0032 - val_loss: 0.0027\n",
            "Epoch 257/300\n",
            "4/4 [==============================] - 0s 16ms/step - loss: 0.0032 - val_loss: 0.0032\n",
            "Epoch 258/300\n",
            "4/4 [==============================] - 0s 17ms/step - loss: 0.0031 - val_loss: 0.0025\n",
            "Epoch 259/300\n",
            "4/4 [==============================] - 0s 15ms/step - loss: 0.0031 - val_loss: 0.0027\n",
            "Epoch 260/300\n",
            "4/4 [==============================] - 0s 17ms/step - loss: 0.0031 - val_loss: 0.0031\n",
            "Epoch 261/300\n",
            "4/4 [==============================] - 0s 15ms/step - loss: 0.0031 - val_loss: 0.0025\n",
            "Epoch 262/300\n",
            "4/4 [==============================] - 0s 14ms/step - loss: 0.0031 - val_loss: 0.0028\n",
            "Epoch 263/300\n",
            "4/4 [==============================] - 0s 15ms/step - loss: 0.0031 - val_loss: 0.0030\n",
            "Epoch 264/300\n",
            "4/4 [==============================] - 0s 15ms/step - loss: 0.0031 - val_loss: 0.0028\n",
            "Epoch 265/300\n",
            "4/4 [==============================] - 0s 16ms/step - loss: 0.0031 - val_loss: 0.0028\n",
            "Epoch 266/300\n",
            "4/4 [==============================] - 0s 16ms/step - loss: 0.0030 - val_loss: 0.0028\n",
            "Epoch 267/300\n",
            "4/4 [==============================] - 0s 19ms/step - loss: 0.0031 - val_loss: 0.0029\n",
            "Epoch 268/300\n",
            "4/4 [==============================] - 0s 16ms/step - loss: 0.0030 - val_loss: 0.0027\n",
            "Epoch 269/300\n",
            "4/4 [==============================] - 0s 15ms/step - loss: 0.0030 - val_loss: 0.0030\n",
            "Epoch 270/300\n",
            "4/4 [==============================] - 0s 15ms/step - loss: 0.0030 - val_loss: 0.0031\n",
            "Epoch 271/300\n",
            "4/4 [==============================] - 0s 16ms/step - loss: 0.0030 - val_loss: 0.0028\n",
            "Epoch 272/300\n",
            "4/4 [==============================] - 0s 16ms/step - loss: 0.0030 - val_loss: 0.0028\n",
            "Epoch 273/300\n",
            "4/4 [==============================] - 0s 16ms/step - loss: 0.0030 - val_loss: 0.0028\n",
            "Epoch 274/300\n",
            "4/4 [==============================] - 0s 18ms/step - loss: 0.0030 - val_loss: 0.0029\n",
            "Epoch 275/300\n",
            "4/4 [==============================] - 0s 14ms/step - loss: 0.0030 - val_loss: 0.0028\n",
            "Epoch 276/300\n",
            "4/4 [==============================] - 0s 15ms/step - loss: 0.0030 - val_loss: 0.0029\n",
            "Epoch 277/300\n",
            "4/4 [==============================] - 0s 15ms/step - loss: 0.0030 - val_loss: 0.0029\n",
            "Epoch 278/300\n",
            "4/4 [==============================] - 0s 16ms/step - loss: 0.0030 - val_loss: 0.0028\n",
            "Epoch 279/300\n",
            "4/4 [==============================] - 0s 15ms/step - loss: 0.0030 - val_loss: 0.0028\n",
            "Epoch 280/300\n",
            "4/4 [==============================] - 0s 17ms/step - loss: 0.0029 - val_loss: 0.0030\n",
            "Epoch 281/300\n",
            "4/4 [==============================] - 0s 18ms/step - loss: 0.0030 - val_loss: 0.0029\n",
            "Epoch 282/300\n",
            "4/4 [==============================] - 0s 19ms/step - loss: 0.0030 - val_loss: 0.0028\n",
            "Epoch 283/300\n",
            "4/4 [==============================] - 0s 16ms/step - loss: 0.0029 - val_loss: 0.0029\n",
            "Epoch 284/300\n",
            "4/4 [==============================] - 0s 15ms/step - loss: 0.0029 - val_loss: 0.0028\n",
            "Epoch 285/300\n",
            "4/4 [==============================] - 0s 18ms/step - loss: 0.0029 - val_loss: 0.0031\n",
            "Epoch 286/300\n",
            "4/4 [==============================] - 0s 16ms/step - loss: 0.0029 - val_loss: 0.0030\n",
            "Epoch 287/300\n",
            "4/4 [==============================] - 0s 19ms/step - loss: 0.0029 - val_loss: 0.0027\n",
            "Epoch 288/300\n",
            "4/4 [==============================] - 0s 16ms/step - loss: 0.0029 - val_loss: 0.0032\n",
            "Epoch 289/300\n",
            "4/4 [==============================] - 0s 17ms/step - loss: 0.0029 - val_loss: 0.0025\n",
            "Epoch 290/300\n",
            "4/4 [==============================] - 0s 15ms/step - loss: 0.0029 - val_loss: 0.0029\n",
            "Epoch 291/300\n",
            "4/4 [==============================] - 0s 17ms/step - loss: 0.0029 - val_loss: 0.0032\n",
            "Epoch 292/300\n",
            "4/4 [==============================] - 0s 16ms/step - loss: 0.0029 - val_loss: 0.0028\n",
            "Epoch 293/300\n",
            "4/4 [==============================] - 0s 16ms/step - loss: 0.0029 - val_loss: 0.0028\n",
            "Epoch 294/300\n",
            "4/4 [==============================] - 0s 15ms/step - loss: 0.0028 - val_loss: 0.0030\n",
            "Epoch 295/300\n",
            "4/4 [==============================] - 0s 16ms/step - loss: 0.0028 - val_loss: 0.0030\n",
            "Epoch 296/300\n",
            "4/4 [==============================] - 0s 16ms/step - loss: 0.0028 - val_loss: 0.0026\n",
            "Epoch 297/300\n",
            "4/4 [==============================] - 0s 18ms/step - loss: 0.0028 - val_loss: 0.0029\n",
            "Epoch 298/300\n",
            "4/4 [==============================] - 0s 16ms/step - loss: 0.0028 - val_loss: 0.0031\n",
            "Epoch 299/300\n",
            "4/4 [==============================] - 0s 14ms/step - loss: 0.0028 - val_loss: 0.0028\n",
            "Epoch 300/300\n",
            "4/4 [==============================] - 0s 16ms/step - loss: 0.0028 - val_loss: 0.0028\n"
          ]
        }
      ]
    },
    {
      "cell_type": "code",
      "source": [
        "#Plot the loss\n",
        "plt.plot(r.history['loss'], label='train loss')\n",
        "plt.plot(r.history['val_loss'], label='test loss')\n",
        "plt.legend();"
      ],
      "metadata": {
        "colab": {
          "base_uri": "https://localhost:8080/",
          "height": 268
        },
        "id": "5KKu0GLMcahK",
        "outputId": "fca62d30-66c7-443a-e76f-471df2c59f1b"
      },
      "execution_count": 144,
      "outputs": [
        {
          "output_type": "display_data",
          "data": {
            "text/plain": [
              "<Figure size 432x288 with 1 Axes>"
            ],
            "image/png": "[encoded data removed]"
          },
          "metadata": {
            "needs_background": "light"
          }
        }
      ]
    },
    {
      "cell_type": "code",
      "source": [
        "#load best model\n",
        "best_model = tf.keras.models.load_model('best_model.h5')"
      ],
      "metadata": {
        "id": "HpvLavf1c_Sf"
      },
      "execution_count": 145,
      "outputs": []
    },
    {
      "cell_type": "code",
      "source": [
        "Ptrain = model.predict(Xtrain_m)\n",
        "Ptest = model.predict(Xtest_m)"
      ],
      "metadata": {
        "colab": {
          "base_uri": "https://localhost:8080/"
        },
        "id": "pr-bcwU7dQWq",
        "outputId": "796343ad-9ef2-4d1a-b6d0-205899e8d3bc"
      },
      "execution_count": 146,
      "outputs": [
        {
          "output_type": "stream",
          "name": "stdout",
          "text": [
            "4/4 [==============================] - 1s 5ms/step\n",
            "1/1 [==============================] - 0s 57ms/step\n"
          ]
        }
      ]
    },
    {
      "cell_type": "code",
      "source": [
        "Ptrain.shape, Ptest.shape"
      ],
      "metadata": {
        "colab": {
          "base_uri": "https://localhost:8080/"
        },
        "id": "0A8suMDKdXjx",
        "outputId": "5b0a5296-3c5e-4b02-ccbf-ce96d2026423"
      },
      "execution_count": 147,
      "outputs": [
        {
          "output_type": "execute_result",
          "data": {
            "text/plain": [
              "((121, 12), (1, 12))"
            ]
          },
          "metadata": {},
          "execution_count": 147
        }
      ]
    },
    {
      "cell_type": "code",
      "source": [
        "Ptrain = Ptrain[:,0]\n",
        "Ptest = Ptest [0]"
      ],
      "metadata": {
        "id": "jzksahA-dlXp"
      },
      "execution_count": 148,
      "outputs": []
    },
    {
      "cell_type": "code",
      "source": [
        "print(Ptest)"
      ],
      "metadata": {
        "colab": {
          "base_uri": "https://localhost:8080/"
        },
        "id": "Evngv2PHduup",
        "outputId": "e44f5fa1-c615-47ab-9f04-456910f16831"
      },
      "execution_count": 150,
      "outputs": [
        {
          "output_type": "stream",
          "name": "stdout",
          "text": [
            "[ 0.07275502 -0.09870896  0.13866356  0.01025806  0.0219121   0.17501074\n",
            "  0.10229666  0.03305747 -0.1425989  -0.14096227 -0.0900812   0.06904694]\n"
          ]
        }
      ]
    },
    {
      "cell_type": "code",
      "source": [
        "# save multi-output forecast to dataframe []\n",
        "df.loc[test_idx, 'multioutput'] = last_train + \\\n",
        "  np.cumsum(Ptest)"
      ],
      "metadata": {
        "id": "dF4sp1f8d53n"
      },
      "execution_count": 151,
      "outputs": []
    },
    {
      "cell_type": "code",
      "source": [
        "#plot all forecasts\n",
        "cols = ['LogPassengers', 'multistep', '1step_test','multioutput']\n",
        "df[cols].plot(figsize=(15,5));"
      ],
      "metadata": {
        "colab": {
          "base_uri": "https://localhost:8080/",
          "height": 334
        },
        "id": "e0fri8JyfZji",
        "outputId": "c073e66c-f029-4ca4-fcdf-efb72975020e"
      },
      "execution_count": 152,
      "outputs": [
        {
          "output_type": "display_data",
          "data": {
            "text/plain": [
              "<Figure size 1080x360 with 1 Axes>"
            ],
            "image/png": "[encoded data removed]"
          },
          "metadata": {
            "needs_background": "light"
          }
        }
      ]
    },
    {
      "cell_type": "code",
      "source": [
        "#RNN multiple LSTM Layers\n",
        "i = Input(shape=(Tx,1)) #recuerda Tx = T \n",
        "x = LSTM(16, return_sequences=True)(i)\n",
        "x = LSTM(16, return_sequences=True)(x)\n",
        "x = GlobalMaxPool1D()(x) #convertir la secuencia en 1 solo vector y aplicar solo una capa de densidad al final\n",
        "x = Dense(Ty)(x) #Ty = Ntest el cual es 12 en el ejemplo\n",
        "model = Model(i,x)"
      ],
      "metadata": {
        "id": "Tp4lSO1ufp7S"
      },
      "execution_count": 153,
      "outputs": []
    },
    {
      "cell_type": "code",
      "source": [
        "check_point = ModelCheckpoint(\n",
        "    'best_model.h5',monitor='val_loss',save_best_only=True)\n"
      ],
      "metadata": {
        "id": "lxWECMShgN-b"
      },
      "execution_count": 155,
      "outputs": []
    },
    {
      "cell_type": "code",
      "source": [
        "model.compile(\n",
        "    loss='mse',\n",
        "    optimizer='adam',\n",
        ")"
      ],
      "metadata": {
        "id": "EKyvcTAVgYDS"
      },
      "execution_count": 156,
      "outputs": []
    },
    {
      "cell_type": "code",
      "source": [
        "r = model.fit(\n",
        "    Xtrain_m,\n",
        "    Ytrain_m,\n",
        "    epochs=300,\n",
        "    validation_data=(Xtest_m,Ytest_m),\n",
        ")"
      ],
      "metadata": {
        "colab": {
          "base_uri": "https://localhost:8080/"
        },
        "id": "T0rx_SRahFPN",
        "outputId": "c988d589-143b-4389-fef7-daf08dd63f82"
      },
      "execution_count": 157,
      "outputs": [
        {
          "output_type": "stream",
          "name": "stdout",
          "text": [
            "Epoch 1/300\n",
            "4/4 [==============================] - 14s 599ms/step - loss: 0.0115 - val_loss: 0.0115\n",
            "Epoch 2/300\n",
            "4/4 [==============================] - 0s 31ms/step - loss: 0.0114 - val_loss: 0.0114\n",
            "Epoch 3/300\n",
            "4/4 [==============================] - 0s 32ms/step - loss: 0.0113 - val_loss: 0.0112\n",
            "Epoch 4/300\n",
            "4/4 [==============================] - 0s 33ms/step - loss: 0.0113 - val_loss: 0.0111\n",
            "Epoch 5/300\n",
            "4/4 [==============================] - 0s 30ms/step - loss: 0.0113 - val_loss: 0.0110\n",
            "Epoch 6/300\n",
            "4/4 [==============================] - 0s 33ms/step - loss: 0.0112 - val_loss: 0.0110\n",
            "Epoch 7/300\n",
            "4/4 [==============================] - 0s 30ms/step - loss: 0.0112 - val_loss: 0.0109\n",
            "Epoch 8/300\n",
            "4/4 [==============================] - 0s 27ms/step - loss: 0.0111 - val_loss: 0.0109\n",
            "Epoch 9/300\n",
            "4/4 [==============================] - 0s 32ms/step - loss: 0.0111 - val_loss: 0.0110\n",
            "Epoch 10/300\n",
            "4/4 [==============================] - 0s 33ms/step - loss: 0.0111 - val_loss: 0.0109\n",
            "Epoch 11/300\n",
            "4/4 [==============================] - 0s 27ms/step - loss: 0.0110 - val_loss: 0.0109\n",
            "Epoch 12/300\n",
            "4/4 [==============================] - 0s 44ms/step - loss: 0.0109 - val_loss: 0.0108\n",
            "Epoch 13/300\n",
            "4/4 [==============================] - 0s 28ms/step - loss: 0.0108 - val_loss: 0.0108\n",
            "Epoch 14/300\n",
            "4/4 [==============================] - 0s 30ms/step - loss: 0.0107 - val_loss: 0.0107\n",
            "Epoch 15/300\n",
            "4/4 [==============================] - 0s 36ms/step - loss: 0.0106 - val_loss: 0.0106\n",
            "Epoch 16/300\n",
            "4/4 [==============================] - 0s 33ms/step - loss: 0.0105 - val_loss: 0.0106\n",
            "Epoch 17/300\n",
            "4/4 [==============================] - 0s 38ms/step - loss: 0.0103 - val_loss: 0.0105\n",
            "Epoch 18/300\n",
            "4/4 [==============================] - 0s 37ms/step - loss: 0.0102 - val_loss: 0.0105\n",
            "Epoch 19/300\n",
            "4/4 [==============================] - 0s 36ms/step - loss: 0.0101 - val_loss: 0.0106\n",
            "Epoch 20/300\n",
            "4/4 [==============================] - 0s 38ms/step - loss: 0.0100 - val_loss: 0.0105\n",
            "Epoch 21/300\n",
            "4/4 [==============================] - 0s 36ms/step - loss: 0.0099 - val_loss: 0.0104\n",
            "Epoch 22/300\n",
            "4/4 [==============================] - 0s 37ms/step - loss: 0.0098 - val_loss: 0.0105\n",
            "Epoch 23/300\n",
            "4/4 [==============================] - 0s 32ms/step - loss: 0.0097 - val_loss: 0.0103\n",
            "Epoch 24/300\n",
            "4/4 [==============================] - 0s 32ms/step - loss: 0.0096 - val_loss: 0.0105\n",
            "Epoch 25/300\n",
            "4/4 [==============================] - 0s 40ms/step - loss: 0.0095 - val_loss: 0.0103\n",
            "Epoch 26/300\n",
            "4/4 [==============================] - 0s 32ms/step - loss: 0.0094 - val_loss: 0.0103\n",
            "Epoch 27/300\n",
            "4/4 [==============================] - 0s 29ms/step - loss: 0.0094 - val_loss: 0.0106\n",
            "Epoch 28/300\n",
            "4/4 [==============================] - 0s 30ms/step - loss: 0.0093 - val_loss: 0.0102\n",
            "Epoch 29/300\n",
            "4/4 [==============================] - 0s 31ms/step - loss: 0.0092 - val_loss: 0.0105\n",
            "Epoch 30/300\n",
            "4/4 [==============================] - 0s 37ms/step - loss: 0.0091 - val_loss: 0.0107\n",
            "Epoch 31/300\n",
            "4/4 [==============================] - 0s 31ms/step - loss: 0.0091 - val_loss: 0.0108\n",
            "Epoch 32/300\n",
            "4/4 [==============================] - 0s 27ms/step - loss: 0.0090 - val_loss: 0.0110\n",
            "Epoch 33/300\n",
            "4/4 [==============================] - 0s 30ms/step - loss: 0.0090 - val_loss: 0.0108\n",
            "Epoch 34/300\n",
            "4/4 [==============================] - 0s 28ms/step - loss: 0.0089 - val_loss: 0.0110\n",
            "Epoch 35/300\n",
            "4/4 [==============================] - 0s 34ms/step - loss: 0.0088 - val_loss: 0.0110\n",
            "Epoch 36/300\n",
            "4/4 [==============================] - 0s 28ms/step - loss: 0.0088 - val_loss: 0.0111\n",
            "Epoch 37/300\n",
            "4/4 [==============================] - 0s 25ms/step - loss: 0.0087 - val_loss: 0.0116\n",
            "Epoch 38/300\n",
            "4/4 [==============================] - 0s 31ms/step - loss: 0.0087 - val_loss: 0.0111\n",
            "Epoch 39/300\n",
            "4/4 [==============================] - 0s 31ms/step - loss: 0.0086 - val_loss: 0.0117\n",
            "Epoch 40/300\n",
            "4/4 [==============================] - 0s 26ms/step - loss: 0.0085 - val_loss: 0.0116\n",
            "Epoch 41/300\n",
            "4/4 [==============================] - 0s 29ms/step - loss: 0.0085 - val_loss: 0.0115\n",
            "Epoch 42/300\n",
            "4/4 [==============================] - 0s 28ms/step - loss: 0.0084 - val_loss: 0.0120\n",
            "Epoch 43/300\n",
            "4/4 [==============================] - 0s 30ms/step - loss: 0.0083 - val_loss: 0.0116\n",
            "Epoch 44/300\n",
            "4/4 [==============================] - 0s 32ms/step - loss: 0.0083 - val_loss: 0.0120\n",
            "Epoch 45/300\n",
            "4/4 [==============================] - 0s 27ms/step - loss: 0.0082 - val_loss: 0.0118\n",
            "Epoch 46/300\n",
            "4/4 [==============================] - 0s 38ms/step - loss: 0.0081 - val_loss: 0.0121\n",
            "Epoch 47/300\n",
            "4/4 [==============================] - 0s 37ms/step - loss: 0.0081 - val_loss: 0.0122\n",
            "Epoch 48/300\n",
            "4/4 [==============================] - 0s 34ms/step - loss: 0.0080 - val_loss: 0.0124\n",
            "Epoch 49/300\n",
            "4/4 [==============================] - 0s 31ms/step - loss: 0.0079 - val_loss: 0.0125\n",
            "Epoch 50/300\n",
            "4/4 [==============================] - 0s 34ms/step - loss: 0.0079 - val_loss: 0.0123\n",
            "Epoch 51/300\n",
            "4/4 [==============================] - 0s 32ms/step - loss: 0.0078 - val_loss: 0.0119\n",
            "Epoch 52/300\n",
            "4/4 [==============================] - 0s 32ms/step - loss: 0.0077 - val_loss: 0.0124\n",
            "Epoch 53/300\n",
            "4/4 [==============================] - 0s 32ms/step - loss: 0.0077 - val_loss: 0.0120\n",
            "Epoch 54/300\n",
            "4/4 [==============================] - 0s 31ms/step - loss: 0.0076 - val_loss: 0.0122\n",
            "Epoch 55/300\n",
            "4/4 [==============================] - 0s 34ms/step - loss: 0.0076 - val_loss: 0.0118\n",
            "Epoch 56/300\n",
            "4/4 [==============================] - 0s 29ms/step - loss: 0.0075 - val_loss: 0.0127\n",
            "Epoch 57/300\n",
            "4/4 [==============================] - 0s 34ms/step - loss: 0.0074 - val_loss: 0.0119\n",
            "Epoch 58/300\n",
            "4/4 [==============================] - 0s 26ms/step - loss: 0.0074 - val_loss: 0.0122\n",
            "Epoch 59/300\n",
            "4/4 [==============================] - 0s 27ms/step - loss: 0.0073 - val_loss: 0.0123\n",
            "Epoch 60/300\n",
            "4/4 [==============================] - 0s 33ms/step - loss: 0.0073 - val_loss: 0.0119\n",
            "Epoch 61/300\n",
            "4/4 [==============================] - 0s 36ms/step - loss: 0.0073 - val_loss: 0.0120\n",
            "Epoch 62/300\n",
            "4/4 [==============================] - 0s 32ms/step - loss: 0.0072 - val_loss: 0.0118\n",
            "Epoch 63/300\n",
            "4/4 [==============================] - 0s 35ms/step - loss: 0.0072 - val_loss: 0.0121\n",
            "Epoch 64/300\n",
            "4/4 [==============================] - 0s 32ms/step - loss: 0.0071 - val_loss: 0.0112\n",
            "Epoch 65/300\n",
            "4/4 [==============================] - 0s 32ms/step - loss: 0.0071 - val_loss: 0.0119\n",
            "Epoch 66/300\n",
            "4/4 [==============================] - 0s 31ms/step - loss: 0.0071 - val_loss: 0.0114\n",
            "Epoch 67/300\n",
            "4/4 [==============================] - 0s 33ms/step - loss: 0.0070 - val_loss: 0.0118\n",
            "Epoch 68/300\n",
            "4/4 [==============================] - 0s 34ms/step - loss: 0.0070 - val_loss: 0.0115\n",
            "Epoch 69/300\n",
            "4/4 [==============================] - 0s 27ms/step - loss: 0.0070 - val_loss: 0.0115\n",
            "Epoch 70/300\n",
            "4/4 [==============================] - 0s 32ms/step - loss: 0.0069 - val_loss: 0.0113\n",
            "Epoch 71/300\n",
            "4/4 [==============================] - 0s 34ms/step - loss: 0.0069 - val_loss: 0.0114\n",
            "Epoch 72/300\n",
            "4/4 [==============================] - 0s 27ms/step - loss: 0.0069 - val_loss: 0.0114\n",
            "Epoch 73/300\n",
            "4/4 [==============================] - 0s 31ms/step - loss: 0.0068 - val_loss: 0.0111\n",
            "Epoch 74/300\n",
            "4/4 [==============================] - 0s 27ms/step - loss: 0.0068 - val_loss: 0.0110\n",
            "Epoch 75/300\n",
            "4/4 [==============================] - 0s 30ms/step - loss: 0.0068 - val_loss: 0.0110\n",
            "Epoch 76/300\n",
            "4/4 [==============================] - 0s 27ms/step - loss: 0.0067 - val_loss: 0.0110\n",
            "Epoch 77/300\n",
            "4/4 [==============================] - 0s 32ms/step - loss: 0.0067 - val_loss: 0.0108\n",
            "Epoch 78/300\n",
            "4/4 [==============================] - 0s 32ms/step - loss: 0.0067 - val_loss: 0.0108\n",
            "Epoch 79/300\n",
            "4/4 [==============================] - 0s 32ms/step - loss: 0.0067 - val_loss: 0.0106\n",
            "Epoch 80/300\n",
            "4/4 [==============================] - 0s 32ms/step - loss: 0.0066 - val_loss: 0.0108\n",
            "Epoch 81/300\n",
            "4/4 [==============================] - 0s 33ms/step - loss: 0.0066 - val_loss: 0.0107\n",
            "Epoch 82/300\n",
            "4/4 [==============================] - 0s 34ms/step - loss: 0.0066 - val_loss: 0.0105\n",
            "Epoch 83/300\n",
            "4/4 [==============================] - 0s 32ms/step - loss: 0.0066 - val_loss: 0.0105\n",
            "Epoch 84/300\n",
            "4/4 [==============================] - 0s 33ms/step - loss: 0.0065 - val_loss: 0.0103\n",
            "Epoch 85/300\n",
            "4/4 [==============================] - 0s 31ms/step - loss: 0.0065 - val_loss: 0.0103\n",
            "Epoch 86/300\n",
            "4/4 [==============================] - 0s 34ms/step - loss: 0.0065 - val_loss: 0.0100\n",
            "Epoch 87/300\n",
            "4/4 [==============================] - 0s 28ms/step - loss: 0.0065 - val_loss: 0.0103\n",
            "Epoch 88/300\n",
            "4/4 [==============================] - 0s 36ms/step - loss: 0.0064 - val_loss: 0.0098\n",
            "Epoch 89/300\n",
            "4/4 [==============================] - 0s 32ms/step - loss: 0.0064 - val_loss: 0.0100\n",
            "Epoch 90/300\n",
            "4/4 [==============================] - 0s 33ms/step - loss: 0.0064 - val_loss: 0.0098\n",
            "Epoch 91/300\n",
            "4/4 [==============================] - 0s 31ms/step - loss: 0.0064 - val_loss: 0.0099\n",
            "Epoch 92/300\n",
            "4/4 [==============================] - 0s 32ms/step - loss: 0.0064 - val_loss: 0.0102\n",
            "Epoch 93/300\n",
            "4/4 [==============================] - 0s 35ms/step - loss: 0.0064 - val_loss: 0.0097\n",
            "Epoch 94/300\n",
            "4/4 [==============================] - 0s 26ms/step - loss: 0.0063 - val_loss: 0.0100\n",
            "Epoch 95/300\n",
            "4/4 [==============================] - 0s 30ms/step - loss: 0.0063 - val_loss: 0.0098\n",
            "Epoch 96/300\n",
            "4/4 [==============================] - 0s 32ms/step - loss: 0.0063 - val_loss: 0.0099\n",
            "Epoch 97/300\n",
            "4/4 [==============================] - 0s 34ms/step - loss: 0.0063 - val_loss: 0.0098\n",
            "Epoch 98/300\n",
            "4/4 [==============================] - 0s 33ms/step - loss: 0.0062 - val_loss: 0.0096\n",
            "Epoch 99/300\n",
            "4/4 [==============================] - 0s 29ms/step - loss: 0.0062 - val_loss: 0.0100\n",
            "Epoch 100/300\n",
            "4/4 [==============================] - 0s 29ms/step - loss: 0.0062 - val_loss: 0.0095\n",
            "Epoch 101/300\n",
            "4/4 [==============================] - 0s 26ms/step - loss: 0.0061 - val_loss: 0.0094\n",
            "Epoch 102/300\n",
            "4/4 [==============================] - 0s 33ms/step - loss: 0.0061 - val_loss: 0.0094\n",
            "Epoch 103/300\n",
            "4/4 [==============================] - 0s 28ms/step - loss: 0.0061 - val_loss: 0.0092\n",
            "Epoch 104/300\n",
            "4/4 [==============================] - 0s 31ms/step - loss: 0.0061 - val_loss: 0.0093\n",
            "Epoch 105/300\n",
            "4/4 [==============================] - 0s 34ms/step - loss: 0.0061 - val_loss: 0.0091\n",
            "Epoch 106/300\n",
            "4/4 [==============================] - 0s 35ms/step - loss: 0.0060 - val_loss: 0.0091\n",
            "Epoch 107/300\n",
            "4/4 [==============================] - 0s 33ms/step - loss: 0.0060 - val_loss: 0.0093\n",
            "Epoch 108/300\n",
            "4/4 [==============================] - 0s 28ms/step - loss: 0.0060 - val_loss: 0.0094\n",
            "Epoch 109/300\n",
            "4/4 [==============================] - 0s 32ms/step - loss: 0.0060 - val_loss: 0.0090\n",
            "Epoch 110/300\n",
            "4/4 [==============================] - 0s 33ms/step - loss: 0.0059 - val_loss: 0.0089\n",
            "Epoch 111/300\n",
            "4/4 [==============================] - 0s 33ms/step - loss: 0.0059 - val_loss: 0.0088\n",
            "Epoch 112/300\n",
            "4/4 [==============================] - 0s 34ms/step - loss: 0.0059 - val_loss: 0.0089\n",
            "Epoch 113/300\n",
            "4/4 [==============================] - 0s 35ms/step - loss: 0.0058 - val_loss: 0.0090\n",
            "Epoch 114/300\n",
            "4/4 [==============================] - 0s 36ms/step - loss: 0.0058 - val_loss: 0.0090\n",
            "Epoch 115/300\n",
            "4/4 [==============================] - 0s 32ms/step - loss: 0.0059 - val_loss: 0.0086\n",
            "Epoch 116/300\n",
            "4/4 [==============================] - 0s 33ms/step - loss: 0.0058 - val_loss: 0.0088\n",
            "Epoch 117/300\n",
            "4/4 [==============================] - 0s 33ms/step - loss: 0.0058 - val_loss: 0.0087\n",
            "Epoch 118/300\n",
            "4/4 [==============================] - 0s 33ms/step - loss: 0.0058 - val_loss: 0.0087\n",
            "Epoch 119/300\n",
            "4/4 [==============================] - 0s 34ms/step - loss: 0.0058 - val_loss: 0.0085\n",
            "Epoch 120/300\n",
            "4/4 [==============================] - 0s 34ms/step - loss: 0.0057 - val_loss: 0.0084\n",
            "Epoch 121/300\n",
            "4/4 [==============================] - 0s 32ms/step - loss: 0.0057 - val_loss: 0.0087\n",
            "Epoch 122/300\n",
            "4/4 [==============================] - 0s 37ms/step - loss: 0.0057 - val_loss: 0.0086\n",
            "Epoch 123/300\n",
            "4/4 [==============================] - 0s 32ms/step - loss: 0.0056 - val_loss: 0.0085\n",
            "Epoch 124/300\n",
            "4/4 [==============================] - 0s 36ms/step - loss: 0.0056 - val_loss: 0.0086\n",
            "Epoch 125/300\n",
            "4/4 [==============================] - 0s 33ms/step - loss: 0.0056 - val_loss: 0.0085\n",
            "Epoch 126/300\n",
            "4/4 [==============================] - 0s 35ms/step - loss: 0.0055 - val_loss: 0.0084\n",
            "Epoch 127/300\n",
            "4/4 [==============================] - 0s 31ms/step - loss: 0.0055 - val_loss: 0.0082\n",
            "Epoch 128/300\n",
            "4/4 [==============================] - 0s 34ms/step - loss: 0.0055 - val_loss: 0.0084\n",
            "Epoch 129/300\n",
            "4/4 [==============================] - 0s 34ms/step - loss: 0.0055 - val_loss: 0.0083\n",
            "Epoch 130/300\n",
            "4/4 [==============================] - 0s 33ms/step - loss: 0.0054 - val_loss: 0.0082\n",
            "Epoch 131/300\n",
            "4/4 [==============================] - 0s 32ms/step - loss: 0.0054 - val_loss: 0.0080\n",
            "Epoch 132/300\n",
            "4/4 [==============================] - 0s 35ms/step - loss: 0.0054 - val_loss: 0.0077\n",
            "Epoch 133/300\n",
            "4/4 [==============================] - 0s 33ms/step - loss: 0.0054 - val_loss: 0.0075\n",
            "Epoch 134/300\n",
            "4/4 [==============================] - 0s 27ms/step - loss: 0.0053 - val_loss: 0.0074\n",
            "Epoch 135/300\n",
            "4/4 [==============================] - 0s 39ms/step - loss: 0.0053 - val_loss: 0.0071\n",
            "Epoch 136/300\n",
            "4/4 [==============================] - 0s 41ms/step - loss: 0.0052 - val_loss: 0.0068\n",
            "Epoch 137/300\n",
            "4/4 [==============================] - 0s 38ms/step - loss: 0.0052 - val_loss: 0.0068\n",
            "Epoch 138/300\n",
            "4/4 [==============================] - 0s 33ms/step - loss: 0.0052 - val_loss: 0.0069\n",
            "Epoch 139/300\n",
            "4/4 [==============================] - 0s 33ms/step - loss: 0.0052 - val_loss: 0.0068\n",
            "Epoch 140/300\n",
            "4/4 [==============================] - 0s 27ms/step - loss: 0.0051 - val_loss: 0.0068\n",
            "Epoch 141/300\n",
            "4/4 [==============================] - 0s 38ms/step - loss: 0.0051 - val_loss: 0.0067\n",
            "Epoch 142/300\n",
            "4/4 [==============================] - 0s 34ms/step - loss: 0.0051 - val_loss: 0.0066\n",
            "Epoch 143/300\n",
            "4/4 [==============================] - 0s 34ms/step - loss: 0.0051 - val_loss: 0.0065\n",
            "Epoch 144/300\n",
            "4/4 [==============================] - 0s 34ms/step - loss: 0.0050 - val_loss: 0.0067\n",
            "Epoch 145/300\n",
            "4/4 [==============================] - 0s 36ms/step - loss: 0.0050 - val_loss: 0.0065\n",
            "Epoch 146/300\n",
            "4/4 [==============================] - 0s 30ms/step - loss: 0.0050 - val_loss: 0.0064\n",
            "Epoch 147/300\n",
            "4/4 [==============================] - 0s 33ms/step - loss: 0.0050 - val_loss: 0.0064\n",
            "Epoch 148/300\n",
            "4/4 [==============================] - 0s 27ms/step - loss: 0.0049 - val_loss: 0.0064\n",
            "Epoch 149/300\n",
            "4/4 [==============================] - 0s 32ms/step - loss: 0.0049 - val_loss: 0.0063\n",
            "Epoch 150/300\n",
            "4/4 [==============================] - 0s 34ms/step - loss: 0.0049 - val_loss: 0.0062\n",
            "Epoch 151/300\n",
            "4/4 [==============================] - 0s 31ms/step - loss: 0.0048 - val_loss: 0.0060\n",
            "Epoch 152/300\n",
            "4/4 [==============================] - 0s 31ms/step - loss: 0.0048 - val_loss: 0.0059\n",
            "Epoch 153/300\n",
            "4/4 [==============================] - 0s 31ms/step - loss: 0.0048 - val_loss: 0.0060\n",
            "Epoch 154/300\n",
            "4/4 [==============================] - 0s 31ms/step - loss: 0.0048 - val_loss: 0.0059\n",
            "Epoch 155/300\n",
            "4/4 [==============================] - 0s 32ms/step - loss: 0.0048 - val_loss: 0.0058\n",
            "Epoch 156/300\n",
            "4/4 [==============================] - 0s 33ms/step - loss: 0.0047 - val_loss: 0.0057\n",
            "Epoch 157/300\n",
            "4/4 [==============================] - 0s 34ms/step - loss: 0.0047 - val_loss: 0.0057\n",
            "Epoch 158/300\n",
            "4/4 [==============================] - 0s 33ms/step - loss: 0.0047 - val_loss: 0.0056\n",
            "Epoch 159/300\n",
            "4/4 [==============================] - 0s 29ms/step - loss: 0.0047 - val_loss: 0.0057\n",
            "Epoch 160/300\n",
            "4/4 [==============================] - 0s 30ms/step - loss: 0.0046 - val_loss: 0.0056\n",
            "Epoch 161/300\n",
            "4/4 [==============================] - 0s 35ms/step - loss: 0.0046 - val_loss: 0.0054\n",
            "Epoch 162/300\n",
            "4/4 [==============================] - 0s 34ms/step - loss: 0.0046 - val_loss: 0.0054\n",
            "Epoch 163/300\n",
            "4/4 [==============================] - 0s 32ms/step - loss: 0.0045 - val_loss: 0.0053\n",
            "Epoch 164/300\n",
            "4/4 [==============================] - 0s 33ms/step - loss: 0.0045 - val_loss: 0.0053\n",
            "Epoch 165/300\n",
            "4/4 [==============================] - 0s 32ms/step - loss: 0.0045 - val_loss: 0.0052\n",
            "Epoch 166/300\n",
            "4/4 [==============================] - 0s 34ms/step - loss: 0.0045 - val_loss: 0.0052\n",
            "Epoch 167/300\n",
            "4/4 [==============================] - 0s 26ms/step - loss: 0.0045 - val_loss: 0.0050\n",
            "Epoch 168/300\n",
            "4/4 [==============================] - 0s 35ms/step - loss: 0.0044 - val_loss: 0.0050\n",
            "Epoch 169/300\n",
            "4/4 [==============================] - 0s 34ms/step - loss: 0.0044 - val_loss: 0.0050\n",
            "Epoch 170/300\n",
            "4/4 [==============================] - 0s 33ms/step - loss: 0.0044 - val_loss: 0.0049\n",
            "Epoch 171/300\n",
            "4/4 [==============================] - 0s 33ms/step - loss: 0.0044 - val_loss: 0.0048\n",
            "Epoch 172/300\n",
            "4/4 [==============================] - 0s 38ms/step - loss: 0.0044 - val_loss: 0.0048\n",
            "Epoch 173/300\n",
            "4/4 [==============================] - 0s 32ms/step - loss: 0.0044 - val_loss: 0.0047\n",
            "Epoch 174/300\n",
            "4/4 [==============================] - 0s 34ms/step - loss: 0.0044 - val_loss: 0.0046\n",
            "Epoch 175/300\n",
            "4/4 [==============================] - 0s 33ms/step - loss: 0.0044 - val_loss: 0.0048\n",
            "Epoch 176/300\n",
            "4/4 [==============================] - 0s 34ms/step - loss: 0.0043 - val_loss: 0.0048\n",
            "Epoch 177/300\n",
            "4/4 [==============================] - 0s 34ms/step - loss: 0.0043 - val_loss: 0.0047\n",
            "Epoch 178/300\n",
            "4/4 [==============================] - 0s 32ms/step - loss: 0.0043 - val_loss: 0.0045\n",
            "Epoch 179/300\n",
            "4/4 [==============================] - 0s 33ms/step - loss: 0.0043 - val_loss: 0.0044\n",
            "Epoch 180/300\n",
            "4/4 [==============================] - 0s 35ms/step - loss: 0.0043 - val_loss: 0.0043\n",
            "Epoch 181/300\n",
            "4/4 [==============================] - 0s 35ms/step - loss: 0.0042 - val_loss: 0.0044\n",
            "Epoch 182/300\n",
            "4/4 [==============================] - 0s 35ms/step - loss: 0.0042 - val_loss: 0.0043\n",
            "Epoch 183/300\n",
            "4/4 [==============================] - 0s 35ms/step - loss: 0.0042 - val_loss: 0.0042\n",
            "Epoch 184/300\n",
            "4/4 [==============================] - 0s 29ms/step - loss: 0.0042 - val_loss: 0.0042\n",
            "Epoch 185/300\n",
            "4/4 [==============================] - 0s 39ms/step - loss: 0.0042 - val_loss: 0.0041\n",
            "Epoch 186/300\n",
            "4/4 [==============================] - 0s 33ms/step - loss: 0.0041 - val_loss: 0.0042\n",
            "Epoch 187/300\n",
            "4/4 [==============================] - 0s 38ms/step - loss: 0.0041 - val_loss: 0.0041\n",
            "Epoch 188/300\n",
            "4/4 [==============================] - 0s 40ms/step - loss: 0.0041 - val_loss: 0.0041\n",
            "Epoch 189/300\n",
            "4/4 [==============================] - 0s 30ms/step - loss: 0.0041 - val_loss: 0.0040\n",
            "Epoch 190/300\n",
            "4/4 [==============================] - 0s 26ms/step - loss: 0.0041 - val_loss: 0.0039\n",
            "Epoch 191/300\n",
            "4/4 [==============================] - 0s 32ms/step - loss: 0.0041 - val_loss: 0.0039\n",
            "Epoch 192/300\n",
            "4/4 [==============================] - 0s 32ms/step - loss: 0.0041 - val_loss: 0.0038\n",
            "Epoch 193/300\n",
            "4/4 [==============================] - 0s 36ms/step - loss: 0.0040 - val_loss: 0.0038\n",
            "Epoch 194/300\n",
            "4/4 [==============================] - 0s 33ms/step - loss: 0.0040 - val_loss: 0.0037\n",
            "Epoch 195/300\n",
            "4/4 [==============================] - 0s 30ms/step - loss: 0.0040 - val_loss: 0.0036\n",
            "Epoch 196/300\n",
            "4/4 [==============================] - 0s 28ms/step - loss: 0.0040 - val_loss: 0.0035\n",
            "Epoch 197/300\n",
            "4/4 [==============================] - 0s 33ms/step - loss: 0.0040 - val_loss: 0.0036\n",
            "Epoch 198/300\n",
            "4/4 [==============================] - 0s 35ms/step - loss: 0.0040 - val_loss: 0.0036\n",
            "Epoch 199/300\n",
            "4/4 [==============================] - 0s 35ms/step - loss: 0.0040 - val_loss: 0.0036\n",
            "Epoch 200/300\n",
            "4/4 [==============================] - 0s 36ms/step - loss: 0.0040 - val_loss: 0.0035\n",
            "Epoch 201/300\n",
            "4/4 [==============================] - 0s 33ms/step - loss: 0.0039 - val_loss: 0.0034\n",
            "Epoch 202/300\n",
            "4/4 [==============================] - 0s 27ms/step - loss: 0.0039 - val_loss: 0.0035\n",
            "Epoch 203/300\n",
            "4/4 [==============================] - 0s 33ms/step - loss: 0.0039 - val_loss: 0.0034\n",
            "Epoch 204/300\n",
            "4/4 [==============================] - 0s 34ms/step - loss: 0.0039 - val_loss: 0.0035\n",
            "Epoch 205/300\n",
            "4/4 [==============================] - 0s 32ms/step - loss: 0.0039 - val_loss: 0.0033\n",
            "Epoch 206/300\n",
            "4/4 [==============================] - 0s 36ms/step - loss: 0.0038 - val_loss: 0.0032\n",
            "Epoch 207/300\n",
            "4/4 [==============================] - 0s 29ms/step - loss: 0.0038 - val_loss: 0.0032\n",
            "Epoch 208/300\n",
            "4/4 [==============================] - 0s 33ms/step - loss: 0.0038 - val_loss: 0.0032\n",
            "Epoch 209/300\n",
            "4/4 [==============================] - 0s 34ms/step - loss: 0.0038 - val_loss: 0.0032\n",
            "Epoch 210/300\n",
            "4/4 [==============================] - 0s 36ms/step - loss: 0.0038 - val_loss: 0.0032\n",
            "Epoch 211/300\n",
            "4/4 [==============================] - 0s 33ms/step - loss: 0.0038 - val_loss: 0.0031\n",
            "Epoch 212/300\n",
            "4/4 [==============================] - 0s 35ms/step - loss: 0.0038 - val_loss: 0.0031\n",
            "Epoch 213/300\n",
            "4/4 [==============================] - 0s 29ms/step - loss: 0.0038 - val_loss: 0.0031\n",
            "Epoch 214/300\n",
            "4/4 [==============================] - 0s 39ms/step - loss: 0.0037 - val_loss: 0.0030\n",
            "Epoch 215/300\n",
            "4/4 [==============================] - 0s 33ms/step - loss: 0.0037 - val_loss: 0.0029\n",
            "Epoch 216/300\n",
            "4/4 [==============================] - 0s 38ms/step - loss: 0.0037 - val_loss: 0.0028\n",
            "Epoch 217/300\n",
            "4/4 [==============================] - 0s 34ms/step - loss: 0.0037 - val_loss: 0.0030\n",
            "Epoch 218/300\n",
            "4/4 [==============================] - 0s 32ms/step - loss: 0.0037 - val_loss: 0.0029\n",
            "Epoch 219/300\n",
            "4/4 [==============================] - 0s 35ms/step - loss: 0.0037 - val_loss: 0.0028\n",
            "Epoch 220/300\n",
            "4/4 [==============================] - 0s 32ms/step - loss: 0.0037 - val_loss: 0.0029\n",
            "Epoch 221/300\n",
            "4/4 [==============================] - 0s 32ms/step - loss: 0.0037 - val_loss: 0.0029\n",
            "Epoch 222/300\n",
            "4/4 [==============================] - 0s 32ms/step - loss: 0.0036 - val_loss: 0.0029\n",
            "Epoch 223/300\n",
            "4/4 [==============================] - 0s 29ms/step - loss: 0.0036 - val_loss: 0.0029\n",
            "Epoch 224/300\n",
            "4/4 [==============================] - 0s 35ms/step - loss: 0.0036 - val_loss: 0.0028\n",
            "Epoch 225/300\n",
            "4/4 [==============================] - 0s 32ms/step - loss: 0.0036 - val_loss: 0.0027\n",
            "Epoch 226/300\n",
            "4/4 [==============================] - 0s 32ms/step - loss: 0.0036 - val_loss: 0.0027\n",
            "Epoch 227/300\n",
            "4/4 [==============================] - 0s 29ms/step - loss: 0.0035 - val_loss: 0.0027\n",
            "Epoch 228/300\n",
            "4/4 [==============================] - 0s 32ms/step - loss: 0.0036 - val_loss: 0.0027\n",
            "Epoch 229/300\n",
            "4/4 [==============================] - 0s 32ms/step - loss: 0.0035 - val_loss: 0.0027\n",
            "Epoch 230/300\n",
            "4/4 [==============================] - 0s 26ms/step - loss: 0.0035 - val_loss: 0.0026\n",
            "Epoch 231/300\n",
            "4/4 [==============================] - 0s 37ms/step - loss: 0.0035 - val_loss: 0.0025\n",
            "Epoch 232/300\n",
            "4/4 [==============================] - 0s 28ms/step - loss: 0.0035 - val_loss: 0.0026\n",
            "Epoch 233/300\n",
            "4/4 [==============================] - 0s 34ms/step - loss: 0.0035 - val_loss: 0.0027\n",
            "Epoch 234/300\n",
            "4/4 [==============================] - 0s 36ms/step - loss: 0.0035 - val_loss: 0.0025\n",
            "Epoch 235/300\n",
            "4/4 [==============================] - 0s 35ms/step - loss: 0.0035 - val_loss: 0.0024\n",
            "Epoch 236/300\n",
            "4/4 [==============================] - 0s 36ms/step - loss: 0.0035 - val_loss: 0.0023\n",
            "Epoch 237/300\n",
            "4/4 [==============================] - 0s 37ms/step - loss: 0.0035 - val_loss: 0.0025\n",
            "Epoch 238/300\n",
            "4/4 [==============================] - 0s 33ms/step - loss: 0.0034 - val_loss: 0.0025\n",
            "Epoch 239/300\n",
            "4/4 [==============================] - 0s 28ms/step - loss: 0.0034 - val_loss: 0.0024\n",
            "Epoch 240/300\n",
            "4/4 [==============================] - 0s 33ms/step - loss: 0.0034 - val_loss: 0.0023\n",
            "Epoch 241/300\n",
            "4/4 [==============================] - 0s 34ms/step - loss: 0.0034 - val_loss: 0.0023\n",
            "Epoch 242/300\n",
            "4/4 [==============================] - 0s 35ms/step - loss: 0.0034 - val_loss: 0.0022\n",
            "Epoch 243/300\n",
            "4/4 [==============================] - 0s 32ms/step - loss: 0.0034 - val_loss: 0.0023\n",
            "Epoch 244/300\n",
            "4/4 [==============================] - 0s 34ms/step - loss: 0.0034 - val_loss: 0.0023\n",
            "Epoch 245/300\n",
            "4/4 [==============================] - 0s 34ms/step - loss: 0.0034 - val_loss: 0.0021\n",
            "Epoch 246/300\n",
            "4/4 [==============================] - 0s 35ms/step - loss: 0.0034 - val_loss: 0.0021\n",
            "Epoch 247/300\n",
            "4/4 [==============================] - 0s 32ms/step - loss: 0.0033 - val_loss: 0.0022\n",
            "Epoch 248/300\n",
            "4/4 [==============================] - 0s 35ms/step - loss: 0.0033 - val_loss: 0.0020\n",
            "Epoch 249/300\n",
            "4/4 [==============================] - 0s 44ms/step - loss: 0.0033 - val_loss: 0.0020\n",
            "Epoch 250/300\n",
            "4/4 [==============================] - 0s 33ms/step - loss: 0.0033 - val_loss: 0.0021\n",
            "Epoch 251/300\n",
            "4/4 [==============================] - 0s 29ms/step - loss: 0.0033 - val_loss: 0.0021\n",
            "Epoch 252/300\n",
            "4/4 [==============================] - 0s 42ms/step - loss: 0.0033 - val_loss: 0.0021\n",
            "Epoch 253/300\n",
            "4/4 [==============================] - 0s 35ms/step - loss: 0.0033 - val_loss: 0.0020\n",
            "Epoch 254/300\n",
            "4/4 [==============================] - 0s 35ms/step - loss: 0.0033 - val_loss: 0.0021\n",
            "Epoch 255/300\n",
            "4/4 [==============================] - 0s 34ms/step - loss: 0.0033 - val_loss: 0.0020\n",
            "Epoch 256/300\n",
            "4/4 [==============================] - 0s 35ms/step - loss: 0.0033 - val_loss: 0.0018\n",
            "Epoch 257/300\n",
            "4/4 [==============================] - 0s 36ms/step - loss: 0.0033 - val_loss: 0.0020\n",
            "Epoch 258/300\n",
            "4/4 [==============================] - 0s 35ms/step - loss: 0.0033 - val_loss: 0.0022\n",
            "Epoch 259/300\n",
            "4/4 [==============================] - 0s 38ms/step - loss: 0.0033 - val_loss: 0.0019\n",
            "Epoch 260/300\n",
            "4/4 [==============================] - 0s 35ms/step - loss: 0.0032 - val_loss: 0.0018\n",
            "Epoch 261/300\n",
            "4/4 [==============================] - 0s 37ms/step - loss: 0.0033 - val_loss: 0.0019\n",
            "Epoch 262/300\n",
            "4/4 [==============================] - 0s 35ms/step - loss: 0.0032 - val_loss: 0.0019\n",
            "Epoch 263/300\n",
            "4/4 [==============================] - 0s 36ms/step - loss: 0.0032 - val_loss: 0.0019\n",
            "Epoch 264/300\n",
            "4/4 [==============================] - 0s 35ms/step - loss: 0.0032 - val_loss: 0.0019\n",
            "Epoch 265/300\n",
            "4/4 [==============================] - 0s 33ms/step - loss: 0.0032 - val_loss: 0.0018\n",
            "Epoch 266/300\n",
            "4/4 [==============================] - 0s 34ms/step - loss: 0.0032 - val_loss: 0.0018\n",
            "Epoch 267/300\n",
            "4/4 [==============================] - 0s 31ms/step - loss: 0.0032 - val_loss: 0.0018\n",
            "Epoch 268/300\n",
            "4/4 [==============================] - 0s 35ms/step - loss: 0.0032 - val_loss: 0.0018\n",
            "Epoch 269/300\n",
            "4/4 [==============================] - 0s 34ms/step - loss: 0.0032 - val_loss: 0.0017\n",
            "Epoch 270/300\n",
            "4/4 [==============================] - 0s 28ms/step - loss: 0.0031 - val_loss: 0.0017\n",
            "Epoch 271/300\n",
            "4/4 [==============================] - 0s 38ms/step - loss: 0.0032 - val_loss: 0.0018\n",
            "Epoch 272/300\n",
            "4/4 [==============================] - 0s 35ms/step - loss: 0.0032 - val_loss: 0.0019\n",
            "Epoch 273/300\n",
            "4/4 [==============================] - 0s 28ms/step - loss: 0.0031 - val_loss: 0.0017\n",
            "Epoch 274/300\n",
            "4/4 [==============================] - 0s 31ms/step - loss: 0.0032 - val_loss: 0.0017\n",
            "Epoch 275/300\n",
            "4/4 [==============================] - 0s 33ms/step - loss: 0.0031 - val_loss: 0.0017\n",
            "Epoch 276/300\n",
            "4/4 [==============================] - 0s 33ms/step - loss: 0.0031 - val_loss: 0.0017\n",
            "Epoch 277/300\n",
            "4/4 [==============================] - 0s 36ms/step - loss: 0.0031 - val_loss: 0.0017\n",
            "Epoch 278/300\n",
            "4/4 [==============================] - 0s 35ms/step - loss: 0.0031 - val_loss: 0.0018\n",
            "Epoch 279/300\n",
            "4/4 [==============================] - 0s 36ms/step - loss: 0.0032 - val_loss: 0.0017\n",
            "Epoch 280/300\n",
            "4/4 [==============================] - 0s 34ms/step - loss: 0.0031 - val_loss: 0.0016\n",
            "Epoch 281/300\n",
            "4/4 [==============================] - 0s 34ms/step - loss: 0.0031 - val_loss: 0.0017\n",
            "Epoch 282/300\n",
            "4/4 [==============================] - 0s 33ms/step - loss: 0.0031 - val_loss: 0.0016\n",
            "Epoch 283/300\n",
            "4/4 [==============================] - 0s 33ms/step - loss: 0.0031 - val_loss: 0.0016\n",
            "Epoch 284/300\n",
            "4/4 [==============================] - 0s 33ms/step - loss: 0.0031 - val_loss: 0.0019\n",
            "Epoch 285/300\n",
            "4/4 [==============================] - 0s 32ms/step - loss: 0.0031 - val_loss: 0.0016\n",
            "Epoch 286/300\n",
            "4/4 [==============================] - 0s 40ms/step - loss: 0.0031 - val_loss: 0.0015\n",
            "Epoch 287/300\n",
            "4/4 [==============================] - 0s 36ms/step - loss: 0.0030 - val_loss: 0.0016\n",
            "Epoch 288/300\n",
            "4/4 [==============================] - 0s 32ms/step - loss: 0.0031 - val_loss: 0.0017\n",
            "Epoch 289/300\n",
            "4/4 [==============================] - 0s 36ms/step - loss: 0.0030 - val_loss: 0.0016\n",
            "Epoch 290/300\n",
            "4/4 [==============================] - 0s 28ms/step - loss: 0.0030 - val_loss: 0.0015\n",
            "Epoch 291/300\n",
            "4/4 [==============================] - 0s 32ms/step - loss: 0.0031 - val_loss: 0.0015\n",
            "Epoch 292/300\n",
            "4/4 [==============================] - 0s 28ms/step - loss: 0.0030 - val_loss: 0.0016\n",
            "Epoch 293/300\n",
            "4/4 [==============================] - 0s 34ms/step - loss: 0.0031 - val_loss: 0.0016\n",
            "Epoch 294/300\n",
            "4/4 [==============================] - 0s 45ms/step - loss: 0.0030 - val_loss: 0.0016\n",
            "Epoch 295/300\n",
            "4/4 [==============================] - 0s 38ms/step - loss: 0.0030 - val_loss: 0.0016\n",
            "Epoch 296/300\n",
            "4/4 [==============================] - 0s 40ms/step - loss: 0.0030 - val_loss: 0.0016\n",
            "Epoch 297/300\n",
            "4/4 [==============================] - 0s 36ms/step - loss: 0.0030 - val_loss: 0.0016\n",
            "Epoch 298/300\n",
            "4/4 [==============================] - 0s 28ms/step - loss: 0.0030 - val_loss: 0.0016\n",
            "Epoch 299/300\n",
            "4/4 [==============================] - 0s 32ms/step - loss: 0.0030 - val_loss: 0.0017\n",
            "Epoch 300/300\n",
            "4/4 [==============================] - 0s 28ms/step - loss: 0.0030 - val_loss: 0.0016\n"
          ]
        }
      ]
    },
    {
      "cell_type": "code",
      "source": [
        "#Plot the loss\n",
        "plt.plot(r.history['loss'], label='train loss')\n",
        "plt.plot(r.history['val_loss'], label='test loss')\n",
        "plt.legend();"
      ],
      "metadata": {
        "colab": {
          "base_uri": "https://localhost:8080/",
          "height": 265
        },
        "id": "UJjqvWT6hMXw",
        "outputId": "173c6729-f6fe-409e-af0a-837e4f55a3dd"
      },
      "execution_count": 158,
      "outputs": [
        {
          "output_type": "display_data",
          "data": {
            "text/plain": [
              "<Figure size 432x288 with 1 Axes>"
            ],
            "image/png": "[encoded data removed]"
          },
          "metadata": {
            "needs_background": "light"
          }
        }
      ]
    },
    {
      "cell_type": "code",
      "source": [
        "#load best model \n",
        "best_model = tf.keras.models.load_model('best_model.h5')\n"
      ],
      "metadata": {
        "id": "J4hFsW4VhW9o"
      },
      "execution_count": 159,
      "outputs": []
    },
    {
      "cell_type": "code",
      "source": [
        "Ptrain = model.predict(Xtrain_m)\n",
        "Ptest = model.predict(Xtest_m)\n",
        "\n",
        "Ptrain = Ptrain[:,0]\n",
        "Ptest = Ptest[0]"
      ],
      "metadata": {
        "colab": {
          "base_uri": "https://localhost:8080/"
        },
        "id": "7BiuzcJLhg9o",
        "outputId": "da667bd8-980f-48e2-f1f9-717d273f9299"
      },
      "execution_count": 160,
      "outputs": [
        {
          "output_type": "stream",
          "name": "stdout",
          "text": [
            "4/4 [==============================] - 1s 8ms/step\n",
            "1/1 [==============================] - 0s 23ms/step\n"
          ]
        }
      ]
    },
    {
      "cell_type": "code",
      "source": [
        "print(Ptest)"
      ],
      "metadata": {
        "colab": {
          "base_uri": "https://localhost:8080/"
        },
        "id": "BBUQgUPPhwkE",
        "outputId": "9a5121c9-bfa7-4a25-d623-54857e4e9ef1"
      },
      "execution_count": 162,
      "outputs": [
        {
          "output_type": "stream",
          "name": "stdout",
          "text": [
            "[ 0.05049395 -0.05559426  0.119016    0.01444107 -0.00914078  0.15603045\n",
            "  0.16061495 -0.00098005 -0.12957552 -0.13370182 -0.11805278  0.07579052]\n"
          ]
        }
      ]
    },
    {
      "cell_type": "code",
      "source": [
        "print(last_train)"
      ],
      "metadata": {
        "colab": {
          "base_uri": "https://localhost:8080/"
        },
        "id": "LPDKqg1jl8uH",
        "outputId": "e24a5e8d-5cbe-424f-e118-821c256aa0c3"
      },
      "execution_count": 168,
      "outputs": [
        {
          "output_type": "stream",
          "name": "stdout",
          "text": [
            "6.003887067106539\n"
          ]
        }
      ]
    },
    {
      "cell_type": "code",
      "source": [
        "print(Ptest)"
      ],
      "metadata": {
        "colab": {
          "base_uri": "https://localhost:8080/"
        },
        "id": "1UU8tUjwmHmr",
        "outputId": "fee6da20-9495-4dda-c7c5-9e8a67c3ed03"
      },
      "execution_count": 170,
      "outputs": [
        {
          "output_type": "stream",
          "name": "stdout",
          "text": [
            "[ 0.05049395 -0.05559426  0.119016    0.01444107 -0.00914078  0.15603045\n",
            "  0.16061495 -0.00098005 -0.12957552 -0.13370182 -0.11805278  0.07579052]\n"
          ]
        }
      ]
    },
    {
      "cell_type": "code",
      "source": [
        "print( np.cumsum(Ptest))"
      ],
      "metadata": {
        "colab": {
          "base_uri": "https://localhost:8080/"
        },
        "id": "Dfaxl32kmCna",
        "outputId": "d7977458-d78e-4d31-cece-e142e31fc6fb"
      },
      "execution_count": 169,
      "outputs": [
        {
          "output_type": "stream",
          "name": "stdout",
          "text": [
            "[ 0.05049395 -0.00510031  0.11391569  0.12835675  0.11921598  0.27524644\n",
            "  0.4358614   0.43488136  0.30530584  0.17160402  0.05355124  0.12934175]\n"
          ]
        }
      ]
    },
    {
      "cell_type": "code",
      "source": [
        "#save multi-output forecast to dataframe []\n",
        "df.loc[test_idx, 'multioutput2'] = last_train + \\\n",
        "  np.cumsum(Ptest)"
      ],
      "metadata": {
        "id": "OeGBGg7Fh2uv"
      },
      "execution_count": 163,
      "outputs": []
    },
    {
      "cell_type": "code",
      "source": [
        "# plot all forecasts\n",
        "cols = ['LogPassengers', 'multistep','multioutput2']\n",
        "df[cols].plot(figsize=(15,5));"
      ],
      "metadata": {
        "colab": {
          "base_uri": "https://localhost:8080/",
          "height": 334
        },
        "id": "Hm4VcYk2iPpN",
        "outputId": "2e698ad1-063e-4ee7-b011-b88ff9b2b28c"
      },
      "execution_count": 165,
      "outputs": [
        {
          "output_type": "display_data",
          "data": {
            "text/plain": [
              "<Figure size 1080x360 with 1 Axes>"
            ],
            "image/png": "[encoded data removed]"
          },
          "metadata": {
            "needs_background": "light"
          }
        }
      ]
    },
    {
      "cell_type": "code",
      "source": [
        "# MAPE\n",
        "test_log_pass = df.iloc[-Ntest:]['LogPassengers']\n",
        "mape1 = mean_absolute_percentage_error(\n",
        "    test_log_pass, df.loc[test_idx, 'multistep'])\n",
        "print(\"multi-step MAPE:\", mape1)\n",
        "mape2 = mean_absolute_percentage_error(\n",
        "    test_log_pass,df.loc[test_idx,'multioutput'])\n",
        "print(\"multi-output MAPE:\", mape2)\n",
        "mape3 = mean_absolute_percentage_error(\n",
        "    test_log_pass, df.loc[test_idx, 'multioutput2'])\n",
        "print(\"multi-output(2 LSTMs MAPE:\", mape3)"
      ],
      "metadata": {
        "colab": {
          "base_uri": "https://localhost:8080/"
        },
        "id": "c-HpKQK3jyiC",
        "outputId": "c1d1fd06-341d-4c19-d97b-9af753187177"
      },
      "execution_count": 167,
      "outputs": [
        {
          "output_type": "stream",
          "name": "stdout",
          "text": [
            "multi-step MAPE: 0.0070863595384320485\n",
            "multi-output MAPE: 0.007909615991685092\n",
            "multi-output(2 LSTMs MAPE: 0.006625729381126665\n"
          ]
        }
      ]
    },
    {
      "cell_type": "code",
      "source": [
        "# Excersise: \n",
        "# is the improvement due to glboal max pooling? or Due to multiple LSTMs layers?\n",
        "# Do you think differencing is unnecesary? try it!\n",
        "#do you think logging is unnecesary? Try it!\n",
        "# do you think inlcuding more past lags would be useful?\n",
        "# have you considered walk-forward validation to optimize hyperparameters? "
      ],
      "metadata": {
        "id": "Ivh0-CtelQoM"
      },
      "execution_count": null,
      "outputs": []
    }
  ]
}