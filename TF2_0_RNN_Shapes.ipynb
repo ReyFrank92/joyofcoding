{
  "nbformat": 4,
  "nbformat_minor": 0,
  "metadata": {
    "colab": {
      "name": "TF2.0 RNN Shapes.ipynb",
      "provenance": [],
      "collapsed_sections": [],
      "authorship_tag": "ABX9TyNLad+iW/8kg0fCmTZsO810",
      "include_colab_link": true
    },
    "kernelspec": {
      "name": "python3",
      "display_name": "Python 3"
    },
    "language_info": {
      "name": "python"
    }
  },
  "cells": [
    {
      "cell_type": "markdown",
      "metadata": {
        "id": "view-in-github",
        "colab_type": "text"
      },
      "source": [
        "<a href=\"https://colab.research.google.com/github/ReyFrank92/joyofcoding/blob/main/TF2_0_RNN_Shapes.ipynb\" target=\"_parent\"><img src=\"https://colab.research.google.com/assets/colab-badge.svg\" alt=\"Open In Colab\"/></a>"
      ]
    },
    {
      "cell_type": "code",
      "execution_count": 1,
      "metadata": {
        "colab": {
          "base_uri": "https://localhost:8080/"
        },
        "id": "9rOwb2tRMoQb",
        "outputId": "577c7816-373a-45b8-8f88-80e0be43bc8a"
      },
      "outputs": [
        {
          "output_type": "stream",
          "name": "stdout",
          "text": [
            "\u001b[K     |████████████████████████████████| 511.7 MB 3.9 kB/s \n",
            "\u001b[K     |████████████████████████████████| 1.6 MB 42.4 MB/s \n",
            "\u001b[K     |████████████████████████████████| 5.8 MB 36.4 MB/s \n",
            "\u001b[K     |████████████████████████████████| 438 kB 66.4 MB/s \n",
            "\u001b[31mERROR: pip's dependency resolver does not currently take into account all the packages that are installed. This behaviour is the source of the following dependency conflicts.\n",
            "tensorflow 2.8.2+zzzcolab20220527125636 requires keras<2.9,>=2.8.0rc0, but you have keras 2.9.0 which is incompatible.\n",
            "tensorflow 2.8.2+zzzcolab20220527125636 requires tensorboard<2.9,>=2.8, but you have tensorboard 2.9.1 which is incompatible.\n",
            "tensorflow 2.8.2+zzzcolab20220527125636 requires tensorflow-estimator<2.9,>=2.8, but you have tensorflow-estimator 2.9.0 which is incompatible.\u001b[0m\n",
            "\u001b[?25h2.9.0\n"
          ]
        }
      ],
      "source": [
        "#Install TensorFlow\n",
        "!pip install -q tensorflow-gpu==2.9.0\n",
        "import tensorflow as tf\n",
        "print(tf.__version__)"
      ]
    },
    {
      "cell_type": "code",
      "source": [
        "from tensorflow.keras.layers import Input, SimpleRNN, Dense, Flatten\n",
        "from tensorflow.keras.models import Model\n",
        "from tensorflow.keras.optimizers import SGD, Adam\n",
        "\n",
        "import numpy as np\n",
        "import pandas as pd\n",
        "import matplotlib.pyplot as plt"
      ],
      "metadata": {
        "id": "ubthMVF1MpZY"
      },
      "execution_count": 2,
      "outputs": []
    },
    {
      "cell_type": "code",
      "source": [
        "# Things you should automatically know and have memorized\n",
        "# N = number of samples\n",
        "# T = sequence length\n",
        "# D = number of input features\n",
        "# M = number of hideen units \n",
        "# K = number of output units"
      ],
      "metadata": {
        "id": "m6s7i_s0MrGJ"
      },
      "execution_count": 3,
      "outputs": []
    },
    {
      "cell_type": "code",
      "source": [
        "# make some data\n",
        "N = 1\n",
        "T = 10\n",
        "D = 3\n",
        "K = 2\n",
        "X = np.random.randn(N, T, D)"
      ],
      "metadata": {
        "id": "Nf26MzwlMtcV"
      },
      "execution_count": 4,
      "outputs": []
    },
    {
      "cell_type": "code",
      "source": [
        "#Make an RNN\n",
        "M = 5 # M = number of hidden units \n",
        "i = Input(shape = (T, D)) # T = sequence length # D = number of input features (10 row, 3 column)\n",
        "x = SimpleRNN(M)(i) #i = (10,3)\n",
        "x = Dense (K)(x) # K = number of output units #la x ya es el modelo en si\n",
        "\n",
        "model = Model(i, x) #Aqui es una regresió porque no hay función de activación"
      ],
      "metadata": {
        "id": "MmVCSnylMuOK"
      },
      "execution_count": 5,
      "outputs": []
    },
    {
      "cell_type": "code",
      "source": [
        "# Get the output\n",
        "Yhat = model.predict(X)\n",
        "print(Yhat)"
      ],
      "metadata": {
        "colab": {
          "base_uri": "https://localhost:8080/"
        },
        "id": "scJPwSgwNBwa",
        "outputId": "db856723-f0ef-4760-ad71-ed6e73a1a6e6"
      },
      "execution_count": 8,
      "outputs": [
        {
          "output_type": "stream",
          "name": "stdout",
          "text": [
            "1/1 [==============================] - 0s 16ms/step\n",
            "[[-0.533558   -0.07396743]]\n"
          ]
        }
      ]
    },
    {
      "cell_type": "code",
      "source": [
        "## See if we can replicate this output\n",
        "# Get the weights first\n",
        "model.summary()"
      ],
      "metadata": {
        "colab": {
          "base_uri": "https://localhost:8080/"
        },
        "id": "8KpF19wHNYZZ",
        "outputId": "17dda507-84d3-4f08-f15e-47352fd9d688"
      },
      "execution_count": 9,
      "outputs": [
        {
          "output_type": "stream",
          "name": "stdout",
          "text": [
            "Model: \"model\"\n",
            "_________________________________________________________________\n",
            " Layer (type)                Output Shape              Param #   \n",
            "=================================================================\n",
            " input_1 (InputLayer)        [(None, 10, 3)]           0         \n",
            "                                                                 \n",
            " simple_rnn (SimpleRNN)      (None, 5)                 45        \n",
            "                                                                 \n",
            " dense (Dense)               (None, 2)                 12        \n",
            "                                                                 \n",
            "=================================================================\n",
            "Total params: 57\n",
            "Trainable params: 57\n",
            "Non-trainable params: 0\n",
            "_________________________________________________________________\n"
          ]
        }
      ]
    },
    {
      "cell_type": "code",
      "source": [
        "# See what's returned []\n",
        "model.layers[1].get_weights()"
      ],
      "metadata": {
        "colab": {
          "base_uri": "https://localhost:8080/"
        },
        "id": "CaoCH6o_Nphi",
        "outputId": "494ce3cc-43fa-4a15-eb45-503e82cb2602"
      },
      "execution_count": 10,
      "outputs": [
        {
          "output_type": "execute_result",
          "data": {
            "text/plain": [
              "[array([[ 0.68565947, -0.79998595, -0.32234496, -0.04334271, -0.6400622 ],\n",
              "        [-0.02203661,  0.45497626, -0.79826844,  0.15524656, -0.23784548],\n",
              "        [ 0.31050497,  0.71541005,  0.8349348 ,  0.8178119 , -0.6329204 ]],\n",
              "       dtype=float32),\n",
              " array([[ 0.00527501,  0.25545233,  0.44668296, -0.83709145,  0.1856568 ],\n",
              "        [ 0.17507012,  0.3005518 ,  0.46854103,  0.48697641,  0.64987874],\n",
              "        [-0.06958926,  0.90484744, -0.14976731,  0.11238919, -0.3759614 ],\n",
              "        [-0.8002884 , -0.10017154,  0.50820404,  0.1821303 , -0.24095915],\n",
              "        [ 0.5692261 , -0.12501821,  0.5479435 ,  0.12778503, -0.5863284 ]],\n",
              "       dtype=float32),\n",
              " array([0., 0., 0., 0., 0.], dtype=float32)]"
            ]
          },
          "metadata": {},
          "execution_count": 10
        }
      ]
    },
    {
      "cell_type": "code",
      "source": [
        "#Check tehir shapes\n",
        "#should make sense\n",
        "#First output is input > hidden\n",
        "#Second output is hidden > hidden\n",
        "#Thier output is bias term (vector of length M)\n",
        "a, b, c = model.layers[1].get_weights()\n",
        "print(a.shape,b.shape,c.shape) # D = 3 and M = 5. (3,5) =  (D x M) i.e. input to hidden ; (5,5) = (M x M) head into head ; (5,)  = M (vector) bias term "
      ],
      "metadata": {
        "colab": {
          "base_uri": "https://localhost:8080/"
        },
        "id": "Ftb8hKKyN_-s",
        "outputId": "5c85f28d-707f-4174-8eef-a92755f4b4ef"
      },
      "execution_count": 12,
      "outputs": [
        {
          "output_type": "stream",
          "name": "stdout",
          "text": [
            "(3, 5) (5, 5) (5,)\n"
          ]
        }
      ]
    },
    {
      "cell_type": "code",
      "source": [
        "Wx, Wh, bh = model.layers[1].get_weights() #Wxh - input to hidden weight // bh - hidden bias\n",
        "Wo, bo = model.layers[2].get_weights() #Wo - hidden to output weight // bo - output bias"
      ],
      "metadata": {
        "id": "rdzmwVtmPd6P"
      },
      "execution_count": 13,
      "outputs": []
    },
    {
      "cell_type": "code",
      "source": [
        "h_last = np.zeros(M) # initial hidden state [] #An array of 5 zeros because M =  5\n",
        "x = X[0] #The one and only simple. Toma el primer valor en X\n",
        "Yhats = [] # Where we store the outputs\n",
        "\n",
        "for t in range(T): # corre de 1 a 10 xk T = 10\n",
        "  h = np.tanh(x[t].dot(Wx) + h_last.dot(Wh) + bh) #devuelve un resultado de una función de tangente hiperbólica dato el producto punto de una matriz en este caso los pesos Wx, Wx +bh\n",
        "  y = h.dot(Wo) + bo #we only care about this value on the last iteration\n",
        "  Yhats.append(y) #este es el Y estimado y se agrega al final de una variable definida Y\n",
        "\n",
        "  #Important: assign h  to h_last\n",
        "  h_last = h \n",
        "\n",
        "#print the final output\n",
        "print(Yhats[-1])"
      ],
      "metadata": {
        "colab": {
          "base_uri": "https://localhost:8080/"
        },
        "id": "lncTxy91QUgC",
        "outputId": "25721be4-4462-4f3e-e503-e67d31e7207d"
      },
      "execution_count": 14,
      "outputs": [
        {
          "output_type": "stream",
          "name": "stdout",
          "text": [
            "[-0.53355803 -0.07396753]\n"
          ]
        }
      ]
    },
    {
      "cell_type": "code",
      "source": [
        "# bonus exercise: calculate the output for multiple samples at once (N > 1)"
      ],
      "metadata": {
        "id": "1H_RNquQUMYW"
      },
      "execution_count": null,
      "outputs": []
    }
  ]
}