{
  "nbformat": 4,
  "nbformat_minor": 0,
  "metadata": {
    "colab": {
      "name": "AR NN Mezcla Mexicana.ipynb",
      "provenance": [],
      "collapsed_sections": [],
      "authorship_tag": "ABX9TyOgUteJBYBSGa2EPBqEhp3F",
      "include_colab_link": true
    },
    "kernelspec": {
      "name": "python3",
      "display_name": "Python 3"
    },
    "language_info": {
      "name": "python"
    }
  },
  "cells": [
    {
      "cell_type": "markdown",
      "metadata": {
        "id": "view-in-github",
        "colab_type": "text"
      },
      "source": [
        "<a href=\"https://colab.research.google.com/github/ReyFrank92/joyofcoding/blob/main/AR_NN_Mezcla_Mexicana.ipynb\" target=\"_parent\"><img src=\"https://colab.research.google.com/assets/colab-badge.svg\" alt=\"Open In Colab\"/></a>"
      ]
    },
    {
      "cell_type": "code",
      "execution_count": 2,
      "metadata": {
        "colab": {
          "base_uri": "https://localhost:8080/"
        },
        "id": "QmKJyZ-pq7-W",
        "outputId": "03cb50c9-4ad7-4d78-ca04-b85b7943fd2f"
      },
      "outputs": [
        {
          "output_type": "stream",
          "name": "stdout",
          "text": [
            "\u001b[K     |████████████████████████████████| 511.7 MB 5.8 kB/s \n",
            "\u001b[K     |████████████████████████████████| 1.6 MB 59.6 MB/s \n",
            "\u001b[K     |████████████████████████████████| 5.8 MB 30.4 MB/s \n",
            "\u001b[K     |████████████████████████████████| 438 kB 48.1 MB/s \n",
            "\u001b[31mERROR: pip's dependency resolver does not currently take into account all the packages that are installed. This behaviour is the source of the following dependency conflicts.\n",
            "tensorflow 2.8.2+zzzcolab20220719082949 requires keras<2.9,>=2.8.0rc0, but you have keras 2.9.0 which is incompatible.\n",
            "tensorflow 2.8.2+zzzcolab20220719082949 requires tensorboard<2.9,>=2.8, but you have tensorboard 2.9.1 which is incompatible.\n",
            "tensorflow 2.8.2+zzzcolab20220719082949 requires tensorflow-estimator<2.9,>=2.8, but you have tensorflow-estimator 2.9.0 which is incompatible.\u001b[0m\n",
            "\u001b[?25h2.9.1\n"
          ]
        }
      ],
      "source": [
        "#Install TensorFlow\n",
        "!pip install -q tensorflow-gpu==2.9.1\n",
        "import tensorflow as tf\n",
        "print(tf.__version__)"
      ]
    },
    {
      "cell_type": "code",
      "source": [
        "from tensorflow.keras.layers import Input, SimpleRNN, Dense,  GRU, LSTM, GlobalMaxPool1D, Flatten\n",
        "from tensorflow.keras.models import Model\n",
        "from tensorflow.keras.optimizers import SGD, Adam\n",
        "from tensorflow.keras.callbacks import ModelCheckpoint\n",
        "\n",
        "import numpy as np\n",
        "import pandas as pd\n",
        "import matplotlib.pyplot as plt\n",
        "from sklearn.preprocessing import StandardScaler\n",
        "\n"
      ],
      "metadata": {
        "id": "45k-rHZCrAhJ"
      },
      "execution_count": 3,
      "outputs": []
    },
    {
      "cell_type": "code",
      "source": [
        "from google.colab import files\n",
        "data_to_load = files.upload()"
      ],
      "metadata": {
        "colab": {
          "resources": {
            "http://localhost:8080/nbextensions/google.colab/files.js": {
              "data": "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",
              "ok": true,
              "headers": [
                [
                  "content-type",
                  "application/javascript"
                ]
              ],
              "status": 200,
              "status_text": ""
            }
          },
          "base_uri": "https://localhost:8080/",
          "height": 74
        },
        "id": "a1_z0JwVrKqW",
        "outputId": "286e1a09-1cd3-43cb-b99c-9da13ae3b33a"
      },
      "execution_count": 4,
      "outputs": [
        {
          "output_type": "display_data",
          "data": {
            "text/plain": [
              "<IPython.core.display.HTML object>"
            ],
            "text/html": [
              "\n",
              "     <input type=\"file\" id=\"files-3be8e90a-07df-454d-8ef9-3587a2b859c9\" name=\"files[]\" multiple disabled\n",
              "        style=\"border:none\" />\n",
              "     <output id=\"result-3be8e90a-07df-454d-8ef9-3587a2b859c9\">\n",
              "      Upload widget is only available when the cell has been executed in the\n",
              "      current browser session. Please rerun this cell to enable.\n",
              "      </output>\n",
              "      <script src=\"/nbextensions/google.colab/files.js\"></script> "
            ]
          },
          "metadata": {}
        },
        {
          "output_type": "stream",
          "name": "stdout",
          "text": [
            "Saving Mezcla Mexicana Resumen.csv to Mezcla Mexicana Resumen.csv\n"
          ]
        }
      ]
    },
    {
      "cell_type": "code",
      "source": [
        "!pip install -U scikit-learn"
      ],
      "metadata": {
        "colab": {
          "base_uri": "https://localhost:8080/"
        },
        "id": "CWMpfnJCrMpX",
        "outputId": "4417212e-693d-48c5-ef44-c598cd80cf1d"
      },
      "execution_count": 5,
      "outputs": [
        {
          "output_type": "stream",
          "name": "stdout",
          "text": [
            "Looking in indexes: https://pypi.org/simple, https://us-python.pkg.dev/colab-wheels/public/simple/\n",
            "Requirement already satisfied: scikit-learn in /usr/local/lib/python3.7/dist-packages (1.0.2)\n",
            "Requirement already satisfied: joblib>=0.11 in /usr/local/lib/python3.7/dist-packages (from scikit-learn) (1.1.0)\n",
            "Requirement already satisfied: threadpoolctl>=2.0.0 in /usr/local/lib/python3.7/dist-packages (from scikit-learn) (3.1.0)\n",
            "Requirement already satisfied: scipy>=1.1.0 in /usr/local/lib/python3.7/dist-packages (from scikit-learn) (1.7.3)\n",
            "Requirement already satisfied: numpy>=1.14.6 in /usr/local/lib/python3.7/dist-packages (from scikit-learn) (1.21.6)\n"
          ]
        }
      ]
    },
    {
      "cell_type": "code",
      "source": [
        "np.random.seed(0)\n",
        "tf.random.set_seed(0)"
      ],
      "metadata": {
        "id": "37Wzt7WdrN5H"
      },
      "execution_count": 6,
      "outputs": []
    },
    {
      "cell_type": "code",
      "source": [
        "# N = number of samples\n",
        "# T = sequence length\n",
        "# D = number of input features\n",
        "# M = number of hideen units \n",
        "# K = number of output units"
      ],
      "metadata": {
        "id": "PalrIZZbrOMJ"
      },
      "execution_count": 7,
      "outputs": []
    },
    {
      "cell_type": "code",
      "source": [
        "from sklearn.metrics import mean_absolute_percentage_error"
      ],
      "metadata": {
        "id": "b7uRMV0grPYm"
      },
      "execution_count": 8,
      "outputs": []
    },
    {
      "cell_type": "code",
      "source": [
        "df = pd.read_csv('Mezcla Mexicana Resumen.csv', index_col='Fecha', parse_dates=True)"
      ],
      "metadata": {
        "id": "ZdlFlkgBrR-d"
      },
      "execution_count": 9,
      "outputs": []
    },
    {
      "cell_type": "code",
      "source": [
        "df['LogMM'] = np.log(df['MM'])"
      ],
      "metadata": {
        "id": "2zYcQQd4sE5g"
      },
      "execution_count": 10,
      "outputs": []
    },
    {
      "cell_type": "code",
      "source": [
        "Ntest = 70\n",
        "train = df.iloc[:-Ntest] #todos -12\n",
        "test = df.iloc[-Ntest:] #solo las últimas 12 observaciones"
      ],
      "metadata": {
        "id": "yzLLG3s3r9s1"
      },
      "execution_count": 11,
      "outputs": []
    },
    {
      "cell_type": "code",
      "source": [
        "from typing import ValuesView\n",
        "ValuesView(df)"
      ],
      "metadata": {
        "colab": {
          "base_uri": "https://localhost:8080/"
        },
        "id": "NErTGVJusYbs",
        "outputId": "37c529f8-4d8b-41cf-d557-1fa3aa0a34c3"
      },
      "execution_count": 12,
      "outputs": [
        {
          "output_type": "execute_result",
          "data": {
            "text/plain": [
              "ValuesView(                MM     LogMM\n",
              "Fecha                       \n",
              "1996-01-31   15.12  2.716018\n",
              "1996-02-29   16.82  2.822569\n",
              "1996-03-29   18.35  2.909630\n",
              "1996-04-30   17.61  2.868467\n",
              "1996-05-31   16.48  2.802148\n",
              "...            ...       ...\n",
              "2022-02-28   91.80  4.519612\n",
              "2022-03-31   98.00  4.584967\n",
              "2022-04-29  102.02  4.625169\n",
              "2022-05-31  113.83  4.734706\n",
              "2022-06-30  104.79  4.651958\n",
              "\n",
              "[318 rows x 2 columns])"
            ]
          },
          "metadata": {},
          "execution_count": 12
        }
      ]
    },
    {
      "cell_type": "code",
      "source": [
        "ValuesView(train)"
      ],
      "metadata": {
        "colab": {
          "base_uri": "https://localhost:8080/"
        },
        "id": "lGTwt-hwsZyD",
        "outputId": "7b661387-072a-4956-9da0-31320130c1ae"
      },
      "execution_count": 13,
      "outputs": [
        {
          "output_type": "execute_result",
          "data": {
            "text/plain": [
              "ValuesView(               MM     LogMM\n",
              "Fecha                      \n",
              "1996-01-31  15.12  2.716018\n",
              "1996-02-29  16.82  2.822569\n",
              "1996-03-29  18.35  2.909630\n",
              "1996-04-30  17.61  2.868467\n",
              "1996-05-31  16.48  2.802148\n",
              "...           ...       ...\n",
              "2016-04-29  37.58  3.626472\n",
              "2016-05-31  40.26  3.695358\n",
              "2016-06-30  41.00  3.713572\n",
              "2016-07-29  35.92  3.581294\n",
              "2016-08-31  38.96  3.662535\n",
              "\n",
              "[248 rows x 2 columns])"
            ]
          },
          "metadata": {},
          "execution_count": 13
        }
      ]
    },
    {
      "cell_type": "code",
      "source": [
        "ValuesView(test)"
      ],
      "metadata": {
        "colab": {
          "base_uri": "https://localhost:8080/"
        },
        "id": "xnHAD82bscje",
        "outputId": "2373d3c3-a274-4d9b-fdd6-3c1e4a08fdfe"
      },
      "execution_count": 14,
      "outputs": [
        {
          "output_type": "execute_result",
          "data": {
            "text/plain": [
              "ValuesView(                MM     LogMM\n",
              "Fecha                       \n",
              "2016-09-30   39.83  3.684620\n",
              "2016-10-31   38.81  3.658678\n",
              "2016-11-30   40.94  3.712108\n",
              "2016-12-30   46.30  3.835142\n",
              "2017-01-31   45.18  3.810655\n",
              "...            ...       ...\n",
              "2022-02-28   91.80  4.519612\n",
              "2022-03-31   98.00  4.584967\n",
              "2022-04-29  102.02  4.625169\n",
              "2022-05-31  113.83  4.734706\n",
              "2022-06-30  104.79  4.651958\n",
              "\n",
              "[70 rows x 2 columns])"
            ]
          },
          "metadata": {},
          "execution_count": 14
        }
      ]
    },
    {
      "cell_type": "code",
      "source": [
        "# boolean series to index df rows []\n",
        "train_idx = df.index <= train.index[-1] #pone true a lo que sea train del data set y lo demás false\n",
        "test_idx = df.index > train.index[-1] # pone true a lo que sea del test solamente y lo demás false"
      ],
      "metadata": {
        "id": "cLBoOhaMseUP"
      },
      "execution_count": 15,
      "outputs": []
    },
    {
      "cell_type": "code",
      "source": [
        "ValuesView(test_idx)"
      ],
      "metadata": {
        "colab": {
          "base_uri": "https://localhost:8080/"
        },
        "id": "nZdsKl2yJh2D",
        "outputId": "2403bd92-09b3-4df0-9fd4-7ebc5bdb44e0"
      },
      "execution_count": 80,
      "outputs": [
        {
          "output_type": "execute_result",
          "data": {
            "text/plain": [
              "ValuesView(array([False, False, False, False, False, False, False, False, False,\n",
              "       False, False, False, False, False, False, False, False, False,\n",
              "       False, False, False, False, False, False, False, False, False,\n",
              "       False, False, False, False, False, False, False, False, False,\n",
              "       False, False, False, False, False, False, False, False, False,\n",
              "       False, False, False, False, False, False, False, False, False,\n",
              "       False, False, False, False, False, False, False, False, False,\n",
              "       False, False, False, False, False, False, False, False, False,\n",
              "       False, False, False, False, False, False, False, False, False,\n",
              "       False, False, False, False, False, False, False, False, False,\n",
              "       False, False, False, False, False, False, False, False, False,\n",
              "       False, False, False, False, False, False, False, False, False,\n",
              "       False, False, False, False, False, False, False, False, False,\n",
              "       False, False, False, False, False, False, False, False, False,\n",
              "       False, False, False, False, False, False, False, False, False,\n",
              "       False, False, False, False, False, False, False, False, False,\n",
              "       False, False, False, False, False, False, False, False, False,\n",
              "       False, False, False, False, False, False, False, False, False,\n",
              "       False, False, False, False, False, False, False, False, False,\n",
              "       False, False, False, False, False, False, False, False, False,\n",
              "       False, False, False, False, False, False, False, False, False,\n",
              "       False, False, False, False, False, False, False, False, False,\n",
              "       False, False, False, False, False, False, False, False, False,\n",
              "       False, False, False, False, False, False, False, False, False,\n",
              "       False, False, False, False, False, False, False, False, False,\n",
              "       False, False, False, False, False, False, False, False, False,\n",
              "       False, False, False, False, False, False, False, False, False,\n",
              "       False, False, False, False, False,  True,  True,  True,  True,\n",
              "        True,  True,  True,  True,  True,  True,  True,  True,  True,\n",
              "        True,  True,  True,  True,  True,  True,  True,  True,  True,\n",
              "        True,  True,  True,  True,  True,  True,  True,  True,  True,\n",
              "        True,  True,  True,  True,  True,  True,  True,  True,  True,\n",
              "        True,  True,  True,  True,  True,  True,  True,  True,  True,\n",
              "        True,  True,  True,  True,  True,  True,  True,  True,  True,\n",
              "        True,  True,  True,  True,  True,  True,  True,  True,  True,\n",
              "        True,  True,  True]))"
            ]
          },
          "metadata": {},
          "execution_count": 80
        }
      ]
    },
    {
      "cell_type": "code",
      "source": [
        "df['DiffLogMM'] = df['LogMM'].diff() #crea una nueva columna con la diferencia del logaritmo de los pasajeros"
      ],
      "metadata": {
        "id": "aG8iOmGWsf8L"
      },
      "execution_count": 16,
      "outputs": []
    },
    {
      "cell_type": "code",
      "source": [
        "#Make supervised dataset\n",
        "series = df['DiffLogMM'].dropna().to_numpy() #son 143/144 datos\n",
        "\n",
        "T = 10\n",
        "X = []\n",
        "Y = []\n",
        "for t in range(len(series) - T): #corre en el rango de 144-10 = 134\n",
        "  x = series[t:t+T] #e.g. si t =1 entonces corre de 1 a 11\n",
        "  X.append(x) #agrega lo anterior\n",
        "  y = series[t+T] # e.g. si t = 1 entonces y es 11\n",
        "  Y.append(y) #aagrega lo anterior\n",
        "\n",
        "X = np.array(X).reshape(-1,T,1) #el tensor es una caja\n",
        "Y = np.array(Y)\n",
        "N = len(X)\n",
        "print(\"X.shape\", X.shape, \"Y.shape\",Y.shape)"
      ],
      "metadata": {
        "colab": {
          "base_uri": "https://localhost:8080/"
        },
        "id": "7VtYbBUYskH_",
        "outputId": "4acaf9a9-d051-4973-cf3b-70a4ec13085c"
      },
      "execution_count": 17,
      "outputs": [
        {
          "output_type": "stream",
          "name": "stdout",
          "text": [
            "X.shape (307, 10, 1) Y.shape (307,)\n"
          ]
        }
      ]
    },
    {
      "cell_type": "code",
      "source": [
        "ValuesView(series)"
      ],
      "metadata": {
        "colab": {
          "base_uri": "https://localhost:8080/"
        },
        "id": "4rXGNw9Bsnt3",
        "outputId": "13502abf-f9aa-46fa-86e4-c8ddf0108272"
      },
      "execution_count": 18,
      "outputs": [
        {
          "output_type": "execute_result",
          "data": {
            "text/plain": [
              "ValuesView(array([ 1.06550284e-01,  8.70609200e-02, -4.11626520e-02, -6.63193980e-02,\n",
              "        5.66188940e-02, -1.61853244e-02,  1.03435587e-01,  1.09398594e-01,\n",
              "       -3.06097547e-02,  2.06688444e-02,  2.81444468e-02, -8.34017193e-02,\n",
              "       -2.03355711e-01,  6.75470791e-03, -6.13875470e-03,  2.97261803e-02,\n",
              "       -6.48175001e-02,  4.06178921e-02, -7.96345444e-02,  1.44249609e-01,\n",
              "       -9.22728577e-03, -1.12726318e-01, -1.98798979e-01, -2.32103256e-02,\n",
              "       -1.68011481e-01, -2.81708770e-02,  5.46374502e-02,  6.58785744e-02,\n",
              "       -1.01969861e-01,  3.86100866e-03, -9.91711885e-02,  2.45029947e-01,\n",
              "       -1.53595741e-01, -2.23143551e-01, -1.21432923e-03,  8.60996614e-02,\n",
              "       -3.05626504e-02,  3.91575996e-01,  1.30905571e-01, -1.22394881e-01,\n",
              "        1.54590821e-01,  1.13446547e-01,  1.14569602e-01,  1.16906842e-01,\n",
              "       -1.19537730e-01,  1.33465532e-01,  1.64612771e-02,  6.92044893e-02,\n",
              "        1.01332099e-01, -1.63306553e-01, -3.15599026e-02,  1.49893090e-01,\n",
              "        8.65446014e-02, -1.68188590e-01,  2.04569336e-01, -1.16545740e-01,\n",
              "        3.16865938e-02, -7.73100101e-03, -3.62178168e-01,  1.01674802e-01,\n",
              "       -3.22360990e-02, -1.20908038e-01,  1.35363633e-01,  3.92009992e-02,\n",
              "       -2.96150266e-03, -5.80020134e-02,  1.04836544e-01, -1.55330621e-01,\n",
              "       -1.53967042e-01, -6.23130644e-02,  1.96416745e-02, -2.68636830e-03,\n",
              "        1.50204003e-01,  2.51892965e-01,  5.30012367e-02, -6.06779509e-02,\n",
              "        2.46262725e-02,  2.57599924e-02,  4.38518825e-02,  6.93228500e-02,\n",
              "       -1.43367356e-01, -6.51606604e-02,  2.16960416e-01,  5.56730024e-02,\n",
              "        4.20631013e-02, -2.21500734e-01, -1.17189259e-01,  1.05020487e-01,\n",
              "        8.66469322e-02, -4.01042716e-04,  3.54647096e-02, -7.97523898e-02,\n",
              "       -2.09863666e-03,  1.58402645e-02,  4.76472844e-02, -1.91088617e-02,\n",
              "        8.69443865e-02,  7.70787446e-03,  7.09166749e-02,  8.04618192e-02,\n",
              "       -1.05639904e-01,  1.62449070e-01, -7.45648644e-02,  1.77725813e-01,\n",
              "        4.29835560e-02, -1.64724602e-01, -1.37948705e-01,  1.21172347e-01,\n",
              "        9.75168538e-02,  7.98709896e-02, -5.68330127e-03,  4.85434029e-02,\n",
              "        8.69291097e-02,  5.11575386e-02,  1.49286887e-01, -3.15993942e-02,\n",
              "       -1.13183464e-01, -1.11490017e-01,  1.11275999e-01,  1.10335279e-01,\n",
              "       -7.64551312e-02,  1.18311668e-01,  9.12914202e-02, -5.39460504e-02,\n",
              "        3.70251729e-02,  3.94832148e-02, -6.19172877e-02, -1.40084857e-01,\n",
              "       -4.53830058e-02,  8.64860289e-02, -6.61068666e-02, -3.43417332e-02,\n",
              "        5.22940717e-02,  1.10704078e-01,  7.75267563e-03,  1.39114068e-02,\n",
              "        8.71294477e-02,  9.13175682e-02, -7.36179911e-02,  8.94936737e-02,\n",
              "        1.48279188e-01, -4.71129596e-02,  8.30494067e-02, -5.34406992e-02,\n",
              "        9.15224069e-02,  5.24079695e-03,  8.56649799e-02,  1.36525626e-01,\n",
              "        1.34925639e-01, -6.15088716e-02, -7.31377628e-02, -1.70526046e-01,\n",
              "       -5.60912393e-01, -2.50569364e-01, -1.63044799e-01,  1.58316658e-01,\n",
              "        1.58379950e-02,  5.12073589e-02,  1.04030030e-01,  2.70240540e-01,\n",
              "        5.67572424e-02, -2.58025490e-03,  4.13811087e-02, -7.47587436e-02,\n",
              "        1.08028230e-01,  2.46582111e-02,  1.04039268e-02, -8.91058522e-02,\n",
              "        6.45664350e-02,  2.73952021e-02,  4.48767720e-02, -1.60489432e-01,\n",
              "        1.97727368e-02,  6.08795411e-02, -6.76277110e-02,  9.89148698e-02,\n",
              "        8.95528373e-03,  3.84255010e-02,  8.20704677e-02,  4.54144745e-02,\n",
              "        1.13769959e-01,  7.04759759e-02,  7.36455884e-02, -6.14428167e-02,\n",
              "       -5.08183572e-02,  3.86155855e-02, -2.57400821e-02, -8.69758663e-02,\n",
              "        1.01614294e-01,  3.52671860e-02, -2.48319757e-02,  1.23049352e-02,\n",
              "        6.79135812e-02, -1.24708643e-02, -1.38909793e-02, -1.50577371e-01,\n",
              "       -5.15583647e-02,  5.92917087e-02,  7.62397811e-02, -2.55973335e-02,\n",
              "       -5.21009331e-02,  1.19178570e-02, -3.81896526e-03,  9.39931523e-02,\n",
              "       -6.04288497e-03, -3.22519726e-03, -5.96037654e-02, -3.67711140e-02,\n",
              "        7.50472565e-03,  4.63642403e-02,  2.07022356e-02, -5.01797483e-02,\n",
              "       -6.02864617e-02, -2.91597928e-02,  3.24079551e-02, -1.06499594e-02,\n",
              "        3.91030483e-02, -2.74806940e-02,  2.39021195e-02,  3.15509774e-02,\n",
              "        1.76207091e-02, -6.22257323e-02, -9.22951390e-03, -5.81546289e-02,\n",
              "       -1.28207425e-01, -9.83415299e-02, -4.28591297e-01, -1.17783036e-01,\n",
              "        2.03344884e-01, -9.21843895e-02,  2.33236411e-01,  3.32720734e-03,\n",
              "       -2.69328824e-02, -1.99055621e-01, -1.20498751e-01, -4.94084022e-02,\n",
              "        2.10750540e-02, -1.37171202e-01, -2.25114571e-01, -6.95932918e-02,\n",
              "        6.11544232e-02,  1.24881340e-01,  2.00582000e-01,  6.88864262e-02,\n",
              "        1.82136465e-02, -1.32277823e-01,  8.12412353e-02,  2.20849184e-02,\n",
              "       -2.59424518e-02,  5.34296349e-02,  1.23034381e-01, -2.44874501e-02,\n",
              "        1.84215736e-02, -7.72218313e-02,  3.28099662e-03,  2.15261176e-02,\n",
              "       -2.29309411e-02,  9.21527765e-02, -2.55369861e-02,  7.18821612e-02,\n",
              "        7.27665121e-02,  1.63675933e-02,  4.73763216e-02,  3.84058372e-02,\n",
              "       -4.91413133e-02,  1.51747980e-02,  8.34170442e-02,  3.41297245e-02,\n",
              "        7.93153820e-02, -5.42693501e-02,  1.82681287e-02,  1.13129325e-01,\n",
              "       -5.62475119e-02, -2.77990929e-01, -1.73180177e-01,  2.08128728e-01,\n",
              "        6.31974442e-02,  4.43775901e-02,  3.74743609e-02, -1.17449077e-01,\n",
              "        7.67056710e-02, -2.40256772e-02, -1.85378379e-01,  1.01821763e-01,\n",
              "       -1.31735896e-01,  6.36541868e-02,  9.13280939e-02, -1.53527433e-01,\n",
              "       -1.91459756e-01, -1.30702583e+00,  1.49893090e-01,  8.71125988e-01,\n",
              "        1.37707462e-01,  7.47328810e-02,  1.00611847e-01, -9.57509134e-02,\n",
              "       -1.30457305e-01,  2.76338045e-01,  9.35094272e-02,  8.18027551e-02,\n",
              "        1.73720127e-01, -4.22668984e-02,  5.04448962e-02,  3.63094664e-02,\n",
              "        8.48884843e-02,  1.39000590e-02, -6.23872388e-02,  7.62370927e-02,\n",
              "        8.53726080e-02, -2.36930162e-01,  1.52118800e-01,  1.53408966e-01,\n",
              "        9.94472661e-02,  6.53551810e-02,  4.02013938e-02,  1.09537235e-01,\n",
              "       -8.27477599e-02]))"
            ]
          },
          "metadata": {},
          "execution_count": 18
        }
      ]
    },
    {
      "cell_type": "code",
      "source": [
        "Xtrain, Ytrain = X[: -Ntest], Y[:-Ntest]\n",
        "Xtest, Ytest = X[-Ntest:], Y[-Ntest:]"
      ],
      "metadata": {
        "id": "mNfkBaWUsqFK"
      },
      "execution_count": 19,
      "outputs": []
    },
    {
      "cell_type": "code",
      "source": [
        "print(Xtrain.shape)"
      ],
      "metadata": {
        "colab": {
          "base_uri": "https://localhost:8080/"
        },
        "id": "DYM-KNxXsreL",
        "outputId": "5b7050ef-0635-493f-92e4-b50e1b8240f3"
      },
      "execution_count": 20,
      "outputs": [
        {
          "output_type": "stream",
          "name": "stdout",
          "text": [
            "(237, 10, 1)\n"
          ]
        }
      ]
    },
    {
      "cell_type": "code",
      "source": [
        "print(Ytrain.shape)"
      ],
      "metadata": {
        "colab": {
          "base_uri": "https://localhost:8080/"
        },
        "id": "LAEMDQIWsuZC",
        "outputId": "3dc4878f-3c8f-4b79-d48d-0db8e016bcbe"
      },
      "execution_count": 21,
      "outputs": [
        {
          "output_type": "stream",
          "name": "stdout",
          "text": [
            "(237,)\n"
          ]
        }
      ]
    },
    {
      "cell_type": "code",
      "source": [
        "print(Xtest.shape) "
      ],
      "metadata": {
        "colab": {
          "base_uri": "https://localhost:8080/"
        },
        "id": "4gpzEmLDsvQA",
        "outputId": "210dcc72-fd1a-4536-ab80-b5b2503e96d5"
      },
      "execution_count": 22,
      "outputs": [
        {
          "output_type": "stream",
          "name": "stdout",
          "text": [
            "(70, 10, 1)\n"
          ]
        }
      ]
    },
    {
      "cell_type": "code",
      "source": [
        "print(Ytest.shape)"
      ],
      "metadata": {
        "colab": {
          "base_uri": "https://localhost:8080/"
        },
        "id": "63diLveysxrs",
        "outputId": "4cff54ac-6a94-4f1f-9045-d403753f7ff5"
      },
      "execution_count": 23,
      "outputs": [
        {
          "output_type": "stream",
          "name": "stdout",
          "text": [
            "(70,)\n"
          ]
        }
      ]
    },
    {
      "cell_type": "code",
      "source": [
        "295+12"
      ],
      "metadata": {
        "colab": {
          "base_uri": "https://localhost:8080/"
        },
        "id": "LIyDxcvWsy5j",
        "outputId": "f5ed655b-3e2e-4dc8-c97d-73372955af73"
      },
      "execution_count": 24,
      "outputs": [
        {
          "output_type": "execute_result",
          "data": {
            "text/plain": [
              "307"
            ]
          },
          "metadata": {},
          "execution_count": 24
        }
      ]
    },
    {
      "cell_type": "code",
      "source": [
        "#RNN \n",
        "i = Input(shape=(T,1))\n",
        "x = LSTM(12)(i)\n",
        "x = Dense(1)(x)\n",
        "model = Model(i,x)"
      ],
      "metadata": {
        "id": "rmFsoiMus3em"
      },
      "execution_count": 25,
      "outputs": []
    },
    {
      "cell_type": "code",
      "source": [
        "model.summary()"
      ],
      "metadata": {
        "colab": {
          "base_uri": "https://localhost:8080/"
        },
        "id": "yEE_jCjIs5ft",
        "outputId": "76442982-078f-4140-cf2d-3d8fea7b31da"
      },
      "execution_count": 26,
      "outputs": [
        {
          "output_type": "stream",
          "name": "stdout",
          "text": [
            "Model: \"model\"\n",
            "_________________________________________________________________\n",
            " Layer (type)                Output Shape              Param #   \n",
            "=================================================================\n",
            " input_1 (InputLayer)        [(None, 10, 1)]           0         \n",
            "                                                                 \n",
            " lstm (LSTM)                 (None, 12)                672       \n",
            "                                                                 \n",
            " dense (Dense)               (None, 1)                 13        \n",
            "                                                                 \n",
            "=================================================================\n",
            "Total params: 685\n",
            "Trainable params: 685\n",
            "Non-trainable params: 0\n",
            "_________________________________________________________________\n"
          ]
        }
      ]
    },
    {
      "cell_type": "code",
      "source": [
        "model.compile(\n",
        "    loss='mse',\n",
        "    optimizer='adam',\n",
        ")"
      ],
      "metadata": {
        "id": "maGKQWIqs64z"
      },
      "execution_count": 27,
      "outputs": []
    },
    {
      "cell_type": "code",
      "source": [
        "print(Xtrain.shape, Ytrain.shape)"
      ],
      "metadata": {
        "colab": {
          "base_uri": "https://localhost:8080/"
        },
        "id": "7EseqtPBCRLN",
        "outputId": "9bfcdd58-7a6d-433a-ed38-974520eb188e"
      },
      "execution_count": 28,
      "outputs": [
        {
          "output_type": "stream",
          "name": "stdout",
          "text": [
            "(237, 10, 1) (237,)\n"
          ]
        }
      ]
    },
    {
      "cell_type": "code",
      "source": [
        "print(Xtest.shape, Ytest.shape)"
      ],
      "metadata": {
        "colab": {
          "base_uri": "https://localhost:8080/"
        },
        "id": "DxrL9smtCd22",
        "outputId": "9d23c99a-fb62-440b-994b-e6a72822367f"
      },
      "execution_count": 29,
      "outputs": [
        {
          "output_type": "stream",
          "name": "stdout",
          "text": [
            "(70, 10, 1) (70,)\n"
          ]
        }
      ]
    },
    {
      "cell_type": "code",
      "source": [
        "r = model.fit(\n",
        "    Xtrain,\n",
        "    Ytrain,\n",
        "    epochs=100,\n",
        "    validation_data=(Xtest,Ytest),\n",
        ")"
      ],
      "metadata": {
        "colab": {
          "base_uri": "https://localhost:8080/"
        },
        "id": "simK5uSIs-em",
        "outputId": "b4cfef01-a321-44ff-eaaf-5f22661d20ad"
      },
      "execution_count": 30,
      "outputs": [
        {
          "output_type": "stream",
          "name": "stdout",
          "text": [
            "Epoch 1/100\n",
            "8/8 [==============================] - 4s 150ms/step - loss: 0.0136 - val_loss: 0.0454\n",
            "Epoch 2/100\n",
            "8/8 [==============================] - 0s 23ms/step - loss: 0.0134 - val_loss: 0.0455\n",
            "Epoch 3/100\n",
            "8/8 [==============================] - 0s 18ms/step - loss: 0.0133 - val_loss: 0.0455\n",
            "Epoch 4/100\n",
            "8/8 [==============================] - 0s 27ms/step - loss: 0.0132 - val_loss: 0.0455\n",
            "Epoch 5/100\n",
            "8/8 [==============================] - 0s 18ms/step - loss: 0.0132 - val_loss: 0.0454\n",
            "Epoch 6/100\n",
            "8/8 [==============================] - 0s 16ms/step - loss: 0.0132 - val_loss: 0.0455\n",
            "Epoch 7/100\n",
            "8/8 [==============================] - 0s 16ms/step - loss: 0.0131 - val_loss: 0.0455\n",
            "Epoch 8/100\n",
            "8/8 [==============================] - 0s 19ms/step - loss: 0.0130 - val_loss: 0.0454\n",
            "Epoch 9/100\n",
            "8/8 [==============================] - 0s 24ms/step - loss: 0.0130 - val_loss: 0.0454\n",
            "Epoch 10/100\n",
            "8/8 [==============================] - 0s 21ms/step - loss: 0.0130 - val_loss: 0.0455\n",
            "Epoch 11/100\n",
            "8/8 [==============================] - 0s 17ms/step - loss: 0.0130 - val_loss: 0.0455\n",
            "Epoch 12/100\n",
            "8/8 [==============================] - 0s 20ms/step - loss: 0.0131 - val_loss: 0.0459\n",
            "Epoch 13/100\n",
            "8/8 [==============================] - 0s 24ms/step - loss: 0.0129 - val_loss: 0.0457\n",
            "Epoch 14/100\n",
            "8/8 [==============================] - 0s 18ms/step - loss: 0.0129 - val_loss: 0.0455\n",
            "Epoch 15/100\n",
            "8/8 [==============================] - 0s 23ms/step - loss: 0.0129 - val_loss: 0.0455\n",
            "Epoch 16/100\n",
            "8/8 [==============================] - 0s 16ms/step - loss: 0.0129 - val_loss: 0.0456\n",
            "Epoch 17/100\n",
            "8/8 [==============================] - 0s 16ms/step - loss: 0.0128 - val_loss: 0.0457\n",
            "Epoch 18/100\n",
            "8/8 [==============================] - 0s 17ms/step - loss: 0.0128 - val_loss: 0.0457\n",
            "Epoch 19/100\n",
            "8/8 [==============================] - 0s 18ms/step - loss: 0.0128 - val_loss: 0.0457\n",
            "Epoch 20/100\n",
            "8/8 [==============================] - 0s 15ms/step - loss: 0.0128 - val_loss: 0.0458\n",
            "Epoch 21/100\n",
            "8/8 [==============================] - 0s 33ms/step - loss: 0.0128 - val_loss: 0.0458\n",
            "Epoch 22/100\n",
            "8/8 [==============================] - 0s 16ms/step - loss: 0.0127 - val_loss: 0.0457\n",
            "Epoch 23/100\n",
            "8/8 [==============================] - 0s 18ms/step - loss: 0.0127 - val_loss: 0.0458\n",
            "Epoch 24/100\n",
            "8/8 [==============================] - 0s 19ms/step - loss: 0.0127 - val_loss: 0.0458\n",
            "Epoch 25/100\n",
            "8/8 [==============================] - 0s 20ms/step - loss: 0.0127 - val_loss: 0.0460\n",
            "Epoch 26/100\n",
            "8/8 [==============================] - 0s 16ms/step - loss: 0.0127 - val_loss: 0.0459\n",
            "Epoch 27/100\n",
            "8/8 [==============================] - 0s 17ms/step - loss: 0.0127 - val_loss: 0.0459\n",
            "Epoch 28/100\n",
            "8/8 [==============================] - 0s 30ms/step - loss: 0.0126 - val_loss: 0.0460\n",
            "Epoch 29/100\n",
            "8/8 [==============================] - 0s 22ms/step - loss: 0.0127 - val_loss: 0.0461\n",
            "Epoch 30/100\n",
            "8/8 [==============================] - 0s 17ms/step - loss: 0.0127 - val_loss: 0.0462\n",
            "Epoch 31/100\n",
            "8/8 [==============================] - 0s 22ms/step - loss: 0.0126 - val_loss: 0.0462\n",
            "Epoch 32/100\n",
            "8/8 [==============================] - 0s 17ms/step - loss: 0.0126 - val_loss: 0.0460\n",
            "Epoch 33/100\n",
            "8/8 [==============================] - 0s 16ms/step - loss: 0.0126 - val_loss: 0.0460\n",
            "Epoch 34/100\n",
            "8/8 [==============================] - 0s 17ms/step - loss: 0.0126 - val_loss: 0.0461\n",
            "Epoch 35/100\n",
            "8/8 [==============================] - 0s 28ms/step - loss: 0.0126 - val_loss: 0.0461\n",
            "Epoch 36/100\n",
            "8/8 [==============================] - 0s 16ms/step - loss: 0.0126 - val_loss: 0.0463\n",
            "Epoch 37/100\n",
            "8/8 [==============================] - 0s 20ms/step - loss: 0.0126 - val_loss: 0.0462\n",
            "Epoch 38/100\n",
            "8/8 [==============================] - 0s 27ms/step - loss: 0.0126 - val_loss: 0.0461\n",
            "Epoch 39/100\n",
            "8/8 [==============================] - 0s 17ms/step - loss: 0.0126 - val_loss: 0.0460\n",
            "Epoch 40/100\n",
            "8/8 [==============================] - 0s 17ms/step - loss: 0.0127 - val_loss: 0.0459\n",
            "Epoch 41/100\n",
            "8/8 [==============================] - 0s 16ms/step - loss: 0.0127 - val_loss: 0.0459\n",
            "Epoch 42/100\n",
            "8/8 [==============================] - 0s 19ms/step - loss: 0.0126 - val_loss: 0.0460\n",
            "Epoch 43/100\n",
            "8/8 [==============================] - 0s 23ms/step - loss: 0.0126 - val_loss: 0.0462\n",
            "Epoch 44/100\n",
            "8/8 [==============================] - 0s 18ms/step - loss: 0.0126 - val_loss: 0.0460\n",
            "Epoch 45/100\n",
            "8/8 [==============================] - 0s 18ms/step - loss: 0.0125 - val_loss: 0.0459\n",
            "Epoch 46/100\n",
            "8/8 [==============================] - 0s 17ms/step - loss: 0.0126 - val_loss: 0.0458\n",
            "Epoch 47/100\n",
            "8/8 [==============================] - 0s 22ms/step - loss: 0.0126 - val_loss: 0.0460\n",
            "Epoch 48/100\n",
            "8/8 [==============================] - 0s 20ms/step - loss: 0.0126 - val_loss: 0.0460\n",
            "Epoch 49/100\n",
            "8/8 [==============================] - 0s 17ms/step - loss: 0.0125 - val_loss: 0.0460\n",
            "Epoch 50/100\n",
            "8/8 [==============================] - 0s 22ms/step - loss: 0.0125 - val_loss: 0.0458\n",
            "Epoch 51/100\n",
            "8/8 [==============================] - 0s 18ms/step - loss: 0.0125 - val_loss: 0.0459\n",
            "Epoch 52/100\n",
            "8/8 [==============================] - 0s 16ms/step - loss: 0.0125 - val_loss: 0.0459\n",
            "Epoch 53/100\n",
            "8/8 [==============================] - 0s 18ms/step - loss: 0.0125 - val_loss: 0.0459\n",
            "Epoch 54/100\n",
            "8/8 [==============================] - 0s 16ms/step - loss: 0.0125 - val_loss: 0.0460\n",
            "Epoch 55/100\n",
            "8/8 [==============================] - 0s 16ms/step - loss: 0.0125 - val_loss: 0.0460\n",
            "Epoch 56/100\n",
            "8/8 [==============================] - 0s 18ms/step - loss: 0.0125 - val_loss: 0.0459\n",
            "Epoch 57/100\n",
            "8/8 [==============================] - 0s 18ms/step - loss: 0.0125 - val_loss: 0.0460\n",
            "Epoch 58/100\n",
            "8/8 [==============================] - 0s 16ms/step - loss: 0.0125 - val_loss: 0.0460\n",
            "Epoch 59/100\n",
            "8/8 [==============================] - 0s 23ms/step - loss: 0.0125 - val_loss: 0.0460\n",
            "Epoch 60/100\n",
            "8/8 [==============================] - 0s 17ms/step - loss: 0.0125 - val_loss: 0.0461\n",
            "Epoch 61/100\n",
            "8/8 [==============================] - 0s 27ms/step - loss: 0.0125 - val_loss: 0.0461\n",
            "Epoch 62/100\n",
            "8/8 [==============================] - 0s 19ms/step - loss: 0.0125 - val_loss: 0.0461\n",
            "Epoch 63/100\n",
            "8/8 [==============================] - 0s 16ms/step - loss: 0.0125 - val_loss: 0.0460\n",
            "Epoch 64/100\n",
            "8/8 [==============================] - 0s 17ms/step - loss: 0.0125 - val_loss: 0.0461\n",
            "Epoch 65/100\n",
            "8/8 [==============================] - 0s 20ms/step - loss: 0.0125 - val_loss: 0.0461\n",
            "Epoch 66/100\n",
            "8/8 [==============================] - 0s 16ms/step - loss: 0.0125 - val_loss: 0.0461\n",
            "Epoch 67/100\n",
            "8/8 [==============================] - 0s 17ms/step - loss: 0.0125 - val_loss: 0.0461\n",
            "Epoch 68/100\n",
            "8/8 [==============================] - 0s 18ms/step - loss: 0.0125 - val_loss: 0.0462\n",
            "Epoch 69/100\n",
            "8/8 [==============================] - 0s 16ms/step - loss: 0.0125 - val_loss: 0.0460\n",
            "Epoch 70/100\n",
            "8/8 [==============================] - 0s 17ms/step - loss: 0.0125 - val_loss: 0.0460\n",
            "Epoch 71/100\n",
            "8/8 [==============================] - 0s 21ms/step - loss: 0.0124 - val_loss: 0.0460\n",
            "Epoch 72/100\n",
            "8/8 [==============================] - 0s 21ms/step - loss: 0.0125 - val_loss: 0.0461\n",
            "Epoch 73/100\n",
            "8/8 [==============================] - 0s 21ms/step - loss: 0.0125 - val_loss: 0.0460\n",
            "Epoch 74/100\n",
            "8/8 [==============================] - 0s 25ms/step - loss: 0.0124 - val_loss: 0.0460\n",
            "Epoch 75/100\n",
            "8/8 [==============================] - 0s 32ms/step - loss: 0.0124 - val_loss: 0.0460\n",
            "Epoch 76/100\n",
            "8/8 [==============================] - 0s 21ms/step - loss: 0.0125 - val_loss: 0.0462\n",
            "Epoch 77/100\n",
            "8/8 [==============================] - 0s 21ms/step - loss: 0.0125 - val_loss: 0.0462\n",
            "Epoch 78/100\n",
            "8/8 [==============================] - 0s 23ms/step - loss: 0.0125 - val_loss: 0.0461\n",
            "Epoch 79/100\n",
            "8/8 [==============================] - 0s 23ms/step - loss: 0.0125 - val_loss: 0.0461\n",
            "Epoch 80/100\n",
            "8/8 [==============================] - 0s 30ms/step - loss: 0.0124 - val_loss: 0.0461\n",
            "Epoch 81/100\n",
            "8/8 [==============================] - 0s 31ms/step - loss: 0.0125 - val_loss: 0.0461\n",
            "Epoch 82/100\n",
            "8/8 [==============================] - 0s 25ms/step - loss: 0.0124 - val_loss: 0.0460\n",
            "Epoch 83/100\n",
            "8/8 [==============================] - 0s 39ms/step - loss: 0.0125 - val_loss: 0.0459\n",
            "Epoch 84/100\n",
            "8/8 [==============================] - 0s 23ms/step - loss: 0.0125 - val_loss: 0.0458\n",
            "Epoch 85/100\n",
            "8/8 [==============================] - 0s 22ms/step - loss: 0.0124 - val_loss: 0.0457\n",
            "Epoch 86/100\n",
            "8/8 [==============================] - 0s 23ms/step - loss: 0.0124 - val_loss: 0.0457\n",
            "Epoch 87/100\n",
            "8/8 [==============================] - 0s 24ms/step - loss: 0.0125 - val_loss: 0.0457\n",
            "Epoch 88/100\n",
            "8/8 [==============================] - 0s 22ms/step - loss: 0.0124 - val_loss: 0.0456\n",
            "Epoch 89/100\n",
            "8/8 [==============================] - 0s 17ms/step - loss: 0.0124 - val_loss: 0.0456\n",
            "Epoch 90/100\n",
            "8/8 [==============================] - 0s 20ms/step - loss: 0.0124 - val_loss: 0.0458\n",
            "Epoch 91/100\n",
            "8/8 [==============================] - 0s 23ms/step - loss: 0.0124 - val_loss: 0.0458\n",
            "Epoch 92/100\n",
            "8/8 [==============================] - 0s 25ms/step - loss: 0.0124 - val_loss: 0.0458\n",
            "Epoch 93/100\n",
            "8/8 [==============================] - 0s 24ms/step - loss: 0.0124 - val_loss: 0.0459\n",
            "Epoch 94/100\n",
            "8/8 [==============================] - 0s 19ms/step - loss: 0.0124 - val_loss: 0.0458\n",
            "Epoch 95/100\n",
            "8/8 [==============================] - 0s 21ms/step - loss: 0.0124 - val_loss: 0.0460\n",
            "Epoch 96/100\n",
            "8/8 [==============================] - 0s 26ms/step - loss: 0.0125 - val_loss: 0.0461\n",
            "Epoch 97/100\n",
            "8/8 [==============================] - 0s 28ms/step - loss: 0.0124 - val_loss: 0.0461\n",
            "Epoch 98/100\n",
            "8/8 [==============================] - 0s 18ms/step - loss: 0.0124 - val_loss: 0.0463\n",
            "Epoch 99/100\n",
            "8/8 [==============================] - 0s 24ms/step - loss: 0.0124 - val_loss: 0.0463\n",
            "Epoch 100/100\n",
            "8/8 [==============================] - 0s 26ms/step - loss: 0.0124 - val_loss: 0.0462\n"
          ]
        }
      ]
    },
    {
      "cell_type": "code",
      "source": [
        "plt.plot(r.history['loss'],label='train loss')\n",
        "plt.plot(r.history['val_loss'], label='test loss')\n",
        "plt.legend();"
      ],
      "metadata": {
        "colab": {
          "base_uri": "https://localhost:8080/",
          "height": 265
        },
        "id": "DC8j47a8tCqh",
        "outputId": "3ba81a8f-2079-4c22-9557-45acb6ca37eb"
      },
      "execution_count": 31,
      "outputs": [
        {
          "output_type": "display_data",
          "data": {
            "text/plain": [
              "<Figure size 432x288 with 1 Axes>"
            ],
            "image/png": "[encoded data removed]"
          },
          "metadata": {
            "needs_background": "light"
          }
        }
      ]
    },
    {
      "cell_type": "code",
      "source": [
        "train_idx[:T+1] = False # First T+1 values are not predictable"
      ],
      "metadata": {
        "id": "wkoM1NcptFws"
      },
      "execution_count": 32,
      "outputs": []
    },
    {
      "cell_type": "code",
      "source": [
        "print(train_idx[:T+1]) #Me imprime lo que tenemos False en el entrenamiento "
      ],
      "metadata": {
        "colab": {
          "base_uri": "https://localhost:8080/"
        },
        "id": "kW9ytpyztHwo",
        "outputId": "a3cdf20e-af01-4d06-c096-1667b7acb6f0"
      },
      "execution_count": 33,
      "outputs": [
        {
          "output_type": "stream",
          "name": "stdout",
          "text": [
            "[False False False False False False False False False False False]\n"
          ]
        }
      ]
    },
    {
      "cell_type": "code",
      "source": [
        "Ptrain = model.predict(Xtrain).flatten()\n",
        "Ptest = model.predict(Xtest).flatten()"
      ],
      "metadata": {
        "colab": {
          "base_uri": "https://localhost:8080/"
        },
        "id": "3_OVs4-StNcN",
        "outputId": "af8940aa-01ca-4599-d671-600b223a54b8"
      },
      "execution_count": 34,
      "outputs": [
        {
          "output_type": "stream",
          "name": "stdout",
          "text": [
            "8/8 [==============================] - 1s 4ms/step\n",
            "3/3 [==============================] - 0s 11ms/step\n"
          ]
        }
      ]
    },
    {
      "cell_type": "code",
      "source": [
        "print(Ptrain.shape)"
      ],
      "metadata": {
        "colab": {
          "base_uri": "https://localhost:8080/"
        },
        "id": "k49M6v4gtRsg",
        "outputId": "4e330c47-b8fd-4a8d-d0e0-fb75da29f78f"
      },
      "execution_count": 35,
      "outputs": [
        {
          "output_type": "stream",
          "name": "stdout",
          "text": [
            "(237,)\n"
          ]
        }
      ]
    },
    {
      "cell_type": "code",
      "source": [
        "print(Ptest.shape)"
      ],
      "metadata": {
        "colab": {
          "base_uri": "https://localhost:8080/"
        },
        "id": "EDdhW9EwtTqj",
        "outputId": "dab6c6b1-ddcd-4f32-afa5-9571a900b693"
      },
      "execution_count": 36,
      "outputs": [
        {
          "output_type": "stream",
          "name": "stdout",
          "text": [
            "(70,)\n"
          ]
        }
      ]
    },
    {
      "cell_type": "code",
      "source": [
        "print(series.shape)"
      ],
      "metadata": {
        "colab": {
          "base_uri": "https://localhost:8080/"
        },
        "id": "EzOYObtKtXmC",
        "outputId": "ce9c7ccd-6031-45dd-e894-d7d1b679d97a"
      },
      "execution_count": 37,
      "outputs": [
        {
          "output_type": "stream",
          "name": "stdout",
          "text": [
            "(317,)\n"
          ]
        }
      ]
    },
    {
      "cell_type": "code",
      "source": [
        "237+70+10"
      ],
      "metadata": {
        "colab": {
          "base_uri": "https://localhost:8080/"
        },
        "id": "PO3A25ntPwU0",
        "outputId": "69131377-e86c-432f-f002-aa4c85cd7f45"
      },
      "execution_count": 83,
      "outputs": [
        {
          "output_type": "execute_result",
          "data": {
            "text/plain": [
              "317"
            ]
          },
          "metadata": {},
          "execution_count": 83
        }
      ]
    },
    {
      "cell_type": "code",
      "source": [
        "143-121-12 #es 10 porque el T = 10. "
      ],
      "metadata": {
        "colab": {
          "base_uri": "https://localhost:8080/"
        },
        "id": "an3M0wgJtZDS",
        "outputId": "a3e819e9-5725-4329-be9b-98d219833923"
      },
      "execution_count": 38,
      "outputs": [
        {
          "output_type": "execute_result",
          "data": {
            "text/plain": [
              "10"
            ]
          },
          "metadata": {},
          "execution_count": 38
        }
      ]
    },
    {
      "cell_type": "code",
      "source": [
        "#Needed to compute un-differenced predictions\n",
        "df['ShiftLogMM'] = df['LogMM'].shift(1) #cambia 1 periodo hacia adelante los datos\n",
        "prev = df['ShiftLogMM']\n",
        "ValuesView(prev.tail())"
      ],
      "metadata": {
        "colab": {
          "base_uri": "https://localhost:8080/"
        },
        "id": "ah8ZMcFQtca4",
        "outputId": "31a81627-495d-42c3-a883-0a0375ad24b6"
      },
      "execution_count": 39,
      "outputs": [
        {
          "output_type": "execute_result",
          "data": {
            "text/plain": [
              "ValuesView(Fecha\n",
              "2022-02-28    4.420165\n",
              "2022-03-31    4.519612\n",
              "2022-04-29    4.584967\n",
              "2022-05-31    4.625169\n",
              "2022-06-30    4.734706\n",
              "Name: ShiftLogMM, dtype: float64)"
            ]
          },
          "metadata": {},
          "execution_count": 39
        }
      ]
    },
    {
      "cell_type": "code",
      "source": [
        "print(prev.shape)"
      ],
      "metadata": {
        "colab": {
          "base_uri": "https://localhost:8080/"
        },
        "id": "lfSuT738tkPg",
        "outputId": "13213e4a-620b-487a-82d5-1f0ded9a3df0"
      },
      "execution_count": 40,
      "outputs": [
        {
          "output_type": "stream",
          "name": "stdout",
          "text": [
            "(318,)\n"
          ]
        }
      ]
    },
    {
      "cell_type": "code",
      "source": [
        "# Last-known train value\n",
        "last_train = train.iloc[-1]['LogMM']"
      ],
      "metadata": {
        "id": "sQttruFatnHI"
      },
      "execution_count": 41,
      "outputs": []
    },
    {
      "cell_type": "code",
      "source": [
        "ValuesView(last_train)"
      ],
      "metadata": {
        "colab": {
          "base_uri": "https://localhost:8080/"
        },
        "id": "c3GD3olltoXw",
        "outputId": "3744224d-682c-4fc4-e6a8-a738f2e2e8a4"
      },
      "execution_count": 42,
      "outputs": [
        {
          "output_type": "execute_result",
          "data": {
            "text/plain": [
              "ValuesView(3.6625354787743345)"
            ]
          },
          "metadata": {},
          "execution_count": 42
        }
      ]
    },
    {
      "cell_type": "code",
      "source": [
        "print(Ptrain.shape, prev[train_idx].shape)"
      ],
      "metadata": {
        "colab": {
          "base_uri": "https://localhost:8080/"
        },
        "id": "uUH9UVEyO5G-",
        "outputId": "67c5ffdc-60d5-4cdd-a090-cfa140750029"
      },
      "execution_count": 81,
      "outputs": [
        {
          "output_type": "stream",
          "name": "stdout",
          "text": [
            "(237,) (237,)\n"
          ]
        }
      ]
    },
    {
      "cell_type": "code",
      "source": [
        "# 1-step forecast[]\n",
        "df.loc[train_idx, '1step_train'] = prev[train_idx] + Ptrain #Te regresa las 121 observaciones con true //con el loc me regresa del df algo en específico //prev[train_idx] =121 lenght + 121 lenght ptrain\n",
        "df.loc[test_idx, '1step_test'] = prev[test_idx] + Ptest #Te regresa las 12 observaciones con true // prev[test_idx] 12 lenght + ptest 12 lenght"
      ],
      "metadata": {
        "id": "_YBHt1wltsBc"
      },
      "execution_count": 43,
      "outputs": []
    },
    {
      "cell_type": "code",
      "source": [
        "# Plot 1-step forecast []\n",
        "df[['LogMM','1step_train','1step_test']].plot(figsize=(15,5));"
      ],
      "metadata": {
        "colab": {
          "base_uri": "https://localhost:8080/",
          "height": 334
        },
        "id": "vstfdHSFttuc",
        "outputId": "ddbd473c-a860-4d7e-c7c0-f871b20e8a27"
      },
      "execution_count": 44,
      "outputs": [
        {
          "output_type": "display_data",
          "data": {
            "text/plain": [
              "<Figure size 1080x360 with 1 Axes>"
            ],
            "image/png": "[encoded data removed]"
          },
          "metadata": {
            "needs_background": "light"
          }
        }
      ]
    },
    {
      "cell_type": "code",
      "source": [
        "#multi-step forecast\n",
        "multistep_predictions = []\n",
        "\n",
        "# first test input\n",
        "last_x = Xtest[0] #acá hay 10 observaciones\n",
        "\n",
        "while len(multistep_predictions) < Ntest:#Ntest es 12, entonces el while es hasta 11. Prediceme las sig 12 observaciones. Recuerda que 11 es la 12 porque se incluye el 0\n",
        "  p = model.predict(last_x.reshape(1,-1, 1))[0]#damelo en 1 fila por x columnas que no se cuantas son. (el que debe de ir es 1,-1)\n",
        "  #update the predictions list\n",
        "  multistep_predictions.append(p)#añademe el resultado a p\n",
        "\n",
        "  #make the new input\n",
        "  last_x = np.roll(last_x,-1)\n",
        "  last_x[-1] = p"
      ],
      "metadata": {
        "colab": {
          "base_uri": "https://localhost:8080/"
        },
        "id": "1B4zL7dhugRv",
        "outputId": "5642bf17-3ecb-4504-a74d-6fdb762b9709"
      },
      "execution_count": 45,
      "outputs": [
        {
          "output_type": "stream",
          "name": "stdout",
          "text": [
            "1/1 [==============================] - 0s 43ms/step\n",
            "1/1 [==============================] - 0s 51ms/step\n",
            "1/1 [==============================] - 0s 38ms/step\n",
            "1/1 [==============================] - 0s 47ms/step\n",
            "1/1 [==============================] - 0s 49ms/step\n",
            "1/1 [==============================] - 0s 46ms/step\n",
            "1/1 [==============================] - 0s 32ms/step\n",
            "1/1 [==============================] - 0s 27ms/step\n",
            "1/1 [==============================] - 0s 76ms/step\n",
            "1/1 [==============================] - 0s 40ms/step\n",
            "1/1 [==============================] - 0s 52ms/step\n",
            "1/1 [==============================] - 0s 48ms/step\n",
            "1/1 [==============================] - 0s 72ms/step\n",
            "1/1 [==============================] - 0s 51ms/step\n",
            "1/1 [==============================] - 0s 30ms/step\n",
            "1/1 [==============================] - 0s 34ms/step\n",
            "1/1 [==============================] - 0s 57ms/step\n",
            "1/1 [==============================] - 0s 117ms/step\n",
            "1/1 [==============================] - 0s 88ms/step\n",
            "1/1 [==============================] - 0s 32ms/step\n",
            "1/1 [==============================] - 0s 60ms/step\n",
            "1/1 [==============================] - 0s 56ms/step\n",
            "1/1 [==============================] - 0s 31ms/step\n",
            "1/1 [==============================] - 0s 58ms/step\n",
            "1/1 [==============================] - 0s 28ms/step\n",
            "1/1 [==============================] - 0s 33ms/step\n",
            "1/1 [==============================] - 0s 46ms/step\n",
            "1/1 [==============================] - 0s 81ms/step\n",
            "1/1 [==============================] - 0s 79ms/step\n",
            "1/1 [==============================] - 0s 33ms/step\n",
            "1/1 [==============================] - 0s 28ms/step\n",
            "1/1 [==============================] - 0s 46ms/step\n",
            "1/1 [==============================] - 0s 53ms/step\n",
            "1/1 [==============================] - 0s 23ms/step\n",
            "1/1 [==============================] - 0s 23ms/step\n",
            "1/1 [==============================] - 0s 20ms/step\n",
            "1/1 [==============================] - 0s 23ms/step\n",
            "1/1 [==============================] - 0s 21ms/step\n",
            "1/1 [==============================] - 0s 20ms/step\n",
            "1/1 [==============================] - 0s 21ms/step\n",
            "1/1 [==============================] - 0s 20ms/step\n",
            "1/1 [==============================] - 0s 33ms/step\n",
            "1/1 [==============================] - 0s 19ms/step\n",
            "1/1 [==============================] - 0s 21ms/step\n",
            "1/1 [==============================] - 0s 19ms/step\n",
            "1/1 [==============================] - 0s 19ms/step\n",
            "1/1 [==============================] - 0s 21ms/step\n",
            "1/1 [==============================] - 0s 28ms/step\n",
            "1/1 [==============================] - 0s 18ms/step\n",
            "1/1 [==============================] - 0s 20ms/step\n",
            "1/1 [==============================] - 0s 21ms/step\n",
            "1/1 [==============================] - 0s 21ms/step\n",
            "1/1 [==============================] - 0s 20ms/step\n",
            "1/1 [==============================] - 0s 19ms/step\n",
            "1/1 [==============================] - 0s 22ms/step\n",
            "1/1 [==============================] - 0s 18ms/step\n",
            "1/1 [==============================] - 0s 24ms/step\n",
            "1/1 [==============================] - 0s 18ms/step\n",
            "1/1 [==============================] - 0s 19ms/step\n",
            "1/1 [==============================] - 0s 24ms/step\n",
            "1/1 [==============================] - 0s 21ms/step\n",
            "1/1 [==============================] - 0s 22ms/step\n",
            "1/1 [==============================] - 0s 22ms/step\n",
            "1/1 [==============================] - 0s 21ms/step\n",
            "1/1 [==============================] - 0s 21ms/step\n",
            "1/1 [==============================] - 0s 18ms/step\n",
            "1/1 [==============================] - 0s 20ms/step\n",
            "1/1 [==============================] - 0s 19ms/step\n",
            "1/1 [==============================] - 0s 19ms/step\n",
            "1/1 [==============================] - 0s 24ms/step\n"
          ]
        }
      ]
    },
    {
      "cell_type": "code",
      "source": [
        "print(p)"
      ],
      "metadata": {
        "colab": {
          "base_uri": "https://localhost:8080/"
        },
        "id": "9jaGTDYOuiML",
        "outputId": "a713f93c-a5fd-4093-9ef5-fd46008522b9"
      },
      "execution_count": 46,
      "outputs": [
        {
          "output_type": "stream",
          "name": "stdout",
          "text": [
            "[0.00090451]\n"
          ]
        }
      ]
    },
    {
      "cell_type": "code",
      "source": [
        "#save multi-step forecast to dataframe\n",
        "df.loc[test_idx, 'multistep'] = last_train + np.cumsum(multistep_predictions)"
      ],
      "metadata": {
        "id": "KhHNAuovuk81"
      },
      "execution_count": 47,
      "outputs": []
    },
    {
      "cell_type": "code",
      "source": [
        "#plot 1-step and multi-step forecast\n",
        "df[['LogMM','multistep','1step_test']].plot(figsize=(15,5));"
      ],
      "metadata": {
        "colab": {
          "base_uri": "https://localhost:8080/",
          "height": 334
        },
        "id": "bZP0dBnJumOg",
        "outputId": "43527047-a401-4739-efb5-9f5a06fdb63a"
      },
      "execution_count": 48,
      "outputs": [
        {
          "output_type": "display_data",
          "data": {
            "text/plain": [
              "<Figure size 1080x360 with 1 Axes>"
            ],
            "image/png": "[encoded data removed]"
          },
          "metadata": {
            "needs_background": "light"
          }
        }
      ]
    },
    {
      "cell_type": "code",
      "source": [
        "# make multi-output supevised dataset\n",
        "Tx = T\n",
        "Ty = Ntest\n",
        "X = []\n",
        "Y = []\n",
        "for t in range(len(series)- Tx -Ty +1):\n",
        "  x = series[t:t+Tx] #si t es 1 enotnces corre de 1 a 11\n",
        "  X.append(x)\n",
        "  y =series[t+Tx:t+Tx+Ty] #si t es 1, entonces corre de 11 a (1+10+12 = 23)\n",
        "  Y.append(y)\n",
        "\n",
        "X = np.array(X).reshape(-1, Tx, 1)\n",
        "Y = np.array(Y).reshape(-1,Ty)\n",
        "N = len(X)\n",
        "print(\"X.shape\", X.shape, \"Y.shape\", Y.shape)"
      ],
      "metadata": {
        "colab": {
          "base_uri": "https://localhost:8080/"
        },
        "id": "R4h1Z34Iunoy",
        "outputId": "09a4eedd-66e1-435d-82a3-e6a2efd2e371"
      },
      "execution_count": 49,
      "outputs": [
        {
          "output_type": "stream",
          "name": "stdout",
          "text": [
            "X.shape (238, 10, 1) Y.shape (238, 70)\n"
          ]
        }
      ]
    },
    {
      "cell_type": "code",
      "source": [
        "Xtrain_m, Ytrain_m = X[:-1], Y[:-1]\n",
        "Xtest_m, Ytest_m = X[-1:], Y[-1:]"
      ],
      "metadata": {
        "id": "UEGKtnHQu1_E"
      },
      "execution_count": 50,
      "outputs": []
    },
    {
      "cell_type": "code",
      "source": [
        "#RNN\n",
        "i = Input(shape=(Tx,1))\n",
        "x = LSTM(36, return_sequences=True)(i)\n",
        "x = GlobalMaxPool1D()(x) #NameError: name 'GlobalMaxPooling1D' is not defined\n",
        "x = Dense(Ty)(x) #en este caso es 12 =Ty\n",
        "model = Model(i,x)"
      ],
      "metadata": {
        "id": "ttydf8F8u3kb"
      },
      "execution_count": 51,
      "outputs": []
    },
    {
      "cell_type": "code",
      "source": [
        "model.summary()"
      ],
      "metadata": {
        "colab": {
          "base_uri": "https://localhost:8080/"
        },
        "id": "v9vN7suX6Mg5",
        "outputId": "8e2f7880-102c-42c9-93de-2f9c6d9c8720"
      },
      "execution_count": 52,
      "outputs": [
        {
          "output_type": "stream",
          "name": "stdout",
          "text": [
            "Model: \"model_1\"\n",
            "_________________________________________________________________\n",
            " Layer (type)                Output Shape              Param #   \n",
            "=================================================================\n",
            " input_2 (InputLayer)        [(None, 10, 1)]           0         \n",
            "                                                                 \n",
            " lstm_1 (LSTM)               (None, 10, 36)            5472      \n",
            "                                                                 \n",
            " global_max_pooling1d (Globa  (None, 36)               0         \n",
            " lMaxPooling1D)                                                  \n",
            "                                                                 \n",
            " dense_1 (Dense)             (None, 70)                2590      \n",
            "                                                                 \n",
            "=================================================================\n",
            "Total params: 8,062\n",
            "Trainable params: 8,062\n",
            "Non-trainable params: 0\n",
            "_________________________________________________________________\n"
          ]
        }
      ]
    },
    {
      "cell_type": "code",
      "source": [
        "check_point = ModelCheckpoint(\n",
        "    'best_model.h5', monitor='val_loss',save_best_only=True\n",
        ")"
      ],
      "metadata": {
        "id": "seufpvHhu5Jv"
      },
      "execution_count": 53,
      "outputs": []
    },
    {
      "cell_type": "code",
      "source": [
        "model.compile(\n",
        "    loss='mse',\n",
        "    optimizer='adam',\n",
        ")"
      ],
      "metadata": {
        "id": "Fr_JMAOuvDtd"
      },
      "execution_count": 54,
      "outputs": []
    },
    {
      "cell_type": "code",
      "source": [
        "r = model.fit(\n",
        "    Xtrain_m,\n",
        "    Ytrain_m,\n",
        "    epochs=300,\n",
        "    validation_data=(Xtest_m, Ytest_m),\n",
        "    callbacks=[check_point],\n",
        ")"
      ],
      "metadata": {
        "colab": {
          "base_uri": "https://localhost:8080/"
        },
        "id": "lKtTc05yvQYj",
        "outputId": "8945b9dd-0e02-4805-d9c6-4b93d99e0289"
      },
      "execution_count": 55,
      "outputs": [
        {
          "output_type": "stream",
          "name": "stdout",
          "text": [
            "Epoch 1/300\n",
            "8/8 [==============================] - 3s 78ms/step - loss: 0.0159 - val_loss: 0.0462\n",
            "Epoch 2/300\n",
            "8/8 [==============================] - 0s 9ms/step - loss: 0.0159 - val_loss: 0.0463\n",
            "Epoch 3/300\n",
            "8/8 [==============================] - 0s 10ms/step - loss: 0.0159 - val_loss: 0.0463\n",
            "Epoch 4/300\n",
            "8/8 [==============================] - 0s 11ms/step - loss: 0.0158 - val_loss: 0.0463\n",
            "Epoch 5/300\n",
            "8/8 [==============================] - 0s 11ms/step - loss: 0.0158 - val_loss: 0.0463\n",
            "Epoch 6/300\n",
            "8/8 [==============================] - 0s 9ms/step - loss: 0.0158 - val_loss: 0.0463\n",
            "Epoch 7/300\n",
            "8/8 [==============================] - 0s 10ms/step - loss: 0.0158 - val_loss: 0.0463\n",
            "Epoch 8/300\n",
            "8/8 [==============================] - 0s 9ms/step - loss: 0.0158 - val_loss: 0.0463\n",
            "Epoch 9/300\n",
            "8/8 [==============================] - 0s 9ms/step - loss: 0.0158 - val_loss: 0.0463\n",
            "Epoch 10/300\n",
            "8/8 [==============================] - 0s 9ms/step - loss: 0.0158 - val_loss: 0.0463\n",
            "Epoch 11/300\n",
            "8/8 [==============================] - 0s 9ms/step - loss: 0.0158 - val_loss: 0.0463\n",
            "Epoch 12/300\n",
            "8/8 [==============================] - 0s 10ms/step - loss: 0.0158 - val_loss: 0.0463\n",
            "Epoch 13/300\n",
            "8/8 [==============================] - 0s 12ms/step - loss: 0.0158 - val_loss: 0.0462\n",
            "Epoch 14/300\n",
            "8/8 [==============================] - 0s 12ms/step - loss: 0.0158 - val_loss: 0.0461\n",
            "Epoch 15/300\n",
            "8/8 [==============================] - 0s 12ms/step - loss: 0.0158 - val_loss: 0.0461\n",
            "Epoch 16/300\n",
            "8/8 [==============================] - 0s 12ms/step - loss: 0.0158 - val_loss: 0.0461\n",
            "Epoch 17/300\n",
            "8/8 [==============================] - 0s 12ms/step - loss: 0.0158 - val_loss: 0.0460\n",
            "Epoch 18/300\n",
            "8/8 [==============================] - 0s 11ms/step - loss: 0.0158 - val_loss: 0.0459\n",
            "Epoch 19/300\n",
            "8/8 [==============================] - 0s 9ms/step - loss: 0.0158 - val_loss: 0.0460\n",
            "Epoch 20/300\n",
            "8/8 [==============================] - 0s 10ms/step - loss: 0.0158 - val_loss: 0.0461\n",
            "Epoch 21/300\n",
            "8/8 [==============================] - 0s 9ms/step - loss: 0.0158 - val_loss: 0.0462\n",
            "Epoch 22/300\n",
            "8/8 [==============================] - 0s 11ms/step - loss: 0.0158 - val_loss: 0.0462\n",
            "Epoch 23/300\n",
            "8/8 [==============================] - 0s 10ms/step - loss: 0.0158 - val_loss: 0.0461\n",
            "Epoch 24/300\n",
            "8/8 [==============================] - 0s 9ms/step - loss: 0.0158 - val_loss: 0.0462\n",
            "Epoch 25/300\n",
            "8/8 [==============================] - 0s 10ms/step - loss: 0.0158 - val_loss: 0.0461\n",
            "Epoch 26/300\n",
            "8/8 [==============================] - 0s 9ms/step - loss: 0.0158 - val_loss: 0.0461\n",
            "Epoch 27/300\n",
            "8/8 [==============================] - 0s 13ms/step - loss: 0.0158 - val_loss: 0.0460\n",
            "Epoch 28/300\n",
            "8/8 [==============================] - 0s 9ms/step - loss: 0.0158 - val_loss: 0.0460\n",
            "Epoch 29/300\n",
            "8/8 [==============================] - 0s 13ms/step - loss: 0.0158 - val_loss: 0.0458\n",
            "Epoch 30/300\n",
            "8/8 [==============================] - 0s 10ms/step - loss: 0.0157 - val_loss: 0.0460\n",
            "Epoch 31/300\n",
            "8/8 [==============================] - 0s 9ms/step - loss: 0.0157 - val_loss: 0.0461\n",
            "Epoch 32/300\n",
            "8/8 [==============================] - 0s 11ms/step - loss: 0.0157 - val_loss: 0.0462\n",
            "Epoch 33/300\n",
            "8/8 [==============================] - 0s 9ms/step - loss: 0.0157 - val_loss: 0.0462\n",
            "Epoch 34/300\n",
            "8/8 [==============================] - 0s 10ms/step - loss: 0.0157 - val_loss: 0.0461\n",
            "Epoch 35/300\n",
            "8/8 [==============================] - 0s 9ms/step - loss: 0.0157 - val_loss: 0.0460\n",
            "Epoch 36/300\n",
            "8/8 [==============================] - 0s 10ms/step - loss: 0.0157 - val_loss: 0.0460\n",
            "Epoch 37/300\n",
            "8/8 [==============================] - 0s 10ms/step - loss: 0.0157 - val_loss: 0.0461\n",
            "Epoch 38/300\n",
            "8/8 [==============================] - 0s 11ms/step - loss: 0.0157 - val_loss: 0.0461\n",
            "Epoch 39/300\n",
            "8/8 [==============================] - 0s 13ms/step - loss: 0.0157 - val_loss: 0.0460\n",
            "Epoch 40/300\n",
            "8/8 [==============================] - 0s 11ms/step - loss: 0.0157 - val_loss: 0.0460\n",
            "Epoch 41/300\n",
            "8/8 [==============================] - 0s 9ms/step - loss: 0.0157 - val_loss: 0.0461\n",
            "Epoch 42/300\n",
            "8/8 [==============================] - 0s 11ms/step - loss: 0.0157 - val_loss: 0.0461\n",
            "Epoch 43/300\n",
            "8/8 [==============================] - 0s 10ms/step - loss: 0.0157 - val_loss: 0.0461\n",
            "Epoch 44/300\n",
            "8/8 [==============================] - 0s 11ms/step - loss: 0.0156 - val_loss: 0.0462\n",
            "Epoch 45/300\n",
            "8/8 [==============================] - 0s 10ms/step - loss: 0.0156 - val_loss: 0.0462\n",
            "Epoch 46/300\n",
            "8/8 [==============================] - 0s 10ms/step - loss: 0.0156 - val_loss: 0.0462\n",
            "Epoch 47/300\n",
            "8/8 [==============================] - 0s 11ms/step - loss: 0.0156 - val_loss: 0.0462\n",
            "Epoch 48/300\n",
            "8/8 [==============================] - 0s 9ms/step - loss: 0.0156 - val_loss: 0.0463\n",
            "Epoch 49/300\n",
            "8/8 [==============================] - 0s 9ms/step - loss: 0.0156 - val_loss: 0.0463\n",
            "Epoch 50/300\n",
            "8/8 [==============================] - 0s 10ms/step - loss: 0.0156 - val_loss: 0.0463\n",
            "Epoch 51/300\n",
            "8/8 [==============================] - 0s 9ms/step - loss: 0.0156 - val_loss: 0.0463\n",
            "Epoch 52/300\n",
            "8/8 [==============================] - 0s 9ms/step - loss: 0.0156 - val_loss: 0.0464\n",
            "Epoch 53/300\n",
            "8/8 [==============================] - 0s 10ms/step - loss: 0.0156 - val_loss: 0.0461\n",
            "Epoch 54/300\n",
            "8/8 [==============================] - 0s 9ms/step - loss: 0.0156 - val_loss: 0.0463\n",
            "Epoch 55/300\n",
            "8/8 [==============================] - 0s 11ms/step - loss: 0.0155 - val_loss: 0.0465\n",
            "Epoch 56/300\n",
            "8/8 [==============================] - 0s 10ms/step - loss: 0.0155 - val_loss: 0.0465\n",
            "Epoch 57/300\n",
            "8/8 [==============================] - 0s 14ms/step - loss: 0.0155 - val_loss: 0.0465\n",
            "Epoch 58/300\n",
            "8/8 [==============================] - 0s 9ms/step - loss: 0.0155 - val_loss: 0.0466\n",
            "Epoch 59/300\n",
            "8/8 [==============================] - 0s 10ms/step - loss: 0.0155 - val_loss: 0.0466\n",
            "Epoch 60/300\n",
            "8/8 [==============================] - 0s 12ms/step - loss: 0.0155 - val_loss: 0.0469\n",
            "Epoch 61/300\n",
            "8/8 [==============================] - 0s 12ms/step - loss: 0.0155 - val_loss: 0.0467\n",
            "Epoch 62/300\n",
            "8/8 [==============================] - 0s 9ms/step - loss: 0.0155 - val_loss: 0.0465\n",
            "Epoch 63/300\n",
            "8/8 [==============================] - 0s 10ms/step - loss: 0.0155 - val_loss: 0.0465\n",
            "Epoch 64/300\n",
            "8/8 [==============================] - 0s 9ms/step - loss: 0.0155 - val_loss: 0.0466\n",
            "Epoch 65/300\n",
            "8/8 [==============================] - 0s 9ms/step - loss: 0.0154 - val_loss: 0.0468\n",
            "Epoch 66/300\n",
            "8/8 [==============================] - 0s 10ms/step - loss: 0.0154 - val_loss: 0.0466\n",
            "Epoch 67/300\n",
            "8/8 [==============================] - 0s 10ms/step - loss: 0.0154 - val_loss: 0.0464\n",
            "Epoch 68/300\n",
            "8/8 [==============================] - 0s 9ms/step - loss: 0.0154 - val_loss: 0.0465\n",
            "Epoch 69/300\n",
            "8/8 [==============================] - 0s 9ms/step - loss: 0.0154 - val_loss: 0.0469\n",
            "Epoch 70/300\n",
            "8/8 [==============================] - 0s 10ms/step - loss: 0.0154 - val_loss: 0.0470\n",
            "Epoch 71/300\n",
            "8/8 [==============================] - 0s 9ms/step - loss: 0.0154 - val_loss: 0.0471\n",
            "Epoch 72/300\n",
            "8/8 [==============================] - 0s 12ms/step - loss: 0.0154 - val_loss: 0.0472\n",
            "Epoch 73/300\n",
            "8/8 [==============================] - 0s 10ms/step - loss: 0.0154 - val_loss: 0.0469\n",
            "Epoch 74/300\n",
            "8/8 [==============================] - 0s 8ms/step - loss: 0.0153 - val_loss: 0.0470\n",
            "Epoch 75/300\n",
            "8/8 [==============================] - 0s 9ms/step - loss: 0.0153 - val_loss: 0.0477\n",
            "Epoch 76/300\n",
            "8/8 [==============================] - 0s 9ms/step - loss: 0.0153 - val_loss: 0.0475\n",
            "Epoch 77/300\n",
            "8/8 [==============================] - 0s 9ms/step - loss: 0.0153 - val_loss: 0.0474\n",
            "Epoch 78/300\n",
            "8/8 [==============================] - 0s 10ms/step - loss: 0.0153 - val_loss: 0.0478\n",
            "Epoch 79/300\n",
            "8/8 [==============================] - 0s 9ms/step - loss: 0.0153 - val_loss: 0.0476\n",
            "Epoch 80/300\n",
            "8/8 [==============================] - 0s 9ms/step - loss: 0.0153 - val_loss: 0.0474\n",
            "Epoch 81/300\n",
            "8/8 [==============================] - 0s 9ms/step - loss: 0.0152 - val_loss: 0.0475\n",
            "Epoch 82/300\n",
            "8/8 [==============================] - 0s 10ms/step - loss: 0.0152 - val_loss: 0.0479\n",
            "Epoch 83/300\n",
            "8/8 [==============================] - 0s 10ms/step - loss: 0.0152 - val_loss: 0.0474\n",
            "Epoch 84/300\n",
            "8/8 [==============================] - 0s 9ms/step - loss: 0.0152 - val_loss: 0.0481\n",
            "Epoch 85/300\n",
            "8/8 [==============================] - 0s 10ms/step - loss: 0.0152 - val_loss: 0.0482\n",
            "Epoch 86/300\n",
            "8/8 [==============================] - 0s 10ms/step - loss: 0.0152 - val_loss: 0.0483\n",
            "Epoch 87/300\n",
            "8/8 [==============================] - 0s 9ms/step - loss: 0.0152 - val_loss: 0.0484\n",
            "Epoch 88/300\n",
            "8/8 [==============================] - 0s 9ms/step - loss: 0.0151 - val_loss: 0.0484\n",
            "Epoch 89/300\n",
            "8/8 [==============================] - 0s 9ms/step - loss: 0.0151 - val_loss: 0.0482\n",
            "Epoch 90/300\n",
            "8/8 [==============================] - 0s 10ms/step - loss: 0.0151 - val_loss: 0.0486\n",
            "Epoch 91/300\n",
            "8/8 [==============================] - 0s 9ms/step - loss: 0.0151 - val_loss: 0.0481\n",
            "Epoch 92/300\n",
            "8/8 [==============================] - 0s 9ms/step - loss: 0.0151 - val_loss: 0.0488\n",
            "Epoch 93/300\n",
            "8/8 [==============================] - 0s 9ms/step - loss: 0.0151 - val_loss: 0.0494\n",
            "Epoch 94/300\n",
            "8/8 [==============================] - 0s 12ms/step - loss: 0.0151 - val_loss: 0.0484\n",
            "Epoch 95/300\n",
            "8/8 [==============================] - 0s 10ms/step - loss: 0.0150 - val_loss: 0.0488\n",
            "Epoch 96/300\n",
            "8/8 [==============================] - 0s 10ms/step - loss: 0.0150 - val_loss: 0.0492\n",
            "Epoch 97/300\n",
            "8/8 [==============================] - 0s 9ms/step - loss: 0.0150 - val_loss: 0.0492\n",
            "Epoch 98/300\n",
            "8/8 [==============================] - 0s 12ms/step - loss: 0.0150 - val_loss: 0.0496\n",
            "Epoch 99/300\n",
            "8/8 [==============================] - 0s 9ms/step - loss: 0.0150 - val_loss: 0.0500\n",
            "Epoch 100/300\n",
            "8/8 [==============================] - 0s 11ms/step - loss: 0.0150 - val_loss: 0.0494\n",
            "Epoch 101/300\n",
            "8/8 [==============================] - 0s 9ms/step - loss: 0.0150 - val_loss: 0.0500\n",
            "Epoch 102/300\n",
            "8/8 [==============================] - 0s 10ms/step - loss: 0.0149 - val_loss: 0.0501\n",
            "Epoch 103/300\n",
            "8/8 [==============================] - 0s 9ms/step - loss: 0.0149 - val_loss: 0.0497\n",
            "Epoch 104/300\n",
            "8/8 [==============================] - 0s 12ms/step - loss: 0.0149 - val_loss: 0.0499\n",
            "Epoch 105/300\n",
            "8/8 [==============================] - 0s 11ms/step - loss: 0.0149 - val_loss: 0.0506\n",
            "Epoch 106/300\n",
            "8/8 [==============================] - 0s 9ms/step - loss: 0.0149 - val_loss: 0.0514\n",
            "Epoch 107/300\n",
            "8/8 [==============================] - 0s 10ms/step - loss: 0.0149 - val_loss: 0.0505\n",
            "Epoch 108/300\n",
            "8/8 [==============================] - 0s 9ms/step - loss: 0.0148 - val_loss: 0.0500\n",
            "Epoch 109/300\n",
            "8/8 [==============================] - 0s 12ms/step - loss: 0.0148 - val_loss: 0.0500\n",
            "Epoch 110/300\n",
            "8/8 [==============================] - 0s 10ms/step - loss: 0.0148 - val_loss: 0.0508\n",
            "Epoch 111/300\n",
            "8/8 [==============================] - 0s 9ms/step - loss: 0.0148 - val_loss: 0.0510\n",
            "Epoch 112/300\n",
            "8/8 [==============================] - 0s 11ms/step - loss: 0.0148 - val_loss: 0.0519\n",
            "Epoch 113/300\n",
            "8/8 [==============================] - 0s 9ms/step - loss: 0.0148 - val_loss: 0.0514\n",
            "Epoch 114/300\n",
            "8/8 [==============================] - 0s 10ms/step - loss: 0.0148 - val_loss: 0.0504\n",
            "Epoch 115/300\n",
            "8/8 [==============================] - 0s 9ms/step - loss: 0.0147 - val_loss: 0.0520\n",
            "Epoch 116/300\n",
            "8/8 [==============================] - 0s 9ms/step - loss: 0.0147 - val_loss: 0.0516\n",
            "Epoch 117/300\n",
            "8/8 [==============================] - 0s 11ms/step - loss: 0.0147 - val_loss: 0.0511\n",
            "Epoch 118/300\n",
            "8/8 [==============================] - 0s 11ms/step - loss: 0.0148 - val_loss: 0.0505\n",
            "Epoch 119/300\n",
            "8/8 [==============================] - 0s 10ms/step - loss: 0.0147 - val_loss: 0.0510\n",
            "Epoch 120/300\n",
            "8/8 [==============================] - 0s 12ms/step - loss: 0.0147 - val_loss: 0.0525\n",
            "Epoch 121/300\n",
            "8/8 [==============================] - 0s 12ms/step - loss: 0.0147 - val_loss: 0.0517\n",
            "Epoch 122/300\n",
            "8/8 [==============================] - 0s 10ms/step - loss: 0.0147 - val_loss: 0.0517\n",
            "Epoch 123/300\n",
            "8/8 [==============================] - 0s 12ms/step - loss: 0.0147 - val_loss: 0.0516\n",
            "Epoch 124/300\n",
            "8/8 [==============================] - 0s 11ms/step - loss: 0.0146 - val_loss: 0.0522\n",
            "Epoch 125/300\n",
            "8/8 [==============================] - 0s 9ms/step - loss: 0.0146 - val_loss: 0.0518\n",
            "Epoch 126/300\n",
            "8/8 [==============================] - 0s 11ms/step - loss: 0.0146 - val_loss: 0.0519\n",
            "Epoch 127/300\n",
            "8/8 [==============================] - 0s 10ms/step - loss: 0.0146 - val_loss: 0.0516\n",
            "Epoch 128/300\n",
            "8/8 [==============================] - 0s 12ms/step - loss: 0.0146 - val_loss: 0.0527\n",
            "Epoch 129/300\n",
            "8/8 [==============================] - 0s 12ms/step - loss: 0.0146 - val_loss: 0.0519\n",
            "Epoch 130/300\n",
            "8/8 [==============================] - 0s 10ms/step - loss: 0.0145 - val_loss: 0.0500\n",
            "Epoch 131/300\n",
            "8/8 [==============================] - 0s 10ms/step - loss: 0.0146 - val_loss: 0.0522\n",
            "Epoch 132/300\n",
            "8/8 [==============================] - 0s 12ms/step - loss: 0.0145 - val_loss: 0.0519\n",
            "Epoch 133/300\n",
            "8/8 [==============================] - 0s 9ms/step - loss: 0.0145 - val_loss: 0.0517\n",
            "Epoch 134/300\n",
            "8/8 [==============================] - 0s 10ms/step - loss: 0.0145 - val_loss: 0.0518\n",
            "Epoch 135/300\n",
            "8/8 [==============================] - 0s 10ms/step - loss: 0.0145 - val_loss: 0.0528\n",
            "Epoch 136/300\n",
            "8/8 [==============================] - 0s 10ms/step - loss: 0.0145 - val_loss: 0.0512\n",
            "Epoch 137/300\n",
            "8/8 [==============================] - 0s 11ms/step - loss: 0.0145 - val_loss: 0.0516\n",
            "Epoch 138/300\n",
            "8/8 [==============================] - 0s 11ms/step - loss: 0.0145 - val_loss: 0.0521\n",
            "Epoch 139/300\n",
            "8/8 [==============================] - 0s 10ms/step - loss: 0.0144 - val_loss: 0.0528\n",
            "Epoch 140/300\n",
            "8/8 [==============================] - 0s 9ms/step - loss: 0.0144 - val_loss: 0.0520\n",
            "Epoch 141/300\n",
            "8/8 [==============================] - 0s 9ms/step - loss: 0.0144 - val_loss: 0.0521\n",
            "Epoch 142/300\n",
            "8/8 [==============================] - 0s 11ms/step - loss: 0.0144 - val_loss: 0.0520\n",
            "Epoch 143/300\n",
            "8/8 [==============================] - 0s 12ms/step - loss: 0.0144 - val_loss: 0.0530\n",
            "Epoch 144/300\n",
            "8/8 [==============================] - 0s 10ms/step - loss: 0.0144 - val_loss: 0.0526\n",
            "Epoch 145/300\n",
            "8/8 [==============================] - 0s 10ms/step - loss: 0.0144 - val_loss: 0.0517\n",
            "Epoch 146/300\n",
            "8/8 [==============================] - 0s 11ms/step - loss: 0.0143 - val_loss: 0.0507\n",
            "Epoch 147/300\n",
            "8/8 [==============================] - 0s 10ms/step - loss: 0.0143 - val_loss: 0.0536\n",
            "Epoch 148/300\n",
            "8/8 [==============================] - 0s 11ms/step - loss: 0.0143 - val_loss: 0.0523\n",
            "Epoch 149/300\n",
            "8/8 [==============================] - 0s 11ms/step - loss: 0.0143 - val_loss: 0.0517\n",
            "Epoch 150/300\n",
            "8/8 [==============================] - 0s 12ms/step - loss: 0.0143 - val_loss: 0.0527\n",
            "Epoch 151/300\n",
            "8/8 [==============================] - 0s 10ms/step - loss: 0.0143 - val_loss: 0.0524\n",
            "Epoch 152/300\n",
            "8/8 [==============================] - 0s 10ms/step - loss: 0.0143 - val_loss: 0.0513\n",
            "Epoch 153/300\n",
            "8/8 [==============================] - 0s 9ms/step - loss: 0.0143 - val_loss: 0.0525\n",
            "Epoch 154/300\n",
            "8/8 [==============================] - 0s 12ms/step - loss: 0.0143 - val_loss: 0.0524\n",
            "Epoch 155/300\n",
            "8/8 [==============================] - 0s 10ms/step - loss: 0.0143 - val_loss: 0.0515\n",
            "Epoch 156/300\n",
            "8/8 [==============================] - 0s 9ms/step - loss: 0.0142 - val_loss: 0.0533\n",
            "Epoch 157/300\n",
            "8/8 [==============================] - 0s 11ms/step - loss: 0.0142 - val_loss: 0.0523\n",
            "Epoch 158/300\n",
            "8/8 [==============================] - 0s 9ms/step - loss: 0.0143 - val_loss: 0.0513\n",
            "Epoch 159/300\n",
            "8/8 [==============================] - 0s 11ms/step - loss: 0.0142 - val_loss: 0.0529\n",
            "Epoch 160/300\n",
            "8/8 [==============================] - 0s 9ms/step - loss: 0.0142 - val_loss: 0.0527\n",
            "Epoch 161/300\n",
            "8/8 [==============================] - 0s 10ms/step - loss: 0.0142 - val_loss: 0.0514\n",
            "Epoch 162/300\n",
            "8/8 [==============================] - 0s 10ms/step - loss: 0.0142 - val_loss: 0.0525\n",
            "Epoch 163/300\n",
            "8/8 [==============================] - 0s 11ms/step - loss: 0.0142 - val_loss: 0.0541\n",
            "Epoch 164/300\n",
            "8/8 [==============================] - 0s 12ms/step - loss: 0.0142 - val_loss: 0.0516\n",
            "Epoch 165/300\n",
            "8/8 [==============================] - 0s 11ms/step - loss: 0.0142 - val_loss: 0.0521\n",
            "Epoch 166/300\n",
            "8/8 [==============================] - 0s 10ms/step - loss: 0.0141 - val_loss: 0.0528\n",
            "Epoch 167/300\n",
            "8/8 [==============================] - 0s 16ms/step - loss: 0.0141 - val_loss: 0.0524\n",
            "Epoch 168/300\n",
            "8/8 [==============================] - 0s 10ms/step - loss: 0.0141 - val_loss: 0.0524\n",
            "Epoch 169/300\n",
            "8/8 [==============================] - 0s 10ms/step - loss: 0.0141 - val_loss: 0.0516\n",
            "Epoch 170/300\n",
            "8/8 [==============================] - 0s 10ms/step - loss: 0.0141 - val_loss: 0.0529\n",
            "Epoch 171/300\n",
            "8/8 [==============================] - 0s 15ms/step - loss: 0.0141 - val_loss: 0.0513\n",
            "Epoch 172/300\n",
            "8/8 [==============================] - 0s 10ms/step - loss: 0.0141 - val_loss: 0.0529\n",
            "Epoch 173/300\n",
            "8/8 [==============================] - 0s 10ms/step - loss: 0.0141 - val_loss: 0.0514\n",
            "Epoch 174/300\n",
            "8/8 [==============================] - 0s 10ms/step - loss: 0.0141 - val_loss: 0.0526\n",
            "Epoch 175/300\n",
            "8/8 [==============================] - 0s 11ms/step - loss: 0.0141 - val_loss: 0.0530\n",
            "Epoch 176/300\n",
            "8/8 [==============================] - 0s 12ms/step - loss: 0.0140 - val_loss: 0.0512\n",
            "Epoch 177/300\n",
            "8/8 [==============================] - 0s 9ms/step - loss: 0.0140 - val_loss: 0.0537\n",
            "Epoch 178/300\n",
            "8/8 [==============================] - 0s 11ms/step - loss: 0.0140 - val_loss: 0.0534\n",
            "Epoch 179/300\n",
            "8/8 [==============================] - 0s 9ms/step - loss: 0.0140 - val_loss: 0.0516\n",
            "Epoch 180/300\n",
            "8/8 [==============================] - 0s 10ms/step - loss: 0.0140 - val_loss: 0.0529\n",
            "Epoch 181/300\n",
            "8/8 [==============================] - 0s 12ms/step - loss: 0.0140 - val_loss: 0.0516\n",
            "Epoch 182/300\n",
            "8/8 [==============================] - 0s 10ms/step - loss: 0.0140 - val_loss: 0.0537\n",
            "Epoch 183/300\n",
            "8/8 [==============================] - 0s 11ms/step - loss: 0.0140 - val_loss: 0.0513\n",
            "Epoch 184/300\n",
            "8/8 [==============================] - 0s 12ms/step - loss: 0.0140 - val_loss: 0.0524\n",
            "Epoch 185/300\n",
            "8/8 [==============================] - 0s 10ms/step - loss: 0.0140 - val_loss: 0.0539\n",
            "Epoch 186/300\n",
            "8/8 [==============================] - 0s 11ms/step - loss: 0.0140 - val_loss: 0.0524\n",
            "Epoch 187/300\n",
            "8/8 [==============================] - 0s 11ms/step - loss: 0.0139 - val_loss: 0.0530\n",
            "Epoch 188/300\n",
            "8/8 [==============================] - 0s 10ms/step - loss: 0.0139 - val_loss: 0.0521\n",
            "Epoch 189/300\n",
            "8/8 [==============================] - 0s 11ms/step - loss: 0.0139 - val_loss: 0.0525\n",
            "Epoch 190/300\n",
            "8/8 [==============================] - 0s 10ms/step - loss: 0.0139 - val_loss: 0.0541\n",
            "Epoch 191/300\n",
            "8/8 [==============================] - 0s 10ms/step - loss: 0.0139 - val_loss: 0.0531\n",
            "Epoch 192/300\n",
            "8/8 [==============================] - 0s 10ms/step - loss: 0.0139 - val_loss: 0.0522\n",
            "Epoch 193/300\n",
            "8/8 [==============================] - 0s 12ms/step - loss: 0.0139 - val_loss: 0.0529\n",
            "Epoch 194/300\n",
            "8/8 [==============================] - 0s 11ms/step - loss: 0.0139 - val_loss: 0.0527\n",
            "Epoch 195/300\n",
            "8/8 [==============================] - 0s 10ms/step - loss: 0.0139 - val_loss: 0.0529\n",
            "Epoch 196/300\n",
            "8/8 [==============================] - 0s 10ms/step - loss: 0.0138 - val_loss: 0.0525\n",
            "Epoch 197/300\n",
            "8/8 [==============================] - 0s 11ms/step - loss: 0.0138 - val_loss: 0.0533\n",
            "Epoch 198/300\n",
            "8/8 [==============================] - 0s 13ms/step - loss: 0.0139 - val_loss: 0.0523\n",
            "Epoch 199/300\n",
            "8/8 [==============================] - 0s 9ms/step - loss: 0.0139 - val_loss: 0.0525\n",
            "Epoch 200/300\n",
            "8/8 [==============================] - 0s 11ms/step - loss: 0.0139 - val_loss: 0.0534\n",
            "Epoch 201/300\n",
            "8/8 [==============================] - 0s 9ms/step - loss: 0.0138 - val_loss: 0.0521\n",
            "Epoch 202/300\n",
            "8/8 [==============================] - 0s 11ms/step - loss: 0.0138 - val_loss: 0.0529\n",
            "Epoch 203/300\n",
            "8/8 [==============================] - 0s 10ms/step - loss: 0.0138 - val_loss: 0.0534\n",
            "Epoch 204/300\n",
            "8/8 [==============================] - 0s 9ms/step - loss: 0.0137 - val_loss: 0.0526\n",
            "Epoch 205/300\n",
            "8/8 [==============================] - 0s 10ms/step - loss: 0.0138 - val_loss: 0.0525\n",
            "Epoch 206/300\n",
            "8/8 [==============================] - 0s 9ms/step - loss: 0.0137 - val_loss: 0.0523\n",
            "Epoch 207/300\n",
            "8/8 [==============================] - 0s 11ms/step - loss: 0.0137 - val_loss: 0.0532\n",
            "Epoch 208/300\n",
            "8/8 [==============================] - 0s 9ms/step - loss: 0.0137 - val_loss: 0.0521\n",
            "Epoch 209/300\n",
            "8/8 [==============================] - 0s 12ms/step - loss: 0.0137 - val_loss: 0.0527\n",
            "Epoch 210/300\n",
            "8/8 [==============================] - 0s 9ms/step - loss: 0.0137 - val_loss: 0.0522\n",
            "Epoch 211/300\n",
            "8/8 [==============================] - 0s 9ms/step - loss: 0.0137 - val_loss: 0.0542\n",
            "Epoch 212/300\n",
            "8/8 [==============================] - 0s 9ms/step - loss: 0.0137 - val_loss: 0.0525\n",
            "Epoch 213/300\n",
            "8/8 [==============================] - 0s 10ms/step - loss: 0.0137 - val_loss: 0.0544\n",
            "Epoch 214/300\n",
            "8/8 [==============================] - 0s 12ms/step - loss: 0.0137 - val_loss: 0.0528\n",
            "Epoch 215/300\n",
            "8/8 [==============================] - 0s 9ms/step - loss: 0.0137 - val_loss: 0.0522\n",
            "Epoch 216/300\n",
            "8/8 [==============================] - 0s 12ms/step - loss: 0.0137 - val_loss: 0.0536\n",
            "Epoch 217/300\n",
            "8/8 [==============================] - 0s 9ms/step - loss: 0.0137 - val_loss: 0.0515\n",
            "Epoch 218/300\n",
            "8/8 [==============================] - 0s 11ms/step - loss: 0.0137 - val_loss: 0.0542\n",
            "Epoch 219/300\n",
            "8/8 [==============================] - 0s 11ms/step - loss: 0.0137 - val_loss: 0.0528\n",
            "Epoch 220/300\n",
            "8/8 [==============================] - 0s 12ms/step - loss: 0.0136 - val_loss: 0.0531\n",
            "Epoch 221/300\n",
            "8/8 [==============================] - 0s 12ms/step - loss: 0.0136 - val_loss: 0.0528\n",
            "Epoch 222/300\n",
            "8/8 [==============================] - 0s 9ms/step - loss: 0.0136 - val_loss: 0.0547\n",
            "Epoch 223/300\n",
            "8/8 [==============================] - 0s 10ms/step - loss: 0.0136 - val_loss: 0.0523\n",
            "Epoch 224/300\n",
            "8/8 [==============================] - 0s 11ms/step - loss: 0.0136 - val_loss: 0.0534\n",
            "Epoch 225/300\n",
            "8/8 [==============================] - 0s 10ms/step - loss: 0.0136 - val_loss: 0.0529\n",
            "Epoch 226/300\n",
            "8/8 [==============================] - 0s 12ms/step - loss: 0.0136 - val_loss: 0.0534\n",
            "Epoch 227/300\n",
            "8/8 [==============================] - 0s 10ms/step - loss: 0.0135 - val_loss: 0.0526\n",
            "Epoch 228/300\n",
            "8/8 [==============================] - 0s 10ms/step - loss: 0.0136 - val_loss: 0.0542\n",
            "Epoch 229/300\n",
            "8/8 [==============================] - 0s 11ms/step - loss: 0.0136 - val_loss: 0.0529\n",
            "Epoch 230/300\n",
            "8/8 [==============================] - 0s 10ms/step - loss: 0.0136 - val_loss: 0.0533\n",
            "Epoch 231/300\n",
            "8/8 [==============================] - 0s 12ms/step - loss: 0.0136 - val_loss: 0.0537\n",
            "Epoch 232/300\n",
            "8/8 [==============================] - 0s 12ms/step - loss: 0.0135 - val_loss: 0.0529\n",
            "Epoch 233/300\n",
            "8/8 [==============================] - 0s 9ms/step - loss: 0.0136 - val_loss: 0.0539\n",
            "Epoch 234/300\n",
            "8/8 [==============================] - 0s 11ms/step - loss: 0.0135 - val_loss: 0.0546\n",
            "Epoch 235/300\n",
            "8/8 [==============================] - 0s 10ms/step - loss: 0.0135 - val_loss: 0.0537\n",
            "Epoch 236/300\n",
            "8/8 [==============================] - 0s 11ms/step - loss: 0.0135 - val_loss: 0.0536\n",
            "Epoch 237/300\n",
            "8/8 [==============================] - 0s 11ms/step - loss: 0.0135 - val_loss: 0.0530\n",
            "Epoch 238/300\n",
            "8/8 [==============================] - 0s 10ms/step - loss: 0.0135 - val_loss: 0.0533\n",
            "Epoch 239/300\n",
            "8/8 [==============================] - 0s 12ms/step - loss: 0.0135 - val_loss: 0.0541\n",
            "Epoch 240/300\n",
            "8/8 [==============================] - 0s 10ms/step - loss: 0.0135 - val_loss: 0.0524\n",
            "Epoch 241/300\n",
            "8/8 [==============================] - 0s 11ms/step - loss: 0.0135 - val_loss: 0.0556\n",
            "Epoch 242/300\n",
            "8/8 [==============================] - 0s 12ms/step - loss: 0.0135 - val_loss: 0.0538\n",
            "Epoch 243/300\n",
            "8/8 [==============================] - 0s 9ms/step - loss: 0.0135 - val_loss: 0.0538\n",
            "Epoch 244/300\n",
            "8/8 [==============================] - 0s 12ms/step - loss: 0.0135 - val_loss: 0.0540\n",
            "Epoch 245/300\n",
            "8/8 [==============================] - 0s 10ms/step - loss: 0.0135 - val_loss: 0.0546\n",
            "Epoch 246/300\n",
            "8/8 [==============================] - 0s 11ms/step - loss: 0.0134 - val_loss: 0.0532\n",
            "Epoch 247/300\n",
            "8/8 [==============================] - 0s 10ms/step - loss: 0.0134 - val_loss: 0.0552\n",
            "Epoch 248/300\n",
            "8/8 [==============================] - 0s 10ms/step - loss: 0.0134 - val_loss: 0.0533\n",
            "Epoch 249/300\n",
            "8/8 [==============================] - 0s 11ms/step - loss: 0.0134 - val_loss: 0.0536\n",
            "Epoch 250/300\n",
            "8/8 [==============================] - 0s 9ms/step - loss: 0.0134 - val_loss: 0.0540\n",
            "Epoch 251/300\n",
            "8/8 [==============================] - 0s 13ms/step - loss: 0.0134 - val_loss: 0.0522\n",
            "Epoch 252/300\n",
            "8/8 [==============================] - 0s 11ms/step - loss: 0.0134 - val_loss: 0.0548\n",
            "Epoch 253/300\n",
            "8/8 [==============================] - 0s 12ms/step - loss: 0.0134 - val_loss: 0.0534\n",
            "Epoch 254/300\n",
            "8/8 [==============================] - 0s 12ms/step - loss: 0.0134 - val_loss: 0.0534\n",
            "Epoch 255/300\n",
            "8/8 [==============================] - 0s 10ms/step - loss: 0.0134 - val_loss: 0.0528\n",
            "Epoch 256/300\n",
            "8/8 [==============================] - 0s 10ms/step - loss: 0.0134 - val_loss: 0.0542\n",
            "Epoch 257/300\n",
            "8/8 [==============================] - 0s 10ms/step - loss: 0.0134 - val_loss: 0.0527\n",
            "Epoch 258/300\n",
            "8/8 [==============================] - 0s 11ms/step - loss: 0.0134 - val_loss: 0.0537\n",
            "Epoch 259/300\n",
            "8/8 [==============================] - 0s 11ms/step - loss: 0.0133 - val_loss: 0.0525\n",
            "Epoch 260/300\n",
            "8/8 [==============================] - 0s 10ms/step - loss: 0.0133 - val_loss: 0.0535\n",
            "Epoch 261/300\n",
            "8/8 [==============================] - 0s 11ms/step - loss: 0.0133 - val_loss: 0.0535\n",
            "Epoch 262/300\n",
            "8/8 [==============================] - 0s 10ms/step - loss: 0.0133 - val_loss: 0.0535\n",
            "Epoch 263/300\n",
            "8/8 [==============================] - 0s 14ms/step - loss: 0.0133 - val_loss: 0.0532\n",
            "Epoch 264/300\n",
            "8/8 [==============================] - 0s 10ms/step - loss: 0.0133 - val_loss: 0.0544\n",
            "Epoch 265/300\n",
            "8/8 [==============================] - 0s 11ms/step - loss: 0.0133 - val_loss: 0.0535\n",
            "Epoch 266/300\n",
            "8/8 [==============================] - 0s 10ms/step - loss: 0.0133 - val_loss: 0.0530\n",
            "Epoch 267/300\n",
            "8/8 [==============================] - 0s 11ms/step - loss: 0.0133 - val_loss: 0.0540\n",
            "Epoch 268/300\n",
            "8/8 [==============================] - 0s 12ms/step - loss: 0.0133 - val_loss: 0.0535\n",
            "Epoch 269/300\n",
            "8/8 [==============================] - 0s 11ms/step - loss: 0.0133 - val_loss: 0.0542\n",
            "Epoch 270/300\n",
            "8/8 [==============================] - 0s 9ms/step - loss: 0.0132 - val_loss: 0.0532\n",
            "Epoch 271/300\n",
            "8/8 [==============================] - 0s 11ms/step - loss: 0.0132 - val_loss: 0.0541\n",
            "Epoch 272/300\n",
            "8/8 [==============================] - 0s 10ms/step - loss: 0.0132 - val_loss: 0.0543\n",
            "Epoch 273/300\n",
            "8/8 [==============================] - 0s 10ms/step - loss: 0.0132 - val_loss: 0.0535\n",
            "Epoch 274/300\n",
            "8/8 [==============================] - 0s 11ms/step - loss: 0.0132 - val_loss: 0.0537\n",
            "Epoch 275/300\n",
            "8/8 [==============================] - 0s 9ms/step - loss: 0.0132 - val_loss: 0.0531\n",
            "Epoch 276/300\n",
            "8/8 [==============================] - 0s 11ms/step - loss: 0.0132 - val_loss: 0.0548\n",
            "Epoch 277/300\n",
            "8/8 [==============================] - 0s 10ms/step - loss: 0.0132 - val_loss: 0.0538\n",
            "Epoch 278/300\n",
            "8/8 [==============================] - 0s 10ms/step - loss: 0.0132 - val_loss: 0.0540\n",
            "Epoch 279/300\n",
            "8/8 [==============================] - 0s 13ms/step - loss: 0.0132 - val_loss: 0.0547\n",
            "Epoch 280/300\n",
            "8/8 [==============================] - 0s 13ms/step - loss: 0.0132 - val_loss: 0.0550\n",
            "Epoch 281/300\n",
            "8/8 [==============================] - 0s 10ms/step - loss: 0.0132 - val_loss: 0.0536\n",
            "Epoch 282/300\n",
            "8/8 [==============================] - 0s 11ms/step - loss: 0.0132 - val_loss: 0.0547\n",
            "Epoch 283/300\n",
            "8/8 [==============================] - 0s 12ms/step - loss: 0.0132 - val_loss: 0.0546\n",
            "Epoch 284/300\n",
            "8/8 [==============================] - 0s 11ms/step - loss: 0.0132 - val_loss: 0.0542\n",
            "Epoch 285/300\n",
            "8/8 [==============================] - 0s 13ms/step - loss: 0.0132 - val_loss: 0.0538\n",
            "Epoch 286/300\n",
            "8/8 [==============================] - 0s 10ms/step - loss: 0.0132 - val_loss: 0.0551\n",
            "Epoch 287/300\n",
            "8/8 [==============================] - 0s 10ms/step - loss: 0.0131 - val_loss: 0.0535\n",
            "Epoch 288/300\n",
            "8/8 [==============================] - 0s 11ms/step - loss: 0.0131 - val_loss: 0.0543\n",
            "Epoch 289/300\n",
            "8/8 [==============================] - 0s 9ms/step - loss: 0.0131 - val_loss: 0.0537\n",
            "Epoch 290/300\n",
            "8/8 [==============================] - 0s 11ms/step - loss: 0.0131 - val_loss: 0.0543\n",
            "Epoch 291/300\n",
            "8/8 [==============================] - 0s 10ms/step - loss: 0.0131 - val_loss: 0.0546\n",
            "Epoch 292/300\n",
            "8/8 [==============================] - 0s 10ms/step - loss: 0.0131 - val_loss: 0.0536\n",
            "Epoch 293/300\n",
            "8/8 [==============================] - 0s 12ms/step - loss: 0.0131 - val_loss: 0.0548\n",
            "Epoch 294/300\n",
            "8/8 [==============================] - 0s 12ms/step - loss: 0.0131 - val_loss: 0.0548\n",
            "Epoch 295/300\n",
            "8/8 [==============================] - 0s 11ms/step - loss: 0.0131 - val_loss: 0.0546\n",
            "Epoch 296/300\n",
            "8/8 [==============================] - 0s 14ms/step - loss: 0.0131 - val_loss: 0.0539\n",
            "Epoch 297/300\n",
            "8/8 [==============================] - 0s 12ms/step - loss: 0.0131 - val_loss: 0.0538\n",
            "Epoch 298/300\n",
            "8/8 [==============================] - 0s 13ms/step - loss: 0.0131 - val_loss: 0.0544\n",
            "Epoch 299/300\n",
            "8/8 [==============================] - 0s 12ms/step - loss: 0.0131 - val_loss: 0.0544\n",
            "Epoch 300/300\n",
            "8/8 [==============================] - 0s 12ms/step - loss: 0.0130 - val_loss: 0.0545\n"
          ]
        }
      ]
    },
    {
      "cell_type": "code",
      "source": [
        "#Plot the loss\n",
        "plt.plot(r.history['loss'], label='train loss')\n",
        "plt.plot(r.history['val_loss'], label='test loss')\n",
        "plt.legend();"
      ],
      "metadata": {
        "colab": {
          "base_uri": "https://localhost:8080/",
          "height": 265
        },
        "id": "kIz533WhvSOA",
        "outputId": "40fba64c-3879-4452-af6c-603485a76e5f"
      },
      "execution_count": 56,
      "outputs": [
        {
          "output_type": "display_data",
          "data": {
            "text/plain": [
              "<Figure size 432x288 with 1 Axes>"
            ],
            "image/png": "[encoded data removed]"
          },
          "metadata": {
            "needs_background": "light"
          }
        }
      ]
    },
    {
      "cell_type": "code",
      "source": [
        "#load best model\n",
        "best_model = tf.keras.models.load_model('best_model.h5')"
      ],
      "metadata": {
        "id": "T0ZxHuYOvVCO"
      },
      "execution_count": 57,
      "outputs": []
    },
    {
      "cell_type": "code",
      "source": [
        "Ptrain = model.predict(Xtrain_m)\n",
        "Ptest = model.predict(Xtest_m)"
      ],
      "metadata": {
        "colab": {
          "base_uri": "https://localhost:8080/"
        },
        "id": "OhcaDSUmvXRy",
        "outputId": "af7cec4b-5fe9-4330-8b05-1bb9bd5ddebc"
      },
      "execution_count": 58,
      "outputs": [
        {
          "output_type": "stream",
          "name": "stdout",
          "text": [
            "8/8 [==============================] - 0s 3ms/step\n",
            "1/1 [==============================] - 0s 20ms/step\n"
          ]
        }
      ]
    },
    {
      "cell_type": "code",
      "source": [
        "Ptrain.shape, Ptest.shape"
      ],
      "metadata": {
        "colab": {
          "base_uri": "https://localhost:8080/"
        },
        "id": "9pAduhXsvYW8",
        "outputId": "df648ce4-4172-4db5-e15d-49e70d484c0f"
      },
      "execution_count": 59,
      "outputs": [
        {
          "output_type": "execute_result",
          "data": {
            "text/plain": [
              "((237, 70), (1, 70))"
            ]
          },
          "metadata": {},
          "execution_count": 59
        }
      ]
    },
    {
      "cell_type": "code",
      "source": [
        "Ptrain = Ptrain[:,0]\n",
        "Ptest = Ptest [0]"
      ],
      "metadata": {
        "id": "j3kC0YTBvZJF"
      },
      "execution_count": 60,
      "outputs": []
    },
    {
      "cell_type": "code",
      "source": [
        "print(Ptest)"
      ],
      "metadata": {
        "colab": {
          "base_uri": "https://localhost:8080/"
        },
        "id": "K8TzOQOBvbMw",
        "outputId": "13a16c8e-b777-40b9-addc-ddbb68cc5671"
      },
      "execution_count": 61,
      "outputs": [
        {
          "output_type": "stream",
          "name": "stdout",
          "text": [
            "[-0.01271022 -0.00628346 -0.09747483 -0.08256947 -0.0048377   0.06649442\n",
            "  0.09682003 -0.04252439 -0.08118169  0.00219438  0.03245952  0.01929126\n",
            " -0.00135113 -0.05041664  0.00486879  0.02406464 -0.04957066 -0.04395539\n",
            " -0.01863568  0.04568156  0.09216165  0.00754236  0.03716557 -0.00763535\n",
            " -0.00065803  0.01779968 -0.01161787 -0.06697825 -0.08130637 -0.00797663\n",
            "  0.11956728  0.14671768  0.06908678  0.03772711  0.0397072   0.07638514\n",
            " -0.00272229 -0.03081908 -0.12879002 -0.01680546  0.08134528  0.03737079\n",
            "  0.00113512 -0.20665628 -0.02296162  0.17558299  0.12847525  0.00559886\n",
            " -0.00108593 -0.11363997 -0.02201131  0.03696427 -0.03689237 -0.15146083\n",
            " -0.11994757  0.06407157  0.14086205  0.02167683 -0.07030401 -0.00428373\n",
            " -0.00329398  0.12653957  0.13788335 -0.07349423 -0.04645566  0.06979116\n",
            " -0.00057908  0.05758931  0.04748395 -0.01946459]\n"
          ]
        }
      ]
    },
    {
      "cell_type": "code",
      "source": [
        "# save multi-output forecast to dataframe []\n",
        "df.loc[test_idx, 'multioutput'] = last_train + \\\n",
        "  np.cumsum(Ptest)"
      ],
      "metadata": {
        "id": "ooXiwkyCveM5"
      },
      "execution_count": 62,
      "outputs": []
    },
    {
      "cell_type": "code",
      "source": [
        "#plot all forecasts\n",
        "cols = ['LogMM', 'multistep', '1step_test','multioutput']\n",
        "df[cols].plot(figsize=(15,5));"
      ],
      "metadata": {
        "colab": {
          "base_uri": "https://localhost:8080/",
          "height": 334
        },
        "id": "mWGcNLx6vfiA",
        "outputId": "20c90187-0f61-451c-8e1d-be9a86424e8e"
      },
      "execution_count": 63,
      "outputs": [
        {
          "output_type": "display_data",
          "data": {
            "text/plain": [
              "<Figure size 1080x360 with 1 Axes>"
            ],
            "image/png": "[encoded data removed]"
          },
          "metadata": {
            "needs_background": "light"
          }
        }
      ]
    },
    {
      "cell_type": "code",
      "source": [
        "#RNN multiple LSTM Layers\n",
        "i = Input(shape=(Tx,1)) #recuerda Tx = T \n",
        "x = LSTM(16, return_sequences=True)(i)\n",
        "x = LSTM(16, return_sequences=True)(x)\n",
        "x = GlobalMaxPool1D()(x) #convertir la secuencia en 1 solo vector y aplicar solo una capa de densidad al final\n",
        "x = Dense(Ty)(x) #Ty = Ntest el cual es 12 en el ejemplo\n",
        "model = Model(i,x)"
      ],
      "metadata": {
        "id": "nlBw8PSevjSM"
      },
      "execution_count": 64,
      "outputs": []
    },
    {
      "cell_type": "code",
      "source": [
        "model.summary()"
      ],
      "metadata": {
        "id": "Gn9wYYT26Xz3",
        "outputId": "cc676fae-472c-44f5-81b0-ee255902ad36",
        "colab": {
          "base_uri": "https://localhost:8080/"
        }
      },
      "execution_count": 65,
      "outputs": [
        {
          "output_type": "stream",
          "name": "stdout",
          "text": [
            "Model: \"model_2\"\n",
            "_________________________________________________________________\n",
            " Layer (type)                Output Shape              Param #   \n",
            "=================================================================\n",
            " input_3 (InputLayer)        [(None, 10, 1)]           0         \n",
            "                                                                 \n",
            " lstm_2 (LSTM)               (None, 10, 16)            1152      \n",
            "                                                                 \n",
            " lstm_3 (LSTM)               (None, 10, 16)            2112      \n",
            "                                                                 \n",
            " global_max_pooling1d_1 (Glo  (None, 16)               0         \n",
            " balMaxPooling1D)                                                \n",
            "                                                                 \n",
            " dense_2 (Dense)             (None, 70)                1190      \n",
            "                                                                 \n",
            "=================================================================\n",
            "Total params: 4,454\n",
            "Trainable params: 4,454\n",
            "Non-trainable params: 0\n",
            "_________________________________________________________________\n"
          ]
        }
      ]
    },
    {
      "cell_type": "code",
      "source": [
        "check_point = ModelCheckpoint(\n",
        "    'best_model.h5',monitor='val_loss',save_best_only=True)\n"
      ],
      "metadata": {
        "id": "XW5iLoR1vnp-"
      },
      "execution_count": 66,
      "outputs": []
    },
    {
      "cell_type": "code",
      "source": [
        "model.compile(\n",
        "    loss='mse',\n",
        "    optimizer='adam',\n",
        ")"
      ],
      "metadata": {
        "id": "1IlieTRRvoqU"
      },
      "execution_count": 67,
      "outputs": []
    },
    {
      "cell_type": "code",
      "source": [
        "r = model.fit(\n",
        "    Xtrain_m,\n",
        "    Ytrain_m,\n",
        "    epochs=300,\n",
        "    validation_data=(Xtest_m,Ytest_m),\n",
        ")"
      ],
      "metadata": {
        "colab": {
          "base_uri": "https://localhost:8080/"
        },
        "id": "tEW2caD3vp6r",
        "outputId": "c2e41398-1807-467a-ca48-2e6b120bc289"
      },
      "execution_count": 68,
      "outputs": [
        {
          "output_type": "stream",
          "name": "stdout",
          "text": [
            "Epoch 1/300\n",
            "8/8 [==============================] - 5s 139ms/step - loss: 0.0159 - val_loss: 0.0462\n",
            "Epoch 2/300\n",
            "8/8 [==============================] - 0s 15ms/step - loss: 0.0159 - val_loss: 0.0463\n",
            "Epoch 3/300\n",
            "8/8 [==============================] - 0s 15ms/step - loss: 0.0158 - val_loss: 0.0464\n",
            "Epoch 4/300\n",
            "8/8 [==============================] - 0s 16ms/step - loss: 0.0158 - val_loss: 0.0464\n",
            "Epoch 5/300\n",
            "8/8 [==============================] - 0s 14ms/step - loss: 0.0158 - val_loss: 0.0464\n",
            "Epoch 6/300\n",
            "8/8 [==============================] - 0s 15ms/step - loss: 0.0158 - val_loss: 0.0465\n",
            "Epoch 7/300\n",
            "8/8 [==============================] - 0s 20ms/step - loss: 0.0158 - val_loss: 0.0465\n",
            "Epoch 8/300\n",
            "8/8 [==============================] - 0s 14ms/step - loss: 0.0158 - val_loss: 0.0465\n",
            "Epoch 9/300\n",
            "8/8 [==============================] - 0s 16ms/step - loss: 0.0158 - val_loss: 0.0465\n",
            "Epoch 10/300\n",
            "8/8 [==============================] - 0s 17ms/step - loss: 0.0158 - val_loss: 0.0465\n",
            "Epoch 11/300\n",
            "8/8 [==============================] - 0s 23ms/step - loss: 0.0158 - val_loss: 0.0465\n",
            "Epoch 12/300\n",
            "8/8 [==============================] - 0s 22ms/step - loss: 0.0158 - val_loss: 0.0464\n",
            "Epoch 13/300\n",
            "8/8 [==============================] - 0s 22ms/step - loss: 0.0158 - val_loss: 0.0464\n",
            "Epoch 14/300\n",
            "8/8 [==============================] - 0s 20ms/step - loss: 0.0158 - val_loss: 0.0463\n",
            "Epoch 15/300\n",
            "8/8 [==============================] - 0s 21ms/step - loss: 0.0158 - val_loss: 0.0463\n",
            "Epoch 16/300\n",
            "8/8 [==============================] - 0s 20ms/step - loss: 0.0158 - val_loss: 0.0463\n",
            "Epoch 17/300\n",
            "8/8 [==============================] - 0s 22ms/step - loss: 0.0158 - val_loss: 0.0463\n",
            "Epoch 18/300\n",
            "8/8 [==============================] - 0s 20ms/step - loss: 0.0158 - val_loss: 0.0462\n",
            "Epoch 19/300\n",
            "8/8 [==============================] - 0s 19ms/step - loss: 0.0158 - val_loss: 0.0463\n",
            "Epoch 20/300\n",
            "8/8 [==============================] - 0s 19ms/step - loss: 0.0158 - val_loss: 0.0463\n",
            "Epoch 21/300\n",
            "8/8 [==============================] - 0s 20ms/step - loss: 0.0158 - val_loss: 0.0465\n",
            "Epoch 22/300\n",
            "8/8 [==============================] - 0s 22ms/step - loss: 0.0158 - val_loss: 0.0466\n",
            "Epoch 23/300\n",
            "8/8 [==============================] - 0s 23ms/step - loss: 0.0158 - val_loss: 0.0465\n",
            "Epoch 24/300\n",
            "8/8 [==============================] - 0s 21ms/step - loss: 0.0158 - val_loss: 0.0465\n",
            "Epoch 25/300\n",
            "8/8 [==============================] - 0s 15ms/step - loss: 0.0158 - val_loss: 0.0465\n",
            "Epoch 26/300\n",
            "8/8 [==============================] - 0s 14ms/step - loss: 0.0158 - val_loss: 0.0464\n",
            "Epoch 27/300\n",
            "8/8 [==============================] - 0s 15ms/step - loss: 0.0158 - val_loss: 0.0464\n",
            "Epoch 28/300\n",
            "8/8 [==============================] - 0s 14ms/step - loss: 0.0158 - val_loss: 0.0464\n",
            "Epoch 29/300\n",
            "8/8 [==============================] - 0s 14ms/step - loss: 0.0158 - val_loss: 0.0463\n",
            "Epoch 30/300\n",
            "8/8 [==============================] - 0s 15ms/step - loss: 0.0158 - val_loss: 0.0463\n",
            "Epoch 31/300\n",
            "8/8 [==============================] - 0s 16ms/step - loss: 0.0158 - val_loss: 0.0464\n",
            "Epoch 32/300\n",
            "8/8 [==============================] - 0s 16ms/step - loss: 0.0158 - val_loss: 0.0465\n",
            "Epoch 33/300\n",
            "8/8 [==============================] - 0s 15ms/step - loss: 0.0158 - val_loss: 0.0465\n",
            "Epoch 34/300\n",
            "8/8 [==============================] - 0s 15ms/step - loss: 0.0158 - val_loss: 0.0464\n",
            "Epoch 35/300\n",
            "8/8 [==============================] - 0s 15ms/step - loss: 0.0158 - val_loss: 0.0464\n",
            "Epoch 36/300\n",
            "8/8 [==============================] - 0s 15ms/step - loss: 0.0158 - val_loss: 0.0464\n",
            "Epoch 37/300\n",
            "8/8 [==============================] - 0s 17ms/step - loss: 0.0158 - val_loss: 0.0465\n",
            "Epoch 38/300\n",
            "8/8 [==============================] - 0s 16ms/step - loss: 0.0157 - val_loss: 0.0464\n",
            "Epoch 39/300\n",
            "8/8 [==============================] - 0s 17ms/step - loss: 0.0157 - val_loss: 0.0463\n",
            "Epoch 40/300\n",
            "8/8 [==============================] - 0s 15ms/step - loss: 0.0157 - val_loss: 0.0464\n",
            "Epoch 41/300\n",
            "8/8 [==============================] - 0s 16ms/step - loss: 0.0157 - val_loss: 0.0463\n",
            "Epoch 42/300\n",
            "8/8 [==============================] - 0s 15ms/step - loss: 0.0157 - val_loss: 0.0463\n",
            "Epoch 43/300\n",
            "8/8 [==============================] - 0s 15ms/step - loss: 0.0157 - val_loss: 0.0463\n",
            "Epoch 44/300\n",
            "8/8 [==============================] - 0s 14ms/step - loss: 0.0157 - val_loss: 0.0463\n",
            "Epoch 45/300\n",
            "8/8 [==============================] - 0s 14ms/step - loss: 0.0157 - val_loss: 0.0464\n",
            "Epoch 46/300\n",
            "8/8 [==============================] - 0s 16ms/step - loss: 0.0157 - val_loss: 0.0463\n",
            "Epoch 47/300\n",
            "8/8 [==============================] - 0s 15ms/step - loss: 0.0157 - val_loss: 0.0463\n",
            "Epoch 48/300\n",
            "8/8 [==============================] - 0s 14ms/step - loss: 0.0157 - val_loss: 0.0462\n",
            "Epoch 49/300\n",
            "8/8 [==============================] - 0s 14ms/step - loss: 0.0157 - val_loss: 0.0463\n",
            "Epoch 50/300\n",
            "8/8 [==============================] - 0s 16ms/step - loss: 0.0157 - val_loss: 0.0465\n",
            "Epoch 51/300\n",
            "8/8 [==============================] - 0s 15ms/step - loss: 0.0157 - val_loss: 0.0463\n",
            "Epoch 52/300\n",
            "8/8 [==============================] - 0s 15ms/step - loss: 0.0157 - val_loss: 0.0464\n",
            "Epoch 53/300\n",
            "8/8 [==============================] - 0s 15ms/step - loss: 0.0157 - val_loss: 0.0463\n",
            "Epoch 54/300\n",
            "8/8 [==============================] - 0s 15ms/step - loss: 0.0157 - val_loss: 0.0464\n",
            "Epoch 55/300\n",
            "8/8 [==============================] - 0s 17ms/step - loss: 0.0157 - val_loss: 0.0461\n",
            "Epoch 56/300\n",
            "8/8 [==============================] - 0s 15ms/step - loss: 0.0157 - val_loss: 0.0464\n",
            "Epoch 57/300\n",
            "8/8 [==============================] - 0s 14ms/step - loss: 0.0157 - val_loss: 0.0463\n",
            "Epoch 58/300\n",
            "8/8 [==============================] - 0s 15ms/step - loss: 0.0157 - val_loss: 0.0462\n",
            "Epoch 59/300\n",
            "8/8 [==============================] - 0s 15ms/step - loss: 0.0157 - val_loss: 0.0464\n",
            "Epoch 60/300\n",
            "8/8 [==============================] - 0s 15ms/step - loss: 0.0157 - val_loss: 0.0466\n",
            "Epoch 61/300\n",
            "8/8 [==============================] - 0s 14ms/step - loss: 0.0157 - val_loss: 0.0465\n",
            "Epoch 62/300\n",
            "8/8 [==============================] - 0s 14ms/step - loss: 0.0156 - val_loss: 0.0464\n",
            "Epoch 63/300\n",
            "8/8 [==============================] - 0s 18ms/step - loss: 0.0156 - val_loss: 0.0464\n",
            "Epoch 64/300\n",
            "8/8 [==============================] - 0s 15ms/step - loss: 0.0156 - val_loss: 0.0463\n",
            "Epoch 65/300\n",
            "8/8 [==============================] - 0s 14ms/step - loss: 0.0156 - val_loss: 0.0464\n",
            "Epoch 66/300\n",
            "8/8 [==============================] - 0s 14ms/step - loss: 0.0156 - val_loss: 0.0463\n",
            "Epoch 67/300\n",
            "8/8 [==============================] - 0s 14ms/step - loss: 0.0156 - val_loss: 0.0466\n",
            "Epoch 68/300\n",
            "8/8 [==============================] - 0s 15ms/step - loss: 0.0156 - val_loss: 0.0461\n",
            "Epoch 69/300\n",
            "8/8 [==============================] - 0s 14ms/step - loss: 0.0156 - val_loss: 0.0462\n",
            "Epoch 70/300\n",
            "8/8 [==============================] - 0s 15ms/step - loss: 0.0156 - val_loss: 0.0465\n",
            "Epoch 71/300\n",
            "8/8 [==============================] - 0s 14ms/step - loss: 0.0156 - val_loss: 0.0464\n",
            "Epoch 72/300\n",
            "8/8 [==============================] - 0s 14ms/step - loss: 0.0156 - val_loss: 0.0464\n",
            "Epoch 73/300\n",
            "8/8 [==============================] - 0s 15ms/step - loss: 0.0156 - val_loss: 0.0467\n",
            "Epoch 74/300\n",
            "8/8 [==============================] - 0s 15ms/step - loss: 0.0156 - val_loss: 0.0465\n",
            "Epoch 75/300\n",
            "8/8 [==============================] - 0s 14ms/step - loss: 0.0156 - val_loss: 0.0466\n",
            "Epoch 76/300\n",
            "8/8 [==============================] - 0s 14ms/step - loss: 0.0156 - val_loss: 0.0467\n",
            "Epoch 77/300\n",
            "8/8 [==============================] - 0s 15ms/step - loss: 0.0156 - val_loss: 0.0469\n",
            "Epoch 78/300\n",
            "8/8 [==============================] - 0s 14ms/step - loss: 0.0156 - val_loss: 0.0466\n",
            "Epoch 79/300\n",
            "8/8 [==============================] - 0s 14ms/step - loss: 0.0156 - val_loss: 0.0466\n",
            "Epoch 80/300\n",
            "8/8 [==============================] - 0s 15ms/step - loss: 0.0155 - val_loss: 0.0466\n",
            "Epoch 81/300\n",
            "8/8 [==============================] - 0s 14ms/step - loss: 0.0155 - val_loss: 0.0466\n",
            "Epoch 82/300\n",
            "8/8 [==============================] - 0s 17ms/step - loss: 0.0155 - val_loss: 0.0469\n",
            "Epoch 83/300\n",
            "8/8 [==============================] - 0s 15ms/step - loss: 0.0155 - val_loss: 0.0463\n",
            "Epoch 84/300\n",
            "8/8 [==============================] - 0s 14ms/step - loss: 0.0155 - val_loss: 0.0471\n",
            "Epoch 85/300\n",
            "8/8 [==============================] - 0s 14ms/step - loss: 0.0155 - val_loss: 0.0467\n",
            "Epoch 86/300\n",
            "8/8 [==============================] - 0s 14ms/step - loss: 0.0155 - val_loss: 0.0470\n",
            "Epoch 87/300\n",
            "8/8 [==============================] - 0s 15ms/step - loss: 0.0155 - val_loss: 0.0467\n",
            "Epoch 88/300\n",
            "8/8 [==============================] - 0s 16ms/step - loss: 0.0155 - val_loss: 0.0470\n",
            "Epoch 89/300\n",
            "8/8 [==============================] - 0s 14ms/step - loss: 0.0155 - val_loss: 0.0471\n",
            "Epoch 90/300\n",
            "8/8 [==============================] - 0s 15ms/step - loss: 0.0155 - val_loss: 0.0468\n",
            "Epoch 91/300\n",
            "8/8 [==============================] - 0s 14ms/step - loss: 0.0155 - val_loss: 0.0466\n",
            "Epoch 92/300\n",
            "8/8 [==============================] - 0s 15ms/step - loss: 0.0155 - val_loss: 0.0474\n",
            "Epoch 93/300\n",
            "8/8 [==============================] - 0s 14ms/step - loss: 0.0154 - val_loss: 0.0463\n",
            "Epoch 94/300\n",
            "8/8 [==============================] - 0s 15ms/step - loss: 0.0155 - val_loss: 0.0465\n",
            "Epoch 95/300\n",
            "8/8 [==============================] - 0s 14ms/step - loss: 0.0154 - val_loss: 0.0474\n",
            "Epoch 96/300\n",
            "8/8 [==============================] - 0s 16ms/step - loss: 0.0154 - val_loss: 0.0470\n",
            "Epoch 97/300\n",
            "8/8 [==============================] - 0s 15ms/step - loss: 0.0154 - val_loss: 0.0472\n",
            "Epoch 98/300\n",
            "8/8 [==============================] - 0s 15ms/step - loss: 0.0154 - val_loss: 0.0476\n",
            "Epoch 99/300\n",
            "8/8 [==============================] - 0s 15ms/step - loss: 0.0154 - val_loss: 0.0473\n",
            "Epoch 100/300\n",
            "8/8 [==============================] - 0s 14ms/step - loss: 0.0154 - val_loss: 0.0472\n",
            "Epoch 101/300\n",
            "8/8 [==============================] - 0s 16ms/step - loss: 0.0154 - val_loss: 0.0474\n",
            "Epoch 102/300\n",
            "8/8 [==============================] - 0s 15ms/step - loss: 0.0154 - val_loss: 0.0473\n",
            "Epoch 103/300\n",
            "8/8 [==============================] - 0s 14ms/step - loss: 0.0154 - val_loss: 0.0479\n",
            "Epoch 104/300\n",
            "8/8 [==============================] - 0s 16ms/step - loss: 0.0154 - val_loss: 0.0479\n",
            "Epoch 105/300\n",
            "8/8 [==============================] - 0s 15ms/step - loss: 0.0153 - val_loss: 0.0475\n",
            "Epoch 106/300\n",
            "8/8 [==============================] - 0s 14ms/step - loss: 0.0154 - val_loss: 0.0479\n",
            "Epoch 107/300\n",
            "8/8 [==============================] - 0s 14ms/step - loss: 0.0153 - val_loss: 0.0473\n",
            "Epoch 108/300\n",
            "8/8 [==============================] - 0s 14ms/step - loss: 0.0153 - val_loss: 0.0474\n",
            "Epoch 109/300\n",
            "8/8 [==============================] - 0s 14ms/step - loss: 0.0153 - val_loss: 0.0481\n",
            "Epoch 110/300\n",
            "8/8 [==============================] - 0s 16ms/step - loss: 0.0153 - val_loss: 0.0479\n",
            "Epoch 111/300\n",
            "8/8 [==============================] - 0s 14ms/step - loss: 0.0153 - val_loss: 0.0468\n",
            "Epoch 112/300\n",
            "8/8 [==============================] - 0s 16ms/step - loss: 0.0153 - val_loss: 0.0481\n",
            "Epoch 113/300\n",
            "8/8 [==============================] - 0s 14ms/step - loss: 0.0153 - val_loss: 0.0477\n",
            "Epoch 114/300\n",
            "8/8 [==============================] - 0s 15ms/step - loss: 0.0153 - val_loss: 0.0478\n",
            "Epoch 115/300\n",
            "8/8 [==============================] - 0s 15ms/step - loss: 0.0153 - val_loss: 0.0482\n",
            "Epoch 116/300\n",
            "8/8 [==============================] - 0s 15ms/step - loss: 0.0153 - val_loss: 0.0470\n",
            "Epoch 117/300\n",
            "8/8 [==============================] - 0s 14ms/step - loss: 0.0153 - val_loss: 0.0484\n",
            "Epoch 118/300\n",
            "8/8 [==============================] - 0s 14ms/step - loss: 0.0153 - val_loss: 0.0476\n",
            "Epoch 119/300\n",
            "8/8 [==============================] - 0s 15ms/step - loss: 0.0152 - val_loss: 0.0481\n",
            "Epoch 120/300\n",
            "8/8 [==============================] - 0s 15ms/step - loss: 0.0152 - val_loss: 0.0478\n",
            "Epoch 121/300\n",
            "8/8 [==============================] - 0s 16ms/step - loss: 0.0152 - val_loss: 0.0481\n",
            "Epoch 122/300\n",
            "8/8 [==============================] - 0s 15ms/step - loss: 0.0152 - val_loss: 0.0481\n",
            "Epoch 123/300\n",
            "8/8 [==============================] - 0s 14ms/step - loss: 0.0152 - val_loss: 0.0474\n",
            "Epoch 124/300\n",
            "8/8 [==============================] - 0s 14ms/step - loss: 0.0152 - val_loss: 0.0485\n",
            "Epoch 125/300\n",
            "8/8 [==============================] - 0s 15ms/step - loss: 0.0152 - val_loss: 0.0475\n",
            "Epoch 126/300\n",
            "8/8 [==============================] - 0s 16ms/step - loss: 0.0152 - val_loss: 0.0482\n",
            "Epoch 127/300\n",
            "8/8 [==============================] - 0s 15ms/step - loss: 0.0152 - val_loss: 0.0485\n",
            "Epoch 128/300\n",
            "8/8 [==============================] - 0s 14ms/step - loss: 0.0152 - val_loss: 0.0484\n",
            "Epoch 129/300\n",
            "8/8 [==============================] - 0s 16ms/step - loss: 0.0152 - val_loss: 0.0481\n",
            "Epoch 130/300\n",
            "8/8 [==============================] - 0s 15ms/step - loss: 0.0152 - val_loss: 0.0482\n",
            "Epoch 131/300\n",
            "8/8 [==============================] - 0s 14ms/step - loss: 0.0152 - val_loss: 0.0476\n",
            "Epoch 132/300\n",
            "8/8 [==============================] - 0s 15ms/step - loss: 0.0151 - val_loss: 0.0484\n",
            "Epoch 133/300\n",
            "8/8 [==============================] - 0s 15ms/step - loss: 0.0151 - val_loss: 0.0481\n",
            "Epoch 134/300\n",
            "8/8 [==============================] - 0s 15ms/step - loss: 0.0151 - val_loss: 0.0477\n",
            "Epoch 135/300\n",
            "8/8 [==============================] - 0s 15ms/step - loss: 0.0151 - val_loss: 0.0485\n",
            "Epoch 136/300\n",
            "8/8 [==============================] - 0s 15ms/step - loss: 0.0151 - val_loss: 0.0477\n",
            "Epoch 137/300\n",
            "8/8 [==============================] - 0s 15ms/step - loss: 0.0151 - val_loss: 0.0484\n",
            "Epoch 138/300\n",
            "8/8 [==============================] - 0s 14ms/step - loss: 0.0151 - val_loss: 0.0476\n",
            "Epoch 139/300\n",
            "8/8 [==============================] - 0s 14ms/step - loss: 0.0151 - val_loss: 0.0485\n",
            "Epoch 140/300\n",
            "8/8 [==============================] - 0s 15ms/step - loss: 0.0151 - val_loss: 0.0473\n",
            "Epoch 141/300\n",
            "8/8 [==============================] - 0s 15ms/step - loss: 0.0151 - val_loss: 0.0478\n",
            "Epoch 142/300\n",
            "8/8 [==============================] - 0s 14ms/step - loss: 0.0151 - val_loss: 0.0479\n",
            "Epoch 143/300\n",
            "8/8 [==============================] - 0s 15ms/step - loss: 0.0151 - val_loss: 0.0480\n",
            "Epoch 144/300\n",
            "8/8 [==============================] - 0s 15ms/step - loss: 0.0150 - val_loss: 0.0481\n",
            "Epoch 145/300\n",
            "8/8 [==============================] - 0s 15ms/step - loss: 0.0150 - val_loss: 0.0482\n",
            "Epoch 146/300\n",
            "8/8 [==============================] - 0s 14ms/step - loss: 0.0150 - val_loss: 0.0478\n",
            "Epoch 147/300\n",
            "8/8 [==============================] - 0s 14ms/step - loss: 0.0150 - val_loss: 0.0482\n",
            "Epoch 148/300\n",
            "8/8 [==============================] - 0s 14ms/step - loss: 0.0150 - val_loss: 0.0475\n",
            "Epoch 149/300\n",
            "8/8 [==============================] - 0s 15ms/step - loss: 0.0150 - val_loss: 0.0479\n",
            "Epoch 150/300\n",
            "8/8 [==============================] - 0s 15ms/step - loss: 0.0150 - val_loss: 0.0477\n",
            "Epoch 151/300\n",
            "8/8 [==============================] - 0s 14ms/step - loss: 0.0150 - val_loss: 0.0475\n",
            "Epoch 152/300\n",
            "8/8 [==============================] - 0s 14ms/step - loss: 0.0150 - val_loss: 0.0472\n",
            "Epoch 153/300\n",
            "8/8 [==============================] - 0s 15ms/step - loss: 0.0150 - val_loss: 0.0480\n",
            "Epoch 154/300\n",
            "8/8 [==============================] - 0s 15ms/step - loss: 0.0150 - val_loss: 0.0472\n",
            "Epoch 155/300\n",
            "8/8 [==============================] - 0s 15ms/step - loss: 0.0150 - val_loss: 0.0477\n",
            "Epoch 156/300\n",
            "8/8 [==============================] - 0s 15ms/step - loss: 0.0150 - val_loss: 0.0470\n",
            "Epoch 157/300\n",
            "8/8 [==============================] - 0s 15ms/step - loss: 0.0150 - val_loss: 0.0482\n",
            "Epoch 158/300\n",
            "8/8 [==============================] - 0s 15ms/step - loss: 0.0150 - val_loss: 0.0472\n",
            "Epoch 159/300\n",
            "8/8 [==============================] - 0s 15ms/step - loss: 0.0149 - val_loss: 0.0474\n",
            "Epoch 160/300\n",
            "8/8 [==============================] - 0s 15ms/step - loss: 0.0149 - val_loss: 0.0474\n",
            "Epoch 161/300\n",
            "8/8 [==============================] - 0s 14ms/step - loss: 0.0149 - val_loss: 0.0479\n",
            "Epoch 162/300\n",
            "8/8 [==============================] - 0s 16ms/step - loss: 0.0150 - val_loss: 0.0468\n",
            "Epoch 163/300\n",
            "8/8 [==============================] - 0s 16ms/step - loss: 0.0149 - val_loss: 0.0482\n",
            "Epoch 164/300\n",
            "8/8 [==============================] - 0s 15ms/step - loss: 0.0149 - val_loss: 0.0465\n",
            "Epoch 165/300\n",
            "8/8 [==============================] - 0s 15ms/step - loss: 0.0149 - val_loss: 0.0476\n",
            "Epoch 166/300\n",
            "8/8 [==============================] - 0s 15ms/step - loss: 0.0149 - val_loss: 0.0465\n",
            "Epoch 167/300\n",
            "8/8 [==============================] - 0s 17ms/step - loss: 0.0149 - val_loss: 0.0469\n",
            "Epoch 168/300\n",
            "8/8 [==============================] - 0s 15ms/step - loss: 0.0149 - val_loss: 0.0472\n",
            "Epoch 169/300\n",
            "8/8 [==============================] - 0s 16ms/step - loss: 0.0149 - val_loss: 0.0474\n",
            "Epoch 170/300\n",
            "8/8 [==============================] - 0s 15ms/step - loss: 0.0149 - val_loss: 0.0463\n",
            "Epoch 171/300\n",
            "8/8 [==============================] - 0s 14ms/step - loss: 0.0149 - val_loss: 0.0468\n",
            "Epoch 172/300\n",
            "8/8 [==============================] - 0s 15ms/step - loss: 0.0149 - val_loss: 0.0464\n",
            "Epoch 173/300\n",
            "8/8 [==============================] - 0s 16ms/step - loss: 0.0149 - val_loss: 0.0467\n",
            "Epoch 174/300\n",
            "8/8 [==============================] - 0s 15ms/step - loss: 0.0149 - val_loss: 0.0471\n",
            "Epoch 175/300\n",
            "8/8 [==============================] - 0s 14ms/step - loss: 0.0149 - val_loss: 0.0463\n",
            "Epoch 176/300\n",
            "8/8 [==============================] - 0s 15ms/step - loss: 0.0149 - val_loss: 0.0468\n",
            "Epoch 177/300\n",
            "8/8 [==============================] - 0s 15ms/step - loss: 0.0148 - val_loss: 0.0466\n",
            "Epoch 178/300\n",
            "8/8 [==============================] - 0s 15ms/step - loss: 0.0148 - val_loss: 0.0467\n",
            "Epoch 179/300\n",
            "8/8 [==============================] - 0s 15ms/step - loss: 0.0148 - val_loss: 0.0470\n",
            "Epoch 180/300\n",
            "8/8 [==============================] - 0s 15ms/step - loss: 0.0148 - val_loss: 0.0466\n",
            "Epoch 181/300\n",
            "8/8 [==============================] - 0s 15ms/step - loss: 0.0148 - val_loss: 0.0468\n",
            "Epoch 182/300\n",
            "8/8 [==============================] - 0s 14ms/step - loss: 0.0148 - val_loss: 0.0472\n",
            "Epoch 183/300\n",
            "8/8 [==============================] - 0s 15ms/step - loss: 0.0148 - val_loss: 0.0469\n",
            "Epoch 184/300\n",
            "8/8 [==============================] - 0s 16ms/step - loss: 0.0148 - val_loss: 0.0469\n",
            "Epoch 185/300\n",
            "8/8 [==============================] - 0s 15ms/step - loss: 0.0148 - val_loss: 0.0467\n",
            "Epoch 186/300\n",
            "8/8 [==============================] - 0s 15ms/step - loss: 0.0148 - val_loss: 0.0477\n",
            "Epoch 187/300\n",
            "8/8 [==============================] - 0s 15ms/step - loss: 0.0149 - val_loss: 0.0468\n",
            "Epoch 188/300\n",
            "8/8 [==============================] - 0s 15ms/step - loss: 0.0149 - val_loss: 0.0462\n",
            "Epoch 189/300\n",
            "8/8 [==============================] - 0s 14ms/step - loss: 0.0149 - val_loss: 0.0467\n",
            "Epoch 190/300\n",
            "8/8 [==============================] - 0s 14ms/step - loss: 0.0148 - val_loss: 0.0476\n",
            "Epoch 191/300\n",
            "8/8 [==============================] - 0s 15ms/step - loss: 0.0148 - val_loss: 0.0472\n",
            "Epoch 192/300\n",
            "8/8 [==============================] - 0s 13ms/step - loss: 0.0148 - val_loss: 0.0473\n",
            "Epoch 193/300\n",
            "8/8 [==============================] - 0s 14ms/step - loss: 0.0147 - val_loss: 0.0471\n",
            "Epoch 194/300\n",
            "8/8 [==============================] - 0s 15ms/step - loss: 0.0147 - val_loss: 0.0475\n",
            "Epoch 195/300\n",
            "8/8 [==============================] - 0s 15ms/step - loss: 0.0147 - val_loss: 0.0472\n",
            "Epoch 196/300\n",
            "8/8 [==============================] - 0s 14ms/step - loss: 0.0147 - val_loss: 0.0473\n",
            "Epoch 197/300\n",
            "8/8 [==============================] - 0s 16ms/step - loss: 0.0147 - val_loss: 0.0476\n",
            "Epoch 198/300\n",
            "8/8 [==============================] - 0s 16ms/step - loss: 0.0147 - val_loss: 0.0471\n",
            "Epoch 199/300\n",
            "8/8 [==============================] - 0s 15ms/step - loss: 0.0147 - val_loss: 0.0478\n",
            "Epoch 200/300\n",
            "8/8 [==============================] - 0s 14ms/step - loss: 0.0147 - val_loss: 0.0475\n",
            "Epoch 201/300\n",
            "8/8 [==============================] - 0s 15ms/step - loss: 0.0147 - val_loss: 0.0474\n",
            "Epoch 202/300\n",
            "8/8 [==============================] - 0s 15ms/step - loss: 0.0147 - val_loss: 0.0479\n",
            "Epoch 203/300\n",
            "8/8 [==============================] - 0s 15ms/step - loss: 0.0147 - val_loss: 0.0479\n",
            "Epoch 204/300\n",
            "8/8 [==============================] - 0s 15ms/step - loss: 0.0147 - val_loss: 0.0473\n",
            "Epoch 205/300\n",
            "8/8 [==============================] - 0s 15ms/step - loss: 0.0147 - val_loss: 0.0480\n",
            "Epoch 206/300\n",
            "8/8 [==============================] - 0s 14ms/step - loss: 0.0147 - val_loss: 0.0481\n",
            "Epoch 207/300\n",
            "8/8 [==============================] - 0s 17ms/step - loss: 0.0147 - val_loss: 0.0480\n",
            "Epoch 208/300\n",
            "8/8 [==============================] - 0s 15ms/step - loss: 0.0147 - val_loss: 0.0480\n",
            "Epoch 209/300\n",
            "8/8 [==============================] - 0s 16ms/step - loss: 0.0147 - val_loss: 0.0480\n",
            "Epoch 210/300\n",
            "8/8 [==============================] - 0s 15ms/step - loss: 0.0147 - val_loss: 0.0479\n",
            "Epoch 211/300\n",
            "8/8 [==============================] - 0s 15ms/step - loss: 0.0147 - val_loss: 0.0480\n",
            "Epoch 212/300\n",
            "8/8 [==============================] - 0s 15ms/step - loss: 0.0147 - val_loss: 0.0478\n",
            "Epoch 213/300\n",
            "8/8 [==============================] - 0s 15ms/step - loss: 0.0147 - val_loss: 0.0482\n",
            "Epoch 214/300\n",
            "8/8 [==============================] - 0s 16ms/step - loss: 0.0147 - val_loss: 0.0479\n",
            "Epoch 215/300\n",
            "8/8 [==============================] - 0s 15ms/step - loss: 0.0146 - val_loss: 0.0480\n",
            "Epoch 216/300\n",
            "8/8 [==============================] - 0s 14ms/step - loss: 0.0146 - val_loss: 0.0479\n",
            "Epoch 217/300\n",
            "8/8 [==============================] - 0s 15ms/step - loss: 0.0146 - val_loss: 0.0482\n",
            "Epoch 218/300\n",
            "8/8 [==============================] - 0s 16ms/step - loss: 0.0146 - val_loss: 0.0480\n",
            "Epoch 219/300\n",
            "8/8 [==============================] - 0s 15ms/step - loss: 0.0146 - val_loss: 0.0482\n",
            "Epoch 220/300\n",
            "8/8 [==============================] - 0s 15ms/step - loss: 0.0146 - val_loss: 0.0480\n",
            "Epoch 221/300\n",
            "8/8 [==============================] - 0s 15ms/step - loss: 0.0146 - val_loss: 0.0482\n",
            "Epoch 222/300\n",
            "8/8 [==============================] - 0s 14ms/step - loss: 0.0146 - val_loss: 0.0481\n",
            "Epoch 223/300\n",
            "8/8 [==============================] - 0s 15ms/step - loss: 0.0146 - val_loss: 0.0480\n",
            "Epoch 224/300\n",
            "8/8 [==============================] - 0s 15ms/step - loss: 0.0146 - val_loss: 0.0482\n",
            "Epoch 225/300\n",
            "8/8 [==============================] - 0s 16ms/step - loss: 0.0146 - val_loss: 0.0483\n",
            "Epoch 226/300\n",
            "8/8 [==============================] - 0s 16ms/step - loss: 0.0146 - val_loss: 0.0482\n",
            "Epoch 227/300\n",
            "8/8 [==============================] - 0s 14ms/step - loss: 0.0146 - val_loss: 0.0484\n",
            "Epoch 228/300\n",
            "8/8 [==============================] - 0s 15ms/step - loss: 0.0146 - val_loss: 0.0483\n",
            "Epoch 229/300\n",
            "8/8 [==============================] - 0s 14ms/step - loss: 0.0146 - val_loss: 0.0483\n",
            "Epoch 230/300\n",
            "8/8 [==============================] - 0s 15ms/step - loss: 0.0146 - val_loss: 0.0484\n",
            "Epoch 231/300\n",
            "8/8 [==============================] - 0s 15ms/step - loss: 0.0146 - val_loss: 0.0484\n",
            "Epoch 232/300\n",
            "8/8 [==============================] - 0s 14ms/step - loss: 0.0146 - val_loss: 0.0484\n",
            "Epoch 233/300\n",
            "8/8 [==============================] - 0s 15ms/step - loss: 0.0146 - val_loss: 0.0486\n",
            "Epoch 234/300\n",
            "8/8 [==============================] - 0s 15ms/step - loss: 0.0146 - val_loss: 0.0484\n",
            "Epoch 235/300\n",
            "8/8 [==============================] - 0s 15ms/step - loss: 0.0146 - val_loss: 0.0489\n",
            "Epoch 236/300\n",
            "8/8 [==============================] - 0s 15ms/step - loss: 0.0146 - val_loss: 0.0486\n",
            "Epoch 237/300\n",
            "8/8 [==============================] - 0s 15ms/step - loss: 0.0146 - val_loss: 0.0490\n",
            "Epoch 238/300\n",
            "8/8 [==============================] - 0s 15ms/step - loss: 0.0146 - val_loss: 0.0485\n",
            "Epoch 239/300\n",
            "8/8 [==============================] - 0s 14ms/step - loss: 0.0146 - val_loss: 0.0491\n",
            "Epoch 240/300\n",
            "8/8 [==============================] - 0s 15ms/step - loss: 0.0148 - val_loss: 0.0492\n",
            "Epoch 241/300\n",
            "8/8 [==============================] - 0s 15ms/step - loss: 0.0146 - val_loss: 0.0478\n",
            "Epoch 242/300\n",
            "8/8 [==============================] - 0s 16ms/step - loss: 0.0146 - val_loss: 0.0480\n",
            "Epoch 243/300\n",
            "8/8 [==============================] - 0s 14ms/step - loss: 0.0146 - val_loss: 0.0492\n",
            "Epoch 244/300\n",
            "8/8 [==============================] - 0s 21ms/step - loss: 0.0146 - val_loss: 0.0487\n",
            "Epoch 245/300\n",
            "8/8 [==============================] - 0s 16ms/step - loss: 0.0145 - val_loss: 0.0486\n",
            "Epoch 246/300\n",
            "8/8 [==============================] - 0s 14ms/step - loss: 0.0146 - val_loss: 0.0491\n",
            "Epoch 247/300\n",
            "8/8 [==============================] - 0s 16ms/step - loss: 0.0145 - val_loss: 0.0487\n",
            "Epoch 248/300\n",
            "8/8 [==============================] - 0s 15ms/step - loss: 0.0145 - val_loss: 0.0489\n",
            "Epoch 249/300\n",
            "8/8 [==============================] - 0s 17ms/step - loss: 0.0145 - val_loss: 0.0490\n",
            "Epoch 250/300\n",
            "8/8 [==============================] - 0s 15ms/step - loss: 0.0145 - val_loss: 0.0491\n",
            "Epoch 251/300\n",
            "8/8 [==============================] - 0s 16ms/step - loss: 0.0145 - val_loss: 0.0487\n",
            "Epoch 252/300\n",
            "8/8 [==============================] - 0s 15ms/step - loss: 0.0145 - val_loss: 0.0491\n",
            "Epoch 253/300\n",
            "8/8 [==============================] - 0s 14ms/step - loss: 0.0145 - val_loss: 0.0487\n",
            "Epoch 254/300\n",
            "8/8 [==============================] - 0s 15ms/step - loss: 0.0145 - val_loss: 0.0491\n",
            "Epoch 255/300\n",
            "8/8 [==============================] - 0s 15ms/step - loss: 0.0145 - val_loss: 0.0487\n",
            "Epoch 256/300\n",
            "8/8 [==============================] - 0s 14ms/step - loss: 0.0145 - val_loss: 0.0488\n",
            "Epoch 257/300\n",
            "8/8 [==============================] - 0s 17ms/step - loss: 0.0145 - val_loss: 0.0491\n",
            "Epoch 258/300\n",
            "8/8 [==============================] - 0s 15ms/step - loss: 0.0145 - val_loss: 0.0487\n",
            "Epoch 259/300\n",
            "8/8 [==============================] - 0s 15ms/step - loss: 0.0145 - val_loss: 0.0487\n",
            "Epoch 260/300\n",
            "8/8 [==============================] - 0s 15ms/step - loss: 0.0145 - val_loss: 0.0489\n",
            "Epoch 261/300\n",
            "8/8 [==============================] - 0s 15ms/step - loss: 0.0145 - val_loss: 0.0490\n",
            "Epoch 262/300\n",
            "8/8 [==============================] - 0s 14ms/step - loss: 0.0145 - val_loss: 0.0489\n",
            "Epoch 263/300\n",
            "8/8 [==============================] - 0s 16ms/step - loss: 0.0145 - val_loss: 0.0487\n",
            "Epoch 264/300\n",
            "8/8 [==============================] - 0s 15ms/step - loss: 0.0145 - val_loss: 0.0489\n",
            "Epoch 265/300\n",
            "8/8 [==============================] - 0s 16ms/step - loss: 0.0145 - val_loss: 0.0489\n",
            "Epoch 266/300\n",
            "8/8 [==============================] - 0s 14ms/step - loss: 0.0145 - val_loss: 0.0489\n",
            "Epoch 267/300\n",
            "8/8 [==============================] - 0s 16ms/step - loss: 0.0145 - val_loss: 0.0489\n",
            "Epoch 268/300\n",
            "8/8 [==============================] - 0s 15ms/step - loss: 0.0145 - val_loss: 0.0490\n",
            "Epoch 269/300\n",
            "8/8 [==============================] - 0s 15ms/step - loss: 0.0144 - val_loss: 0.0491\n",
            "Epoch 270/300\n",
            "8/8 [==============================] - 0s 15ms/step - loss: 0.0144 - val_loss: 0.0491\n",
            "Epoch 271/300\n",
            "8/8 [==============================] - 0s 15ms/step - loss: 0.0144 - val_loss: 0.0491\n",
            "Epoch 272/300\n",
            "8/8 [==============================] - 0s 14ms/step - loss: 0.0144 - val_loss: 0.0493\n",
            "Epoch 273/300\n",
            "8/8 [==============================] - 0s 17ms/step - loss: 0.0144 - val_loss: 0.0490\n",
            "Epoch 274/300\n",
            "8/8 [==============================] - 0s 16ms/step - loss: 0.0144 - val_loss: 0.0492\n",
            "Epoch 275/300\n",
            "8/8 [==============================] - 0s 14ms/step - loss: 0.0144 - val_loss: 0.0492\n",
            "Epoch 276/300\n",
            "8/8 [==============================] - 0s 14ms/step - loss: 0.0144 - val_loss: 0.0493\n",
            "Epoch 277/300\n",
            "8/8 [==============================] - 0s 17ms/step - loss: 0.0144 - val_loss: 0.0491\n",
            "Epoch 278/300\n",
            "8/8 [==============================] - 0s 15ms/step - loss: 0.0144 - val_loss: 0.0492\n",
            "Epoch 279/300\n",
            "8/8 [==============================] - 0s 16ms/step - loss: 0.0144 - val_loss: 0.0491\n",
            "Epoch 280/300\n",
            "8/8 [==============================] - 0s 15ms/step - loss: 0.0144 - val_loss: 0.0489\n",
            "Epoch 281/300\n",
            "8/8 [==============================] - 0s 16ms/step - loss: 0.0144 - val_loss: 0.0491\n",
            "Epoch 282/300\n",
            "8/8 [==============================] - 0s 15ms/step - loss: 0.0144 - val_loss: 0.0492\n",
            "Epoch 283/300\n",
            "8/8 [==============================] - 0s 15ms/step - loss: 0.0144 - val_loss: 0.0492\n",
            "Epoch 284/300\n",
            "8/8 [==============================] - 0s 15ms/step - loss: 0.0144 - val_loss: 0.0491\n",
            "Epoch 285/300\n",
            "8/8 [==============================] - 0s 15ms/step - loss: 0.0144 - val_loss: 0.0491\n",
            "Epoch 286/300\n",
            "8/8 [==============================] - 0s 15ms/step - loss: 0.0144 - val_loss: 0.0489\n",
            "Epoch 287/300\n",
            "8/8 [==============================] - 0s 15ms/step - loss: 0.0144 - val_loss: 0.0490\n",
            "Epoch 288/300\n",
            "8/8 [==============================] - 0s 15ms/step - loss: 0.0144 - val_loss: 0.0493\n",
            "Epoch 289/300\n",
            "8/8 [==============================] - 0s 15ms/step - loss: 0.0144 - val_loss: 0.0489\n",
            "Epoch 290/300\n",
            "8/8 [==============================] - 0s 16ms/step - loss: 0.0144 - val_loss: 0.0490\n",
            "Epoch 291/300\n",
            "8/8 [==============================] - 0s 16ms/step - loss: 0.0144 - val_loss: 0.0492\n",
            "Epoch 292/300\n",
            "8/8 [==============================] - 0s 15ms/step - loss: 0.0144 - val_loss: 0.0492\n",
            "Epoch 293/300\n",
            "8/8 [==============================] - 0s 15ms/step - loss: 0.0144 - val_loss: 0.0494\n",
            "Epoch 294/300\n",
            "8/8 [==============================] - 0s 16ms/step - loss: 0.0144 - val_loss: 0.0492\n",
            "Epoch 295/300\n",
            "8/8 [==============================] - 0s 15ms/step - loss: 0.0144 - val_loss: 0.0491\n",
            "Epoch 296/300\n",
            "8/8 [==============================] - 0s 16ms/step - loss: 0.0144 - val_loss: 0.0494\n",
            "Epoch 297/300\n",
            "8/8 [==============================] - 0s 16ms/step - loss: 0.0144 - val_loss: 0.0490\n",
            "Epoch 298/300\n",
            "8/8 [==============================] - 0s 15ms/step - loss: 0.0144 - val_loss: 0.0493\n",
            "Epoch 299/300\n",
            "8/8 [==============================] - 0s 15ms/step - loss: 0.0144 - val_loss: 0.0496\n",
            "Epoch 300/300\n",
            "8/8 [==============================] - 0s 17ms/step - loss: 0.0144 - val_loss: 0.0491\n"
          ]
        }
      ]
    },
    {
      "cell_type": "code",
      "source": [
        "#Plot the loss\n",
        "plt.plot(r.history['loss'], label='train loss')\n",
        "plt.plot(r.history['val_loss'], label='test loss')\n",
        "plt.legend();"
      ],
      "metadata": {
        "colab": {
          "base_uri": "https://localhost:8080/",
          "height": 265
        },
        "id": "I-sbQdYivrv_",
        "outputId": "7474baf2-f5fd-4333-ae70-99ac45b4e44c"
      },
      "execution_count": 69,
      "outputs": [
        {
          "output_type": "display_data",
          "data": {
            "text/plain": [
              "<Figure size 432x288 with 1 Axes>"
            ],
            "image/png": "[encoded data removed]"
          },
          "metadata": {
            "needs_background": "light"
          }
        }
      ]
    },
    {
      "cell_type": "code",
      "source": [
        "#load best model \n",
        "best_model = tf.keras.models.load_model('best_model.h5')\n"
      ],
      "metadata": {
        "id": "WoObNwVuvttR"
      },
      "execution_count": 70,
      "outputs": []
    },
    {
      "cell_type": "code",
      "source": [
        "Ptrain = model.predict(Xtrain_m)\n",
        "Ptest = model.predict(Xtest_m)\n",
        "\n",
        "Ptrain = Ptrain[:,0]\n",
        "Ptest = Ptest[0]"
      ],
      "metadata": {
        "colab": {
          "base_uri": "https://localhost:8080/"
        },
        "id": "w6qxpEKKvvAZ",
        "outputId": "c7ad14e9-6296-4547-cc5c-8238b7a8dccc"
      },
      "execution_count": 71,
      "outputs": [
        {
          "output_type": "stream",
          "name": "stdout",
          "text": [
            "8/8 [==============================] - 1s 3ms/step\n",
            "1/1 [==============================] - 0s 23ms/step\n"
          ]
        }
      ]
    },
    {
      "cell_type": "code",
      "source": [
        "print(Ptest)"
      ],
      "metadata": {
        "colab": {
          "base_uri": "https://localhost:8080/"
        },
        "id": "gQGmtdDWvx71",
        "outputId": "7f2015a8-7b78-472b-837b-9a598141f8e6"
      },
      "execution_count": 72,
      "outputs": [
        {
          "output_type": "stream",
          "name": "stdout",
          "text": [
            "[ 0.01353014  0.00372925 -0.03748224 -0.02830293  0.01109946  0.07643322\n",
            "  0.12094112  0.05064327  0.03412501  0.02370544  0.01206806  0.00512242\n",
            " -0.00948254 -0.01730065  0.02785708  0.01126505 -0.01189294 -0.01353741\n",
            " -0.043453    0.02681865  0.05842818  0.02902901  0.02302895  0.02748686\n",
            "  0.02703259  0.0281279  -0.00677405 -0.03040585 -0.02664273 -0.0087637\n",
            "  0.0410961   0.04502723  0.01743777  0.01892879  0.02293528  0.02572893\n",
            " -0.01855818 -0.06600335 -0.09595587 -0.03732388  0.06630471  0.09011127\n",
            "  0.0395906  -0.04431362  0.06537671  0.10196479  0.00587907 -0.02142904\n",
            " -0.04186666 -0.02395457  0.02243082  0.05708782  0.01661287 -0.14314519\n",
            " -0.12942618  0.04021553  0.11890844  0.11869346 -0.01793209 -0.05629105\n",
            " -0.03936634  0.02894244  0.05056842  0.01520536  0.03252469  0.0590689\n",
            "  0.03165824  0.00829391 -0.05214977 -0.00647914]\n"
          ]
        }
      ]
    },
    {
      "cell_type": "code",
      "source": [
        "print(last_train)"
      ],
      "metadata": {
        "colab": {
          "base_uri": "https://localhost:8080/"
        },
        "id": "N2yRDxo-vzJL",
        "outputId": "f22b6022-f20f-4630-8fb5-eb0fefb8b1f0"
      },
      "execution_count": 73,
      "outputs": [
        {
          "output_type": "stream",
          "name": "stdout",
          "text": [
            "3.6625354787743345\n"
          ]
        }
      ]
    },
    {
      "cell_type": "code",
      "source": [
        "print( np.cumsum(Ptest))"
      ],
      "metadata": {
        "colab": {
          "base_uri": "https://localhost:8080/"
        },
        "id": "-Hz4nv6yv0Ex",
        "outputId": "916050b8-a8de-45ef-955c-e9bdebf5cf20"
      },
      "execution_count": 74,
      "outputs": [
        {
          "output_type": "stream",
          "name": "stdout",
          "text": [
            "[ 0.01353014  0.01725939 -0.02022284 -0.04852577 -0.03742632  0.0390069\n",
            "  0.15994802  0.21059129  0.24471629  0.2684217   0.28048977  0.2856122\n",
            "  0.27612966  0.25882903  0.28668612  0.29795116  0.28605822  0.2725208\n",
            "  0.2290678   0.25588647  0.31431463  0.34334365  0.3663726   0.39385945\n",
            "  0.42089203  0.44901994  0.4422459   0.41184005  0.3851973   0.3764336\n",
            "  0.4175297   0.46255693  0.47999468  0.49892348  0.52185875  0.5475877\n",
            "  0.5290295   0.46302614  0.36707026  0.32974637  0.39605108  0.48616236\n",
            "  0.52575296  0.48143935  0.54681605  0.6487808   0.65465987  0.6332308\n",
            "  0.59136415  0.5674096   0.5898404   0.64692825  0.66354114  0.52039593\n",
            "  0.39096975  0.43118528  0.5500937   0.6687872   0.65085506  0.594564\n",
            "  0.55519766  0.5841401   0.6347085   0.6499139   0.6824386   0.74150753\n",
            "  0.77316576  0.7814597   0.7293099   0.7228308 ]\n"
          ]
        }
      ]
    },
    {
      "cell_type": "code",
      "source": [
        "#save multi-output forecast to dataframe []\n",
        "df.loc[test_idx, 'multioutput2'] = last_train + \\\n",
        "  np.cumsum(Ptest)"
      ],
      "metadata": {
        "id": "mHvxkxFiv25z"
      },
      "execution_count": 75,
      "outputs": []
    },
    {
      "cell_type": "code",
      "source": [
        "# plot all forecasts\n",
        "cols = ['LogMM', 'multistep','multioutput2']\n",
        "df[cols].plot(figsize=(15,5));"
      ],
      "metadata": {
        "colab": {
          "base_uri": "https://localhost:8080/",
          "height": 334
        },
        "id": "il1yYWYXv42D",
        "outputId": "55a28d01-59ae-4c6e-80d4-b05d67294895"
      },
      "execution_count": 76,
      "outputs": [
        {
          "output_type": "display_data",
          "data": {
            "text/plain": [
              "<Figure size 1080x360 with 1 Axes>"
            ],
            "image/png": "[encoded data removed]"
          },
          "metadata": {
            "needs_background": "light"
          }
        }
      ]
    },
    {
      "cell_type": "code",
      "source": [
        "# MAPE\n",
        "test_log_pass = df.iloc[-Ntest:]['LogMM']\n",
        "mape1 = mean_absolute_percentage_error(\n",
        "    test_log_pass, df.loc[test_idx, 'multistep'])\n",
        "print(\"multi-step MAPE:\", mape1)\n",
        "mape2 = mean_absolute_percentage_error(\n",
        "    test_log_pass,df.loc[test_idx,'multioutput'])\n",
        "print(\"multi-output MAPE:\", mape2)\n",
        "mape3 = mean_absolute_percentage_error(\n",
        "    test_log_pass, df.loc[test_idx, 'multioutput2'])\n",
        "print(\"multi-output(2 LSTMs MAPE:\", mape3)"
      ],
      "metadata": {
        "colab": {
          "base_uri": "https://localhost:8080/"
        },
        "id": "xVgmp09lv6XD",
        "outputId": "f3e89c06-c68d-44f2-e133-011197a74b2c"
      },
      "execution_count": 77,
      "outputs": [
        {
          "output_type": "stream",
          "name": "stdout",
          "text": [
            "multi-step MAPE: 0.09995078345403499\n",
            "multi-output MAPE: 0.10625785566593787\n",
            "multi-output(2 LSTMs MAPE: 0.0681162208345927\n"
          ]
        }
      ]
    }
  ]
}