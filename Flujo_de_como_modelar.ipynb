{
  "nbformat": 4,
  "nbformat_minor": 0,
  "metadata": {
    "colab": {
      "name": "Flujo de como modelar",
      "provenance": [],
      "collapsed_sections": [],
      "authorship_tag": "ABX9TyPX0jbHwgvxP4xUEXc0ujrV",
      "include_colab_link": true
    },
    "kernelspec": {
      "name": "python3",
      "display_name": "Python 3"
    },
    "language_info": {
      "name": "python"
    }
  },
  "cells": [
    {
      "cell_type": "markdown",
      "metadata": {
        "id": "view-in-github",
        "colab_type": "text"
      },
      "source": [
        "<a href=\"https://colab.research.google.com/github/ReyFrank92/joyofcoding/blob/main/Flujo_de_como_modelar.ipynb\" target=\"_parent\"><img src=\"https://colab.research.google.com/assets/colab-badge.svg\" alt=\"Open In Colab\"/></a>"
      ]
    },
    {
      "cell_type": "code",
      "execution_count": null,
      "metadata": {
        "id": "V53kWchtR41v"
      },
      "outputs": [],
      "source": [
        "r = model.fit(x_train, y_train,\n",
        "              validation_data=(X_test, y_test),\n",
        "              epochs=100)\n",
        "plt.plot(r.history['loss'], label='loss')\n",
        "plt.plot(r.history['val_loss'], label='val_loss')"
      ]
    },
    {
      "cell_type": "code",
      "source": [
        "# Install TensorFlow\n",
        "!pip install -q tensorflow==2.0.0\n",
        "import tensorflow as tf\n",
        "print(tf.__version__)"
      ],
      "metadata": {
        "colab": {
          "base_uri": "https://localhost:8080/"
        },
        "id": "NHkR2yERrWgS",
        "outputId": "8d334d10-683c-4595-9be3-c517a2599c90"
      },
      "execution_count": 3,
      "outputs": [
        {
          "output_type": "stream",
          "name": "stdout",
          "text": [
            "\u001b[K     |████████████████████████████████| 86.3 MB 44 kB/s \n",
            "\u001b[K     |████████████████████████████████| 3.8 MB 63.9 MB/s \n",
            "\u001b[K     |████████████████████████████████| 50 kB 7.5 MB/s \n",
            "\u001b[K     |████████████████████████████████| 449 kB 57.4 MB/s \n",
            "\u001b[?25h  Building wheel for gast (setup.py) ... \u001b[?25l\u001b[?25hdone\n",
            "\u001b[31mERROR: pip's dependency resolver does not currently take into account all the packages that are installed. This behaviour is the source of the following dependency conflicts.\n",
            "tensorflow-probability 0.16.0 requires gast>=0.3.2, but you have gast 0.2.2 which is incompatible.\u001b[0m\n",
            "2.0.0\n"
          ]
        }
      ]
    },
    {
      "cell_type": "code",
      "source": [
        "# Load in the data\n",
        "from sklearn.datasets import load_breast_cancer"
      ],
      "metadata": {
        "id": "fLz9WXtPrbdK"
      },
      "execution_count": 5,
      "outputs": []
    },
    {
      "cell_type": "code",
      "source": [
        "#load the data\n",
        "data = load_breast_cancer()"
      ],
      "metadata": {
        "id": "jXoW58SwvsLX"
      },
      "execution_count": 6,
      "outputs": []
    },
    {
      "cell_type": "code",
      "source": [
        "#check the type of 'data'\n",
        "type(data)"
      ],
      "metadata": {
        "colab": {
          "base_uri": "https://localhost:8080/"
        },
        "id": "5ZpmO_eQv7NP",
        "outputId": "3d687d38-15a0-4a93-e69d-45eff47def03"
      },
      "execution_count": 7,
      "outputs": [
        {
          "output_type": "execute_result",
          "data": {
            "text/plain": [
              "sklearn.utils.Bunch"
            ]
          },
          "metadata": {},
          "execution_count": 7
        }
      ]
    },
    {
      "cell_type": "code",
      "source": [
        "#note it is a Bunch object\n",
        "#this basically actas like a dictionary where you can treat the keys like attributes\n",
        "data.keys()"
      ],
      "metadata": {
        "colab": {
          "base_uri": "https://localhost:8080/"
        },
        "id": "U-ZgbzAVv_YF",
        "outputId": "5f6e4428-618d-4b33-935e-001dc4d1785b"
      },
      "execution_count": 11,
      "outputs": [
        {
          "output_type": "execute_result",
          "data": {
            "text/plain": [
              "dict_keys(['data', 'target', 'frame', 'target_names', 'DESCR', 'feature_names', 'filename', 'data_module'])"
            ]
          },
          "metadata": {},
          "execution_count": 11
        }
      ]
    },
    {
      "cell_type": "code",
      "source": [
        "# ' data' (the attribute) means the input data\n",
        "data.data.shape\n",
        "# it has 569 samples, 30 features"
      ],
      "metadata": {
        "colab": {
          "base_uri": "https://localhost:8080/"
        },
        "id": "8Z16nLgdwZoQ",
        "outputId": "26c8d55a-d56e-4476-aaf9-b029a1212d53"
      },
      "execution_count": 13,
      "outputs": [
        {
          "output_type": "execute_result",
          "data": {
            "text/plain": [
              "(569, 30)"
            ]
          },
          "metadata": {},
          "execution_count": 13
        }
      ]
    },
    {
      "cell_type": "code",
      "source": [
        "# 'targets'\n",
        "data.target\n",
        "# note how the targets are just 0s and 1s\n",
        "#normally, when you have K targets, they are labeld 0..K-1"
      ],
      "metadata": {
        "colab": {
          "base_uri": "https://localhost:8080/"
        },
        "id": "hp-uII0IwkmB",
        "outputId": "ac9b9b6a-493b-48a1-eede-3fb06d946c97"
      },
      "execution_count": 14,
      "outputs": [
        {
          "output_type": "execute_result",
          "data": {
            "text/plain": [
              "array([0, 0, 0, 0, 0, 0, 0, 0, 0, 0, 0, 0, 0, 0, 0, 0, 0, 0, 0, 1, 1, 1,\n",
              "       0, 0, 0, 0, 0, 0, 0, 0, 0, 0, 0, 0, 0, 0, 0, 1, 0, 0, 0, 0, 0, 0,\n",
              "       0, 0, 1, 0, 1, 1, 1, 1, 1, 0, 0, 1, 0, 0, 1, 1, 1, 1, 0, 1, 0, 0,\n",
              "       1, 1, 1, 1, 0, 1, 0, 0, 1, 0, 1, 0, 0, 1, 1, 1, 0, 0, 1, 0, 0, 0,\n",
              "       1, 1, 1, 0, 1, 1, 0, 0, 1, 1, 1, 0, 0, 1, 1, 1, 1, 0, 1, 1, 0, 1,\n",
              "       1, 1, 1, 1, 1, 1, 1, 0, 0, 0, 1, 0, 0, 1, 1, 1, 0, 0, 1, 0, 1, 0,\n",
              "       0, 1, 0, 0, 1, 1, 0, 1, 1, 0, 1, 1, 1, 1, 0, 1, 1, 1, 1, 1, 1, 1,\n",
              "       1, 1, 0, 1, 1, 1, 1, 0, 0, 1, 0, 1, 1, 0, 0, 1, 1, 0, 0, 1, 1, 1,\n",
              "       1, 0, 1, 1, 0, 0, 0, 1, 0, 1, 0, 1, 1, 1, 0, 1, 1, 0, 0, 1, 0, 0,\n",
              "       0, 0, 1, 0, 0, 0, 1, 0, 1, 0, 1, 1, 0, 1, 0, 0, 0, 0, 1, 1, 0, 0,\n",
              "       1, 1, 1, 0, 1, 1, 1, 1, 1, 0, 0, 1, 1, 0, 1, 1, 0, 0, 1, 0, 1, 1,\n",
              "       1, 1, 0, 1, 1, 1, 1, 1, 0, 1, 0, 0, 0, 0, 0, 0, 0, 0, 0, 0, 0, 0,\n",
              "       0, 0, 1, 1, 1, 1, 1, 1, 0, 1, 0, 1, 1, 0, 1, 1, 0, 1, 0, 0, 1, 1,\n",
              "       1, 1, 1, 1, 1, 1, 1, 1, 1, 1, 1, 0, 1, 1, 0, 1, 0, 1, 1, 1, 1, 1,\n",
              "       1, 1, 1, 1, 1, 1, 1, 1, 1, 0, 1, 1, 1, 0, 1, 0, 1, 1, 1, 1, 0, 0,\n",
              "       0, 1, 1, 1, 1, 0, 1, 0, 1, 0, 1, 1, 1, 0, 1, 1, 1, 1, 1, 1, 1, 0,\n",
              "       0, 0, 1, 1, 1, 1, 1, 1, 1, 1, 1, 1, 1, 0, 0, 1, 0, 0, 0, 1, 0, 0,\n",
              "       1, 1, 1, 1, 1, 0, 1, 1, 1, 1, 1, 0, 1, 1, 1, 0, 1, 1, 0, 0, 1, 1,\n",
              "       1, 1, 1, 1, 0, 1, 1, 1, 1, 1, 1, 1, 0, 1, 1, 1, 1, 1, 0, 1, 1, 0,\n",
              "       1, 1, 1, 1, 1, 1, 1, 1, 1, 1, 1, 1, 0, 1, 0, 0, 1, 0, 1, 1, 1, 1,\n",
              "       1, 0, 1, 1, 0, 1, 0, 1, 1, 0, 1, 0, 1, 1, 1, 1, 1, 1, 1, 1, 0, 0,\n",
              "       1, 1, 1, 1, 1, 1, 0, 1, 1, 1, 1, 1, 1, 1, 1, 1, 1, 0, 1, 1, 1, 1,\n",
              "       1, 1, 1, 0, 1, 0, 1, 1, 0, 1, 1, 1, 1, 1, 0, 0, 1, 0, 1, 0, 1, 1,\n",
              "       1, 1, 1, 0, 1, 1, 0, 1, 0, 1, 0, 0, 1, 1, 1, 0, 1, 1, 1, 1, 1, 1,\n",
              "       1, 1, 1, 1, 1, 0, 1, 0, 0, 1, 1, 1, 1, 1, 1, 1, 1, 1, 1, 1, 1, 1,\n",
              "       1, 1, 1, 1, 1, 1, 1, 1, 1, 1, 1, 1, 0, 0, 0, 0, 0, 0, 1])"
            ]
          },
          "metadata": {},
          "execution_count": 14
        }
      ]
    },
    {
      "cell_type": "code",
      "source": [
        "#their meaning is not lost\n",
        "data.target_names\n"
      ],
      "metadata": {
        "colab": {
          "base_uri": "https://localhost:8080/"
        },
        "id": "mMphMwySxE6J",
        "outputId": "f4c186bd-400d-41db-e41b-66652b35fefc"
      },
      "execution_count": 17,
      "outputs": [
        {
          "output_type": "execute_result",
          "data": {
            "text/plain": [
              "array(['malignant', 'benign'], dtype='<U9')"
            ]
          },
          "metadata": {},
          "execution_count": 17
        }
      ]
    },
    {
      "cell_type": "code",
      "source": [
        "# there are also 569 corresponding targets\n",
        "data.target.shape"
      ],
      "metadata": {
        "colab": {
          "base_uri": "https://localhost:8080/"
        },
        "id": "M1nB5DVHxK9_",
        "outputId": "a129a00b-17f9-4afd-e6df-780d96777bef"
      },
      "execution_count": 18,
      "outputs": [
        {
          "output_type": "execute_result",
          "data": {
            "text/plain": [
              "(569,)"
            ]
          },
          "metadata": {},
          "execution_count": 18
        }
      ]
    },
    {
      "cell_type": "code",
      "source": [
        "# you can also determine the meaning of each features\n",
        "data.feature_names"
      ],
      "metadata": {
        "colab": {
          "base_uri": "https://localhost:8080/"
        },
        "id": "e__JbiarxTfx",
        "outputId": "a2ca793d-416c-478c-93fe-2b2e2f3502af"
      },
      "execution_count": 20,
      "outputs": [
        {
          "output_type": "execute_result",
          "data": {
            "text/plain": [
              "array(['mean radius', 'mean texture', 'mean perimeter', 'mean area',\n",
              "       'mean smoothness', 'mean compactness', 'mean concavity',\n",
              "       'mean concave points', 'mean symmetry', 'mean fractal dimension',\n",
              "       'radius error', 'texture error', 'perimeter error', 'area error',\n",
              "       'smoothness error', 'compactness error', 'concavity error',\n",
              "       'concave points error', 'symmetry error',\n",
              "       'fractal dimension error', 'worst radius', 'worst texture',\n",
              "       'worst perimeter', 'worst area', 'worst smoothness',\n",
              "       'worst compactness', 'worst concavity', 'worst concave points',\n",
              "       'worst symmetry', 'worst fractal dimension'], dtype='<U23')"
            ]
          },
          "metadata": {},
          "execution_count": 20
        }
      ]
    },
    {
      "cell_type": "code",
      "source": [
        "#normally we dould put all of our imports at the top\n",
        "# but this lets us tell a story\n",
        "from sklearn.model_selection import train_test_split\n",
        "\n",
        "#split the data into train and test sets\n",
        "#this lets us simulate how our model will perform in the future\n",
        "X_train, X_test, y_train, y_test = train_test_split(data.data, data.target, test_size=0.33)\n",
        "N, D = X_train.shape"
      ],
      "metadata": {
        "id": "jBqj4Z52xghh"
      },
      "execution_count": 23,
      "outputs": []
    },
    {
      "cell_type": "code",
      "source": [
        "#Scale the data\n",
        "#you'll learn why scaling is needed in a later course\n",
        "from sklearn.preprocessing import StandardScaler\n",
        "\n",
        "scaler = StandardScaler()\n",
        "X_train = scaler.fit_transform(X_train)\n",
        "X_test =scaler.transform(X_test)"
      ],
      "metadata": {
        "id": "sKfPEPtfyluN"
      },
      "execution_count": 24,
      "outputs": []
    },
    {
      "cell_type": "code",
      "source": [
        "#Now all the fun Tensorflow stuff\n",
        "#Build the model\n",
        "\n",
        "model = tf.keras.models.Sequential([\n",
        " tf.keras.layers.Input(shape=(D,)),\n",
        " tf.keras.layers.Dense(1, activation='sigmoid')                                   \n",
        "])"
      ],
      "metadata": {
        "id": "qLM91QgH0Ig_"
      },
      "execution_count": 28,
      "outputs": []
    },
    {
      "cell_type": "code",
      "source": [
        "#Alternatively, you can do:\n",
        "#model = tf.keras.models.Sequential()\n",
        "#model.add(tf.keras.layers.Dende(1,input_shape=(D,), activation='sigmoid'))\n",
        "\n",
        "model.compile(optimizer='adam',\n",
        "              loss='binary_crossentropy',\n",
        "              metrics=['accuracy'])\n"
      ],
      "metadata": {
        "id": "zx2gKAQuy9qb"
      },
      "execution_count": 29,
      "outputs": []
    },
    {
      "cell_type": "code",
      "source": [
        "#Train the model\n",
        "r = model.fit(X_train, y_train, validation_data=(X_test,y_test), epochs=100)\n",
        "\n",
        "#Evaluate the model - evaluate () returns loss and accuracy\n",
        "print(\"Train score:\", model.evaluate(X_train, y_train))\n",
        "print(\"Test score:\", model.evaluate(X_test, y_test))"
      ],
      "metadata": {
        "colab": {
          "base_uri": "https://localhost:8080/"
        },
        "id": "t8lUI-AZzNrr",
        "outputId": "6cd82560-b5a5-4d70-b526-5854c8382e08"
      },
      "execution_count": 30,
      "outputs": [
        {
          "output_type": "stream",
          "name": "stdout",
          "text": [
            "Train on 381 samples, validate on 188 samples\n",
            "Epoch 1/100\n",
            "381/381 [==============================] - 1s 4ms/sample - loss: 1.2683 - accuracy: 0.2598 - val_loss: 1.1781 - val_accuracy: 0.2660\n",
            "Epoch 2/100\n",
            "381/381 [==============================] - 0s 138us/sample - loss: 1.1551 - accuracy: 0.3045 - val_loss: 1.0712 - val_accuracy: 0.3191\n",
            "Epoch 3/100\n",
            "381/381 [==============================] - 0s 160us/sample - loss: 1.0483 - accuracy: 0.3622 - val_loss: 0.9738 - val_accuracy: 0.3723\n",
            "Epoch 4/100\n",
            "381/381 [==============================] - 0s 158us/sample - loss: 0.9539 - accuracy: 0.4121 - val_loss: 0.8840 - val_accuracy: 0.4149\n",
            "Epoch 5/100\n",
            "381/381 [==============================] - 0s 169us/sample - loss: 0.8666 - accuracy: 0.4672 - val_loss: 0.8046 - val_accuracy: 0.4947\n",
            "Epoch 6/100\n",
            "381/381 [==============================] - 0s 156us/sample - loss: 0.7903 - accuracy: 0.5197 - val_loss: 0.7342 - val_accuracy: 0.5479\n",
            "Epoch 7/100\n",
            "381/381 [==============================] - 0s 182us/sample - loss: 0.7224 - accuracy: 0.5774 - val_loss: 0.6730 - val_accuracy: 0.6170\n",
            "Epoch 8/100\n",
            "381/381 [==============================] - 0s 155us/sample - loss: 0.6643 - accuracy: 0.6378 - val_loss: 0.6188 - val_accuracy: 0.6809\n",
            "Epoch 9/100\n",
            "381/381 [==============================] - 0s 139us/sample - loss: 0.6122 - accuracy: 0.6772 - val_loss: 0.5728 - val_accuracy: 0.7340\n",
            "Epoch 10/100\n",
            "381/381 [==============================] - 0s 133us/sample - loss: 0.5690 - accuracy: 0.7244 - val_loss: 0.5317 - val_accuracy: 0.7713\n",
            "Epoch 11/100\n",
            "381/381 [==============================] - 0s 159us/sample - loss: 0.5310 - accuracy: 0.7454 - val_loss: 0.4959 - val_accuracy: 0.7926\n",
            "Epoch 12/100\n",
            "381/381 [==============================] - 0s 162us/sample - loss: 0.4963 - accuracy: 0.7874 - val_loss: 0.4665 - val_accuracy: 0.8085\n",
            "Epoch 13/100\n",
            "381/381 [==============================] - 0s 172us/sample - loss: 0.4683 - accuracy: 0.8241 - val_loss: 0.4397 - val_accuracy: 0.8191\n",
            "Epoch 14/100\n",
            "381/381 [==============================] - 0s 162us/sample - loss: 0.4427 - accuracy: 0.8451 - val_loss: 0.4167 - val_accuracy: 0.8298\n",
            "Epoch 15/100\n",
            "381/381 [==============================] - 0s 144us/sample - loss: 0.4206 - accuracy: 0.8556 - val_loss: 0.3961 - val_accuracy: 0.8511\n",
            "Epoch 16/100\n",
            "381/381 [==============================] - 0s 145us/sample - loss: 0.4008 - accuracy: 0.8688 - val_loss: 0.3778 - val_accuracy: 0.8723\n",
            "Epoch 17/100\n",
            "381/381 [==============================] - 0s 156us/sample - loss: 0.3830 - accuracy: 0.8819 - val_loss: 0.3615 - val_accuracy: 0.8777\n",
            "Epoch 18/100\n",
            "381/381 [==============================] - 0s 147us/sample - loss: 0.3672 - accuracy: 0.8871 - val_loss: 0.3466 - val_accuracy: 0.8830\n",
            "Epoch 19/100\n",
            "381/381 [==============================] - 0s 174us/sample - loss: 0.3525 - accuracy: 0.8976 - val_loss: 0.3334 - val_accuracy: 0.8883\n",
            "Epoch 20/100\n",
            "381/381 [==============================] - 0s 152us/sample - loss: 0.3395 - accuracy: 0.9055 - val_loss: 0.3212 - val_accuracy: 0.8989\n",
            "Epoch 21/100\n",
            "381/381 [==============================] - 0s 157us/sample - loss: 0.3273 - accuracy: 0.9134 - val_loss: 0.3103 - val_accuracy: 0.9096\n",
            "Epoch 22/100\n",
            "381/381 [==============================] - 0s 160us/sample - loss: 0.3161 - accuracy: 0.9213 - val_loss: 0.3002 - val_accuracy: 0.9149\n",
            "Epoch 23/100\n",
            "381/381 [==============================] - 0s 153us/sample - loss: 0.3060 - accuracy: 0.9239 - val_loss: 0.2907 - val_accuracy: 0.9149\n",
            "Epoch 24/100\n",
            "381/381 [==============================] - 0s 161us/sample - loss: 0.2962 - accuracy: 0.9265 - val_loss: 0.2820 - val_accuracy: 0.9255\n",
            "Epoch 25/100\n",
            "381/381 [==============================] - 0s 174us/sample - loss: 0.2873 - accuracy: 0.9291 - val_loss: 0.2740 - val_accuracy: 0.9309\n",
            "Epoch 26/100\n",
            "381/381 [==============================] - 0s 158us/sample - loss: 0.2790 - accuracy: 0.9318 - val_loss: 0.2665 - val_accuracy: 0.9255\n",
            "Epoch 27/100\n",
            "381/381 [==============================] - 0s 161us/sample - loss: 0.2711 - accuracy: 0.9370 - val_loss: 0.2593 - val_accuracy: 0.9309\n",
            "Epoch 28/100\n",
            "381/381 [==============================] - 0s 149us/sample - loss: 0.2635 - accuracy: 0.9370 - val_loss: 0.2528 - val_accuracy: 0.9309\n",
            "Epoch 29/100\n",
            "381/381 [==============================] - 0s 128us/sample - loss: 0.2566 - accuracy: 0.9396 - val_loss: 0.2466 - val_accuracy: 0.9362\n",
            "Epoch 30/100\n",
            "381/381 [==============================] - 0s 174us/sample - loss: 0.2501 - accuracy: 0.9396 - val_loss: 0.2409 - val_accuracy: 0.9362\n",
            "Epoch 31/100\n",
            "381/381 [==============================] - 0s 170us/sample - loss: 0.2439 - accuracy: 0.9423 - val_loss: 0.2354 - val_accuracy: 0.9362\n",
            "Epoch 32/100\n",
            "381/381 [==============================] - 0s 167us/sample - loss: 0.2377 - accuracy: 0.9475 - val_loss: 0.2302 - val_accuracy: 0.9415\n",
            "Epoch 33/100\n",
            "381/381 [==============================] - 0s 182us/sample - loss: 0.2322 - accuracy: 0.9501 - val_loss: 0.2253 - val_accuracy: 0.9468\n",
            "Epoch 34/100\n",
            "381/381 [==============================] - 0s 189us/sample - loss: 0.2269 - accuracy: 0.9528 - val_loss: 0.2207 - val_accuracy: 0.9468\n",
            "Epoch 35/100\n",
            "381/381 [==============================] - 0s 149us/sample - loss: 0.2216 - accuracy: 0.9554 - val_loss: 0.2163 - val_accuracy: 0.9468\n",
            "Epoch 36/100\n",
            "381/381 [==============================] - 0s 125us/sample - loss: 0.2169 - accuracy: 0.9580 - val_loss: 0.2122 - val_accuracy: 0.9468\n",
            "Epoch 37/100\n",
            "381/381 [==============================] - 0s 148us/sample - loss: 0.2122 - accuracy: 0.9580 - val_loss: 0.2084 - val_accuracy: 0.9468\n",
            "Epoch 38/100\n",
            "381/381 [==============================] - 0s 145us/sample - loss: 0.2079 - accuracy: 0.9633 - val_loss: 0.2046 - val_accuracy: 0.9468\n",
            "Epoch 39/100\n",
            "381/381 [==============================] - 0s 153us/sample - loss: 0.2035 - accuracy: 0.9659 - val_loss: 0.2010 - val_accuracy: 0.9468\n",
            "Epoch 40/100\n",
            "381/381 [==============================] - 0s 140us/sample - loss: 0.1996 - accuracy: 0.9659 - val_loss: 0.1975 - val_accuracy: 0.9468\n",
            "Epoch 41/100\n",
            "381/381 [==============================] - 0s 118us/sample - loss: 0.1956 - accuracy: 0.9659 - val_loss: 0.1943 - val_accuracy: 0.9468\n",
            "Epoch 42/100\n",
            "381/381 [==============================] - 0s 137us/sample - loss: 0.1920 - accuracy: 0.9685 - val_loss: 0.1913 - val_accuracy: 0.9468\n",
            "Epoch 43/100\n",
            "381/381 [==============================] - 0s 130us/sample - loss: 0.1883 - accuracy: 0.9685 - val_loss: 0.1883 - val_accuracy: 0.9521\n",
            "Epoch 44/100\n",
            "381/381 [==============================] - 0s 140us/sample - loss: 0.1850 - accuracy: 0.9685 - val_loss: 0.1855 - val_accuracy: 0.9521\n",
            "Epoch 45/100\n",
            "381/381 [==============================] - 0s 145us/sample - loss: 0.1816 - accuracy: 0.9685 - val_loss: 0.1827 - val_accuracy: 0.9521\n",
            "Epoch 46/100\n",
            "381/381 [==============================] - 0s 154us/sample - loss: 0.1786 - accuracy: 0.9685 - val_loss: 0.1802 - val_accuracy: 0.9521\n",
            "Epoch 47/100\n",
            "381/381 [==============================] - 0s 181us/sample - loss: 0.1754 - accuracy: 0.9685 - val_loss: 0.1777 - val_accuracy: 0.9521\n",
            "Epoch 48/100\n",
            "381/381 [==============================] - 0s 153us/sample - loss: 0.1726 - accuracy: 0.9685 - val_loss: 0.1753 - val_accuracy: 0.9521\n",
            "Epoch 49/100\n",
            "381/381 [==============================] - 0s 139us/sample - loss: 0.1697 - accuracy: 0.9685 - val_loss: 0.1730 - val_accuracy: 0.9521\n",
            "Epoch 50/100\n",
            "381/381 [==============================] - 0s 142us/sample - loss: 0.1670 - accuracy: 0.9685 - val_loss: 0.1708 - val_accuracy: 0.9521\n",
            "Epoch 51/100\n",
            "381/381 [==============================] - 0s 207us/sample - loss: 0.1644 - accuracy: 0.9685 - val_loss: 0.1686 - val_accuracy: 0.9521\n",
            "Epoch 52/100\n",
            "381/381 [==============================] - 0s 153us/sample - loss: 0.1619 - accuracy: 0.9685 - val_loss: 0.1666 - val_accuracy: 0.9574\n",
            "Epoch 53/100\n",
            "381/381 [==============================] - 0s 157us/sample - loss: 0.1595 - accuracy: 0.9685 - val_loss: 0.1645 - val_accuracy: 0.9574\n",
            "Epoch 54/100\n",
            "381/381 [==============================] - 0s 166us/sample - loss: 0.1571 - accuracy: 0.9659 - val_loss: 0.1627 - val_accuracy: 0.9574\n",
            "Epoch 55/100\n",
            "381/381 [==============================] - 0s 152us/sample - loss: 0.1549 - accuracy: 0.9659 - val_loss: 0.1608 - val_accuracy: 0.9574\n",
            "Epoch 56/100\n",
            "381/381 [==============================] - 0s 154us/sample - loss: 0.1527 - accuracy: 0.9659 - val_loss: 0.1590 - val_accuracy: 0.9574\n",
            "Epoch 57/100\n",
            "381/381 [==============================] - 0s 193us/sample - loss: 0.1507 - accuracy: 0.9659 - val_loss: 0.1573 - val_accuracy: 0.9574\n",
            "Epoch 58/100\n",
            "381/381 [==============================] - 0s 156us/sample - loss: 0.1486 - accuracy: 0.9659 - val_loss: 0.1557 - val_accuracy: 0.9574\n",
            "Epoch 59/100\n",
            "381/381 [==============================] - 0s 162us/sample - loss: 0.1467 - accuracy: 0.9659 - val_loss: 0.1540 - val_accuracy: 0.9574\n",
            "Epoch 60/100\n",
            "381/381 [==============================] - 0s 169us/sample - loss: 0.1447 - accuracy: 0.9685 - val_loss: 0.1525 - val_accuracy: 0.9574\n",
            "Epoch 61/100\n",
            "381/381 [==============================] - 0s 148us/sample - loss: 0.1429 - accuracy: 0.9685 - val_loss: 0.1510 - val_accuracy: 0.9574\n",
            "Epoch 62/100\n",
            "381/381 [==============================] - 0s 177us/sample - loss: 0.1411 - accuracy: 0.9711 - val_loss: 0.1496 - val_accuracy: 0.9574\n",
            "Epoch 63/100\n",
            "381/381 [==============================] - 0s 146us/sample - loss: 0.1394 - accuracy: 0.9711 - val_loss: 0.1481 - val_accuracy: 0.9574\n",
            "Epoch 64/100\n",
            "381/381 [==============================] - 0s 169us/sample - loss: 0.1379 - accuracy: 0.9711 - val_loss: 0.1468 - val_accuracy: 0.9574\n",
            "Epoch 65/100\n",
            "381/381 [==============================] - 0s 172us/sample - loss: 0.1361 - accuracy: 0.9711 - val_loss: 0.1455 - val_accuracy: 0.9574\n",
            "Epoch 66/100\n",
            "381/381 [==============================] - 0s 165us/sample - loss: 0.1345 - accuracy: 0.9711 - val_loss: 0.1442 - val_accuracy: 0.9574\n",
            "Epoch 67/100\n",
            "381/381 [==============================] - 0s 157us/sample - loss: 0.1330 - accuracy: 0.9711 - val_loss: 0.1429 - val_accuracy: 0.9574\n",
            "Epoch 68/100\n",
            "381/381 [==============================] - 0s 139us/sample - loss: 0.1316 - accuracy: 0.9711 - val_loss: 0.1418 - val_accuracy: 0.9574\n",
            "Epoch 69/100\n",
            "381/381 [==============================] - 0s 163us/sample - loss: 0.1301 - accuracy: 0.9711 - val_loss: 0.1406 - val_accuracy: 0.9628\n",
            "Epoch 70/100\n",
            "381/381 [==============================] - 0s 156us/sample - loss: 0.1287 - accuracy: 0.9738 - val_loss: 0.1395 - val_accuracy: 0.9628\n",
            "Epoch 71/100\n",
            "381/381 [==============================] - 0s 185us/sample - loss: 0.1274 - accuracy: 0.9738 - val_loss: 0.1384 - val_accuracy: 0.9681\n",
            "Epoch 72/100\n",
            "381/381 [==============================] - 0s 137us/sample - loss: 0.1260 - accuracy: 0.9738 - val_loss: 0.1373 - val_accuracy: 0.9681\n",
            "Epoch 73/100\n",
            "381/381 [==============================] - 0s 162us/sample - loss: 0.1248 - accuracy: 0.9738 - val_loss: 0.1363 - val_accuracy: 0.9681\n",
            "Epoch 74/100\n",
            "381/381 [==============================] - 0s 152us/sample - loss: 0.1235 - accuracy: 0.9738 - val_loss: 0.1352 - val_accuracy: 0.9681\n",
            "Epoch 75/100\n",
            "381/381 [==============================] - 0s 153us/sample - loss: 0.1223 - accuracy: 0.9738 - val_loss: 0.1342 - val_accuracy: 0.9681\n",
            "Epoch 76/100\n",
            "381/381 [==============================] - 0s 144us/sample - loss: 0.1212 - accuracy: 0.9738 - val_loss: 0.1332 - val_accuracy: 0.9681\n",
            "Epoch 77/100\n",
            "381/381 [==============================] - 0s 191us/sample - loss: 0.1200 - accuracy: 0.9738 - val_loss: 0.1324 - val_accuracy: 0.9681\n",
            "Epoch 78/100\n",
            "381/381 [==============================] - 0s 192us/sample - loss: 0.1188 - accuracy: 0.9738 - val_loss: 0.1315 - val_accuracy: 0.9681\n",
            "Epoch 79/100\n",
            "381/381 [==============================] - 0s 125us/sample - loss: 0.1178 - accuracy: 0.9738 - val_loss: 0.1306 - val_accuracy: 0.9681\n",
            "Epoch 80/100\n",
            "381/381 [==============================] - 0s 183us/sample - loss: 0.1167 - accuracy: 0.9738 - val_loss: 0.1298 - val_accuracy: 0.9681\n",
            "Epoch 81/100\n",
            "381/381 [==============================] - 0s 141us/sample - loss: 0.1156 - accuracy: 0.9738 - val_loss: 0.1290 - val_accuracy: 0.9681\n",
            "Epoch 82/100\n",
            "381/381 [==============================] - 0s 171us/sample - loss: 0.1147 - accuracy: 0.9738 - val_loss: 0.1281 - val_accuracy: 0.9681\n",
            "Epoch 83/100\n",
            "381/381 [==============================] - 0s 157us/sample - loss: 0.1136 - accuracy: 0.9738 - val_loss: 0.1274 - val_accuracy: 0.9681\n",
            "Epoch 84/100\n",
            "381/381 [==============================] - 0s 179us/sample - loss: 0.1126 - accuracy: 0.9738 - val_loss: 0.1266 - val_accuracy: 0.9681\n",
            "Epoch 85/100\n",
            "381/381 [==============================] - 0s 152us/sample - loss: 0.1117 - accuracy: 0.9738 - val_loss: 0.1258 - val_accuracy: 0.9681\n",
            "Epoch 86/100\n",
            "381/381 [==============================] - 0s 128us/sample - loss: 0.1108 - accuracy: 0.9790 - val_loss: 0.1251 - val_accuracy: 0.9681\n",
            "Epoch 87/100\n",
            "381/381 [==============================] - 0s 156us/sample - loss: 0.1099 - accuracy: 0.9790 - val_loss: 0.1244 - val_accuracy: 0.9681\n",
            "Epoch 88/100\n",
            "381/381 [==============================] - 0s 166us/sample - loss: 0.1090 - accuracy: 0.9790 - val_loss: 0.1237 - val_accuracy: 0.9681\n",
            "Epoch 89/100\n",
            "381/381 [==============================] - 0s 150us/sample - loss: 0.1081 - accuracy: 0.9790 - val_loss: 0.1230 - val_accuracy: 0.9681\n",
            "Epoch 90/100\n",
            "381/381 [==============================] - 0s 138us/sample - loss: 0.1073 - accuracy: 0.9790 - val_loss: 0.1224 - val_accuracy: 0.9681\n",
            "Epoch 91/100\n",
            "381/381 [==============================] - 0s 179us/sample - loss: 0.1065 - accuracy: 0.9790 - val_loss: 0.1217 - val_accuracy: 0.9681\n",
            "Epoch 92/100\n",
            "381/381 [==============================] - 0s 170us/sample - loss: 0.1057 - accuracy: 0.9816 - val_loss: 0.1211 - val_accuracy: 0.9681\n",
            "Epoch 93/100\n",
            "381/381 [==============================] - 0s 151us/sample - loss: 0.1048 - accuracy: 0.9816 - val_loss: 0.1205 - val_accuracy: 0.9681\n",
            "Epoch 94/100\n",
            "381/381 [==============================] - 0s 192us/sample - loss: 0.1041 - accuracy: 0.9816 - val_loss: 0.1199 - val_accuracy: 0.9681\n",
            "Epoch 95/100\n",
            "381/381 [==============================] - 0s 150us/sample - loss: 0.1033 - accuracy: 0.9816 - val_loss: 0.1194 - val_accuracy: 0.9681\n",
            "Epoch 96/100\n",
            "381/381 [==============================] - 0s 165us/sample - loss: 0.1026 - accuracy: 0.9816 - val_loss: 0.1188 - val_accuracy: 0.9681\n",
            "Epoch 97/100\n",
            "381/381 [==============================] - 0s 147us/sample - loss: 0.1019 - accuracy: 0.9816 - val_loss: 0.1183 - val_accuracy: 0.9681\n",
            "Epoch 98/100\n",
            "381/381 [==============================] - 0s 138us/sample - loss: 0.1011 - accuracy: 0.9816 - val_loss: 0.1177 - val_accuracy: 0.9734\n",
            "Epoch 99/100\n",
            "381/381 [==============================] - 0s 135us/sample - loss: 0.1004 - accuracy: 0.9816 - val_loss: 0.1172 - val_accuracy: 0.9734\n",
            "Epoch 100/100\n",
            "381/381 [==============================] - 0s 164us/sample - loss: 0.0997 - accuracy: 0.9816 - val_loss: 0.1167 - val_accuracy: 0.9734\n",
            "381/1 [======================================================================================================================================================================================================================================================================================================================================================================================================================================================================================================================================================================================================================================================================================================================================================================================================================================================================================================================================================================================================================================================================================================================================================================================================================================================================================================================================================================================================================================================================================================================================================================================================================================================================================================================================================================================================================================================================================================================================================================================================================================================================================================================================================================================================================================================================================================================================================================================================================================================================================================================================================================================================================================================================================================================================================================================================================================================================================================================================================================================================================================================================================================================================================================================================================================================================================================================================================================================================================================================================================================================================================================================================================================================================================================================================================================================================================================================================================================================================================================================================================================================================================================================================================================================================================================================================================================================================================================================================================================================================================================================================================================================================================================================================================================================================================================================================================================================================================================================================================================================================================================================================================================================================================================================================================================================================================================================================================================================================================================================================================================================================================================================================================================================================================================================================================================================================================================================================================================================================================================================================================================================================================================================================================================================================================================================================================================================================================================================================================================================================================================================================================================================================================================================================================================================================================================================================================================================================================================================================================================================================================================================================================================================================================================================================================================================================================================================================================================================================================================================================================================================================================================================================================================================================================================================================================================================================================================================================================================================================================================================================================================================================================================================================================================================================================================================================================================================================================================================================================================================================================================================================================================================================================================================================================================================================================================================================================================================================================================================================================================================================================================================================================================================================================================================================================================================================================================================================================================================================================================================================================================================================================================================================================================================================================================================================================================================================================================================================================================================================================================================================================================================================================================================================================================================================================================================================================================================================================================================================================================================================================================================================================================================================================================================================================================================================================================================================================================================================================================================================================================================================================================================================================================================================================================================================================================================================================================================================================================================================================================================================================================================================================================================================================================================================================================================================================================================================================================================================================================] - 0s 54us/sample - loss: 0.0826 - accuracy: 0.9816\n",
            "Train score: [0.09934305880717405, 0.9816273]\n",
            "188/1 [========================================================================================================================================================================================================================================================================================================================================================================================================================================================================================================================================================================================================================================================================================================================================================================================================================================================================================================================================================================================================================================================================================================================================================================================================================================================================================================================================================================================================================================================================================================================================================================================================================================================================================================================================================================================================================================================================================================================================================================================================================================================================================================================================================================================================================================================================================================================================================================================================================================================================================================================================================================================================================================================================================================================================================================================================================================================================================================================================================================================================================================================================================================================================================================================================================================================================================================================================================================================================================================================================================================================================================================================================================================================================================================================================================================================================================================================================================================================================================================================================================================================================================================================================================================================================================================================================================================================================================================================================================================================================================================================================================================================================================================================================================================================================================================================================================================================================================================================================================================================================================================================================================================================================================================================================================================================================================================================================================================================================================================================================================================================================================================================================================================================================================================================================================================================================================================================================] - 0s 57us/sample - loss: 0.1335 - accuracy: 0.9734\n",
            "Test score: [0.11668468663033019, 0.9734042]\n"
          ]
        }
      ]
    },
    {
      "cell_type": "code",
      "source": [
        "#Plot what's returnes by model.fit()\n",
        "import matplotlib.pyplot as plt\n",
        "plt.plot(r.history['loss'], label='loss')\n",
        "plt.plot(r.history['val_loss'], label='val_loss')\n",
        "plt.legend()"
      ],
      "metadata": {
        "colab": {
          "base_uri": "https://localhost:8080/",
          "height": 282
        },
        "id": "XRsqzDZN1-Kx",
        "outputId": "afbf6c30-83dd-4e45-bc87-ec859c52e76a"
      },
      "execution_count": 31,
      "outputs": [
        {
          "output_type": "execute_result",
          "data": {
            "text/plain": [
              "<matplotlib.legend.Legend at 0x7feef1349f10>"
            ]
          },
          "metadata": {},
          "execution_count": 31
        },
        {
          "output_type": "display_data",
          "data": {
            "text/plain": [
              "<Figure size 432x288 with 1 Axes>"
            ],
            "image/png": "[encoded data removed]"
          },
          "metadata": {
            "needs_background": "light"
          }
        }
      ]
    },
    {
      "cell_type": "code",
      "source": [
        "#Plot the accuracy too\n",
        "plt.plot(r.history['accuracy'], label='acc')\n",
        "plt.plot(r.history['val_accuracy'], label='val_acc')\n",
        "plt.legend()"
      ],
      "metadata": {
        "colab": {
          "base_uri": "https://localhost:8080/",
          "height": 282
        },
        "id": "SvbEYs4J244-",
        "outputId": "b132b1f5-2eb2-4fb9-9311-99edb1e8c3ec"
      },
      "execution_count": 32,
      "outputs": [
        {
          "output_type": "execute_result",
          "data": {
            "text/plain": [
              "<matplotlib.legend.Legend at 0x7feef080e290>"
            ]
          },
          "metadata": {},
          "execution_count": 32
        },
        {
          "output_type": "display_data",
          "data": {
            "text/plain": [
              "<Figure size 432x288 with 1 Axes>"
            ],
            "image/png": "[encoded data removed]"
          },
          "metadata": {
            "needs_background": "light"
          }
        }
      ]
    }
  ]
}