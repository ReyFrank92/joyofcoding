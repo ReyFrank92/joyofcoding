{
  "nbformat": 4,
  "nbformat_minor": 0,
  "metadata": {
    "colab": {
      "name": "Flujo de como modelar",
      "provenance": [],
      "collapsed_sections": [],
      "authorship_tag": "ABX9TyMwdagspL9q3paA0od8qsDi",
      "include_colab_link": true
    },
    "kernelspec": {
      "name": "python3",
      "display_name": "Python 3"
    },
    "language_info": {
      "name": "python"
    }
  },
  "cells": [
    {
      "cell_type": "markdown",
      "metadata": {
        "id": "view-in-github",
        "colab_type": "text"
      },
      "source": [
        "<a href=\"https://colab.research.google.com/github/ReyFrank92/joyofcoding/blob/main/Flujo_de_como_modelar.ipynb\" target=\"_parent\"><img src=\"https://colab.research.google.com/assets/colab-badge.svg\" alt=\"Open In Colab\"/></a>"
      ]
    },
    {
      "cell_type": "code",
      "source": [
        "# Install TensorFlow\n",
        "!pip install -q tensorflow==2.0.0\n",
        "import tensorflow as tf\n",
        "print(tf.__version__)"
      ],
      "metadata": {
        "colab": {
          "base_uri": "https://localhost:8080/"
        },
        "id": "NHkR2yERrWgS",
        "outputId": "1b72a900-5d73-4af2-de95-c5fe835a5d17"
      },
      "execution_count": 3,
      "outputs": [
        {
          "output_type": "stream",
          "name": "stdout",
          "text": [
            "\u001b[K     |████████████████████████████████| 86.3 MB 35 kB/s \n",
            "\u001b[K     |████████████████████████████████| 50 kB 5.8 MB/s \n",
            "\u001b[K     |████████████████████████████████| 449 kB 52.8 MB/s \n",
            "\u001b[K     |████████████████████████████████| 3.8 MB 48.2 MB/s \n",
            "\u001b[?25h  Building wheel for gast (setup.py) ... \u001b[?25l\u001b[?25hdone\n",
            "\u001b[31mERROR: pip's dependency resolver does not currently take into account all the packages that are installed. This behaviour is the source of the following dependency conflicts.\n",
            "tensorflow-probability 0.16.0 requires gast>=0.3.2, but you have gast 0.2.2 which is incompatible.\u001b[0m\n",
            "2.0.0\n"
          ]
        }
      ]
    },
    {
      "cell_type": "code",
      "source": [
        "# Load in the data\n",
        "from sklearn.datasets import load_breast_cancer"
      ],
      "metadata": {
        "id": "fLz9WXtPrbdK"
      },
      "execution_count": 4,
      "outputs": []
    },
    {
      "cell_type": "code",
      "source": [
        "#load the data\n",
        "data = load_breast_cancer()"
      ],
      "metadata": {
        "id": "jXoW58SwvsLX"
      },
      "execution_count": 5,
      "outputs": []
    },
    {
      "cell_type": "code",
      "source": [
        "#check the type of 'data'\n",
        "type(data)"
      ],
      "metadata": {
        "colab": {
          "base_uri": "https://localhost:8080/"
        },
        "id": "5ZpmO_eQv7NP",
        "outputId": "2002adf9-d123-47d2-96fe-e8e05e626a0d"
      },
      "execution_count": 6,
      "outputs": [
        {
          "output_type": "execute_result",
          "data": {
            "text/plain": [
              "sklearn.utils.Bunch"
            ]
          },
          "metadata": {},
          "execution_count": 6
        }
      ]
    },
    {
      "cell_type": "code",
      "source": [
        "#note it is a Bunch object\n",
        "#this basically actas like a dictionary where you can treat the keys like attributes\n",
        "data.keys()"
      ],
      "metadata": {
        "colab": {
          "base_uri": "https://localhost:8080/"
        },
        "id": "U-ZgbzAVv_YF",
        "outputId": "557d7dc3-de01-4d5f-961c-7eb8dafb3c3d"
      },
      "execution_count": 7,
      "outputs": [
        {
          "output_type": "execute_result",
          "data": {
            "text/plain": [
              "dict_keys(['data', 'target', 'frame', 'target_names', 'DESCR', 'feature_names', 'filename', 'data_module'])"
            ]
          },
          "metadata": {},
          "execution_count": 7
        }
      ]
    },
    {
      "cell_type": "code",
      "source": [
        "# ' data' (the attribute) means the input data\n",
        "data.data.shape\n",
        "# it has 569 samples, 30 features"
      ],
      "metadata": {
        "colab": {
          "base_uri": "https://localhost:8080/"
        },
        "id": "8Z16nLgdwZoQ",
        "outputId": "7b8fd92a-352c-462b-f6fc-090b5f4d540b"
      },
      "execution_count": 8,
      "outputs": [
        {
          "output_type": "execute_result",
          "data": {
            "text/plain": [
              "(569, 30)"
            ]
          },
          "metadata": {},
          "execution_count": 8
        }
      ]
    },
    {
      "cell_type": "code",
      "source": [
        "# 'targets'\n",
        "data.target\n",
        "# note how the targets are just 0s and 1s\n",
        "#normally, when you have K targets, they are labeld 0..K-1"
      ],
      "metadata": {
        "colab": {
          "base_uri": "https://localhost:8080/"
        },
        "id": "hp-uII0IwkmB",
        "outputId": "2d6d8c5f-0a80-43a2-ab10-6193a7e14f3e"
      },
      "execution_count": 9,
      "outputs": [
        {
          "output_type": "execute_result",
          "data": {
            "text/plain": [
              "array([0, 0, 0, 0, 0, 0, 0, 0, 0, 0, 0, 0, 0, 0, 0, 0, 0, 0, 0, 1, 1, 1,\n",
              "       0, 0, 0, 0, 0, 0, 0, 0, 0, 0, 0, 0, 0, 0, 0, 1, 0, 0, 0, 0, 0, 0,\n",
              "       0, 0, 1, 0, 1, 1, 1, 1, 1, 0, 0, 1, 0, 0, 1, 1, 1, 1, 0, 1, 0, 0,\n",
              "       1, 1, 1, 1, 0, 1, 0, 0, 1, 0, 1, 0, 0, 1, 1, 1, 0, 0, 1, 0, 0, 0,\n",
              "       1, 1, 1, 0, 1, 1, 0, 0, 1, 1, 1, 0, 0, 1, 1, 1, 1, 0, 1, 1, 0, 1,\n",
              "       1, 1, 1, 1, 1, 1, 1, 0, 0, 0, 1, 0, 0, 1, 1, 1, 0, 0, 1, 0, 1, 0,\n",
              "       0, 1, 0, 0, 1, 1, 0, 1, 1, 0, 1, 1, 1, 1, 0, 1, 1, 1, 1, 1, 1, 1,\n",
              "       1, 1, 0, 1, 1, 1, 1, 0, 0, 1, 0, 1, 1, 0, 0, 1, 1, 0, 0, 1, 1, 1,\n",
              "       1, 0, 1, 1, 0, 0, 0, 1, 0, 1, 0, 1, 1, 1, 0, 1, 1, 0, 0, 1, 0, 0,\n",
              "       0, 0, 1, 0, 0, 0, 1, 0, 1, 0, 1, 1, 0, 1, 0, 0, 0, 0, 1, 1, 0, 0,\n",
              "       1, 1, 1, 0, 1, 1, 1, 1, 1, 0, 0, 1, 1, 0, 1, 1, 0, 0, 1, 0, 1, 1,\n",
              "       1, 1, 0, 1, 1, 1, 1, 1, 0, 1, 0, 0, 0, 0, 0, 0, 0, 0, 0, 0, 0, 0,\n",
              "       0, 0, 1, 1, 1, 1, 1, 1, 0, 1, 0, 1, 1, 0, 1, 1, 0, 1, 0, 0, 1, 1,\n",
              "       1, 1, 1, 1, 1, 1, 1, 1, 1, 1, 1, 0, 1, 1, 0, 1, 0, 1, 1, 1, 1, 1,\n",
              "       1, 1, 1, 1, 1, 1, 1, 1, 1, 0, 1, 1, 1, 0, 1, 0, 1, 1, 1, 1, 0, 0,\n",
              "       0, 1, 1, 1, 1, 0, 1, 0, 1, 0, 1, 1, 1, 0, 1, 1, 1, 1, 1, 1, 1, 0,\n",
              "       0, 0, 1, 1, 1, 1, 1, 1, 1, 1, 1, 1, 1, 0, 0, 1, 0, 0, 0, 1, 0, 0,\n",
              "       1, 1, 1, 1, 1, 0, 1, 1, 1, 1, 1, 0, 1, 1, 1, 0, 1, 1, 0, 0, 1, 1,\n",
              "       1, 1, 1, 1, 0, 1, 1, 1, 1, 1, 1, 1, 0, 1, 1, 1, 1, 1, 0, 1, 1, 0,\n",
              "       1, 1, 1, 1, 1, 1, 1, 1, 1, 1, 1, 1, 0, 1, 0, 0, 1, 0, 1, 1, 1, 1,\n",
              "       1, 0, 1, 1, 0, 1, 0, 1, 1, 0, 1, 0, 1, 1, 1, 1, 1, 1, 1, 1, 0, 0,\n",
              "       1, 1, 1, 1, 1, 1, 0, 1, 1, 1, 1, 1, 1, 1, 1, 1, 1, 0, 1, 1, 1, 1,\n",
              "       1, 1, 1, 0, 1, 0, 1, 1, 0, 1, 1, 1, 1, 1, 0, 0, 1, 0, 1, 0, 1, 1,\n",
              "       1, 1, 1, 0, 1, 1, 0, 1, 0, 1, 0, 0, 1, 1, 1, 0, 1, 1, 1, 1, 1, 1,\n",
              "       1, 1, 1, 1, 1, 0, 1, 0, 0, 1, 1, 1, 1, 1, 1, 1, 1, 1, 1, 1, 1, 1,\n",
              "       1, 1, 1, 1, 1, 1, 1, 1, 1, 1, 1, 1, 0, 0, 0, 0, 0, 0, 1])"
            ]
          },
          "metadata": {},
          "execution_count": 9
        }
      ]
    },
    {
      "cell_type": "code",
      "source": [
        "#their meaning is not lost\n",
        "data.target_names\n"
      ],
      "metadata": {
        "colab": {
          "base_uri": "https://localhost:8080/"
        },
        "id": "mMphMwySxE6J",
        "outputId": "48df57af-fd9a-457f-cdf0-ffdd2d3b9343"
      },
      "execution_count": 10,
      "outputs": [
        {
          "output_type": "execute_result",
          "data": {
            "text/plain": [
              "array(['malignant', 'benign'], dtype='<U9')"
            ]
          },
          "metadata": {},
          "execution_count": 10
        }
      ]
    },
    {
      "cell_type": "code",
      "source": [
        "# there are also 569 corresponding targets\n",
        "data.target.shape"
      ],
      "metadata": {
        "colab": {
          "base_uri": "https://localhost:8080/"
        },
        "id": "M1nB5DVHxK9_",
        "outputId": "39853283-e931-4af1-cdb6-8fe97db4bf30"
      },
      "execution_count": 11,
      "outputs": [
        {
          "output_type": "execute_result",
          "data": {
            "text/plain": [
              "(569,)"
            ]
          },
          "metadata": {},
          "execution_count": 11
        }
      ]
    },
    {
      "cell_type": "code",
      "source": [
        "# you can also determine the meaning of each features\n",
        "data.feature_names"
      ],
      "metadata": {
        "colab": {
          "base_uri": "https://localhost:8080/"
        },
        "id": "e__JbiarxTfx",
        "outputId": "eb363bbb-1f81-4559-baca-7fd3f6403339"
      },
      "execution_count": 12,
      "outputs": [
        {
          "output_type": "execute_result",
          "data": {
            "text/plain": [
              "array(['mean radius', 'mean texture', 'mean perimeter', 'mean area',\n",
              "       'mean smoothness', 'mean compactness', 'mean concavity',\n",
              "       'mean concave points', 'mean symmetry', 'mean fractal dimension',\n",
              "       'radius error', 'texture error', 'perimeter error', 'area error',\n",
              "       'smoothness error', 'compactness error', 'concavity error',\n",
              "       'concave points error', 'symmetry error',\n",
              "       'fractal dimension error', 'worst radius', 'worst texture',\n",
              "       'worst perimeter', 'worst area', 'worst smoothness',\n",
              "       'worst compactness', 'worst concavity', 'worst concave points',\n",
              "       'worst symmetry', 'worst fractal dimension'], dtype='<U23')"
            ]
          },
          "metadata": {},
          "execution_count": 12
        }
      ]
    },
    {
      "cell_type": "code",
      "source": [
        "#normally we dould put all of our imports at the top\n",
        "# but this lets us tell a story\n",
        "from sklearn.model_selection import train_test_split\n",
        "\n",
        "#split the data into train and test sets\n",
        "#this lets us simulate how our model will perform in the future\n",
        "X_train, X_test, y_train, y_test = train_test_split(data.data, data.target, test_size=0.33)\n",
        "N, D = X_train.shape"
      ],
      "metadata": {
        "id": "jBqj4Z52xghh"
      },
      "execution_count": 13,
      "outputs": []
    },
    {
      "cell_type": "code",
      "source": [
        "#Scale the data\n",
        "#you'll learn why scaling is needed in a later course\n",
        "from sklearn.preprocessing import StandardScaler\n",
        "\n",
        "scaler = StandardScaler()\n",
        "X_train = scaler.fit_transform(X_train)\n",
        "X_test =scaler.transform(X_test)"
      ],
      "metadata": {
        "id": "sKfPEPtfyluN"
      },
      "execution_count": 14,
      "outputs": []
    },
    {
      "cell_type": "code",
      "source": [
        "#Now all the fun Tensorflow stuff\n",
        "#Build the model\n",
        "\n",
        "model = tf.keras.models.Sequential([\n",
        " tf.keras.layers.Input(shape=(D,)),\n",
        " tf.keras.layers.Dense(1, activation='sigmoid')                                   \n",
        "])"
      ],
      "metadata": {
        "id": "qLM91QgH0Ig_"
      },
      "execution_count": 15,
      "outputs": []
    },
    {
      "cell_type": "code",
      "source": [
        "#Alternatively, you can do:\n",
        "#model = tf.keras.models.Sequential()\n",
        "#model.add(tf.keras.layers.Dende(1,input_shape=(D,), activation='sigmoid'))\n",
        "\n",
        "model.compile(optimizer='adam',\n",
        "              loss='binary_crossentropy',\n",
        "              metrics=['accuracy'])\n"
      ],
      "metadata": {
        "id": "zx2gKAQuy9qb"
      },
      "execution_count": 16,
      "outputs": []
    },
    {
      "cell_type": "code",
      "source": [
        "#Train the model\n",
        "r = model.fit(X_train, y_train, validation_data=(X_test,y_test), epochs=100)\n",
        "\n",
        "#Evaluate the model - evaluate () returns loss and accuracy\n",
        "print(\"Train score:\", model.evaluate(X_train, y_train))\n",
        "print(\"Test score:\", model.evaluate(X_test, y_test))"
      ],
      "metadata": {
        "colab": {
          "base_uri": "https://localhost:8080/"
        },
        "id": "t8lUI-AZzNrr",
        "outputId": "fe79d1a3-d768-4824-c056-f2c5ee5392ab"
      },
      "execution_count": 17,
      "outputs": [
        {
          "output_type": "stream",
          "name": "stdout",
          "text": [
            "Train on 381 samples, validate on 188 samples\n",
            "Epoch 1/100\n",
            "381/381 [==============================] - 1s 2ms/sample - loss: 0.3671 - accuracy: 0.8451 - val_loss: 0.4204 - val_accuracy: 0.8298\n",
            "Epoch 2/100\n",
            "381/381 [==============================] - 0s 127us/sample - loss: 0.3389 - accuracy: 0.8740 - val_loss: 0.3965 - val_accuracy: 0.8564\n",
            "Epoch 3/100\n",
            "381/381 [==============================] - 0s 114us/sample - loss: 0.3146 - accuracy: 0.8898 - val_loss: 0.3745 - val_accuracy: 0.8511\n",
            "Epoch 4/100\n",
            "381/381 [==============================] - 0s 126us/sample - loss: 0.2931 - accuracy: 0.9029 - val_loss: 0.3540 - val_accuracy: 0.8564\n",
            "Epoch 5/100\n",
            "381/381 [==============================] - 0s 134us/sample - loss: 0.2740 - accuracy: 0.9160 - val_loss: 0.3362 - val_accuracy: 0.8617\n",
            "Epoch 6/100\n",
            "381/381 [==============================] - 0s 117us/sample - loss: 0.2588 - accuracy: 0.9265 - val_loss: 0.3185 - val_accuracy: 0.8670\n",
            "Epoch 7/100\n",
            "381/381 [==============================] - 0s 109us/sample - loss: 0.2435 - accuracy: 0.9318 - val_loss: 0.3046 - val_accuracy: 0.8830\n",
            "Epoch 8/100\n",
            "381/381 [==============================] - 0s 137us/sample - loss: 0.2312 - accuracy: 0.9318 - val_loss: 0.2912 - val_accuracy: 0.8936\n",
            "Epoch 9/100\n",
            "381/381 [==============================] - 0s 131us/sample - loss: 0.2201 - accuracy: 0.9396 - val_loss: 0.2799 - val_accuracy: 0.8936\n",
            "Epoch 10/100\n",
            "381/381 [==============================] - 0s 117us/sample - loss: 0.2101 - accuracy: 0.9423 - val_loss: 0.2687 - val_accuracy: 0.9043\n",
            "Epoch 11/100\n",
            "381/381 [==============================] - 0s 110us/sample - loss: 0.2013 - accuracy: 0.9528 - val_loss: 0.2585 - val_accuracy: 0.9096\n",
            "Epoch 12/100\n",
            "381/381 [==============================] - 0s 121us/sample - loss: 0.1929 - accuracy: 0.9554 - val_loss: 0.2493 - val_accuracy: 0.9149\n",
            "Epoch 13/100\n",
            "381/381 [==============================] - 0s 124us/sample - loss: 0.1859 - accuracy: 0.9580 - val_loss: 0.2413 - val_accuracy: 0.9202\n",
            "Epoch 14/100\n",
            "381/381 [==============================] - 0s 114us/sample - loss: 0.1789 - accuracy: 0.9580 - val_loss: 0.2335 - val_accuracy: 0.9255\n",
            "Epoch 15/100\n",
            "381/381 [==============================] - 0s 129us/sample - loss: 0.1732 - accuracy: 0.9606 - val_loss: 0.2259 - val_accuracy: 0.9255\n",
            "Epoch 16/100\n",
            "381/381 [==============================] - 0s 146us/sample - loss: 0.1675 - accuracy: 0.9606 - val_loss: 0.2188 - val_accuracy: 0.9309\n",
            "Epoch 17/100\n",
            "381/381 [==============================] - 0s 125us/sample - loss: 0.1624 - accuracy: 0.9606 - val_loss: 0.2123 - val_accuracy: 0.9255\n",
            "Epoch 18/100\n",
            "381/381 [==============================] - 0s 116us/sample - loss: 0.1575 - accuracy: 0.9606 - val_loss: 0.2065 - val_accuracy: 0.9255\n",
            "Epoch 19/100\n",
            "381/381 [==============================] - 0s 103us/sample - loss: 0.1532 - accuracy: 0.9633 - val_loss: 0.2014 - val_accuracy: 0.9255\n",
            "Epoch 20/100\n",
            "381/381 [==============================] - 0s 593us/sample - loss: 0.1495 - accuracy: 0.9633 - val_loss: 0.1953 - val_accuracy: 0.9255\n",
            "Epoch 21/100\n",
            "381/381 [==============================] - 0s 125us/sample - loss: 0.1453 - accuracy: 0.9659 - val_loss: 0.1906 - val_accuracy: 0.9255\n",
            "Epoch 22/100\n",
            "381/381 [==============================] - 0s 105us/sample - loss: 0.1417 - accuracy: 0.9659 - val_loss: 0.1868 - val_accuracy: 0.9309\n",
            "Epoch 23/100\n",
            "381/381 [==============================] - 0s 97us/sample - loss: 0.1387 - accuracy: 0.9659 - val_loss: 0.1820 - val_accuracy: 0.9309\n",
            "Epoch 24/100\n",
            "381/381 [==============================] - 0s 112us/sample - loss: 0.1353 - accuracy: 0.9711 - val_loss: 0.1784 - val_accuracy: 0.9362\n",
            "Epoch 25/100\n",
            "381/381 [==============================] - 0s 104us/sample - loss: 0.1326 - accuracy: 0.9685 - val_loss: 0.1750 - val_accuracy: 0.9362\n",
            "Epoch 26/100\n",
            "381/381 [==============================] - 0s 110us/sample - loss: 0.1297 - accuracy: 0.9685 - val_loss: 0.1710 - val_accuracy: 0.9362\n",
            "Epoch 27/100\n",
            "381/381 [==============================] - 0s 100us/sample - loss: 0.1272 - accuracy: 0.9685 - val_loss: 0.1672 - val_accuracy: 0.9362\n",
            "Epoch 28/100\n",
            "381/381 [==============================] - 0s 119us/sample - loss: 0.1247 - accuracy: 0.9685 - val_loss: 0.1639 - val_accuracy: 0.9362\n",
            "Epoch 29/100\n",
            "381/381 [==============================] - 0s 116us/sample - loss: 0.1223 - accuracy: 0.9685 - val_loss: 0.1612 - val_accuracy: 0.9362\n",
            "Epoch 30/100\n",
            "381/381 [==============================] - 0s 137us/sample - loss: 0.1201 - accuracy: 0.9685 - val_loss: 0.1586 - val_accuracy: 0.9362\n",
            "Epoch 31/100\n",
            "381/381 [==============================] - 0s 107us/sample - loss: 0.1181 - accuracy: 0.9685 - val_loss: 0.1554 - val_accuracy: 0.9362\n",
            "Epoch 32/100\n",
            "381/381 [==============================] - 0s 176us/sample - loss: 0.1160 - accuracy: 0.9685 - val_loss: 0.1533 - val_accuracy: 0.9362\n",
            "Epoch 33/100\n",
            "381/381 [==============================] - 0s 94us/sample - loss: 0.1143 - accuracy: 0.9711 - val_loss: 0.1503 - val_accuracy: 0.9362\n",
            "Epoch 34/100\n",
            "381/381 [==============================] - 0s 127us/sample - loss: 0.1123 - accuracy: 0.9711 - val_loss: 0.1480 - val_accuracy: 0.9415\n",
            "Epoch 35/100\n",
            "381/381 [==============================] - 0s 117us/sample - loss: 0.1105 - accuracy: 0.9738 - val_loss: 0.1459 - val_accuracy: 0.9415\n",
            "Epoch 36/100\n",
            "381/381 [==============================] - 0s 97us/sample - loss: 0.1089 - accuracy: 0.9764 - val_loss: 0.1438 - val_accuracy: 0.9415\n",
            "Epoch 37/100\n",
            "381/381 [==============================] - 0s 109us/sample - loss: 0.1074 - accuracy: 0.9790 - val_loss: 0.1422 - val_accuracy: 0.9415\n",
            "Epoch 38/100\n",
            "381/381 [==============================] - 0s 128us/sample - loss: 0.1058 - accuracy: 0.9790 - val_loss: 0.1402 - val_accuracy: 0.9415\n",
            "Epoch 39/100\n",
            "381/381 [==============================] - 0s 124us/sample - loss: 0.1046 - accuracy: 0.9790 - val_loss: 0.1381 - val_accuracy: 0.9415\n",
            "Epoch 40/100\n",
            "381/381 [==============================] - 0s 100us/sample - loss: 0.1030 - accuracy: 0.9790 - val_loss: 0.1368 - val_accuracy: 0.9415\n",
            "Epoch 41/100\n",
            "381/381 [==============================] - 0s 120us/sample - loss: 0.1018 - accuracy: 0.9790 - val_loss: 0.1348 - val_accuracy: 0.9415\n",
            "Epoch 42/100\n",
            "381/381 [==============================] - 0s 102us/sample - loss: 0.1005 - accuracy: 0.9790 - val_loss: 0.1333 - val_accuracy: 0.9415\n",
            "Epoch 43/100\n",
            "381/381 [==============================] - 0s 111us/sample - loss: 0.0992 - accuracy: 0.9790 - val_loss: 0.1319 - val_accuracy: 0.9415\n",
            "Epoch 44/100\n",
            "381/381 [==============================] - 0s 106us/sample - loss: 0.0981 - accuracy: 0.9790 - val_loss: 0.1304 - val_accuracy: 0.9468\n",
            "Epoch 45/100\n",
            "381/381 [==============================] - 0s 102us/sample - loss: 0.0969 - accuracy: 0.9790 - val_loss: 0.1291 - val_accuracy: 0.9468\n",
            "Epoch 46/100\n",
            "381/381 [==============================] - 0s 105us/sample - loss: 0.0959 - accuracy: 0.9790 - val_loss: 0.1277 - val_accuracy: 0.9468\n",
            "Epoch 47/100\n",
            "381/381 [==============================] - 0s 96us/sample - loss: 0.0948 - accuracy: 0.9790 - val_loss: 0.1267 - val_accuracy: 0.9468\n",
            "Epoch 48/100\n",
            "381/381 [==============================] - 0s 97us/sample - loss: 0.0938 - accuracy: 0.9790 - val_loss: 0.1255 - val_accuracy: 0.9468\n",
            "Epoch 49/100\n",
            "381/381 [==============================] - 0s 113us/sample - loss: 0.0928 - accuracy: 0.9790 - val_loss: 0.1245 - val_accuracy: 0.9468\n",
            "Epoch 50/100\n",
            "381/381 [==============================] - 0s 105us/sample - loss: 0.0919 - accuracy: 0.9790 - val_loss: 0.1233 - val_accuracy: 0.9468\n",
            "Epoch 51/100\n",
            "381/381 [==============================] - 0s 255us/sample - loss: 0.0910 - accuracy: 0.9790 - val_loss: 0.1222 - val_accuracy: 0.9521\n",
            "Epoch 52/100\n",
            "381/381 [==============================] - 0s 308us/sample - loss: 0.0902 - accuracy: 0.9790 - val_loss: 0.1211 - val_accuracy: 0.9521\n",
            "Epoch 53/100\n",
            "381/381 [==============================] - 0s 254us/sample - loss: 0.0894 - accuracy: 0.9816 - val_loss: 0.1205 - val_accuracy: 0.9521\n",
            "Epoch 54/100\n",
            "381/381 [==============================] - 0s 158us/sample - loss: 0.0885 - accuracy: 0.9816 - val_loss: 0.1193 - val_accuracy: 0.9521\n",
            "Epoch 55/100\n",
            "381/381 [==============================] - 0s 190us/sample - loss: 0.0877 - accuracy: 0.9816 - val_loss: 0.1186 - val_accuracy: 0.9521\n",
            "Epoch 56/100\n",
            "381/381 [==============================] - 0s 175us/sample - loss: 0.0870 - accuracy: 0.9816 - val_loss: 0.1179 - val_accuracy: 0.9521\n",
            "Epoch 57/100\n",
            "381/381 [==============================] - 0s 281us/sample - loss: 0.0862 - accuracy: 0.9816 - val_loss: 0.1171 - val_accuracy: 0.9574\n",
            "Epoch 58/100\n",
            "381/381 [==============================] - 0s 208us/sample - loss: 0.0855 - accuracy: 0.9816 - val_loss: 0.1162 - val_accuracy: 0.9574\n",
            "Epoch 59/100\n",
            "381/381 [==============================] - 0s 160us/sample - loss: 0.0848 - accuracy: 0.9816 - val_loss: 0.1158 - val_accuracy: 0.9574\n",
            "Epoch 60/100\n",
            "381/381 [==============================] - 0s 157us/sample - loss: 0.0841 - accuracy: 0.9816 - val_loss: 0.1150 - val_accuracy: 0.9574\n",
            "Epoch 61/100\n",
            "381/381 [==============================] - 0s 162us/sample - loss: 0.0835 - accuracy: 0.9816 - val_loss: 0.1143 - val_accuracy: 0.9574\n",
            "Epoch 62/100\n",
            "381/381 [==============================] - 0s 305us/sample - loss: 0.0828 - accuracy: 0.9816 - val_loss: 0.1138 - val_accuracy: 0.9574\n",
            "Epoch 63/100\n",
            "381/381 [==============================] - 0s 240us/sample - loss: 0.0822 - accuracy: 0.9816 - val_loss: 0.1132 - val_accuracy: 0.9574\n",
            "Epoch 64/100\n",
            "381/381 [==============================] - 0s 197us/sample - loss: 0.0816 - accuracy: 0.9816 - val_loss: 0.1125 - val_accuracy: 0.9574\n",
            "Epoch 65/100\n",
            "381/381 [==============================] - 0s 200us/sample - loss: 0.0811 - accuracy: 0.9816 - val_loss: 0.1121 - val_accuracy: 0.9574\n",
            "Epoch 66/100\n",
            "381/381 [==============================] - 0s 167us/sample - loss: 0.0805 - accuracy: 0.9816 - val_loss: 0.1116 - val_accuracy: 0.9574\n",
            "Epoch 67/100\n",
            "381/381 [==============================] - 0s 237us/sample - loss: 0.0799 - accuracy: 0.9816 - val_loss: 0.1110 - val_accuracy: 0.9574\n",
            "Epoch 68/100\n",
            "381/381 [==============================] - 0s 156us/sample - loss: 0.0794 - accuracy: 0.9816 - val_loss: 0.1105 - val_accuracy: 0.9574\n",
            "Epoch 69/100\n",
            "381/381 [==============================] - 0s 300us/sample - loss: 0.0789 - accuracy: 0.9816 - val_loss: 0.1101 - val_accuracy: 0.9574\n",
            "Epoch 70/100\n",
            "381/381 [==============================] - 0s 221us/sample - loss: 0.0783 - accuracy: 0.9816 - val_loss: 0.1097 - val_accuracy: 0.9574\n",
            "Epoch 71/100\n",
            "381/381 [==============================] - 0s 207us/sample - loss: 0.0779 - accuracy: 0.9816 - val_loss: 0.1093 - val_accuracy: 0.9574\n",
            "Epoch 72/100\n",
            "381/381 [==============================] - 0s 136us/sample - loss: 0.0774 - accuracy: 0.9843 - val_loss: 0.1088 - val_accuracy: 0.9574\n",
            "Epoch 73/100\n",
            "381/381 [==============================] - 0s 184us/sample - loss: 0.0769 - accuracy: 0.9843 - val_loss: 0.1084 - val_accuracy: 0.9574\n",
            "Epoch 74/100\n",
            "381/381 [==============================] - 0s 133us/sample - loss: 0.0765 - accuracy: 0.9843 - val_loss: 0.1081 - val_accuracy: 0.9574\n",
            "Epoch 75/100\n",
            "381/381 [==============================] - 0s 228us/sample - loss: 0.0760 - accuracy: 0.9843 - val_loss: 0.1075 - val_accuracy: 0.9574\n",
            "Epoch 76/100\n",
            "381/381 [==============================] - 0s 135us/sample - loss: 0.0756 - accuracy: 0.9843 - val_loss: 0.1072 - val_accuracy: 0.9574\n",
            "Epoch 77/100\n",
            "381/381 [==============================] - 0s 133us/sample - loss: 0.0752 - accuracy: 0.9843 - val_loss: 0.1068 - val_accuracy: 0.9574\n",
            "Epoch 78/100\n",
            "381/381 [==============================] - 0s 244us/sample - loss: 0.0748 - accuracy: 0.9843 - val_loss: 0.1066 - val_accuracy: 0.9574\n",
            "Epoch 79/100\n",
            "381/381 [==============================] - 0s 265us/sample - loss: 0.0743 - accuracy: 0.9843 - val_loss: 0.1062 - val_accuracy: 0.9574\n",
            "Epoch 80/100\n",
            "381/381 [==============================] - 0s 267us/sample - loss: 0.0739 - accuracy: 0.9843 - val_loss: 0.1059 - val_accuracy: 0.9574\n",
            "Epoch 81/100\n",
            "381/381 [==============================] - 0s 289us/sample - loss: 0.0735 - accuracy: 0.9843 - val_loss: 0.1057 - val_accuracy: 0.9574\n",
            "Epoch 82/100\n",
            "381/381 [==============================] - 0s 148us/sample - loss: 0.0732 - accuracy: 0.9843 - val_loss: 0.1052 - val_accuracy: 0.9574\n",
            "Epoch 83/100\n",
            "381/381 [==============================] - 0s 306us/sample - loss: 0.0728 - accuracy: 0.9843 - val_loss: 0.1049 - val_accuracy: 0.9574\n",
            "Epoch 84/100\n",
            "381/381 [==============================] - 0s 164us/sample - loss: 0.0724 - accuracy: 0.9843 - val_loss: 0.1047 - val_accuracy: 0.9574\n",
            "Epoch 85/100\n",
            "381/381 [==============================] - 0s 240us/sample - loss: 0.0721 - accuracy: 0.9843 - val_loss: 0.1044 - val_accuracy: 0.9574\n",
            "Epoch 86/100\n",
            "381/381 [==============================] - 0s 193us/sample - loss: 0.0717 - accuracy: 0.9843 - val_loss: 0.1042 - val_accuracy: 0.9574\n",
            "Epoch 87/100\n",
            "381/381 [==============================] - 0s 338us/sample - loss: 0.0713 - accuracy: 0.9843 - val_loss: 0.1038 - val_accuracy: 0.9574\n",
            "Epoch 88/100\n",
            "381/381 [==============================] - 0s 225us/sample - loss: 0.0710 - accuracy: 0.9843 - val_loss: 0.1036 - val_accuracy: 0.9574\n",
            "Epoch 89/100\n",
            "381/381 [==============================] - 0s 332us/sample - loss: 0.0707 - accuracy: 0.9843 - val_loss: 0.1033 - val_accuracy: 0.9574\n",
            "Epoch 90/100\n",
            "381/381 [==============================] - 0s 197us/sample - loss: 0.0703 - accuracy: 0.9843 - val_loss: 0.1031 - val_accuracy: 0.9574\n",
            "Epoch 91/100\n",
            "381/381 [==============================] - 0s 165us/sample - loss: 0.0700 - accuracy: 0.9843 - val_loss: 0.1028 - val_accuracy: 0.9574\n",
            "Epoch 92/100\n",
            "381/381 [==============================] - 0s 282us/sample - loss: 0.0697 - accuracy: 0.9843 - val_loss: 0.1025 - val_accuracy: 0.9574\n",
            "Epoch 93/100\n",
            "381/381 [==============================] - 0s 402us/sample - loss: 0.0695 - accuracy: 0.9843 - val_loss: 0.1023 - val_accuracy: 0.9574\n",
            "Epoch 94/100\n",
            "381/381 [==============================] - 0s 266us/sample - loss: 0.0691 - accuracy: 0.9843 - val_loss: 0.1021 - val_accuracy: 0.9574\n",
            "Epoch 95/100\n",
            "381/381 [==============================] - 0s 326us/sample - loss: 0.0688 - accuracy: 0.9843 - val_loss: 0.1019 - val_accuracy: 0.9574\n",
            "Epoch 96/100\n",
            "381/381 [==============================] - 0s 211us/sample - loss: 0.0685 - accuracy: 0.9869 - val_loss: 0.1017 - val_accuracy: 0.9574\n",
            "Epoch 97/100\n",
            "381/381 [==============================] - 0s 211us/sample - loss: 0.0682 - accuracy: 0.9843 - val_loss: 0.1015 - val_accuracy: 0.9574\n",
            "Epoch 98/100\n",
            "381/381 [==============================] - 0s 330us/sample - loss: 0.0679 - accuracy: 0.9843 - val_loss: 0.1014 - val_accuracy: 0.9574\n",
            "Epoch 99/100\n",
            "381/381 [==============================] - 0s 221us/sample - loss: 0.0677 - accuracy: 0.9869 - val_loss: 0.1010 - val_accuracy: 0.9628\n",
            "Epoch 100/100\n",
            "381/381 [==============================] - 0s 302us/sample - loss: 0.0674 - accuracy: 0.9869 - val_loss: 0.1008 - val_accuracy: 0.9628\n",
            "381/1 [======================================================================================================================================================================================================================================================================================================================================================================================================================================================================================================================================================================================================================================================================================================================================================================================================================================================================================================================================================================================================================================================================================================================================================================================================================================================================================================================================================================================================================================================================================================================================================================================================================================================================================================================================================================================================================================================================================================================================================================================================================================================================================================================================================================================================================================================================================================================================================================================================================================================================================================================================================================================================================================================================================================================================================================================================================================================================================================================================================================================================================================================================================================================================================================================================================================================================================================================================================================================================================================================================================================================================================================================================================================================================================================================================================================================================================================================================================================================================================================================================================================================================================================================================================================================================================================================================================================================================================================================================================================================================================================================================================================================================================================================================================================================================================================================================================================================================================================================================================================================================================================================================================================================================================================================================================================================================================================================================================================================================================================================================================================================================================================================================================================================================================================================================================================================================================================================================================================================================================================================================================================================================================================================================================================================================================================================================================================================================================================================================================================================================================================================================================================================================================================================================================================================================================================================================================================================================================================================================================================================================================================================================================================================================================================================================================================================================================================================================================================================================================================================================================================================================================================================================================================================================================================================================================================================================================================================================================================================================================================================================================================================================================================================================================================================================================================================================================================================================================================================================================================================================================================================================================================================================================================================================================================================================================================================================================================================================================================================================================================================================================================================================================================================================================================================================================================================================================================================================================================================================================================================================================================================================================================================================================================================================================================================================================================================================================================================================================================================================================================================================================================================================================================================================================================================================================================================================================================================================================================================================================================================================================================================================================================================================================================================================================================================================================================================================================================================================================================================================================================================================================================================================================================================================================================================================================================================================================================================================================================================================================================================================================================================================================================================================================================================================================================================================================================================================================================================================================================] - 0s 86us/sample - loss: 0.0517 - accuracy: 0.9869\n",
            "Train score: [0.06720369137100035, 0.98687667]\n",
            "188/1 [========================================================================================================================================================================================================================================================================================================================================================================================================================================================================================================================================================================================================================================================================================================================================================================================================================================================================================================================================================================================================================================================================================================================================================================================================================================================================================================================================================================================================================================================================================================================================================================================================================================================================================================================================================================================================================================================================================================================================================================================================================================================================================================================================================================================================================================================================================================================================================================================================================================================================================================================================================================================================================================================================================================================================================================================================================================================================================================================================================================================================================================================================================================================================================================================================================================================================================================================================================================================================================================================================================================================================================================================================================================================================================================================================================================================================================================================================================================================================================================================================================================================================================================================================================================================================================================================================================================================================================================================================================================================================================================================================================================================================================================================================================================================================================================================================================================================================================================================================================================================================================================================================================================================================================================================================================================================================================================================================================================================================================================================================================================================================================================================================================================================================================================================================================================================================================================================================] - 0s 63us/sample - loss: 0.1121 - accuracy: 0.9628\n",
            "Test score: [0.10081769113845014, 0.96276593]\n"
          ]
        }
      ]
    },
    {
      "cell_type": "code",
      "source": [
        "#Plot what's returnes by model.fit()\n",
        "import matplotlib.pyplot as plt\n",
        "plt.plot(r.history['loss'], label='loss')\n",
        "plt.plot(r.history['val_loss'], label='val_loss')\n",
        "plt.legend()"
      ],
      "metadata": {
        "colab": {
          "base_uri": "https://localhost:8080/",
          "height": 282
        },
        "id": "XRsqzDZN1-Kx",
        "outputId": "3edcd608-d15f-4b87-c0b0-196d385484e5"
      },
      "execution_count": 18,
      "outputs": [
        {
          "output_type": "execute_result",
          "data": {
            "text/plain": [
              "<matplotlib.legend.Legend at 0x7f13df06b290>"
            ]
          },
          "metadata": {},
          "execution_count": 18
        },
        {
          "output_type": "display_data",
          "data": {
            "text/plain": [
              "<Figure size 432x288 with 1 Axes>"
            ],
            "image/png": "[encoded data removed]"
          },
          "metadata": {
            "needs_background": "light"
          }
        }
      ]
    },
    {
      "cell_type": "code",
      "source": [
        "#Plot the accuracy too\n",
        "plt.plot(r.history['accuracy'], label='acc')\n",
        "plt.plot(r.history['val_accuracy'], label='val_acc')\n",
        "plt.legend()"
      ],
      "metadata": {
        "colab": {
          "base_uri": "https://localhost:8080/",
          "height": 282
        },
        "id": "SvbEYs4J244-",
        "outputId": "e10c8f55-51ed-4cf2-e210-8b0f85a84a90"
      },
      "execution_count": 19,
      "outputs": [
        {
          "output_type": "execute_result",
          "data": {
            "text/plain": [
              "<matplotlib.legend.Legend at 0x7f13defcc150>"
            ]
          },
          "metadata": {},
          "execution_count": 19
        },
        {
          "output_type": "display_data",
          "data": {
            "text/plain": [
              "<Figure size 432x288 with 1 Axes>"
            ],
            "image/png": "[encoded data removed]"
          },
          "metadata": {
            "needs_background": "light"
          }
        }
      ]
    },
    {
      "cell_type": "markdown",
      "source": [
        "# Part 2: Making Predictions\n",
        "this goes with the lecture \"Making predicitons\""
      ],
      "metadata": {
        "id": "H8KkWqa_c3Vm"
      }
    },
    {
      "cell_type": "code",
      "source": [
        "#make predictions\n",
        "P = model.predict(X_test)\n",
        "print(P) #the are outputs of the sigmoid, interpreted as probabilities p(y=1 /x)"
      ],
      "metadata": {
        "colab": {
          "base_uri": "https://localhost:8080/"
        },
        "id": "WogyFOcvc_1C",
        "outputId": "4ff8d66f-8059-4a85-9ae3-19038d4d19a5"
      },
      "execution_count": 20,
      "outputs": [
        {
          "output_type": "stream",
          "name": "stdout",
          "text": [
            "[[8.40864182e-01]\n",
            " [9.98656869e-01]\n",
            " [9.99452472e-01]\n",
            " [8.75121593e-01]\n",
            " [2.39610672e-05]\n",
            " [2.14010477e-04]\n",
            " [1.17719173e-05]\n",
            " [9.97596741e-01]\n",
            " [1.15988135e-01]\n",
            " [9.99750495e-01]\n",
            " [3.80074978e-03]\n",
            " [9.88282084e-01]\n",
            " [5.96046448e-08]\n",
            " [2.50990391e-02]\n",
            " [9.95759666e-01]\n",
            " [7.28003860e-01]\n",
            " [1.01327896e-06]\n",
            " [9.95209217e-01]\n",
            " [9.96529818e-01]\n",
            " [9.95596766e-01]\n",
            " [9.67107296e-01]\n",
            " [9.99147177e-01]\n",
            " [3.83926332e-02]\n",
            " [9.93340254e-01]\n",
            " [9.99955595e-01]\n",
            " [9.92812514e-01]\n",
            " [9.19528484e-01]\n",
            " [9.25165951e-01]\n",
            " [6.38236344e-01]\n",
            " [2.26830035e-01]\n",
            " [1.31726265e-05]\n",
            " [9.99901533e-01]\n",
            " [2.98023224e-07]\n",
            " [9.99867558e-01]\n",
            " [2.89082527e-05]\n",
            " [9.97537851e-01]\n",
            " [9.40273166e-01]\n",
            " [5.40494919e-04]\n",
            " [8.94622207e-01]\n",
            " [9.21991944e-01]\n",
            " [9.99880433e-01]\n",
            " [4.99735713e-01]\n",
            " [9.98405576e-01]\n",
            " [9.95031059e-01]\n",
            " [9.48693037e-01]\n",
            " [9.99965310e-01]\n",
            " [9.73172903e-01]\n",
            " [9.74712133e-01]\n",
            " [9.57040668e-01]\n",
            " [9.98664916e-01]\n",
            " [9.91541624e-01]\n",
            " [1.59978867e-04]\n",
            " [9.99545932e-01]\n",
            " [2.38418579e-06]\n",
            " [3.97169799e-01]\n",
            " [9.10371542e-04]\n",
            " [9.13868666e-01]\n",
            " [8.86619091e-05]\n",
            " [8.70853126e-01]\n",
            " [5.94334006e-01]\n",
            " [8.77676845e-01]\n",
            " [9.22098756e-03]\n",
            " [9.90107179e-01]\n",
            " [9.97338355e-01]\n",
            " [5.31672955e-01]\n",
            " [9.53413129e-01]\n",
            " [9.96391773e-01]\n",
            " [1.22729599e-01]\n",
            " [9.88521814e-01]\n",
            " [9.00382817e-01]\n",
            " [9.99590039e-01]\n",
            " [9.99895632e-01]\n",
            " [9.95551705e-01]\n",
            " [9.99511182e-01]\n",
            " [9.41677213e-01]\n",
            " [9.84297514e-01]\n",
            " [9.98525858e-01]\n",
            " [4.31845605e-01]\n",
            " [9.92338538e-01]\n",
            " [9.89029527e-01]\n",
            " [1.21390820e-03]\n",
            " [2.05636024e-06]\n",
            " [1.72069907e-01]\n",
            " [5.96046448e-08]\n",
            " [9.93440747e-01]\n",
            " [1.53839588e-04]\n",
            " [9.98788834e-01]\n",
            " [9.99858975e-01]\n",
            " [3.90036702e-02]\n",
            " [9.91587043e-01]\n",
            " [9.24076915e-01]\n",
            " [6.44296408e-04]\n",
            " [9.31523561e-01]\n",
            " [9.68156338e-01]\n",
            " [1.17955804e-02]\n",
            " [9.95855570e-01]\n",
            " [9.81072128e-01]\n",
            " [9.99775469e-01]\n",
            " [1.20099753e-01]\n",
            " [9.99598086e-01]\n",
            " [2.74765491e-02]\n",
            " [4.90409046e-01]\n",
            " [2.43600905e-01]\n",
            " [6.96344256e-01]\n",
            " [9.76688981e-01]\n",
            " [9.70155358e-01]\n",
            " [1.49011612e-07]\n",
            " [4.16463703e-01]\n",
            " [4.88805175e-02]\n",
            " [9.99135137e-01]\n",
            " [9.99518037e-01]\n",
            " [8.14551115e-01]\n",
            " [9.67482448e-01]\n",
            " [0.00000000e+00]\n",
            " [8.77535343e-01]\n",
            " [9.93973494e-01]\n",
            " [5.96046448e-08]\n",
            " [2.89112329e-04]\n",
            " [2.81333923e-05]\n",
            " [3.84449959e-06]\n",
            " [1.25288963e-04]\n",
            " [1.50096416e-03]\n",
            " [9.69438255e-01]\n",
            " [9.93615627e-01]\n",
            " [9.95947242e-01]\n",
            " [9.99904871e-01]\n",
            " [9.99339998e-01]\n",
            " [9.88092780e-01]\n",
            " [9.78840768e-01]\n",
            " [1.42368674e-03]\n",
            " [9.95256901e-01]\n",
            " [9.97690797e-01]\n",
            " [9.02364492e-01]\n",
            " [9.99626517e-01]\n",
            " [9.36992764e-01]\n",
            " [4.64230776e-04]\n",
            " [8.87857378e-01]\n",
            " [9.99925137e-01]\n",
            " [9.21967745e-01]\n",
            " [9.97380972e-01]\n",
            " [9.99593914e-01]\n",
            " [9.72436309e-01]\n",
            " [2.02953815e-05]\n",
            " [9.99395907e-01]\n",
            " [9.79722619e-01]\n",
            " [9.98038054e-01]\n",
            " [9.99642909e-01]\n",
            " [8.78309608e-02]\n",
            " [1.64148331e-01]\n",
            " [6.86040521e-03]\n",
            " [9.61709738e-01]\n",
            " [9.91234422e-01]\n",
            " [9.99583244e-01]\n",
            " [9.99330342e-01]\n",
            " [9.12347913e-01]\n",
            " [9.99939203e-01]\n",
            " [8.84670019e-03]\n",
            " [9.67244864e-01]\n",
            " [9.97535586e-01]\n",
            " [3.62136960e-03]\n",
            " [8.72767448e-01]\n",
            " [1.04904175e-05]\n",
            " [9.95802760e-01]\n",
            " [1.71831906e-01]\n",
            " [9.99851227e-01]\n",
            " [9.95831847e-01]\n",
            " [9.94320393e-01]\n",
            " [6.42432332e-01]\n",
            " [1.99675560e-06]\n",
            " [9.63440537e-01]\n",
            " [6.72068954e-01]\n",
            " [9.68077779e-01]\n",
            " [2.23994255e-04]\n",
            " [1.96784735e-04]\n",
            " [9.99597669e-01]\n",
            " [0.00000000e+00]\n",
            " [1.96397305e-05]\n",
            " [3.52948010e-02]\n",
            " [2.27713585e-03]\n",
            " [9.66226220e-01]\n",
            " [1.56895816e-02]\n",
            " [9.99878347e-01]\n",
            " [9.93685842e-01]\n",
            " [8.48361909e-01]\n",
            " [9.36638378e-03]\n",
            " [3.97505332e-03]\n",
            " [9.98186409e-01]\n",
            " [3.04891472e-03]]\n"
          ]
        }
      ]
    },
    {
      "cell_type": "code",
      "source": [
        "# Round to get the actual predictions\n",
        "#Note: has to be flattened since the targets are size (N,) while the predicitons are size (N,1)\n",
        "import numpy as np\n",
        "P = np.round(P).flatten() #El flatten sirve para hacerlo en una sola dimension\n",
        "print(P)"
      ],
      "metadata": {
        "colab": {
          "base_uri": "https://localhost:8080/"
        },
        "id": "uOBKc1LUeMf6",
        "outputId": "ab12d9f5-893f-4fe1-b52d-54af5c4cb177"
      },
      "execution_count": 21,
      "outputs": [
        {
          "output_type": "stream",
          "name": "stdout",
          "text": [
            "[1. 1. 1. 1. 0. 0. 0. 1. 0. 1. 0. 1. 0. 0. 1. 1. 0. 1. 1. 1. 1. 1. 0. 1.\n",
            " 1. 1. 1. 1. 1. 0. 0. 1. 0. 1. 0. 1. 1. 0. 1. 1. 1. 0. 1. 1. 1. 1. 1. 1.\n",
            " 1. 1. 1. 0. 1. 0. 0. 0. 1. 0. 1. 1. 1. 0. 1. 1. 1. 1. 1. 0. 1. 1. 1. 1.\n",
            " 1. 1. 1. 1. 1. 0. 1. 1. 0. 0. 0. 0. 1. 0. 1. 1. 0. 1. 1. 0. 1. 1. 0. 1.\n",
            " 1. 1. 0. 1. 0. 0. 0. 1. 1. 1. 0. 0. 0. 1. 1. 1. 1. 0. 1. 1. 0. 0. 0. 0.\n",
            " 0. 0. 1. 1. 1. 1. 1. 1. 1. 0. 1. 1. 1. 1. 1. 0. 1. 1. 1. 1. 1. 1. 0. 1.\n",
            " 1. 1. 1. 0. 0. 0. 1. 1. 1. 1. 1. 1. 0. 1. 1. 0. 1. 0. 1. 0. 1. 1. 1. 1.\n",
            " 0. 1. 1. 1. 0. 0. 1. 0. 0. 0. 0. 1. 0. 1. 1. 1. 0. 0. 1. 0.]\n"
          ]
        }
      ]
    },
    {
      "cell_type": "code",
      "source": [
        "#Calculate the accuracy, compare it to evaluate() output\n",
        "print(\"Manually calculated accuracy:\", np.mean(P == y_test))\n",
        "print(\"Evaluate output:\", model.evaluate(X_test, y_test))"
      ],
      "metadata": {
        "colab": {
          "base_uri": "https://localhost:8080/"
        },
        "id": "QVjzvViVe3dg",
        "outputId": "6ab2e88c-174f-4a62-a23c-bdb95f9c67ef"
      },
      "execution_count": 22,
      "outputs": [
        {
          "output_type": "stream",
          "name": "stdout",
          "text": [
            "Manually calculated accuracy: 0.9627659574468085\n",
            "\r188/1 [========================================================================================================================================================================================================================================================================================================================================================================================================================================================================================================================================================================================================================================================================================================================================================================================================================================================================================================================================================================================================================================================================================================================================================================================================================================================================================================================================================================================================================================================================================================================================================================================================================================================================================================================================================================================================================================================================================================================================================================================================================================================================================================================================================================================================================================================================================================================================================================================================================================================================================================================================================================================================================================================================================================================================================================================================================================================================================================================================================================================================================================================================================================================================================================================================================================================================================================================================================================================================================================================================================================================================================================================================================================================================================================================================================================================================================================================================================================================================================================================================================================================================================================================================================================================================================================================================================================================================================================================================================================================================================================================================================================================================================================================================================================================================================================================================================================================================================================================================================================================================================================================================================================================================================================================================================================================================================================================================================================================================================================================================================================================================================================================================================================================================================================================================================================================================================================================================] - 0s 69us/sample - loss: 0.1121 - accuracy: 0.9628\n",
            "Evaluate output: [0.10081769113845014, 0.96276593]\n"
          ]
        }
      ]
    }
  ]
}