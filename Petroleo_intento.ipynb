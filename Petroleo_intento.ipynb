{
  "nbformat": 4,
  "nbformat_minor": 0,
  "metadata": {
    "colab": {
      "name": "Petroleo intento.ipynb",
      "provenance": [],
      "collapsed_sections": [],
      "authorship_tag": "ABX9TyPXoRimjaHvhqzTFESV9Dmh",
      "include_colab_link": true
    },
    "kernelspec": {
      "name": "python3",
      "display_name": "Python 3"
    },
    "language_info": {
      "name": "python"
    }
  },
  "cells": [
    {
      "cell_type": "markdown",
      "metadata": {
        "id": "view-in-github",
        "colab_type": "text"
      },
      "source": [
        "<a href=\"https://colab.research.google.com/github/ReyFrank92/joyofcoding/blob/main/Petroleo_intento.ipynb\" target=\"_parent\"><img src=\"https://colab.research.google.com/assets/colab-badge.svg\" alt=\"Open In Colab\"/></a>"
      ]
    },
    {
      "cell_type": "code",
      "execution_count": null,
      "metadata": {
        "colab": {
          "base_uri": "https://localhost:8080/"
        },
        "id": "kNKKPclS7MFu",
        "outputId": "2310bcca-cc7e-481e-d97a-13ad145acab4"
      },
      "outputs": [
        {
          "output_type": "stream",
          "name": "stdout",
          "text": [
            "\u001b[K     |████████████████████████████████| 511.7 MB 3.2 kB/s \n",
            "\u001b[K     |████████████████████████████████| 5.8 MB 31.4 MB/s \n",
            "\u001b[K     |████████████████████████████████| 438 kB 40.2 MB/s \n",
            "\u001b[K     |████████████████████████████████| 1.6 MB 37.8 MB/s \n",
            "\u001b[31mERROR: pip's dependency resolver does not currently take into account all the packages that are installed. This behaviour is the source of the following dependency conflicts.\n",
            "tensorflow 2.8.2+zzzcolab20220719082949 requires keras<2.9,>=2.8.0rc0, but you have keras 2.9.0 which is incompatible.\n",
            "tensorflow 2.8.2+zzzcolab20220719082949 requires tensorboard<2.9,>=2.8, but you have tensorboard 2.9.1 which is incompatible.\n",
            "tensorflow 2.8.2+zzzcolab20220719082949 requires tensorflow-estimator<2.9,>=2.8, but you have tensorflow-estimator 2.9.0 which is incompatible.\u001b[0m\n",
            "\u001b[?25h2.9.0\n"
          ]
        }
      ],
      "source": [
        "#Install TensorFlow\n",
        "!pip install -q tensorflow-gpu==2.9.0\n",
        "import tensorflow as tf\n",
        "print(tf.__version__)"
      ]
    },
    {
      "cell_type": "code",
      "source": [
        "from tensorflow.keras.layers import Input, SimpleRNN, Dense,  GRU, LSTM, GlobalMaxPool1D\n",
        "from tensorflow.keras.models import Model\n",
        "from tensorflow.keras.optimizers import SGD, Adam\n",
        "\n",
        "import numpy as np\n",
        "import pandas as pd\n",
        "import matplotlib.pyplot as plt\n",
        "from sklearn.preprocessing import StandardScaler\n"
      ],
      "metadata": {
        "id": "5C7Ag3Ae7MuS"
      },
      "execution_count": null,
      "outputs": []
    },
    {
      "cell_type": "code",
      "source": [
        "from google.colab import files\n",
        "data_to_load = files.upload()"
      ],
      "metadata": {
        "colab": {
          "resources": {
            "http://localhost:8080/nbextensions/google.colab/files.js": {
              "data": "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",
              "ok": true,
              "headers": [
                [
                  "content-type",
                  "application/javascript"
                ]
              ],
              "status": 200,
              "status_text": ""
            }
          },
          "base_uri": "https://localhost:8080/",
          "height": 74
        },
        "id": "flIs_VzG7N6Z",
        "outputId": "981599a9-678f-4aa0-f30c-d385810f7a35"
      },
      "execution_count": null,
      "outputs": [
        {
          "output_type": "display_data",
          "data": {
            "text/plain": [
              "<IPython.core.display.HTML object>"
            ],
            "text/html": [
              "\n",
              "     <input type=\"file\" id=\"files-b7c711ea-92b6-4994-9885-4bba14def740\" name=\"files[]\" multiple disabled\n",
              "        style=\"border:none\" />\n",
              "     <output id=\"result-b7c711ea-92b6-4994-9885-4bba14def740\">\n",
              "      Upload widget is only available when the cell has been executed in the\n",
              "      current browser session. Please rerun this cell to enable.\n",
              "      </output>\n",
              "      <script src=\"/nbextensions/google.colab/files.js\"></script> "
            ]
          },
          "metadata": {}
        },
        {
          "output_type": "stream",
          "name": "stdout",
          "text": [
            "Saving Resumen_petroleo.csv to Resumen_petroleo.csv\n"
          ]
        }
      ]
    },
    {
      "cell_type": "code",
      "source": [
        "df = pd.read_csv('Resumen_petroleo.csv', index_col='Fecha', parse_dates=True)"
      ],
      "metadata": {
        "id": "igkna_ce7iJe"
      },
      "execution_count": null,
      "outputs": []
    },
    {
      "cell_type": "code",
      "source": [
        "df.head()"
      ],
      "metadata": {
        "colab": {
          "base_uri": "https://localhost:8080/",
          "height": 237
        },
        "id": "VTpXr7U17zrx",
        "outputId": "c3879c1e-140b-47db-9979-2f8212ddaa88"
      },
      "execution_count": null,
      "outputs": [
        {
          "output_type": "execute_result",
          "data": {
            "text/plain": [
              "               MM    WTI  BRENT      DJI     XAU  Oil C1\n",
              "Fecha                                                   \n",
              "1996-01-31  15.12  17.76  16.63  5395.30  406.45   17.74\n",
              "1996-02-29  16.82  19.59  18.80  5485.62  399.75   19.54\n",
              "1996-03-29  18.35  21.43  20.33  5587.14  395.45   21.47\n",
              "1996-04-30  17.61  20.95  19.50  5569.07  391.65   21.20\n",
              "1996-05-31  16.48  19.77  18.10  5643.17  391.00   19.76"
            ],
            "text/html": [
              "\n",
              "  <div id=\"df-3e59c32c-43c5-421b-8d8a-cd47ae4dd759\">\n",
              "    <div class=\"colab-df-container\">\n",
              "      <div>\n",
              "<style scoped>\n",
              "    .dataframe tbody tr th:only-of-type {\n",
              "        vertical-align: middle;\n",
              "    }\n",
              "\n",
              "    .dataframe tbody tr th {\n",
              "        vertical-align: top;\n",
              "    }\n",
              "\n",
              "    .dataframe thead th {\n",
              "        text-align: right;\n",
              "    }\n",
              "</style>\n",
              "<table border=\"1\" class=\"dataframe\">\n",
              "  <thead>\n",
              "    <tr style=\"text-align: right;\">\n",
              "      <th></th>\n",
              "      <th>MM</th>\n",
              "      <th>WTI</th>\n",
              "      <th>BRENT</th>\n",
              "      <th>DJI</th>\n",
              "      <th>XAU</th>\n",
              "      <th>Oil C1</th>\n",
              "    </tr>\n",
              "    <tr>\n",
              "      <th>Fecha</th>\n",
              "      <th></th>\n",
              "      <th></th>\n",
              "      <th></th>\n",
              "      <th></th>\n",
              "      <th></th>\n",
              "      <th></th>\n",
              "    </tr>\n",
              "  </thead>\n",
              "  <tbody>\n",
              "    <tr>\n",
              "      <th>1996-01-31</th>\n",
              "      <td>15.12</td>\n",
              "      <td>17.76</td>\n",
              "      <td>16.63</td>\n",
              "      <td>5395.30</td>\n",
              "      <td>406.45</td>\n",
              "      <td>17.74</td>\n",
              "    </tr>\n",
              "    <tr>\n",
              "      <th>1996-02-29</th>\n",
              "      <td>16.82</td>\n",
              "      <td>19.59</td>\n",
              "      <td>18.80</td>\n",
              "      <td>5485.62</td>\n",
              "      <td>399.75</td>\n",
              "      <td>19.54</td>\n",
              "    </tr>\n",
              "    <tr>\n",
              "      <th>1996-03-29</th>\n",
              "      <td>18.35</td>\n",
              "      <td>21.43</td>\n",
              "      <td>20.33</td>\n",
              "      <td>5587.14</td>\n",
              "      <td>395.45</td>\n",
              "      <td>21.47</td>\n",
              "    </tr>\n",
              "    <tr>\n",
              "      <th>1996-04-30</th>\n",
              "      <td>17.61</td>\n",
              "      <td>20.95</td>\n",
              "      <td>19.50</td>\n",
              "      <td>5569.07</td>\n",
              "      <td>391.65</td>\n",
              "      <td>21.20</td>\n",
              "    </tr>\n",
              "    <tr>\n",
              "      <th>1996-05-31</th>\n",
              "      <td>16.48</td>\n",
              "      <td>19.77</td>\n",
              "      <td>18.10</td>\n",
              "      <td>5643.17</td>\n",
              "      <td>391.00</td>\n",
              "      <td>19.76</td>\n",
              "    </tr>\n",
              "  </tbody>\n",
              "</table>\n",
              "</div>\n",
              "      <button class=\"colab-df-convert\" onclick=\"convertToInteractive('df-3e59c32c-43c5-421b-8d8a-cd47ae4dd759')\"\n",
              "              title=\"Convert this dataframe to an interactive table.\"\n",
              "              style=\"display:none;\">\n",
              "        \n",
              "  <svg xmlns=\"http://www.w3.org/2000/svg\" height=\"24px\"viewBox=\"0 0 24 24\"\n",
              "       width=\"24px\">\n",
              "    <path d=\"M0 0h24v24H0V0z\" fill=\"none\"/>\n",
              "    <path d=\"M18.56 5.44l.94 2.06.94-2.06 2.06-.94-2.06-.94-.94-2.06-.94 2.06-2.06.94zm-11 1L8.5 8.5l.94-2.06 2.06-.94-2.06-.94L8.5 2.5l-.94 2.06-2.06.94zm10 10l.94 2.06.94-2.06 2.06-.94-2.06-.94-.94-2.06-.94 2.06-2.06.94z\"/><path d=\"M17.41 7.96l-1.37-1.37c-.4-.4-.92-.59-1.43-.59-.52 0-1.04.2-1.43.59L10.3 9.45l-7.72 7.72c-.78.78-.78 2.05 0 2.83L4 21.41c.39.39.9.59 1.41.59.51 0 1.02-.2 1.41-.59l7.78-7.78 2.81-2.81c.8-.78.8-2.07 0-2.86zM5.41 20L4 18.59l7.72-7.72 1.47 1.35L5.41 20z\"/>\n",
              "  </svg>\n",
              "      </button>\n",
              "      \n",
              "  <style>\n",
              "    .colab-df-container {\n",
              "      display:flex;\n",
              "      flex-wrap:wrap;\n",
              "      gap: 12px;\n",
              "    }\n",
              "\n",
              "    .colab-df-convert {\n",
              "      background-color: #E8F0FE;\n",
              "      border: none;\n",
              "      border-radius: 50%;\n",
              "      cursor: pointer;\n",
              "      display: none;\n",
              "      fill: #1967D2;\n",
              "      height: 32px;\n",
              "      padding: 0 0 0 0;\n",
              "      width: 32px;\n",
              "    }\n",
              "\n",
              "    .colab-df-convert:hover {\n",
              "      background-color: #E2EBFA;\n",
              "      box-shadow: 0px 1px 2px rgba(60, 64, 67, 0.3), 0px 1px 3px 1px rgba(60, 64, 67, 0.15);\n",
              "      fill: #174EA6;\n",
              "    }\n",
              "\n",
              "    [theme=dark] .colab-df-convert {\n",
              "      background-color: #3B4455;\n",
              "      fill: #D2E3FC;\n",
              "    }\n",
              "\n",
              "    [theme=dark] .colab-df-convert:hover {\n",
              "      background-color: #434B5C;\n",
              "      box-shadow: 0px 1px 3px 1px rgba(0, 0, 0, 0.15);\n",
              "      filter: drop-shadow(0px 1px 2px rgba(0, 0, 0, 0.3));\n",
              "      fill: #FFFFFF;\n",
              "    }\n",
              "  </style>\n",
              "\n",
              "      <script>\n",
              "        const buttonEl =\n",
              "          document.querySelector('#df-3e59c32c-43c5-421b-8d8a-cd47ae4dd759 button.colab-df-convert');\n",
              "        buttonEl.style.display =\n",
              "          google.colab.kernel.accessAllowed ? 'block' : 'none';\n",
              "\n",
              "        async function convertToInteractive(key) {\n",
              "          const element = document.querySelector('#df-3e59c32c-43c5-421b-8d8a-cd47ae4dd759');\n",
              "          const dataTable =\n",
              "            await google.colab.kernel.invokeFunction('convertToInteractive',\n",
              "                                                     [key], {});\n",
              "          if (!dataTable) return;\n",
              "\n",
              "          const docLinkHtml = 'Like what you see? Visit the ' +\n",
              "            '<a target=\"_blank\" href=https://colab.research.google.com/notebooks/data_table.ipynb>data table notebook</a>'\n",
              "            + ' to learn more about interactive tables.';\n",
              "          element.innerHTML = '';\n",
              "          dataTable['output_type'] = 'display_data';\n",
              "          await google.colab.output.renderOutput(dataTable, element);\n",
              "          const docLink = document.createElement('div');\n",
              "          docLink.innerHTML = docLinkHtml;\n",
              "          element.appendChild(docLink);\n",
              "        }\n",
              "      </script>\n",
              "    </div>\n",
              "  </div>\n",
              "  "
            ]
          },
          "metadata": {},
          "execution_count": 6
        }
      ]
    },
    {
      "cell_type": "code",
      "source": [
        "df.tail()"
      ],
      "metadata": {
        "colab": {
          "base_uri": "https://localhost:8080/",
          "height": 237
        },
        "id": "9TgC6giu71VS",
        "outputId": "77fa3f6b-8ee4-406a-fb79-e37a86dd8baa"
      },
      "execution_count": null,
      "outputs": [
        {
          "output_type": "execute_result",
          "data": {
            "text/plain": [
              "                MM     WTI   BRENT       DJI      XAU  Oil C1\n",
              "Fecha                                                        \n",
              "2022-02-28   91.80   96.13  103.08  33892.60  1907.90   95.72\n",
              "2022-03-31   98.00  100.53  107.29  34678.35  1937.23  100.28\n",
              "2022-04-29  102.02  104.59  108.36  32977.21  1896.40  104.69\n",
              "2022-05-31  113.83  114.38  125.53  32991.97  1837.09  114.67\n",
              "2022-06-30  104.79  107.76  119.78  30779.71  1806.89  105.76"
            ],
            "text/html": [
              "\n",
              "  <div id=\"df-156d269c-ed66-4728-9e4d-134d4fc615a1\">\n",
              "    <div class=\"colab-df-container\">\n",
              "      <div>\n",
              "<style scoped>\n",
              "    .dataframe tbody tr th:only-of-type {\n",
              "        vertical-align: middle;\n",
              "    }\n",
              "\n",
              "    .dataframe tbody tr th {\n",
              "        vertical-align: top;\n",
              "    }\n",
              "\n",
              "    .dataframe thead th {\n",
              "        text-align: right;\n",
              "    }\n",
              "</style>\n",
              "<table border=\"1\" class=\"dataframe\">\n",
              "  <thead>\n",
              "    <tr style=\"text-align: right;\">\n",
              "      <th></th>\n",
              "      <th>MM</th>\n",
              "      <th>WTI</th>\n",
              "      <th>BRENT</th>\n",
              "      <th>DJI</th>\n",
              "      <th>XAU</th>\n",
              "      <th>Oil C1</th>\n",
              "    </tr>\n",
              "    <tr>\n",
              "      <th>Fecha</th>\n",
              "      <th></th>\n",
              "      <th></th>\n",
              "      <th></th>\n",
              "      <th></th>\n",
              "      <th></th>\n",
              "      <th></th>\n",
              "    </tr>\n",
              "  </thead>\n",
              "  <tbody>\n",
              "    <tr>\n",
              "      <th>2022-02-28</th>\n",
              "      <td>91.80</td>\n",
              "      <td>96.13</td>\n",
              "      <td>103.08</td>\n",
              "      <td>33892.60</td>\n",
              "      <td>1907.90</td>\n",
              "      <td>95.72</td>\n",
              "    </tr>\n",
              "    <tr>\n",
              "      <th>2022-03-31</th>\n",
              "      <td>98.00</td>\n",
              "      <td>100.53</td>\n",
              "      <td>107.29</td>\n",
              "      <td>34678.35</td>\n",
              "      <td>1937.23</td>\n",
              "      <td>100.28</td>\n",
              "    </tr>\n",
              "    <tr>\n",
              "      <th>2022-04-29</th>\n",
              "      <td>102.02</td>\n",
              "      <td>104.59</td>\n",
              "      <td>108.36</td>\n",
              "      <td>32977.21</td>\n",
              "      <td>1896.40</td>\n",
              "      <td>104.69</td>\n",
              "    </tr>\n",
              "    <tr>\n",
              "      <th>2022-05-31</th>\n",
              "      <td>113.83</td>\n",
              "      <td>114.38</td>\n",
              "      <td>125.53</td>\n",
              "      <td>32991.97</td>\n",
              "      <td>1837.09</td>\n",
              "      <td>114.67</td>\n",
              "    </tr>\n",
              "    <tr>\n",
              "      <th>2022-06-30</th>\n",
              "      <td>104.79</td>\n",
              "      <td>107.76</td>\n",
              "      <td>119.78</td>\n",
              "      <td>30779.71</td>\n",
              "      <td>1806.89</td>\n",
              "      <td>105.76</td>\n",
              "    </tr>\n",
              "  </tbody>\n",
              "</table>\n",
              "</div>\n",
              "      <button class=\"colab-df-convert\" onclick=\"convertToInteractive('df-156d269c-ed66-4728-9e4d-134d4fc615a1')\"\n",
              "              title=\"Convert this dataframe to an interactive table.\"\n",
              "              style=\"display:none;\">\n",
              "        \n",
              "  <svg xmlns=\"http://www.w3.org/2000/svg\" height=\"24px\"viewBox=\"0 0 24 24\"\n",
              "       width=\"24px\">\n",
              "    <path d=\"M0 0h24v24H0V0z\" fill=\"none\"/>\n",
              "    <path d=\"M18.56 5.44l.94 2.06.94-2.06 2.06-.94-2.06-.94-.94-2.06-.94 2.06-2.06.94zm-11 1L8.5 8.5l.94-2.06 2.06-.94-2.06-.94L8.5 2.5l-.94 2.06-2.06.94zm10 10l.94 2.06.94-2.06 2.06-.94-2.06-.94-.94-2.06-.94 2.06-2.06.94z\"/><path d=\"M17.41 7.96l-1.37-1.37c-.4-.4-.92-.59-1.43-.59-.52 0-1.04.2-1.43.59L10.3 9.45l-7.72 7.72c-.78.78-.78 2.05 0 2.83L4 21.41c.39.39.9.59 1.41.59.51 0 1.02-.2 1.41-.59l7.78-7.78 2.81-2.81c.8-.78.8-2.07 0-2.86zM5.41 20L4 18.59l7.72-7.72 1.47 1.35L5.41 20z\"/>\n",
              "  </svg>\n",
              "      </button>\n",
              "      \n",
              "  <style>\n",
              "    .colab-df-container {\n",
              "      display:flex;\n",
              "      flex-wrap:wrap;\n",
              "      gap: 12px;\n",
              "    }\n",
              "\n",
              "    .colab-df-convert {\n",
              "      background-color: #E8F0FE;\n",
              "      border: none;\n",
              "      border-radius: 50%;\n",
              "      cursor: pointer;\n",
              "      display: none;\n",
              "      fill: #1967D2;\n",
              "      height: 32px;\n",
              "      padding: 0 0 0 0;\n",
              "      width: 32px;\n",
              "    }\n",
              "\n",
              "    .colab-df-convert:hover {\n",
              "      background-color: #E2EBFA;\n",
              "      box-shadow: 0px 1px 2px rgba(60, 64, 67, 0.3), 0px 1px 3px 1px rgba(60, 64, 67, 0.15);\n",
              "      fill: #174EA6;\n",
              "    }\n",
              "\n",
              "    [theme=dark] .colab-df-convert {\n",
              "      background-color: #3B4455;\n",
              "      fill: #D2E3FC;\n",
              "    }\n",
              "\n",
              "    [theme=dark] .colab-df-convert:hover {\n",
              "      background-color: #434B5C;\n",
              "      box-shadow: 0px 1px 3px 1px rgba(0, 0, 0, 0.15);\n",
              "      filter: drop-shadow(0px 1px 2px rgba(0, 0, 0, 0.3));\n",
              "      fill: #FFFFFF;\n",
              "    }\n",
              "  </style>\n",
              "\n",
              "      <script>\n",
              "        const buttonEl =\n",
              "          document.querySelector('#df-156d269c-ed66-4728-9e4d-134d4fc615a1 button.colab-df-convert');\n",
              "        buttonEl.style.display =\n",
              "          google.colab.kernel.accessAllowed ? 'block' : 'none';\n",
              "\n",
              "        async function convertToInteractive(key) {\n",
              "          const element = document.querySelector('#df-156d269c-ed66-4728-9e4d-134d4fc615a1');\n",
              "          const dataTable =\n",
              "            await google.colab.kernel.invokeFunction('convertToInteractive',\n",
              "                                                     [key], {});\n",
              "          if (!dataTable) return;\n",
              "\n",
              "          const docLinkHtml = 'Like what you see? Visit the ' +\n",
              "            '<a target=\"_blank\" href=https://colab.research.google.com/notebooks/data_table.ipynb>data table notebook</a>'\n",
              "            + ' to learn more about interactive tables.';\n",
              "          element.innerHTML = '';\n",
              "          dataTable['output_type'] = 'display_data';\n",
              "          await google.colab.output.renderOutput(dataTable, element);\n",
              "          const docLink = document.createElement('div');\n",
              "          docLink.innerHTML = docLinkHtml;\n",
              "          element.appendChild(docLink);\n",
              "        }\n",
              "      </script>\n",
              "    </div>\n",
              "  </div>\n",
              "  "
            ]
          },
          "metadata": {},
          "execution_count": 7
        }
      ]
    },
    {
      "cell_type": "code",
      "source": [
        "# start by doing the WRONG thing - trying to predict the price itself\n",
        "series = df['MM'].values.reshape(-1,1) #only 1 column"
      ],
      "metadata": {
        "id": "dPKXAa7e73Nd"
      },
      "execution_count": null,
      "outputs": []
    },
    {
      "cell_type": "code",
      "source": [
        "print(series.shape)"
      ],
      "metadata": {
        "colab": {
          "base_uri": "https://localhost:8080/"
        },
        "id": "lNiJCRzn8kGx",
        "outputId": "03afb1b2-e452-4766-83df-6ee30e479a55"
      },
      "execution_count": null,
      "outputs": [
        {
          "output_type": "stream",
          "name": "stdout",
          "text": [
            "(318, 1)\n"
          ]
        }
      ]
    },
    {
      "cell_type": "code",
      "source": [
        "#Normaize the data \n",
        "#NOte: I didn't think about where the true boundary is, this is just approx.\n",
        "scaler = StandardScaler() # z = (x - u) / s // if with_mean = False => u(mean) = 0  // if with_std = False => s(std desv) = 1 // x is the sample \n",
        "scaler.fit(series[:len(series)//2]) #usamos el fit function solo en la primera mitad de la serie. Esto es porque no queremos incluir el test data in el training pipeline //normaliza la primera mitad de los datos\n",
        "series = scaler.transform(series).flatten() #copy a given array an collapsed into one dimmension"
      ],
      "metadata": {
        "id": "QCVFVqkQ8eBj"
      },
      "execution_count": null,
      "outputs": []
    },
    {
      "cell_type": "code",
      "source": [
        "### build the dataset []\n",
        "T = 10\n",
        "D = 1\n",
        "X = []\n",
        "Y = []\n",
        "for t in range(len(series)- T): #lo que mida la serie -10\n",
        "  x = series[t:t+T] # cuando t = 1, entonces corre de 1 a 11, cuando es 2 , corre de 2 a 12 ya si (en la primera iteración irá de 0 a 9 porque T =10)\n",
        "  X.append(x)  #Se anexa el x al final \n",
        "  y = series[t+T]  #si t  = 3 entonces es 13. i.e. se busca la observación 13 estando en el 3.\n",
        "  Y.append(y) #Se anexa el y al final\n",
        "\n",
        "X = np.array(X).reshape(-1, T, 1) #NOw the data should be N x T x D #Una vez que tienes un array, ahora transpones los arrays de tal forma que tenga T(osea 10) cada una, los -1 sirven si no sabes cuando hay en algo pero la pc los acomoda automaticamente\n",
        "Y = np.array(Y) #Se crea un array con los valore Y\n",
        "N = len(X) #el número de items en X\n",
        "print(\"X.shape\", X.shape, \"Y.shape\", Y.shape)\n",
        "\n",
        "# N = number of samples\n",
        "# T = sequence length\n",
        "# D = number of input features\n",
        "# M = number of hideen units \n",
        "# K = number of output units"
      ],
      "metadata": {
        "colab": {
          "base_uri": "https://localhost:8080/"
        },
        "id": "s2vIx-wf8nE5",
        "outputId": "1c70ff85-1f96-4c13-c3a6-809504d719f9"
      },
      "execution_count": null,
      "outputs": [
        {
          "output_type": "stream",
          "name": "stdout",
          "text": [
            "X.shape (308, 10, 1) Y.shape (308,)\n"
          ]
        }
      ]
    },
    {
      "cell_type": "code",
      "source": [
        "#try autoregressive RNN model []\n",
        "i = Input(shape=(T,1)) #es solo poner una entrada, en este caso 10 porque es la primera capa y uno busca un AR(10) #Aca si se pone (T,1)\n",
        "x = LSTM(5)(i) #simpleRNN(5,activation='relu')(i) # el por defecto es un tanh\n",
        "x = Dense(1)(x) #final layer is one #solo es una capa. #aquí iba 1 originalmente \n",
        "model = Model(i, x)\n",
        "model.compile(\n",
        "    loss='mse',\n",
        "    optimizer=Adam(learning_rate=0.1),\n",
        ")\n",
        "\n",
        "# train the RNN\n",
        "r = model.fit(\n",
        "  X[:-N//2], Y[:-N//2], # si fuera _1 , signfica que la borra la última observacion,entonces -N borra todo pero //2 significa que toma última mitad de los datos\n",
        "  epochs = 80,\n",
        "  validation_data=(X[-N//2:], Y[-N//2:]), #valida con los mismos datos\n",
        ")\n",
        "\n",
        "# Select the last element in the list\n",
        "# (the slice starts at the last element, and ends at the end of the list)"
      ],
      "metadata": {
        "colab": {
          "base_uri": "https://localhost:8080/"
        },
        "id": "2noj36SP8pJU",
        "outputId": "90b1588f-cc10-4415-f556-380611c4e6ba"
      },
      "execution_count": null,
      "outputs": [
        {
          "output_type": "stream",
          "name": "stdout",
          "text": [
            "Epoch 1/80\n",
            "5/5 [==============================] - 8s 381ms/step - loss: 0.6777 - val_loss: 0.5643\n",
            "Epoch 2/80\n",
            "5/5 [==============================] - 0s 23ms/step - loss: 0.1887 - val_loss: 0.4021\n",
            "Epoch 3/80\n",
            "5/5 [==============================] - 0s 26ms/step - loss: 0.1323 - val_loss: 0.1968\n",
            "Epoch 4/80\n",
            "5/5 [==============================] - 0s 17ms/step - loss: 0.0783 - val_loss: 0.1079\n",
            "Epoch 5/80\n",
            "5/5 [==============================] - 0s 17ms/step - loss: 0.0653 - val_loss: 0.0914\n",
            "Epoch 6/80\n",
            "5/5 [==============================] - 0s 14ms/step - loss: 0.0535 - val_loss: 0.0850\n",
            "Epoch 7/80\n",
            "5/5 [==============================] - 0s 30ms/step - loss: 0.0531 - val_loss: 0.0890\n",
            "Epoch 8/80\n",
            "5/5 [==============================] - 0s 24ms/step - loss: 0.0619 - val_loss: 0.1060\n",
            "Epoch 9/80\n",
            "5/5 [==============================] - 0s 40ms/step - loss: 0.0589 - val_loss: 0.0899\n",
            "Epoch 10/80\n",
            "5/5 [==============================] - 0s 36ms/step - loss: 0.0523 - val_loss: 0.0872\n",
            "Epoch 11/80\n",
            "5/5 [==============================] - 0s 19ms/step - loss: 0.0490 - val_loss: 0.0865\n",
            "Epoch 12/80\n",
            "5/5 [==============================] - 0s 23ms/step - loss: 0.0462 - val_loss: 0.0840\n",
            "Epoch 13/80\n",
            "5/5 [==============================] - 0s 22ms/step - loss: 0.0447 - val_loss: 0.0926\n",
            "Epoch 14/80\n",
            "5/5 [==============================] - 0s 22ms/step - loss: 0.0492 - val_loss: 0.1020\n",
            "Epoch 15/80\n",
            "5/5 [==============================] - 0s 30ms/step - loss: 0.0590 - val_loss: 0.0818\n",
            "Epoch 16/80\n",
            "5/5 [==============================] - 0s 23ms/step - loss: 0.0491 - val_loss: 0.0949\n",
            "Epoch 17/80\n",
            "5/5 [==============================] - 0s 35ms/step - loss: 0.0471 - val_loss: 0.0889\n",
            "Epoch 18/80\n",
            "5/5 [==============================] - 0s 23ms/step - loss: 0.0475 - val_loss: 0.0984\n",
            "Epoch 19/80\n",
            "5/5 [==============================] - 0s 22ms/step - loss: 0.0486 - val_loss: 0.0986\n",
            "Epoch 20/80\n",
            "5/5 [==============================] - 0s 33ms/step - loss: 0.0496 - val_loss: 0.0895\n",
            "Epoch 21/80\n",
            "5/5 [==============================] - 0s 21ms/step - loss: 0.0468 - val_loss: 0.0834\n",
            "Epoch 22/80\n",
            "5/5 [==============================] - 0s 22ms/step - loss: 0.0462 - val_loss: 0.0871\n",
            "Epoch 23/80\n",
            "5/5 [==============================] - 0s 22ms/step - loss: 0.0480 - val_loss: 0.0938\n",
            "Epoch 24/80\n",
            "5/5 [==============================] - 0s 31ms/step - loss: 0.0543 - val_loss: 0.0863\n",
            "Epoch 25/80\n",
            "5/5 [==============================] - 0s 20ms/step - loss: 0.0656 - val_loss: 0.1406\n",
            "Epoch 26/80\n",
            "5/5 [==============================] - 0s 22ms/step - loss: 0.0541 - val_loss: 0.1050\n",
            "Epoch 27/80\n",
            "5/5 [==============================] - 0s 37ms/step - loss: 0.0544 - val_loss: 0.0911\n",
            "Epoch 28/80\n",
            "5/5 [==============================] - 0s 25ms/step - loss: 0.0480 - val_loss: 0.0827\n",
            "Epoch 29/80\n",
            "5/5 [==============================] - 0s 21ms/step - loss: 0.0442 - val_loss: 0.0848\n",
            "Epoch 30/80\n",
            "5/5 [==============================] - 0s 25ms/step - loss: 0.0463 - val_loss: 0.0897\n",
            "Epoch 31/80\n",
            "5/5 [==============================] - 0s 23ms/step - loss: 0.0492 - val_loss: 0.0834\n",
            "Epoch 32/80\n",
            "5/5 [==============================] - 0s 30ms/step - loss: 0.0493 - val_loss: 0.0968\n",
            "Epoch 33/80\n",
            "5/5 [==============================] - 0s 22ms/step - loss: 0.0507 - val_loss: 0.0881\n",
            "Epoch 34/80\n",
            "5/5 [==============================] - 0s 23ms/step - loss: 0.0491 - val_loss: 0.0942\n",
            "Epoch 35/80\n",
            "5/5 [==============================] - 0s 15ms/step - loss: 0.0550 - val_loss: 0.0998\n",
            "Epoch 36/80\n",
            "5/5 [==============================] - 0s 15ms/step - loss: 0.0470 - val_loss: 0.0920\n",
            "Epoch 37/80\n",
            "5/5 [==============================] - 0s 15ms/step - loss: 0.0469 - val_loss: 0.0918\n",
            "Epoch 38/80\n",
            "5/5 [==============================] - 0s 14ms/step - loss: 0.0426 - val_loss: 0.0883\n",
            "Epoch 39/80\n",
            "5/5 [==============================] - 0s 14ms/step - loss: 0.0440 - val_loss: 0.0876\n",
            "Epoch 40/80\n",
            "5/5 [==============================] - 0s 20ms/step - loss: 0.0448 - val_loss: 0.0936\n",
            "Epoch 41/80\n",
            "5/5 [==============================] - 0s 19ms/step - loss: 0.0493 - val_loss: 0.0893\n",
            "Epoch 42/80\n",
            "5/5 [==============================] - 0s 18ms/step - loss: 0.0435 - val_loss: 0.1004\n",
            "Epoch 43/80\n",
            "5/5 [==============================] - 0s 19ms/step - loss: 0.0407 - val_loss: 0.0915\n",
            "Epoch 44/80\n",
            "5/5 [==============================] - 0s 17ms/step - loss: 0.0457 - val_loss: 0.0980\n",
            "Epoch 45/80\n",
            "5/5 [==============================] - 0s 20ms/step - loss: 0.0414 - val_loss: 0.1002\n",
            "Epoch 46/80\n",
            "5/5 [==============================] - 0s 19ms/step - loss: 0.0392 - val_loss: 0.0937\n",
            "Epoch 47/80\n",
            "5/5 [==============================] - 0s 18ms/step - loss: 0.0392 - val_loss: 0.0964\n",
            "Epoch 48/80\n",
            "5/5 [==============================] - 0s 18ms/step - loss: 0.0376 - val_loss: 0.1084\n",
            "Epoch 49/80\n",
            "5/5 [==============================] - 0s 20ms/step - loss: 0.0366 - val_loss: 0.1001\n",
            "Epoch 50/80\n",
            "5/5 [==============================] - 0s 15ms/step - loss: 0.0359 - val_loss: 0.1028\n",
            "Epoch 51/80\n",
            "5/5 [==============================] - 0s 21ms/step - loss: 0.0358 - val_loss: 0.1055\n",
            "Epoch 52/80\n",
            "5/5 [==============================] - 0s 17ms/step - loss: 0.0349 - val_loss: 0.1050\n",
            "Epoch 53/80\n",
            "5/5 [==============================] - 0s 21ms/step - loss: 0.0356 - val_loss: 0.1072\n",
            "Epoch 54/80\n",
            "5/5 [==============================] - 0s 19ms/step - loss: 0.0324 - val_loss: 0.1096\n",
            "Epoch 55/80\n",
            "5/5 [==============================] - 0s 22ms/step - loss: 0.0353 - val_loss: 0.1090\n",
            "Epoch 56/80\n",
            "5/5 [==============================] - 0s 21ms/step - loss: 0.0353 - val_loss: 0.1312\n",
            "Epoch 57/80\n",
            "5/5 [==============================] - 0s 20ms/step - loss: 0.0316 - val_loss: 0.1239\n",
            "Epoch 58/80\n",
            "5/5 [==============================] - 0s 19ms/step - loss: 0.0317 - val_loss: 0.1347\n",
            "Epoch 59/80\n",
            "5/5 [==============================] - 0s 16ms/step - loss: 0.0317 - val_loss: 0.1364\n",
            "Epoch 60/80\n",
            "5/5 [==============================] - 0s 17ms/step - loss: 0.0317 - val_loss: 0.1376\n",
            "Epoch 61/80\n",
            "5/5 [==============================] - 0s 24ms/step - loss: 0.0313 - val_loss: 0.1513\n",
            "Epoch 62/80\n",
            "5/5 [==============================] - 0s 18ms/step - loss: 0.0277 - val_loss: 0.1700\n",
            "Epoch 63/80\n",
            "5/5 [==============================] - 0s 20ms/step - loss: 0.0287 - val_loss: 0.1750\n",
            "Epoch 64/80\n",
            "5/5 [==============================] - 0s 21ms/step - loss: 0.0313 - val_loss: 0.1599\n",
            "Epoch 65/80\n",
            "5/5 [==============================] - 0s 23ms/step - loss: 0.0292 - val_loss: 0.1522\n",
            "Epoch 66/80\n",
            "5/5 [==============================] - 0s 17ms/step - loss: 0.0285 - val_loss: 0.1760\n",
            "Epoch 67/80\n",
            "5/5 [==============================] - 0s 18ms/step - loss: 0.0298 - val_loss: 0.1878\n",
            "Epoch 68/80\n",
            "5/5 [==============================] - 0s 19ms/step - loss: 0.0362 - val_loss: 0.1941\n",
            "Epoch 69/80\n",
            "5/5 [==============================] - 0s 21ms/step - loss: 0.0356 - val_loss: 0.1978\n",
            "Epoch 70/80\n",
            "5/5 [==============================] - 0s 19ms/step - loss: 0.0312 - val_loss: 0.2461\n",
            "Epoch 71/80\n",
            "5/5 [==============================] - 0s 24ms/step - loss: 0.0309 - val_loss: 0.2194\n",
            "Epoch 72/80\n",
            "5/5 [==============================] - 0s 20ms/step - loss: 0.0347 - val_loss: 0.2256\n",
            "Epoch 73/80\n",
            "5/5 [==============================] - 0s 19ms/step - loss: 0.0336 - val_loss: 0.2179\n",
            "Epoch 74/80\n",
            "5/5 [==============================] - 0s 19ms/step - loss: 0.0279 - val_loss: 0.1539\n",
            "Epoch 75/80\n",
            "5/5 [==============================] - 0s 19ms/step - loss: 0.0320 - val_loss: 0.2436\n",
            "Epoch 76/80\n",
            "5/5 [==============================] - 0s 20ms/step - loss: 0.0318 - val_loss: 0.1766\n",
            "Epoch 77/80\n",
            "5/5 [==============================] - 0s 18ms/step - loss: 0.0269 - val_loss: 0.1842\n",
            "Epoch 78/80\n",
            "5/5 [==============================] - 0s 17ms/step - loss: 0.0280 - val_loss: 0.2789\n",
            "Epoch 79/80\n",
            "5/5 [==============================] - 0s 17ms/step - loss: 0.0279 - val_loss: 0.1961\n",
            "Epoch 80/80\n",
            "5/5 [==============================] - 0s 21ms/step - loss: 0.0270 - val_loss: 0.1996\n"
          ]
        }
      ]
    },
    {
      "cell_type": "code",
      "source": [
        "#One-step forecast using true targets\n",
        "outputs = model.predict(X)\n",
        "print(outputs.shape)\n",
        "predictions = outputs[:,0]\n",
        "\n",
        "plt.plot(Y, label='targets')\n",
        "plt.plot(predictions,label='predictions')\n",
        "plt.title(\"many-to-one RNN\")\n",
        "plt.legend()\n",
        "plt.show()"
      ],
      "metadata": {
        "colab": {
          "base_uri": "https://localhost:8080/",
          "height": 318
        },
        "id": "evNRXNau8q52",
        "outputId": "70a90d84-5066-4364-ef6d-89c56e3f94cf"
      },
      "execution_count": null,
      "outputs": [
        {
          "output_type": "stream",
          "name": "stdout",
          "text": [
            "10/10 [==============================] - 2s 7ms/step\n",
            "(308, 1)\n"
          ]
        },
        {
          "output_type": "display_data",
          "data": {
            "text/plain": [
              "<Figure size 432x288 with 1 Axes>"
            ],
            "image/png": "[encoded data removed]"
          },
          "metadata": {
            "needs_background": "light"
          }
        }
      ]
    },
    {
      "cell_type": "code",
      "source": [
        "#Mutli-step forecast\n",
        "validation_target = Y[-N//2:]\n",
        "validation_predictions = []\n",
        "\n",
        "#last train input\n",
        "last_x = X[-N//2] #1 - D array of lenght T\n",
        "\n",
        "while len(validation_predictions) < len(validation_target):\n",
        "  p = model.predict(last_x.reshape(1, T, 1))[0,0] #1x1 array -> scalar\n",
        "\n",
        "  #update the predictions list\n",
        "  validation_predictions.append(p)\n",
        "\n",
        "  #make the new input\n",
        "  last_x = np.roll(last_x, -1)\n",
        "  last_x[-1] = p\n",
        "\n",
        "plt.plot(validation_target, label = 'forecast target')\n",
        "plt.plot(validation_predictions, label ='forecast predictions')\n",
        "plt.legend()"
      ],
      "metadata": {
        "colab": {
          "base_uri": "https://localhost:8080/",
          "height": 1000
        },
        "id": "oxpWsCT_8veK",
        "outputId": "2a0b3ba1-5a71-48bc-c911-c1a0bc8689bf"
      },
      "execution_count": null,
      "outputs": [
        {
          "output_type": "stream",
          "name": "stdout",
          "text": [
            "1/1 [==============================] - 0s 57ms/step\n",
            "1/1 [==============================] - 0s 44ms/step\n",
            "1/1 [==============================] - 0s 37ms/step\n",
            "1/1 [==============================] - 0s 33ms/step\n",
            "1/1 [==============================] - 0s 34ms/step\n",
            "1/1 [==============================] - 0s 36ms/step\n",
            "1/1 [==============================] - 0s 41ms/step\n",
            "1/1 [==============================] - 0s 44ms/step\n",
            "1/1 [==============================] - 0s 32ms/step\n",
            "1/1 [==============================] - 0s 35ms/step\n",
            "1/1 [==============================] - 0s 33ms/step\n",
            "1/1 [==============================] - 0s 36ms/step\n",
            "1/1 [==============================] - 0s 64ms/step\n",
            "1/1 [==============================] - 0s 35ms/step\n",
            "1/1 [==============================] - 0s 36ms/step\n",
            "1/1 [==============================] - 0s 46ms/step\n",
            "1/1 [==============================] - 0s 49ms/step\n",
            "1/1 [==============================] - 0s 43ms/step\n",
            "1/1 [==============================] - 0s 28ms/step\n",
            "1/1 [==============================] - 0s 23ms/step\n",
            "1/1 [==============================] - 0s 25ms/step\n",
            "1/1 [==============================] - 0s 26ms/step\n",
            "1/1 [==============================] - 0s 25ms/step\n",
            "1/1 [==============================] - 0s 27ms/step\n",
            "1/1 [==============================] - 0s 29ms/step\n",
            "1/1 [==============================] - 0s 23ms/step\n",
            "1/1 [==============================] - 0s 26ms/step\n",
            "1/1 [==============================] - 0s 26ms/step\n",
            "1/1 [==============================] - 0s 26ms/step\n",
            "1/1 [==============================] - 0s 22ms/step\n",
            "1/1 [==============================] - 0s 22ms/step\n",
            "1/1 [==============================] - 0s 26ms/step\n",
            "1/1 [==============================] - 0s 26ms/step\n",
            "1/1 [==============================] - 0s 25ms/step\n",
            "1/1 [==============================] - 0s 22ms/step\n",
            "1/1 [==============================] - 0s 31ms/step\n",
            "1/1 [==============================] - 0s 31ms/step\n",
            "1/1 [==============================] - 0s 25ms/step\n",
            "1/1 [==============================] - 0s 29ms/step\n",
            "1/1 [==============================] - 0s 24ms/step\n",
            "1/1 [==============================] - 0s 23ms/step\n",
            "1/1 [==============================] - 0s 24ms/step\n",
            "1/1 [==============================] - 0s 24ms/step\n",
            "1/1 [==============================] - 0s 22ms/step\n",
            "1/1 [==============================] - 0s 30ms/step\n",
            "1/1 [==============================] - 0s 29ms/step\n",
            "1/1 [==============================] - 0s 27ms/step\n",
            "1/1 [==============================] - 0s 22ms/step\n",
            "1/1 [==============================] - 0s 25ms/step\n",
            "1/1 [==============================] - 0s 31ms/step\n",
            "1/1 [==============================] - 0s 23ms/step\n",
            "1/1 [==============================] - 0s 26ms/step\n",
            "1/1 [==============================] - 0s 29ms/step\n",
            "1/1 [==============================] - 0s 22ms/step\n",
            "1/1 [==============================] - 0s 22ms/step\n",
            "1/1 [==============================] - 0s 22ms/step\n",
            "1/1 [==============================] - 0s 25ms/step\n",
            "1/1 [==============================] - 0s 27ms/step\n",
            "1/1 [==============================] - 0s 23ms/step\n",
            "1/1 [==============================] - 0s 27ms/step\n",
            "1/1 [==============================] - 0s 23ms/step\n",
            "1/1 [==============================] - 0s 27ms/step\n",
            "1/1 [==============================] - 0s 25ms/step\n",
            "1/1 [==============================] - 0s 27ms/step\n",
            "1/1 [==============================] - 0s 22ms/step\n",
            "1/1 [==============================] - 0s 29ms/step\n",
            "1/1 [==============================] - 0s 28ms/step\n",
            "1/1 [==============================] - 0s 26ms/step\n",
            "1/1 [==============================] - 0s 27ms/step\n",
            "1/1 [==============================] - 0s 21ms/step\n",
            "1/1 [==============================] - 0s 23ms/step\n",
            "1/1 [==============================] - 0s 23ms/step\n",
            "1/1 [==============================] - 0s 25ms/step\n",
            "1/1 [==============================] - 0s 22ms/step\n",
            "1/1 [==============================] - 0s 22ms/step\n",
            "1/1 [==============================] - 0s 24ms/step\n",
            "1/1 [==============================] - 0s 25ms/step\n",
            "1/1 [==============================] - 0s 31ms/step\n",
            "1/1 [==============================] - 0s 22ms/step\n",
            "1/1 [==============================] - 0s 23ms/step\n",
            "1/1 [==============================] - 0s 22ms/step\n",
            "1/1 [==============================] - 0s 21ms/step\n",
            "1/1 [==============================] - 0s 22ms/step\n",
            "1/1 [==============================] - 0s 24ms/step\n",
            "1/1 [==============================] - 0s 23ms/step\n",
            "1/1 [==============================] - 0s 23ms/step\n",
            "1/1 [==============================] - 0s 26ms/step\n",
            "1/1 [==============================] - 0s 31ms/step\n",
            "1/1 [==============================] - 0s 23ms/step\n",
            "1/1 [==============================] - 0s 26ms/step\n",
            "1/1 [==============================] - 0s 25ms/step\n",
            "1/1 [==============================] - 0s 22ms/step\n",
            "1/1 [==============================] - 0s 22ms/step\n",
            "1/1 [==============================] - 0s 24ms/step\n",
            "1/1 [==============================] - 0s 26ms/step\n",
            "1/1 [==============================] - 0s 23ms/step\n",
            "1/1 [==============================] - 0s 27ms/step\n",
            "1/1 [==============================] - 0s 25ms/step\n",
            "1/1 [==============================] - 0s 26ms/step\n",
            "1/1 [==============================] - 0s 30ms/step\n",
            "1/1 [==============================] - 0s 22ms/step\n",
            "1/1 [==============================] - 0s 23ms/step\n",
            "1/1 [==============================] - 0s 21ms/step\n",
            "1/1 [==============================] - 0s 26ms/step\n",
            "1/1 [==============================] - 0s 27ms/step\n",
            "1/1 [==============================] - 0s 28ms/step\n",
            "1/1 [==============================] - 0s 24ms/step\n",
            "1/1 [==============================] - 0s 29ms/step\n",
            "1/1 [==============================] - 0s 25ms/step\n",
            "1/1 [==============================] - 0s 23ms/step\n",
            "1/1 [==============================] - 0s 25ms/step\n",
            "1/1 [==============================] - 0s 31ms/step\n",
            "1/1 [==============================] - 0s 23ms/step\n",
            "1/1 [==============================] - 0s 23ms/step\n",
            "1/1 [==============================] - 0s 26ms/step\n",
            "1/1 [==============================] - 0s 22ms/step\n",
            "1/1 [==============================] - 0s 22ms/step\n",
            "1/1 [==============================] - 0s 24ms/step\n",
            "1/1 [==============================] - 0s 23ms/step\n",
            "1/1 [==============================] - 0s 31ms/step\n",
            "1/1 [==============================] - 0s 22ms/step\n",
            "1/1 [==============================] - 0s 23ms/step\n",
            "1/1 [==============================] - 0s 23ms/step\n",
            "1/1 [==============================] - 0s 45ms/step\n",
            "1/1 [==============================] - 0s 40ms/step\n",
            "1/1 [==============================] - 0s 74ms/step\n",
            "1/1 [==============================] - 0s 42ms/step\n",
            "1/1 [==============================] - 0s 32ms/step\n",
            "1/1 [==============================] - 0s 60ms/step\n",
            "1/1 [==============================] - 0s 35ms/step\n",
            "1/1 [==============================] - 0s 48ms/step\n",
            "1/1 [==============================] - 0s 37ms/step\n",
            "1/1 [==============================] - 0s 30ms/step\n",
            "1/1 [==============================] - 0s 52ms/step\n",
            "1/1 [==============================] - 0s 58ms/step\n",
            "1/1 [==============================] - 0s 38ms/step\n",
            "1/1 [==============================] - 0s 30ms/step\n",
            "1/1 [==============================] - 0s 33ms/step\n",
            "1/1 [==============================] - 0s 45ms/step\n",
            "1/1 [==============================] - 0s 33ms/step\n",
            "1/1 [==============================] - 0s 33ms/step\n",
            "1/1 [==============================] - 0s 61ms/step\n",
            "1/1 [==============================] - 0s 36ms/step\n",
            "1/1 [==============================] - 0s 34ms/step\n",
            "1/1 [==============================] - 0s 38ms/step\n",
            "1/1 [==============================] - 0s 40ms/step\n",
            "1/1 [==============================] - 0s 40ms/step\n",
            "1/1 [==============================] - 0s 35ms/step\n",
            "1/1 [==============================] - 0s 35ms/step\n",
            "1/1 [==============================] - 0s 37ms/step\n",
            "1/1 [==============================] - 0s 38ms/step\n",
            "1/1 [==============================] - 0s 54ms/step\n",
            "1/1 [==============================] - 0s 35ms/step\n",
            "1/1 [==============================] - 0s 29ms/step\n"
          ]
        },
        {
          "output_type": "execute_result",
          "data": {
            "text/plain": [
              "<matplotlib.legend.Legend at 0x7f9e79b43790>"
            ]
          },
          "metadata": {},
          "execution_count": 15
        },
        {
          "output_type": "display_data",
          "data": {
            "text/plain": [
              "<Figure size 432x288 with 1 Axes>"
            ],
            "image/png": "[encoded data removed]"
          },
          "metadata": {
            "needs_background": "light"
          }
        }
      ]
    },
    {
      "cell_type": "code",
      "source": [
        "# calculate returns by first shifting the data\n",
        "df ['PrevMM'] = df['MM'].shift(1) # move everything up 1\n",
        "\n",
        "#so now it's like\n",
        "#close / prev close\n",
        "# x[2] x [1]\n",
        "# X[3] x [ 2]\n",
        "#...\n",
        "# x[t] x[t-1]"
      ],
      "metadata": {
        "id": "eVfVqbi984E2"
      },
      "execution_count": null,
      "outputs": []
    },
    {
      "cell_type": "code",
      "source": [
        "df.head() #Tomamos 10 para predecir el 11"
      ],
      "metadata": {
        "colab": {
          "base_uri": "https://localhost:8080/",
          "height": 237
        },
        "id": "TfvzGtqN9EuP",
        "outputId": "ff99216e-fd7d-4153-d06e-20beda5c5629"
      },
      "execution_count": null,
      "outputs": [
        {
          "output_type": "execute_result",
          "data": {
            "text/plain": [
              "               MM    WTI  BRENT      DJI     XAU  Oil C1  PrevMM\n",
              "Fecha                                                           \n",
              "1996-01-31  15.12  17.76  16.63  5395.30  406.45   17.74     NaN\n",
              "1996-02-29  16.82  19.59  18.80  5485.62  399.75   19.54   15.12\n",
              "1996-03-29  18.35  21.43  20.33  5587.14  395.45   21.47   16.82\n",
              "1996-04-30  17.61  20.95  19.50  5569.07  391.65   21.20   18.35\n",
              "1996-05-31  16.48  19.77  18.10  5643.17  391.00   19.76   17.61"
            ],
            "text/html": [
              "\n",
              "  <div id=\"df-3e76ba7d-bdb1-48fa-8b8a-b9f836eb25d1\">\n",
              "    <div class=\"colab-df-container\">\n",
              "      <div>\n",
              "<style scoped>\n",
              "    .dataframe tbody tr th:only-of-type {\n",
              "        vertical-align: middle;\n",
              "    }\n",
              "\n",
              "    .dataframe tbody tr th {\n",
              "        vertical-align: top;\n",
              "    }\n",
              "\n",
              "    .dataframe thead th {\n",
              "        text-align: right;\n",
              "    }\n",
              "</style>\n",
              "<table border=\"1\" class=\"dataframe\">\n",
              "  <thead>\n",
              "    <tr style=\"text-align: right;\">\n",
              "      <th></th>\n",
              "      <th>MM</th>\n",
              "      <th>WTI</th>\n",
              "      <th>BRENT</th>\n",
              "      <th>DJI</th>\n",
              "      <th>XAU</th>\n",
              "      <th>Oil C1</th>\n",
              "      <th>PrevMM</th>\n",
              "    </tr>\n",
              "    <tr>\n",
              "      <th>Fecha</th>\n",
              "      <th></th>\n",
              "      <th></th>\n",
              "      <th></th>\n",
              "      <th></th>\n",
              "      <th></th>\n",
              "      <th></th>\n",
              "      <th></th>\n",
              "    </tr>\n",
              "  </thead>\n",
              "  <tbody>\n",
              "    <tr>\n",
              "      <th>1996-01-31</th>\n",
              "      <td>15.12</td>\n",
              "      <td>17.76</td>\n",
              "      <td>16.63</td>\n",
              "      <td>5395.30</td>\n",
              "      <td>406.45</td>\n",
              "      <td>17.74</td>\n",
              "      <td>NaN</td>\n",
              "    </tr>\n",
              "    <tr>\n",
              "      <th>1996-02-29</th>\n",
              "      <td>16.82</td>\n",
              "      <td>19.59</td>\n",
              "      <td>18.80</td>\n",
              "      <td>5485.62</td>\n",
              "      <td>399.75</td>\n",
              "      <td>19.54</td>\n",
              "      <td>15.12</td>\n",
              "    </tr>\n",
              "    <tr>\n",
              "      <th>1996-03-29</th>\n",
              "      <td>18.35</td>\n",
              "      <td>21.43</td>\n",
              "      <td>20.33</td>\n",
              "      <td>5587.14</td>\n",
              "      <td>395.45</td>\n",
              "      <td>21.47</td>\n",
              "      <td>16.82</td>\n",
              "    </tr>\n",
              "    <tr>\n",
              "      <th>1996-04-30</th>\n",
              "      <td>17.61</td>\n",
              "      <td>20.95</td>\n",
              "      <td>19.50</td>\n",
              "      <td>5569.07</td>\n",
              "      <td>391.65</td>\n",
              "      <td>21.20</td>\n",
              "      <td>18.35</td>\n",
              "    </tr>\n",
              "    <tr>\n",
              "      <th>1996-05-31</th>\n",
              "      <td>16.48</td>\n",
              "      <td>19.77</td>\n",
              "      <td>18.10</td>\n",
              "      <td>5643.17</td>\n",
              "      <td>391.00</td>\n",
              "      <td>19.76</td>\n",
              "      <td>17.61</td>\n",
              "    </tr>\n",
              "  </tbody>\n",
              "</table>\n",
              "</div>\n",
              "      <button class=\"colab-df-convert\" onclick=\"convertToInteractive('df-3e76ba7d-bdb1-48fa-8b8a-b9f836eb25d1')\"\n",
              "              title=\"Convert this dataframe to an interactive table.\"\n",
              "              style=\"display:none;\">\n",
              "        \n",
              "  <svg xmlns=\"http://www.w3.org/2000/svg\" height=\"24px\"viewBox=\"0 0 24 24\"\n",
              "       width=\"24px\">\n",
              "    <path d=\"M0 0h24v24H0V0z\" fill=\"none\"/>\n",
              "    <path d=\"M18.56 5.44l.94 2.06.94-2.06 2.06-.94-2.06-.94-.94-2.06-.94 2.06-2.06.94zm-11 1L8.5 8.5l.94-2.06 2.06-.94-2.06-.94L8.5 2.5l-.94 2.06-2.06.94zm10 10l.94 2.06.94-2.06 2.06-.94-2.06-.94-.94-2.06-.94 2.06-2.06.94z\"/><path d=\"M17.41 7.96l-1.37-1.37c-.4-.4-.92-.59-1.43-.59-.52 0-1.04.2-1.43.59L10.3 9.45l-7.72 7.72c-.78.78-.78 2.05 0 2.83L4 21.41c.39.39.9.59 1.41.59.51 0 1.02-.2 1.41-.59l7.78-7.78 2.81-2.81c.8-.78.8-2.07 0-2.86zM5.41 20L4 18.59l7.72-7.72 1.47 1.35L5.41 20z\"/>\n",
              "  </svg>\n",
              "      </button>\n",
              "      \n",
              "  <style>\n",
              "    .colab-df-container {\n",
              "      display:flex;\n",
              "      flex-wrap:wrap;\n",
              "      gap: 12px;\n",
              "    }\n",
              "\n",
              "    .colab-df-convert {\n",
              "      background-color: #E8F0FE;\n",
              "      border: none;\n",
              "      border-radius: 50%;\n",
              "      cursor: pointer;\n",
              "      display: none;\n",
              "      fill: #1967D2;\n",
              "      height: 32px;\n",
              "      padding: 0 0 0 0;\n",
              "      width: 32px;\n",
              "    }\n",
              "\n",
              "    .colab-df-convert:hover {\n",
              "      background-color: #E2EBFA;\n",
              "      box-shadow: 0px 1px 2px rgba(60, 64, 67, 0.3), 0px 1px 3px 1px rgba(60, 64, 67, 0.15);\n",
              "      fill: #174EA6;\n",
              "    }\n",
              "\n",
              "    [theme=dark] .colab-df-convert {\n",
              "      background-color: #3B4455;\n",
              "      fill: #D2E3FC;\n",
              "    }\n",
              "\n",
              "    [theme=dark] .colab-df-convert:hover {\n",
              "      background-color: #434B5C;\n",
              "      box-shadow: 0px 1px 3px 1px rgba(0, 0, 0, 0.15);\n",
              "      filter: drop-shadow(0px 1px 2px rgba(0, 0, 0, 0.3));\n",
              "      fill: #FFFFFF;\n",
              "    }\n",
              "  </style>\n",
              "\n",
              "      <script>\n",
              "        const buttonEl =\n",
              "          document.querySelector('#df-3e76ba7d-bdb1-48fa-8b8a-b9f836eb25d1 button.colab-df-convert');\n",
              "        buttonEl.style.display =\n",
              "          google.colab.kernel.accessAllowed ? 'block' : 'none';\n",
              "\n",
              "        async function convertToInteractive(key) {\n",
              "          const element = document.querySelector('#df-3e76ba7d-bdb1-48fa-8b8a-b9f836eb25d1');\n",
              "          const dataTable =\n",
              "            await google.colab.kernel.invokeFunction('convertToInteractive',\n",
              "                                                     [key], {});\n",
              "          if (!dataTable) return;\n",
              "\n",
              "          const docLinkHtml = 'Like what you see? Visit the ' +\n",
              "            '<a target=\"_blank\" href=https://colab.research.google.com/notebooks/data_table.ipynb>data table notebook</a>'\n",
              "            + ' to learn more about interactive tables.';\n",
              "          element.innerHTML = '';\n",
              "          dataTable['output_type'] = 'display_data';\n",
              "          await google.colab.output.renderOutput(dataTable, element);\n",
              "          const docLink = document.createElement('div');\n",
              "          docLink.innerHTML = docLinkHtml;\n",
              "          element.appendChild(docLink);\n",
              "        }\n",
              "      </script>\n",
              "    </div>\n",
              "  </div>\n",
              "  "
            ]
          },
          "metadata": {},
          "execution_count": 17
        }
      ]
    },
    {
      "cell_type": "code",
      "source": [
        "# Then the return is\n",
        "# (x[t] - x[t-1]) / x[t-1]\n",
        "df['Return'] = (df['MM'] - df['PrevMM']) / df['PrevMM']"
      ],
      "metadata": {
        "id": "t9yQKvfO9Gua"
      },
      "execution_count": null,
      "outputs": []
    },
    {
      "cell_type": "code",
      "source": [
        "df.head()"
      ],
      "metadata": {
        "colab": {
          "base_uri": "https://localhost:8080/",
          "height": 237
        },
        "id": "iRbCnbRA9NV3",
        "outputId": "170dac2f-476a-42e8-f1b9-f2ace4454138"
      },
      "execution_count": null,
      "outputs": [
        {
          "output_type": "execute_result",
          "data": {
            "text/plain": [
              "               MM    WTI  BRENT      DJI     XAU  Oil C1  PrevMM    Return\n",
              "Fecha                                                                     \n",
              "1996-01-31  15.12  17.76  16.63  5395.30  406.45   17.74     NaN       NaN\n",
              "1996-02-29  16.82  19.59  18.80  5485.62  399.75   19.54   15.12  0.112434\n",
              "1996-03-29  18.35  21.43  20.33  5587.14  395.45   21.47   16.82  0.090963\n",
              "1996-04-30  17.61  20.95  19.50  5569.07  391.65   21.20   18.35 -0.040327\n",
              "1996-05-31  16.48  19.77  18.10  5643.17  391.00   19.76   17.61 -0.064168"
            ],
            "text/html": [
              "\n",
              "  <div id=\"df-1df20e72-465a-40fd-abb9-5270ce8fdd35\">\n",
              "    <div class=\"colab-df-container\">\n",
              "      <div>\n",
              "<style scoped>\n",
              "    .dataframe tbody tr th:only-of-type {\n",
              "        vertical-align: middle;\n",
              "    }\n",
              "\n",
              "    .dataframe tbody tr th {\n",
              "        vertical-align: top;\n",
              "    }\n",
              "\n",
              "    .dataframe thead th {\n",
              "        text-align: right;\n",
              "    }\n",
              "</style>\n",
              "<table border=\"1\" class=\"dataframe\">\n",
              "  <thead>\n",
              "    <tr style=\"text-align: right;\">\n",
              "      <th></th>\n",
              "      <th>MM</th>\n",
              "      <th>WTI</th>\n",
              "      <th>BRENT</th>\n",
              "      <th>DJI</th>\n",
              "      <th>XAU</th>\n",
              "      <th>Oil C1</th>\n",
              "      <th>PrevMM</th>\n",
              "      <th>Return</th>\n",
              "    </tr>\n",
              "    <tr>\n",
              "      <th>Fecha</th>\n",
              "      <th></th>\n",
              "      <th></th>\n",
              "      <th></th>\n",
              "      <th></th>\n",
              "      <th></th>\n",
              "      <th></th>\n",
              "      <th></th>\n",
              "      <th></th>\n",
              "    </tr>\n",
              "  </thead>\n",
              "  <tbody>\n",
              "    <tr>\n",
              "      <th>1996-01-31</th>\n",
              "      <td>15.12</td>\n",
              "      <td>17.76</td>\n",
              "      <td>16.63</td>\n",
              "      <td>5395.30</td>\n",
              "      <td>406.45</td>\n",
              "      <td>17.74</td>\n",
              "      <td>NaN</td>\n",
              "      <td>NaN</td>\n",
              "    </tr>\n",
              "    <tr>\n",
              "      <th>1996-02-29</th>\n",
              "      <td>16.82</td>\n",
              "      <td>19.59</td>\n",
              "      <td>18.80</td>\n",
              "      <td>5485.62</td>\n",
              "      <td>399.75</td>\n",
              "      <td>19.54</td>\n",
              "      <td>15.12</td>\n",
              "      <td>0.112434</td>\n",
              "    </tr>\n",
              "    <tr>\n",
              "      <th>1996-03-29</th>\n",
              "      <td>18.35</td>\n",
              "      <td>21.43</td>\n",
              "      <td>20.33</td>\n",
              "      <td>5587.14</td>\n",
              "      <td>395.45</td>\n",
              "      <td>21.47</td>\n",
              "      <td>16.82</td>\n",
              "      <td>0.090963</td>\n",
              "    </tr>\n",
              "    <tr>\n",
              "      <th>1996-04-30</th>\n",
              "      <td>17.61</td>\n",
              "      <td>20.95</td>\n",
              "      <td>19.50</td>\n",
              "      <td>5569.07</td>\n",
              "      <td>391.65</td>\n",
              "      <td>21.20</td>\n",
              "      <td>18.35</td>\n",
              "      <td>-0.040327</td>\n",
              "    </tr>\n",
              "    <tr>\n",
              "      <th>1996-05-31</th>\n",
              "      <td>16.48</td>\n",
              "      <td>19.77</td>\n",
              "      <td>18.10</td>\n",
              "      <td>5643.17</td>\n",
              "      <td>391.00</td>\n",
              "      <td>19.76</td>\n",
              "      <td>17.61</td>\n",
              "      <td>-0.064168</td>\n",
              "    </tr>\n",
              "  </tbody>\n",
              "</table>\n",
              "</div>\n",
              "      <button class=\"colab-df-convert\" onclick=\"convertToInteractive('df-1df20e72-465a-40fd-abb9-5270ce8fdd35')\"\n",
              "              title=\"Convert this dataframe to an interactive table.\"\n",
              "              style=\"display:none;\">\n",
              "        \n",
              "  <svg xmlns=\"http://www.w3.org/2000/svg\" height=\"24px\"viewBox=\"0 0 24 24\"\n",
              "       width=\"24px\">\n",
              "    <path d=\"M0 0h24v24H0V0z\" fill=\"none\"/>\n",
              "    <path d=\"M18.56 5.44l.94 2.06.94-2.06 2.06-.94-2.06-.94-.94-2.06-.94 2.06-2.06.94zm-11 1L8.5 8.5l.94-2.06 2.06-.94-2.06-.94L8.5 2.5l-.94 2.06-2.06.94zm10 10l.94 2.06.94-2.06 2.06-.94-2.06-.94-.94-2.06-.94 2.06-2.06.94z\"/><path d=\"M17.41 7.96l-1.37-1.37c-.4-.4-.92-.59-1.43-.59-.52 0-1.04.2-1.43.59L10.3 9.45l-7.72 7.72c-.78.78-.78 2.05 0 2.83L4 21.41c.39.39.9.59 1.41.59.51 0 1.02-.2 1.41-.59l7.78-7.78 2.81-2.81c.8-.78.8-2.07 0-2.86zM5.41 20L4 18.59l7.72-7.72 1.47 1.35L5.41 20z\"/>\n",
              "  </svg>\n",
              "      </button>\n",
              "      \n",
              "  <style>\n",
              "    .colab-df-container {\n",
              "      display:flex;\n",
              "      flex-wrap:wrap;\n",
              "      gap: 12px;\n",
              "    }\n",
              "\n",
              "    .colab-df-convert {\n",
              "      background-color: #E8F0FE;\n",
              "      border: none;\n",
              "      border-radius: 50%;\n",
              "      cursor: pointer;\n",
              "      display: none;\n",
              "      fill: #1967D2;\n",
              "      height: 32px;\n",
              "      padding: 0 0 0 0;\n",
              "      width: 32px;\n",
              "    }\n",
              "\n",
              "    .colab-df-convert:hover {\n",
              "      background-color: #E2EBFA;\n",
              "      box-shadow: 0px 1px 2px rgba(60, 64, 67, 0.3), 0px 1px 3px 1px rgba(60, 64, 67, 0.15);\n",
              "      fill: #174EA6;\n",
              "    }\n",
              "\n",
              "    [theme=dark] .colab-df-convert {\n",
              "      background-color: #3B4455;\n",
              "      fill: #D2E3FC;\n",
              "    }\n",
              "\n",
              "    [theme=dark] .colab-df-convert:hover {\n",
              "      background-color: #434B5C;\n",
              "      box-shadow: 0px 1px 3px 1px rgba(0, 0, 0, 0.15);\n",
              "      filter: drop-shadow(0px 1px 2px rgba(0, 0, 0, 0.3));\n",
              "      fill: #FFFFFF;\n",
              "    }\n",
              "  </style>\n",
              "\n",
              "      <script>\n",
              "        const buttonEl =\n",
              "          document.querySelector('#df-1df20e72-465a-40fd-abb9-5270ce8fdd35 button.colab-df-convert');\n",
              "        buttonEl.style.display =\n",
              "          google.colab.kernel.accessAllowed ? 'block' : 'none';\n",
              "\n",
              "        async function convertToInteractive(key) {\n",
              "          const element = document.querySelector('#df-1df20e72-465a-40fd-abb9-5270ce8fdd35');\n",
              "          const dataTable =\n",
              "            await google.colab.kernel.invokeFunction('convertToInteractive',\n",
              "                                                     [key], {});\n",
              "          if (!dataTable) return;\n",
              "\n",
              "          const docLinkHtml = 'Like what you see? Visit the ' +\n",
              "            '<a target=\"_blank\" href=https://colab.research.google.com/notebooks/data_table.ipynb>data table notebook</a>'\n",
              "            + ' to learn more about interactive tables.';\n",
              "          element.innerHTML = '';\n",
              "          dataTable['output_type'] = 'display_data';\n",
              "          await google.colab.output.renderOutput(dataTable, element);\n",
              "          const docLink = document.createElement('div');\n",
              "          docLink.innerHTML = docLinkHtml;\n",
              "          element.appendChild(docLink);\n",
              "        }\n",
              "      </script>\n",
              "    </div>\n",
              "  </div>\n",
              "  "
            ]
          },
          "metadata": {},
          "execution_count": 20
        }
      ]
    },
    {
      "cell_type": "code",
      "source": [
        "# NOw let's try an LSTM to predict returns\n",
        "df['Return'].hist()"
      ],
      "metadata": {
        "colab": {
          "base_uri": "https://localhost:8080/",
          "height": 283
        },
        "id": "fANjtT-v9JdA",
        "outputId": "7b9ab866-9245-47fe-b77d-6ab0f89d4268"
      },
      "execution_count": null,
      "outputs": [
        {
          "output_type": "execute_result",
          "data": {
            "text/plain": [
              "<matplotlib.axes._subplots.AxesSubplot at 0x7f9e78028390>"
            ]
          },
          "metadata": {},
          "execution_count": 21
        },
        {
          "output_type": "display_data",
          "data": {
            "text/plain": [
              "<Figure size 432x288 with 1 Axes>"
            ],
            "image/png": "[encoded data removed]"
          },
          "metadata": {
            "needs_background": "light"
          }
        }
      ]
    },
    {
      "cell_type": "code",
      "source": [
        "series = df['Return'].values[1:].reshape(-1,1)\n",
        "\n",
        "#Normaize the data \n",
        "#NOte: I didn't think about where the true boundary is, this is just approx.\n",
        "scaler = StandardScaler() # z = (x - u) / s // if with_mean = False => u(mean) = 0  // if with_std = False => s(std desv) = 1 // x is the sample \n",
        "scaler.fit(series[:len(series) // 2]) #usamos el fit function solo en la primera mitad de la serie. Esto es porque no queremos incluir el test data in el training pipeline //normaliza la primera mitad de los datos\n",
        "series = scaler.transform(series).flatten() #copy a given array an collapsed into one dimmension"
      ],
      "metadata": {
        "id": "4IDwhvn29QDc"
      },
      "execution_count": null,
      "outputs": []
    },
    {
      "cell_type": "code",
      "source": [
        "### build the dataset \n",
        "# let's see if we can use t past values to predict the next value\n",
        "\n",
        "T = 10\n",
        "D = 1\n",
        "X = []\n",
        "Y = []\n",
        "for t in range(len(series)- T): #lo que mida la serie -10\n",
        "  x = series[t:t+T] # cuando t = 1, entonces corre de 1 a 11, cuando es 2 , corre de 2 a 12 ya si (en la primera iteración irá de 0 a 9 porque T =10)\n",
        "  X.append(x)  #Se anexa el x al final \n",
        "  y = series[t+T]  #si t  = 3 entonces es 13. i.e. se busca la observación 13 estando en el 3.\n",
        "  Y.append(y) #Se anexa el y al final\n",
        "\n",
        "X = np.array(X).reshape(-1, T, 1) #NOw the data should be N x T x D #Una vez que tienes un array, ahora transpones los arrays de tal forma que tenga T(osea 10) cada una, los -1 sirven si no sabes cuando hay en algo pero la pc los acomoda automaticamente\n",
        "Y = np.array(Y) #Se crea un array con los valore Y\n",
        "N = len(X) #el número de items en X\n",
        "print(\"X.shape\", X.shape, \"Y.shape\", Y.shape)\n",
        "\n",
        "# N = number of samples\n",
        "# T = sequence length\n",
        "# D = number of input features\n",
        "# M = number of hideen units \n",
        "# K = number of output units"
      ],
      "metadata": {
        "colab": {
          "base_uri": "https://localhost:8080/"
        },
        "id": "RdqQD3VA9S1t",
        "outputId": "e6feb301-9a0d-4906-dd2b-38424eed83c3"
      },
      "execution_count": null,
      "outputs": [
        {
          "output_type": "stream",
          "name": "stdout",
          "text": [
            "X.shape (307, 10, 1) Y.shape (307,)\n"
          ]
        }
      ]
    },
    {
      "cell_type": "code",
      "source": [
        "#try autoregressive RNN model []\n",
        "i = Input(shape=(T,1)) #es solo poner una entrada, en este caso 10 porque es la primera capa y uno busca un AR(10) #Aca si se pone (T,1)\n",
        "x = LSTM(5)(i) #simpleRNN(5,activation='relu')(i) # el por defecto es un tanh\n",
        "x = Dense(1)(x) #final layer is one #solo es una capa. \n",
        "model = Model(i, x)\n",
        "model.compile(\n",
        "    loss='mse',\n",
        "    optimizer=Adam(learning_rate=0.1),\n",
        ")\n",
        "\n",
        "# train the RNN\n",
        "r = model.fit(\n",
        "  X[:-N//2], Y[:-N//2], # si fuera _1 , signfica que la borra la última observacion,entonces -N borra todo pero //2 significa que toma última mitad de los datos\n",
        "  epochs = 80,\n",
        "  validation_data=(X[-N//2:], Y[-N//2:]), #valida con los mismos datos\n",
        ")\n",
        "\n",
        "# Select the last element in the list\n",
        "# (the slice starts at the last element, and ends at the end of the list)"
      ],
      "metadata": {
        "colab": {
          "base_uri": "https://localhost:8080/"
        },
        "id": "IUx_Lqkg9Ub8",
        "outputId": "ebad60e1-55d8-432e-b343-30fd7097dcc9"
      },
      "execution_count": null,
      "outputs": [
        {
          "output_type": "stream",
          "name": "stdout",
          "text": [
            "Epoch 1/80\n",
            "5/5 [==============================] - 4s 156ms/step - loss: 1.0974 - val_loss: 1.8614\n",
            "Epoch 2/80\n",
            "5/5 [==============================] - 0s 15ms/step - loss: 1.0540 - val_loss: 1.8346\n",
            "Epoch 3/80\n",
            "5/5 [==============================] - 0s 18ms/step - loss: 1.0759 - val_loss: 1.8245\n",
            "Epoch 4/80\n",
            "5/5 [==============================] - 0s 16ms/step - loss: 1.0561 - val_loss: 1.8374\n",
            "Epoch 5/80\n",
            "5/5 [==============================] - 0s 16ms/step - loss: 1.0403 - val_loss: 1.8455\n",
            "Epoch 6/80\n",
            "5/5 [==============================] - 0s 18ms/step - loss: 1.0289 - val_loss: 1.8686\n",
            "Epoch 7/80\n",
            "5/5 [==============================] - 0s 18ms/step - loss: 1.0250 - val_loss: 1.8670\n",
            "Epoch 8/80\n",
            "5/5 [==============================] - 0s 20ms/step - loss: 1.0280 - val_loss: 1.8812\n",
            "Epoch 9/80\n",
            "5/5 [==============================] - 0s 24ms/step - loss: 0.9773 - val_loss: 1.8892\n",
            "Epoch 10/80\n",
            "5/5 [==============================] - 0s 21ms/step - loss: 0.9725 - val_loss: 1.9439\n",
            "Epoch 11/80\n",
            "5/5 [==============================] - 0s 18ms/step - loss: 0.9429 - val_loss: 1.8923\n",
            "Epoch 12/80\n",
            "5/5 [==============================] - 0s 18ms/step - loss: 0.9270 - val_loss: 1.9328\n",
            "Epoch 13/80\n",
            "5/5 [==============================] - 0s 20ms/step - loss: 0.8836 - val_loss: 1.9692\n",
            "Epoch 14/80\n",
            "5/5 [==============================] - 0s 27ms/step - loss: 0.8855 - val_loss: 2.0117\n",
            "Epoch 15/80\n",
            "5/5 [==============================] - 0s 17ms/step - loss: 0.8288 - val_loss: 2.0554\n",
            "Epoch 16/80\n",
            "5/5 [==============================] - 0s 17ms/step - loss: 0.8814 - val_loss: 1.9949\n",
            "Epoch 17/80\n",
            "5/5 [==============================] - 0s 18ms/step - loss: 0.8525 - val_loss: 1.9623\n",
            "Epoch 18/80\n",
            "5/5 [==============================] - 0s 15ms/step - loss: 0.8123 - val_loss: 1.9722\n",
            "Epoch 19/80\n",
            "5/5 [==============================] - 0s 16ms/step - loss: 0.8153 - val_loss: 1.9504\n",
            "Epoch 20/80\n",
            "5/5 [==============================] - 0s 32ms/step - loss: 0.8015 - val_loss: 1.8363\n",
            "Epoch 21/80\n",
            "5/5 [==============================] - 0s 21ms/step - loss: 0.7935 - val_loss: 1.8316\n",
            "Epoch 22/80\n",
            "5/5 [==============================] - 0s 23ms/step - loss: 0.7833 - val_loss: 1.8349\n",
            "Epoch 23/80\n",
            "5/5 [==============================] - 0s 20ms/step - loss: 0.7166 - val_loss: 1.9318\n",
            "Epoch 24/80\n",
            "5/5 [==============================] - 0s 20ms/step - loss: 0.7316 - val_loss: 1.9507\n",
            "Epoch 25/80\n",
            "5/5 [==============================] - 0s 19ms/step - loss: 0.7315 - val_loss: 1.9684\n",
            "Epoch 26/80\n",
            "5/5 [==============================] - 0s 21ms/step - loss: 0.8481 - val_loss: 2.0216\n",
            "Epoch 27/80\n",
            "5/5 [==============================] - 0s 23ms/step - loss: 0.7733 - val_loss: 2.0060\n",
            "Epoch 28/80\n",
            "5/5 [==============================] - 0s 20ms/step - loss: 0.7171 - val_loss: 2.0761\n",
            "Epoch 29/80\n",
            "5/5 [==============================] - 0s 21ms/step - loss: 0.7341 - val_loss: 2.0084\n",
            "Epoch 30/80\n",
            "5/5 [==============================] - 0s 23ms/step - loss: 0.6825 - val_loss: 1.9874\n",
            "Epoch 31/80\n",
            "5/5 [==============================] - 0s 23ms/step - loss: 0.6904 - val_loss: 1.9361\n",
            "Epoch 32/80\n",
            "5/5 [==============================] - 0s 21ms/step - loss: 0.6647 - val_loss: 1.9120\n",
            "Epoch 33/80\n",
            "5/5 [==============================] - 0s 22ms/step - loss: 0.6570 - val_loss: 1.9007\n",
            "Epoch 34/80\n",
            "5/5 [==============================] - 0s 23ms/step - loss: 0.6518 - val_loss: 1.8902\n",
            "Epoch 35/80\n",
            "5/5 [==============================] - 0s 22ms/step - loss: 0.6713 - val_loss: 1.8975\n",
            "Epoch 36/80\n",
            "5/5 [==============================] - 0s 21ms/step - loss: 0.6583 - val_loss: 1.9250\n",
            "Epoch 37/80\n",
            "5/5 [==============================] - 0s 22ms/step - loss: 0.7241 - val_loss: 2.0629\n",
            "Epoch 38/80\n",
            "5/5 [==============================] - 0s 31ms/step - loss: 0.6631 - val_loss: 1.9670\n",
            "Epoch 39/80\n",
            "5/5 [==============================] - 0s 22ms/step - loss: 0.6236 - val_loss: 2.0262\n",
            "Epoch 40/80\n",
            "5/5 [==============================] - 0s 21ms/step - loss: 0.6066 - val_loss: 1.8807\n",
            "Epoch 41/80\n",
            "5/5 [==============================] - 0s 33ms/step - loss: 0.5657 - val_loss: 1.9477\n",
            "Epoch 42/80\n",
            "5/5 [==============================] - 0s 21ms/step - loss: 0.5681 - val_loss: 1.9637\n",
            "Epoch 43/80\n",
            "5/5 [==============================] - 0s 22ms/step - loss: 0.5336 - val_loss: 2.0829\n",
            "Epoch 44/80\n",
            "5/5 [==============================] - 0s 20ms/step - loss: 0.5883 - val_loss: 2.0493\n",
            "Epoch 45/80\n",
            "5/5 [==============================] - 0s 18ms/step - loss: 0.6048 - val_loss: 2.0545\n",
            "Epoch 46/80\n",
            "5/5 [==============================] - 0s 14ms/step - loss: 0.5994 - val_loss: 2.0109\n",
            "Epoch 47/80\n",
            "5/5 [==============================] - 0s 15ms/step - loss: 0.5787 - val_loss: 2.0687\n",
            "Epoch 48/80\n",
            "5/5 [==============================] - 0s 14ms/step - loss: 0.5607 - val_loss: 2.0292\n",
            "Epoch 49/80\n",
            "5/5 [==============================] - 0s 19ms/step - loss: 0.5472 - val_loss: 2.0695\n",
            "Epoch 50/80\n",
            "5/5 [==============================] - 0s 14ms/step - loss: 0.5596 - val_loss: 2.0674\n",
            "Epoch 51/80\n",
            "5/5 [==============================] - 0s 18ms/step - loss: 0.5750 - val_loss: 2.0289\n",
            "Epoch 52/80\n",
            "5/5 [==============================] - 0s 17ms/step - loss: 0.6549 - val_loss: 2.0899\n",
            "Epoch 53/80\n",
            "5/5 [==============================] - 0s 15ms/step - loss: 0.5929 - val_loss: 2.0700\n",
            "Epoch 54/80\n",
            "5/5 [==============================] - 0s 14ms/step - loss: 0.5896 - val_loss: 2.0808\n",
            "Epoch 55/80\n",
            "5/5 [==============================] - 0s 17ms/step - loss: 0.6091 - val_loss: 2.0258\n",
            "Epoch 56/80\n",
            "5/5 [==============================] - 0s 14ms/step - loss: 0.5765 - val_loss: 2.1269\n",
            "Epoch 57/80\n",
            "5/5 [==============================] - 0s 16ms/step - loss: 0.5834 - val_loss: 2.1471\n",
            "Epoch 58/80\n",
            "5/5 [==============================] - 0s 16ms/step - loss: 0.6006 - val_loss: 2.1292\n",
            "Epoch 59/80\n",
            "5/5 [==============================] - 0s 15ms/step - loss: 0.5769 - val_loss: 1.9267\n",
            "Epoch 60/80\n",
            "5/5 [==============================] - 0s 15ms/step - loss: 0.6542 - val_loss: 2.0309\n",
            "Epoch 61/80\n",
            "5/5 [==============================] - 0s 17ms/step - loss: 0.5757 - val_loss: 2.0381\n",
            "Epoch 62/80\n",
            "5/5 [==============================] - 0s 16ms/step - loss: 0.5844 - val_loss: 2.0324\n",
            "Epoch 63/80\n",
            "5/5 [==============================] - 0s 15ms/step - loss: 0.5344 - val_loss: 2.0286\n",
            "Epoch 64/80\n",
            "5/5 [==============================] - 0s 15ms/step - loss: 0.5350 - val_loss: 2.0893\n",
            "Epoch 65/80\n",
            "5/5 [==============================] - 0s 18ms/step - loss: 0.4765 - val_loss: 2.1504\n",
            "Epoch 66/80\n",
            "5/5 [==============================] - 0s 14ms/step - loss: 0.4779 - val_loss: 2.1383\n",
            "Epoch 67/80\n",
            "5/5 [==============================] - 0s 17ms/step - loss: 0.5398 - val_loss: 2.1957\n",
            "Epoch 68/80\n",
            "5/5 [==============================] - 0s 17ms/step - loss: 0.6432 - val_loss: 2.1778\n",
            "Epoch 69/80\n",
            "5/5 [==============================] - 0s 15ms/step - loss: 0.7026 - val_loss: 2.1212\n",
            "Epoch 70/80\n",
            "5/5 [==============================] - 0s 17ms/step - loss: 0.8350 - val_loss: 2.0554\n",
            "Epoch 71/80\n",
            "5/5 [==============================] - 0s 14ms/step - loss: 0.6924 - val_loss: 1.9523\n",
            "Epoch 72/80\n",
            "5/5 [==============================] - 0s 16ms/step - loss: 0.6012 - val_loss: 1.9615\n",
            "Epoch 73/80\n",
            "5/5 [==============================] - 0s 15ms/step - loss: 0.6156 - val_loss: 2.1378\n",
            "Epoch 74/80\n",
            "5/5 [==============================] - 0s 14ms/step - loss: 0.6056 - val_loss: 2.0774\n",
            "Epoch 75/80\n",
            "5/5 [==============================] - 0s 16ms/step - loss: 0.6607 - val_loss: 2.0285\n",
            "Epoch 76/80\n",
            "5/5 [==============================] - 0s 14ms/step - loss: 0.5693 - val_loss: 1.9062\n",
            "Epoch 77/80\n",
            "5/5 [==============================] - 0s 14ms/step - loss: 0.6626 - val_loss: 1.7760\n",
            "Epoch 78/80\n",
            "5/5 [==============================] - 0s 19ms/step - loss: 0.6844 - val_loss: 2.0136\n",
            "Epoch 79/80\n",
            "5/5 [==============================] - 0s 16ms/step - loss: 0.8208 - val_loss: 1.8421\n",
            "Epoch 80/80\n",
            "5/5 [==============================] - 0s 14ms/step - loss: 0.8820 - val_loss: 1.7352\n"
          ]
        }
      ]
    },
    {
      "cell_type": "code",
      "source": [
        "#Plot loss per iteration\n",
        "import matplotlib.pyplot as plt\n",
        "plt.plot(r.history['loss'], label='loss')\n",
        "plt.plot(r.history['val_loss'], label = 'val_loss')\n",
        "plt.legend()"
      ],
      "metadata": {
        "colab": {
          "base_uri": "https://localhost:8080/",
          "height": 284
        },
        "id": "idyh1HY_9Xqg",
        "outputId": "c899a2d9-0c53-4115-f14f-173b0cd0d33c"
      },
      "execution_count": null,
      "outputs": [
        {
          "output_type": "execute_result",
          "data": {
            "text/plain": [
              "<matplotlib.legend.Legend at 0x7f9e7668cf10>"
            ]
          },
          "metadata": {},
          "execution_count": 26
        },
        {
          "output_type": "display_data",
          "data": {
            "text/plain": [
              "<Figure size 432x288 with 1 Axes>"
            ],
            "image/png": "[encoded data removed]"
          },
          "metadata": {
            "needs_background": "light"
          }
        }
      ]
    },
    {
      "cell_type": "code",
      "source": [
        "#One-step forecast using true targets\n",
        "outputs = model.predict(X)\n",
        "print(outputs.shape)\n",
        "predictions = outputs[:,0]\n",
        "\n",
        "plt.plot(Y, label='targets')\n",
        "plt.plot(predictions,label='predictions')\n",
        "plt.legend()\n",
        "plt.show()"
      ],
      "metadata": {
        "colab": {
          "base_uri": "https://localhost:8080/",
          "height": 305
        },
        "id": "fadkHOCC91UM",
        "outputId": "50ffece4-c519-455f-cec8-f003671f8af5"
      },
      "execution_count": null,
      "outputs": [
        {
          "output_type": "stream",
          "name": "stdout",
          "text": [
            "10/10 [==============================] - 1s 4ms/step\n",
            "(307, 1)\n"
          ]
        },
        {
          "output_type": "display_data",
          "data": {
            "text/plain": [
              "<Figure size 432x288 with 1 Axes>"
            ],
            "image/png": "[encoded data removed]"
          },
          "metadata": {
            "needs_background": "light"
          }
        }
      ]
    },
    {
      "cell_type": "code",
      "source": [
        "#Mutli-step forecast\n",
        "validation_target = Y[-N//2:]\n",
        "validation_predictions = []\n",
        "\n",
        "#last train input\n",
        "last_x = X[-N//2] #1 - D array of lenght T\n",
        "\n",
        "while len(validation_predictions) < len(validation_target):\n",
        "  p = model.predict(last_x.reshape(1, T, 1))[0,0] #1x1 array -> scalar\n",
        "\n",
        "  #update the predictions list\n",
        "  validation_predictions.append(p)\n",
        "\n",
        "  #make the new input\n",
        "  last_x = np.roll(last_x, -1)\n",
        "  last_x[-1] = p\n",
        "\n",
        "plt.plot(validation_target, label = 'forecast target')\n",
        "plt.plot(validation_predictions, label ='forecast predictions')\n",
        "plt.legend()"
      ],
      "metadata": {
        "colab": {
          "base_uri": "https://localhost:8080/",
          "height": 1000
        },
        "id": "k8yFk7vd-BX7",
        "outputId": "94135d61-d968-4e97-ae4a-477d3c356340"
      },
      "execution_count": null,
      "outputs": [
        {
          "output_type": "stream",
          "name": "stdout",
          "text": [
            "1/1 [==============================] - 0s 70ms/step\n",
            "1/1 [==============================] - 0s 48ms/step\n",
            "1/1 [==============================] - 0s 38ms/step\n",
            "1/1 [==============================] - 0s 38ms/step\n",
            "1/1 [==============================] - 0s 31ms/step\n",
            "1/1 [==============================] - 0s 44ms/step\n",
            "1/1 [==============================] - 0s 31ms/step\n",
            "1/1 [==============================] - 0s 32ms/step\n",
            "1/1 [==============================] - 0s 32ms/step\n",
            "1/1 [==============================] - 0s 33ms/step\n",
            "1/1 [==============================] - 0s 36ms/step\n",
            "1/1 [==============================] - 0s 42ms/step\n",
            "1/1 [==============================] - 0s 62ms/step\n",
            "1/1 [==============================] - 0s 34ms/step\n",
            "1/1 [==============================] - 0s 42ms/step\n",
            "1/1 [==============================] - 0s 53ms/step\n",
            "1/1 [==============================] - 0s 31ms/step\n",
            "1/1 [==============================] - 0s 31ms/step\n",
            "1/1 [==============================] - 0s 32ms/step\n",
            "1/1 [==============================] - 0s 52ms/step\n",
            "1/1 [==============================] - 0s 23ms/step\n",
            "1/1 [==============================] - 0s 20ms/step\n",
            "1/1 [==============================] - 0s 24ms/step\n",
            "1/1 [==============================] - 0s 20ms/step\n",
            "1/1 [==============================] - 0s 21ms/step\n",
            "1/1 [==============================] - 0s 23ms/step\n",
            "1/1 [==============================] - 0s 21ms/step\n",
            "1/1 [==============================] - 0s 24ms/step\n",
            "1/1 [==============================] - 0s 23ms/step\n",
            "1/1 [==============================] - 0s 20ms/step\n",
            "1/1 [==============================] - 0s 29ms/step\n",
            "1/1 [==============================] - 0s 23ms/step\n",
            "1/1 [==============================] - 0s 25ms/step\n",
            "1/1 [==============================] - 0s 30ms/step\n",
            "1/1 [==============================] - 0s 23ms/step\n",
            "1/1 [==============================] - 0s 21ms/step\n",
            "1/1 [==============================] - 0s 21ms/step\n",
            "1/1 [==============================] - 0s 24ms/step\n",
            "1/1 [==============================] - 0s 27ms/step\n",
            "1/1 [==============================] - 0s 20ms/step\n",
            "1/1 [==============================] - 0s 23ms/step\n",
            "1/1 [==============================] - 0s 22ms/step\n",
            "1/1 [==============================] - 0s 44ms/step\n",
            "1/1 [==============================] - 0s 54ms/step\n",
            "1/1 [==============================] - 0s 38ms/step\n",
            "1/1 [==============================] - 0s 118ms/step\n",
            "1/1 [==============================] - 0s 80ms/step\n",
            "1/1 [==============================] - 0s 57ms/step\n",
            "1/1 [==============================] - 0s 73ms/step\n",
            "1/1 [==============================] - 0s 75ms/step\n",
            "1/1 [==============================] - 0s 72ms/step\n",
            "1/1 [==============================] - 0s 55ms/step\n",
            "1/1 [==============================] - 0s 46ms/step\n",
            "1/1 [==============================] - 0s 42ms/step\n",
            "1/1 [==============================] - 0s 111ms/step\n",
            "1/1 [==============================] - 0s 73ms/step\n",
            "1/1 [==============================] - 0s 67ms/step\n",
            "1/1 [==============================] - 0s 33ms/step\n",
            "1/1 [==============================] - 0s 63ms/step\n",
            "1/1 [==============================] - 0s 46ms/step\n",
            "1/1 [==============================] - 0s 80ms/step\n",
            "1/1 [==============================] - 0s 77ms/step\n",
            "1/1 [==============================] - 0s 73ms/step\n",
            "1/1 [==============================] - 0s 91ms/step\n",
            "1/1 [==============================] - 0s 37ms/step\n",
            "1/1 [==============================] - 0s 69ms/step\n",
            "1/1 [==============================] - 0s 33ms/step\n",
            "1/1 [==============================] - 0s 38ms/step\n",
            "1/1 [==============================] - 0s 64ms/step\n",
            "1/1 [==============================] - 0s 53ms/step\n",
            "1/1 [==============================] - 0s 50ms/step\n",
            "1/1 [==============================] - 0s 47ms/step\n",
            "1/1 [==============================] - 0s 36ms/step\n",
            "1/1 [==============================] - 0s 30ms/step\n",
            "1/1 [==============================] - 0s 58ms/step\n",
            "1/1 [==============================] - 0s 34ms/step\n",
            "1/1 [==============================] - 0s 60ms/step\n",
            "1/1 [==============================] - 0s 32ms/step\n",
            "1/1 [==============================] - 0s 58ms/step\n",
            "1/1 [==============================] - 0s 32ms/step\n",
            "1/1 [==============================] - 0s 40ms/step\n",
            "1/1 [==============================] - 0s 30ms/step\n",
            "1/1 [==============================] - 0s 62ms/step\n",
            "1/1 [==============================] - 0s 73ms/step\n",
            "1/1 [==============================] - 0s 58ms/step\n",
            "1/1 [==============================] - 0s 51ms/step\n",
            "1/1 [==============================] - 0s 57ms/step\n",
            "1/1 [==============================] - 0s 56ms/step\n",
            "1/1 [==============================] - 0s 42ms/step\n",
            "1/1 [==============================] - 0s 40ms/step\n",
            "1/1 [==============================] - 0s 49ms/step\n",
            "1/1 [==============================] - 0s 54ms/step\n",
            "1/1 [==============================] - 0s 73ms/step\n",
            "1/1 [==============================] - 0s 47ms/step\n",
            "1/1 [==============================] - 0s 33ms/step\n",
            "1/1 [==============================] - 0s 44ms/step\n",
            "1/1 [==============================] - 0s 57ms/step\n",
            "1/1 [==============================] - 0s 47ms/step\n",
            "1/1 [==============================] - 0s 73ms/step\n",
            "1/1 [==============================] - 0s 58ms/step\n",
            "1/1 [==============================] - 0s 120ms/step\n",
            "1/1 [==============================] - 0s 121ms/step\n",
            "1/1 [==============================] - 0s 33ms/step\n",
            "1/1 [==============================] - 0s 38ms/step\n",
            "1/1 [==============================] - 0s 44ms/step\n",
            "1/1 [==============================] - 0s 32ms/step\n",
            "1/1 [==============================] - 0s 32ms/step\n",
            "1/1 [==============================] - 0s 53ms/step\n",
            "1/1 [==============================] - 0s 38ms/step\n",
            "1/1 [==============================] - 0s 47ms/step\n",
            "1/1 [==============================] - 0s 44ms/step\n",
            "1/1 [==============================] - 0s 41ms/step\n",
            "1/1 [==============================] - 0s 37ms/step\n",
            "1/1 [==============================] - 0s 39ms/step\n",
            "1/1 [==============================] - 0s 42ms/step\n",
            "1/1 [==============================] - 0s 37ms/step\n",
            "1/1 [==============================] - 0s 41ms/step\n",
            "1/1 [==============================] - 0s 42ms/step\n",
            "1/1 [==============================] - 0s 44ms/step\n",
            "1/1 [==============================] - 0s 32ms/step\n",
            "1/1 [==============================] - 0s 35ms/step\n",
            "1/1 [==============================] - 0s 39ms/step\n",
            "1/1 [==============================] - 0s 38ms/step\n",
            "1/1 [==============================] - 0s 35ms/step\n",
            "1/1 [==============================] - 0s 34ms/step\n",
            "1/1 [==============================] - 0s 50ms/step\n",
            "1/1 [==============================] - 0s 36ms/step\n",
            "1/1 [==============================] - 0s 37ms/step\n",
            "1/1 [==============================] - 0s 35ms/step\n",
            "1/1 [==============================] - 0s 36ms/step\n",
            "1/1 [==============================] - 0s 56ms/step\n",
            "1/1 [==============================] - 0s 46ms/step\n",
            "1/1 [==============================] - 0s 33ms/step\n",
            "1/1 [==============================] - 0s 36ms/step\n",
            "1/1 [==============================] - 0s 24ms/step\n",
            "1/1 [==============================] - 0s 19ms/step\n",
            "1/1 [==============================] - 0s 23ms/step\n",
            "1/1 [==============================] - 0s 21ms/step\n",
            "1/1 [==============================] - 0s 23ms/step\n",
            "1/1 [==============================] - 0s 21ms/step\n",
            "1/1 [==============================] - 0s 20ms/step\n",
            "1/1 [==============================] - 0s 22ms/step\n",
            "1/1 [==============================] - 0s 22ms/step\n",
            "1/1 [==============================] - 0s 21ms/step\n",
            "1/1 [==============================] - 0s 20ms/step\n",
            "1/1 [==============================] - 0s 23ms/step\n",
            "1/1 [==============================] - 0s 22ms/step\n",
            "1/1 [==============================] - 0s 26ms/step\n",
            "1/1 [==============================] - 0s 29ms/step\n",
            "1/1 [==============================] - 0s 24ms/step\n",
            "1/1 [==============================] - 0s 23ms/step\n",
            "1/1 [==============================] - 0s 20ms/step\n",
            "1/1 [==============================] - 0s 22ms/step\n",
            "1/1 [==============================] - 0s 23ms/step\n"
          ]
        },
        {
          "output_type": "execute_result",
          "data": {
            "text/plain": [
              "<matplotlib.legend.Legend at 0x7f9e75697110>"
            ]
          },
          "metadata": {},
          "execution_count": 28
        },
        {
          "output_type": "display_data",
          "data": {
            "text/plain": [
              "<Figure size 432x288 with 1 Axes>"
            ],
            "image/png": "[encoded data removed]"
          },
          "metadata": {
            "needs_background": "light"
          }
        }
      ]
    },
    {
      "cell_type": "code",
      "source": [
        "#Now turn the full data into numpy arrays\n",
        "\n",
        "# Not yet in the final \"X\" format!\n",
        "input_data = df[['WTI', 'BRENT','DJI','XAU','Oil C1']].values\n",
        "targets = df['MM'].values\n"
      ],
      "metadata": {
        "id": "pM2aaoV9-Hw7"
      },
      "execution_count": null,
      "outputs": []
    },
    {
      "cell_type": "code",
      "source": [
        "from typing import ValuesView\n",
        "ValuesView"
      ],
      "metadata": {
        "colab": {
          "base_uri": "https://localhost:8080/"
        },
        "id": "s338LbRyAU7Y",
        "outputId": "76e29083-5f79-48bd-f7a1-cb71ef3ebbea"
      },
      "execution_count": null,
      "outputs": [
        {
          "output_type": "execute_result",
          "data": {
            "text/plain": [
              "typing.ValuesView"
            ]
          },
          "metadata": {},
          "execution_count": 45
        }
      ]
    },
    {
      "cell_type": "code",
      "source": [
        "ValuesView(targets)"
      ],
      "metadata": {
        "colab": {
          "base_uri": "https://localhost:8080/"
        },
        "id": "BEVLPJspAliy",
        "outputId": "dd3b8fc0-ca7f-408b-dde1-cca70a7414b0"
      },
      "execution_count": null,
      "outputs": [
        {
          "output_type": "execute_result",
          "data": {
            "text/plain": [
              "ValuesView(array([ 15.12,  16.82,  18.35,  17.61,  16.48,  17.44,  17.16,  19.03,\n",
              "        21.23,  20.59,  21.02,  21.62,  19.89,  16.23,  16.34,  16.24,\n",
              "        16.73,  15.68,  16.33,  15.08,  17.42,  17.26,  15.42,  12.64,\n",
              "        12.35,  10.44,  10.15,  10.72,  11.45,  10.34,  10.38,   9.4 ,\n",
              "        12.01,  10.3 ,   8.24,   8.23,   8.97,   8.7 ,  12.87,  14.67,\n",
              "        12.98,  15.15,  16.97,  19.03,  21.39,  18.98,  21.69,  22.05,\n",
              "        23.63,  26.15,  22.21,  21.52,  25.  ,  27.26,  23.04,  28.27,\n",
              "        25.16,  25.97,  25.77,  17.94,  19.86,  19.23,  17.04,  19.51,\n",
              "        20.29,  20.23,  19.09,  21.2 ,  18.15,  15.56,  14.62,  14.91,\n",
              "        14.87,  17.28,  22.23,  23.44,  22.06,  22.61,  23.2 ,  24.24,\n",
              "        25.98,  22.51,  21.09,  26.2 ,  27.7 ,  28.89,  23.15,  20.59,\n",
              "        22.87,  24.94,  24.93,  25.83,  23.85,  23.8 ,  24.18,  25.36,\n",
              "        24.88,  27.14,  27.35,  29.36,  31.82,  28.63,  33.68,  31.26,\n",
              "        37.34,  38.98,  33.06,  28.8 ,  32.51,  35.84,  38.82,  38.6 ,\n",
              "        40.52,  44.2 ,  46.52,  54.01,  52.33,  46.73,  41.8 ,  46.72,\n",
              "        52.17,  48.33,  54.4 ,  59.6 ,  56.47,  58.6 ,  60.96,  57.3 ,\n",
              "        49.81,  47.6 ,  51.9 ,  48.58,  46.94,  49.46,  55.25,  55.68,\n",
              "        56.46,  61.6 ,  67.49,  62.7 ,  68.57,  79.53,  75.87,  82.44,\n",
              "        78.15,  85.64,  86.09,  93.79, 107.51, 123.04, 115.7 , 107.54,\n",
              "        90.68,  51.75,  40.28,  34.22,  40.09,  40.73,  42.87,  47.57,\n",
              "        62.33,  65.97,  65.8 ,  68.58,  63.64,  70.9 ,  72.67,  73.43,\n",
              "        67.17,  71.65,  73.64,  77.02,  65.6 ,  66.91,  71.11,  66.46,\n",
              "        73.37,  74.03,  76.93,  83.51,  87.39,  97.92, 105.07, 113.1 ,\n",
              "       106.36, 101.09, 105.07, 102.4 ,  93.87, 103.91, 107.64, 105.  ,\n",
              "       106.3 , 113.77, 112.36, 110.81,  95.32,  90.53,  96.06, 103.67,\n",
              "       101.05,  95.92,  97.07,  96.7 , 106.23, 105.59, 105.25,  99.16,\n",
              "        95.58,  96.3 , 100.87, 102.98,  97.94,  92.21,  89.56,  92.51,\n",
              "        91.53,  95.18,  92.6 ,  94.84,  97.88,  99.62,  93.61,  92.75,\n",
              "        87.51,  76.98,  69.77,  45.45,  40.4 ,  49.51,  45.15,  57.01,\n",
              "        57.2 ,  55.68,  45.63,  40.45,  38.5 ,  39.32,  34.28,  27.37,\n",
              "        25.53,  27.14,  30.75,  37.58,  40.26,  41.  ,  35.92,  38.96,\n",
              "        39.83,  38.81,  40.94,  46.3 ,  45.18,  46.02,  42.6 ,  42.74,\n",
              "        43.67,  42.68,  46.8 ,  45.62,  49.02,  52.72,  53.59,  56.19,\n",
              "        58.39,  55.59,  56.44,  61.35,  63.48,  68.72,  65.09,  66.29,\n",
              "        74.23,  70.17,  53.14,  44.69,  55.03,  58.62,  61.28,  63.62,\n",
              "        56.57,  61.08,  59.63,  49.54,  54.85,  48.08,  51.24,  56.14,\n",
              "        48.15,  39.76,  10.76,  12.5 ,  29.87,  34.28,  36.94,  40.85,\n",
              "        37.12,  32.58,  42.95,  47.16,  51.18,  60.89,  58.37,  61.39,\n",
              "        63.66,  69.3 ,  70.27,  66.02,  71.25,  77.6 ,  61.23,  71.29,\n",
              "        83.11,  91.8 ,  98.  , 102.02, 113.83, 104.79]))"
            ]
          },
          "metadata": {},
          "execution_count": 48
        }
      ]
    },
    {
      "cell_type": "code",
      "source": [
        "print(input_data.shape)"
      ],
      "metadata": {
        "colab": {
          "base_uri": "https://localhost:8080/"
        },
        "id": "I6cnxhwZ-bt_",
        "outputId": "bb51a648-ae23-4791-a7ce-e3d53a9ba92c"
      },
      "execution_count": null,
      "outputs": [
        {
          "output_type": "stream",
          "name": "stdout",
          "text": [
            "(318, 5)\n"
          ]
        }
      ]
    },
    {
      "cell_type": "code",
      "source": [
        "print(targets.shape)"
      ],
      "metadata": {
        "colab": {
          "base_uri": "https://localhost:8080/"
        },
        "id": "86ChU51x-fSd",
        "outputId": "8d855722-8cd0-4d5f-d091-4e8a504b33cf"
      },
      "execution_count": null,
      "outputs": [
        {
          "output_type": "stream",
          "name": "stdout",
          "text": [
            "(318,)\n"
          ]
        }
      ]
    },
    {
      "cell_type": "code",
      "source": [
        "# Now make the actual data which will go into the neural network\n",
        "T = 10 #the number of time steps to look at to make a prediction for the next day\n",
        "D = input_data.shape[1] #en este ejemplo son 5 porque usamos 5 variables disitntas\n",
        "N = len(input_data) - T # (e.g. if T = 10 and you have 11 data points then you'd onlye have 1 sample )"
      ],
      "metadata": {
        "id": "8GNYquq3-g2E"
      },
      "execution_count": null,
      "outputs": []
    },
    {
      "cell_type": "code",
      "source": [
        "# normalize the inputs\n",
        "Ntrain = len(input_data) * 2 //3\n",
        "scaler = StandardScaler()\n",
        "scaler.fit(input_data[:Ntrain + T]) #escala los primeros 2/3 de datos + T\n",
        "input_data = scaler.transform(input_data) # remplaza el dataset a los datos escalados"
      ],
      "metadata": {
        "id": "L94PEts2-iH6"
      },
      "execution_count": null,
      "outputs": []
    },
    {
      "cell_type": "code",
      "source": [
        "# Setup X_train and Y_train\n",
        "X_train = np.zeros((Ntrain, T, D)) #crea ceros del tensor de 3 dimensiones y la medida son los números de cada definición (1249,5,10)\n",
        "Y_train = np.zeros(Ntrain)\n",
        "\n",
        "for t in range(Ntrain): \n",
        "  X_train[t, :, :] = input_data[t:t+T] #es el recorrido que hacen los datos de 1 en 1 con las 5 variables\n",
        "  Y_train[t] = (targets[t+T]>0) #booleano, mientras t+T sean > a 0 entonces Y_train será igual a x numero"
      ],
      "metadata": {
        "id": "jLcoBi-r-lEE"
      },
      "execution_count": null,
      "outputs": []
    },
    {
      "cell_type": "code",
      "source": [
        "print(X_train.shape)"
      ],
      "metadata": {
        "colab": {
          "base_uri": "https://localhost:8080/"
        },
        "id": "6pvu6N5q-m2f",
        "outputId": "77cea1f2-e811-4708-c705-640df4be808b"
      },
      "execution_count": null,
      "outputs": [
        {
          "output_type": "stream",
          "name": "stdout",
          "text": [
            "(212, 10, 5)\n"
          ]
        }
      ]
    },
    {
      "cell_type": "code",
      "source": [
        "# Setup X_test and Y_test\n",
        "X_test = np.zeros((N - Ntrain, T, D)) #crea ceros del tensor de 3 dimensiones y la medida son los números de cada definición (1249-2/3 Ntrain ,5,10)\n",
        "Y_test = np.zeros(N - Ntrain) # (1249-839)\n",
        "\n",
        "#Acá llenamos los ceros generados\n",
        "for u in range(N - Ntrain): \n",
        "  # u ocunts from 0... (N - Ntrain)\n",
        "  # t counts form Ntrain...N \n",
        "  t = u + Ntrain #(U toma de 0 hasta N, Ntrain siempre es 839)\n",
        "  X_test[u, :, :] = input_data[t:t+T] #es el recorrido que hacen los datos de 1 en 1 con las 5 variables\n",
        "  Y_test[u] = (targets[t+T]>0) #booleano, mientras t+T sean > a 0 entonces Y_train será igual a x numero"
      ],
      "metadata": {
        "id": "XguivZbq-o3o"
      },
      "execution_count": null,
      "outputs": []
    },
    {
      "cell_type": "code",
      "source": [
        "print(X_test.shape)"
      ],
      "metadata": {
        "colab": {
          "base_uri": "https://localhost:8080/"
        },
        "id": "rpAbEXgW-zWK",
        "outputId": "21231f0d-8481-4d9f-fb56-be9275ed8d28"
      },
      "execution_count": null,
      "outputs": [
        {
          "output_type": "stream",
          "name": "stdout",
          "text": [
            "(96, 10, 5)\n"
          ]
        }
      ]
    },
    {
      "cell_type": "code",
      "source": [
        "# Make the RNN []\n",
        "i = Input(shape=(T,D))  #es solo poner una entrada, en este caso 10 porque es la primera capa y uno busca un AR(10) #Aca si se pone (T,1)\n",
        "x = LSTM(5)(i) #50 = number of hidden units // #i = (10,5)(especificación de la entrada)\n",
        "x = Dense(1, activation='sigmoid')(x)  # final layer is one #solo es una capa. \n",
        "model = Model(i, x)\n",
        "model.compile(\n",
        "    loss='binary_crossentropy',\n",
        "    optimizer=Adam(learning_rate= 0.001),\n",
        "    metrics = ['accuracy'],\n",
        ")\n"
      ],
      "metadata": {
        "id": "bdo01Jo4-2YT"
      },
      "execution_count": null,
      "outputs": []
    },
    {
      "cell_type": "code",
      "source": [
        "# train the RNN\n",
        "r = model.fit(\n",
        "    X_train, Y_train,\n",
        "    batch_size=10,\n",
        "    epochs=80,\n",
        "    validation_data=(X_test, Y_test),\n",
        ")"
      ],
      "metadata": {
        "colab": {
          "base_uri": "https://localhost:8080/"
        },
        "id": "OmnXZop2-38X",
        "outputId": "5e930ee0-6c83-45d2-e42a-09d52d5fd0bd"
      },
      "execution_count": null,
      "outputs": [
        {
          "output_type": "stream",
          "name": "stdout",
          "text": [
            "Epoch 1/80\n",
            "22/22 [==============================] - 1s 62ms/step - loss: nan - accuracy: 0.0000e+00 - val_loss: nan - val_accuracy: 0.0000e+00\n",
            "Epoch 2/80\n",
            "22/22 [==============================] - 0s 14ms/step - loss: nan - accuracy: 0.0000e+00 - val_loss: nan - val_accuracy: 0.0000e+00\n",
            "Epoch 3/80\n",
            "22/22 [==============================] - 1s 24ms/step - loss: nan - accuracy: 0.0000e+00 - val_loss: nan - val_accuracy: 0.0000e+00\n",
            "Epoch 4/80\n",
            "22/22 [==============================] - 0s 18ms/step - loss: nan - accuracy: 0.0000e+00 - val_loss: nan - val_accuracy: 0.0000e+00\n",
            "Epoch 5/80\n",
            "22/22 [==============================] - 0s 9ms/step - loss: nan - accuracy: 0.0000e+00 - val_loss: nan - val_accuracy: 0.0000e+00\n",
            "Epoch 6/80\n",
            "22/22 [==============================] - 0s 10ms/step - loss: nan - accuracy: 0.0000e+00 - val_loss: nan - val_accuracy: 0.0000e+00\n",
            "Epoch 7/80\n",
            "22/22 [==============================] - 0s 11ms/step - loss: nan - accuracy: 0.0000e+00 - val_loss: nan - val_accuracy: 0.0000e+00\n",
            "Epoch 8/80\n",
            "22/22 [==============================] - 0s 10ms/step - loss: nan - accuracy: 0.0000e+00 - val_loss: nan - val_accuracy: 0.0000e+00\n",
            "Epoch 9/80\n",
            "22/22 [==============================] - 0s 9ms/step - loss: nan - accuracy: 0.0000e+00 - val_loss: nan - val_accuracy: 0.0000e+00\n",
            "Epoch 10/80\n",
            "22/22 [==============================] - 0s 10ms/step - loss: nan - accuracy: 0.0000e+00 - val_loss: nan - val_accuracy: 0.0000e+00\n",
            "Epoch 11/80\n",
            "22/22 [==============================] - 0s 10ms/step - loss: nan - accuracy: 0.0000e+00 - val_loss: nan - val_accuracy: 0.0000e+00\n",
            "Epoch 12/80\n",
            "22/22 [==============================] - 0s 10ms/step - loss: nan - accuracy: 0.0000e+00 - val_loss: nan - val_accuracy: 0.0000e+00\n",
            "Epoch 13/80\n",
            "22/22 [==============================] - 0s 10ms/step - loss: nan - accuracy: 0.0000e+00 - val_loss: nan - val_accuracy: 0.0000e+00\n",
            "Epoch 14/80\n",
            "22/22 [==============================] - 0s 11ms/step - loss: nan - accuracy: 0.0000e+00 - val_loss: nan - val_accuracy: 0.0000e+00\n",
            "Epoch 15/80\n",
            "22/22 [==============================] - 0s 11ms/step - loss: nan - accuracy: 0.0000e+00 - val_loss: nan - val_accuracy: 0.0000e+00\n",
            "Epoch 16/80\n",
            "22/22 [==============================] - 0s 12ms/step - loss: nan - accuracy: 0.0000e+00 - val_loss: nan - val_accuracy: 0.0000e+00\n",
            "Epoch 17/80\n",
            "22/22 [==============================] - 0s 13ms/step - loss: nan - accuracy: 0.0000e+00 - val_loss: nan - val_accuracy: 0.0000e+00\n",
            "Epoch 18/80\n",
            "22/22 [==============================] - 0s 10ms/step - loss: nan - accuracy: 0.0000e+00 - val_loss: nan - val_accuracy: 0.0000e+00\n",
            "Epoch 19/80\n",
            "22/22 [==============================] - 0s 11ms/step - loss: nan - accuracy: 0.0000e+00 - val_loss: nan - val_accuracy: 0.0000e+00\n",
            "Epoch 20/80\n",
            "22/22 [==============================] - 0s 9ms/step - loss: nan - accuracy: 0.0000e+00 - val_loss: nan - val_accuracy: 0.0000e+00\n",
            "Epoch 21/80\n",
            "22/22 [==============================] - 0s 11ms/step - loss: nan - accuracy: 0.0000e+00 - val_loss: nan - val_accuracy: 0.0000e+00\n",
            "Epoch 22/80\n",
            "22/22 [==============================] - 0s 10ms/step - loss: nan - accuracy: 0.0000e+00 - val_loss: nan - val_accuracy: 0.0000e+00\n",
            "Epoch 23/80\n",
            "22/22 [==============================] - 0s 9ms/step - loss: nan - accuracy: 0.0000e+00 - val_loss: nan - val_accuracy: 0.0000e+00\n",
            "Epoch 24/80\n",
            "22/22 [==============================] - 0s 8ms/step - loss: nan - accuracy: 0.0000e+00 - val_loss: nan - val_accuracy: 0.0000e+00\n",
            "Epoch 25/80\n",
            "22/22 [==============================] - 0s 10ms/step - loss: nan - accuracy: 0.0000e+00 - val_loss: nan - val_accuracy: 0.0000e+00\n",
            "Epoch 26/80\n",
            "22/22 [==============================] - 0s 10ms/step - loss: nan - accuracy: 0.0000e+00 - val_loss: nan - val_accuracy: 0.0000e+00\n",
            "Epoch 27/80\n",
            "22/22 [==============================] - 0s 8ms/step - loss: nan - accuracy: 0.0000e+00 - val_loss: nan - val_accuracy: 0.0000e+00\n",
            "Epoch 28/80\n",
            "22/22 [==============================] - 0s 10ms/step - loss: nan - accuracy: 0.0000e+00 - val_loss: nan - val_accuracy: 0.0000e+00\n",
            "Epoch 29/80\n",
            "22/22 [==============================] - 0s 8ms/step - loss: nan - accuracy: 0.0000e+00 - val_loss: nan - val_accuracy: 0.0000e+00\n",
            "Epoch 30/80\n",
            "22/22 [==============================] - 0s 8ms/step - loss: nan - accuracy: 0.0000e+00 - val_loss: nan - val_accuracy: 0.0000e+00\n",
            "Epoch 31/80\n",
            "22/22 [==============================] - 0s 11ms/step - loss: nan - accuracy: 0.0000e+00 - val_loss: nan - val_accuracy: 0.0000e+00\n",
            "Epoch 32/80\n",
            "22/22 [==============================] - 0s 8ms/step - loss: nan - accuracy: 0.0000e+00 - val_loss: nan - val_accuracy: 0.0000e+00\n",
            "Epoch 33/80\n",
            "22/22 [==============================] - 0s 9ms/step - loss: nan - accuracy: 0.0000e+00 - val_loss: nan - val_accuracy: 0.0000e+00\n",
            "Epoch 34/80\n",
            "22/22 [==============================] - 0s 9ms/step - loss: nan - accuracy: 0.0000e+00 - val_loss: nan - val_accuracy: 0.0000e+00\n",
            "Epoch 35/80\n",
            "22/22 [==============================] - 0s 11ms/step - loss: nan - accuracy: 0.0000e+00 - val_loss: nan - val_accuracy: 0.0000e+00\n",
            "Epoch 36/80\n",
            "22/22 [==============================] - 0s 8ms/step - loss: nan - accuracy: 0.0000e+00 - val_loss: nan - val_accuracy: 0.0000e+00\n",
            "Epoch 37/80\n",
            "22/22 [==============================] - 0s 10ms/step - loss: nan - accuracy: 0.0000e+00 - val_loss: nan - val_accuracy: 0.0000e+00\n",
            "Epoch 38/80\n",
            "22/22 [==============================] - 0s 10ms/step - loss: nan - accuracy: 0.0000e+00 - val_loss: nan - val_accuracy: 0.0000e+00\n",
            "Epoch 39/80\n",
            "22/22 [==============================] - 0s 9ms/step - loss: nan - accuracy: 0.0000e+00 - val_loss: nan - val_accuracy: 0.0000e+00\n",
            "Epoch 40/80\n",
            "22/22 [==============================] - 0s 9ms/step - loss: nan - accuracy: 0.0000e+00 - val_loss: nan - val_accuracy: 0.0000e+00\n",
            "Epoch 41/80\n",
            "22/22 [==============================] - 0s 8ms/step - loss: nan - accuracy: 0.0000e+00 - val_loss: nan - val_accuracy: 0.0000e+00\n",
            "Epoch 42/80\n",
            "22/22 [==============================] - 0s 8ms/step - loss: nan - accuracy: 0.0000e+00 - val_loss: nan - val_accuracy: 0.0000e+00\n",
            "Epoch 43/80\n",
            "22/22 [==============================] - 0s 9ms/step - loss: nan - accuracy: 0.0000e+00 - val_loss: nan - val_accuracy: 0.0000e+00\n",
            "Epoch 44/80\n",
            "22/22 [==============================] - 0s 9ms/step - loss: nan - accuracy: 0.0000e+00 - val_loss: nan - val_accuracy: 0.0000e+00\n",
            "Epoch 45/80\n",
            "22/22 [==============================] - 0s 11ms/step - loss: nan - accuracy: 0.0000e+00 - val_loss: nan - val_accuracy: 0.0000e+00\n",
            "Epoch 46/80\n",
            "22/22 [==============================] - 0s 11ms/step - loss: nan - accuracy: 0.0000e+00 - val_loss: nan - val_accuracy: 0.0000e+00\n",
            "Epoch 47/80\n",
            "22/22 [==============================] - 0s 9ms/step - loss: nan - accuracy: 0.0000e+00 - val_loss: nan - val_accuracy: 0.0000e+00\n",
            "Epoch 48/80\n",
            "22/22 [==============================] - 0s 9ms/step - loss: nan - accuracy: 0.0000e+00 - val_loss: nan - val_accuracy: 0.0000e+00\n",
            "Epoch 49/80\n",
            "22/22 [==============================] - 0s 11ms/step - loss: nan - accuracy: 0.0000e+00 - val_loss: nan - val_accuracy: 0.0000e+00\n",
            "Epoch 50/80\n",
            "22/22 [==============================] - 0s 9ms/step - loss: nan - accuracy: 0.0000e+00 - val_loss: nan - val_accuracy: 0.0000e+00\n",
            "Epoch 51/80\n",
            "22/22 [==============================] - 0s 9ms/step - loss: nan - accuracy: 0.0000e+00 - val_loss: nan - val_accuracy: 0.0000e+00\n",
            "Epoch 52/80\n",
            "22/22 [==============================] - 0s 11ms/step - loss: nan - accuracy: 0.0000e+00 - val_loss: nan - val_accuracy: 0.0000e+00\n",
            "Epoch 53/80\n",
            "22/22 [==============================] - 0s 8ms/step - loss: nan - accuracy: 0.0000e+00 - val_loss: nan - val_accuracy: 0.0000e+00\n",
            "Epoch 54/80\n",
            "22/22 [==============================] - 0s 8ms/step - loss: nan - accuracy: 0.0000e+00 - val_loss: nan - val_accuracy: 0.0000e+00\n",
            "Epoch 55/80\n",
            "22/22 [==============================] - 0s 9ms/step - loss: nan - accuracy: 0.0000e+00 - val_loss: nan - val_accuracy: 0.0000e+00\n",
            "Epoch 56/80\n",
            "22/22 [==============================] - 0s 9ms/step - loss: nan - accuracy: 0.0000e+00 - val_loss: nan - val_accuracy: 0.0000e+00\n",
            "Epoch 57/80\n",
            "22/22 [==============================] - 0s 10ms/step - loss: nan - accuracy: 0.0000e+00 - val_loss: nan - val_accuracy: 0.0000e+00\n",
            "Epoch 58/80\n",
            "22/22 [==============================] - 0s 9ms/step - loss: nan - accuracy: 0.0000e+00 - val_loss: nan - val_accuracy: 0.0000e+00\n",
            "Epoch 59/80\n",
            "22/22 [==============================] - 0s 10ms/step - loss: nan - accuracy: 0.0000e+00 - val_loss: nan - val_accuracy: 0.0000e+00\n",
            "Epoch 60/80\n",
            "22/22 [==============================] - 0s 9ms/step - loss: nan - accuracy: 0.0000e+00 - val_loss: nan - val_accuracy: 0.0000e+00\n",
            "Epoch 61/80\n",
            "22/22 [==============================] - 0s 10ms/step - loss: nan - accuracy: 0.0000e+00 - val_loss: nan - val_accuracy: 0.0000e+00\n",
            "Epoch 62/80\n",
            "22/22 [==============================] - 0s 11ms/step - loss: nan - accuracy: 0.0000e+00 - val_loss: nan - val_accuracy: 0.0000e+00\n",
            "Epoch 63/80\n",
            "22/22 [==============================] - 0s 11ms/step - loss: nan - accuracy: 0.0000e+00 - val_loss: nan - val_accuracy: 0.0000e+00\n",
            "Epoch 64/80\n",
            "22/22 [==============================] - 0s 11ms/step - loss: nan - accuracy: 0.0000e+00 - val_loss: nan - val_accuracy: 0.0000e+00\n",
            "Epoch 65/80\n",
            "22/22 [==============================] - 0s 12ms/step - loss: nan - accuracy: 0.0000e+00 - val_loss: nan - val_accuracy: 0.0000e+00\n",
            "Epoch 66/80\n",
            "22/22 [==============================] - 0s 11ms/step - loss: nan - accuracy: 0.0000e+00 - val_loss: nan - val_accuracy: 0.0000e+00\n",
            "Epoch 67/80\n",
            "22/22 [==============================] - 0s 9ms/step - loss: nan - accuracy: 0.0000e+00 - val_loss: nan - val_accuracy: 0.0000e+00\n",
            "Epoch 68/80\n",
            "22/22 [==============================] - 0s 9ms/step - loss: nan - accuracy: 0.0000e+00 - val_loss: nan - val_accuracy: 0.0000e+00\n",
            "Epoch 69/80\n",
            "22/22 [==============================] - 0s 10ms/step - loss: nan - accuracy: 0.0000e+00 - val_loss: nan - val_accuracy: 0.0000e+00\n",
            "Epoch 70/80\n",
            "22/22 [==============================] - 0s 9ms/step - loss: nan - accuracy: 0.0000e+00 - val_loss: nan - val_accuracy: 0.0000e+00\n",
            "Epoch 71/80\n",
            "22/22 [==============================] - 0s 9ms/step - loss: nan - accuracy: 0.0000e+00 - val_loss: nan - val_accuracy: 0.0000e+00\n",
            "Epoch 72/80\n",
            "22/22 [==============================] - 0s 8ms/step - loss: nan - accuracy: 0.0000e+00 - val_loss: nan - val_accuracy: 0.0000e+00\n",
            "Epoch 73/80\n",
            "22/22 [==============================] - 0s 11ms/step - loss: nan - accuracy: 0.0000e+00 - val_loss: nan - val_accuracy: 0.0000e+00\n",
            "Epoch 74/80\n",
            "22/22 [==============================] - 0s 11ms/step - loss: nan - accuracy: 0.0000e+00 - val_loss: nan - val_accuracy: 0.0000e+00\n",
            "Epoch 75/80\n",
            "22/22 [==============================] - 0s 9ms/step - loss: nan - accuracy: 0.0000e+00 - val_loss: nan - val_accuracy: 0.0000e+00\n",
            "Epoch 76/80\n",
            "22/22 [==============================] - 0s 8ms/step - loss: nan - accuracy: 0.0000e+00 - val_loss: nan - val_accuracy: 0.0000e+00\n",
            "Epoch 77/80\n",
            "22/22 [==============================] - 0s 8ms/step - loss: nan - accuracy: 0.0000e+00 - val_loss: nan - val_accuracy: 0.0000e+00\n",
            "Epoch 78/80\n",
            "22/22 [==============================] - 0s 11ms/step - loss: nan - accuracy: 0.0000e+00 - val_loss: nan - val_accuracy: 0.0000e+00\n",
            "Epoch 79/80\n",
            "22/22 [==============================] - 0s 9ms/step - loss: nan - accuracy: 0.0000e+00 - val_loss: nan - val_accuracy: 0.0000e+00\n",
            "Epoch 80/80\n",
            "22/22 [==============================] - 0s 10ms/step - loss: nan - accuracy: 0.0000e+00 - val_loss: nan - val_accuracy: 0.0000e+00\n"
          ]
        }
      ]
    },
    {
      "cell_type": "code",
      "source": [
        "#Plot the loss\n",
        "plt.plot(r.history['loss'], label='loss')\n",
        "plt.plot(r.history['val_loss'], label='val_loss')\n",
        "plt.legend()\n",
        "plt.show()"
      ],
      "metadata": {
        "colab": {
          "base_uri": "https://localhost:8080/",
          "height": 265
        },
        "id": "eTIPdKLA-5bz",
        "outputId": "8d4319a6-4eff-4ec3-8c65-aa8ff1132187"
      },
      "execution_count": null,
      "outputs": [
        {
          "output_type": "display_data",
          "data": {
            "text/plain": [
              "<Figure size 432x288 with 1 Axes>"
            ],
            "image/png": "[encoded data removed]"
          },
          "metadata": {
            "needs_background": "light"
          }
        }
      ]
    },
    {
      "cell_type": "code",
      "source": [
        "#Plot accuracy per iteration\n",
        "plt.plot(r.history['accuracy'], label='accuracy')\n",
        "plt.plot(r.history['val_accuracy'], label='val_accuracy')\n",
        "plt.legend()\n",
        "plt.show()"
      ],
      "metadata": {
        "colab": {
          "base_uri": "https://localhost:8080/",
          "height": 265
        },
        "id": "PuAMA7oq-7wK",
        "outputId": "5bbb654c-d818-49b5-8e96-41e3aacd45f4"
      },
      "execution_count": null,
      "outputs": [
        {
          "output_type": "display_data",
          "data": {
            "text/plain": [
              "<Figure size 432x288 with 1 Axes>"
            ],
            "image/png": "[encoded data removed]"
          },
          "metadata": {
            "needs_background": "light"
          }
        }
      ]
    },
    {
      "cell_type": "code",
      "source": [
        "#Mutli-step forecast\n",
        "forecast = []\n",
        "input_ = X[-N//2] #como no tiene los \":\" entonces significa que toma la primera mitad de los datos\n",
        "while len(forecast) < len(Y[-N//2:]):\n",
        "  #Reshape the input_ to N x T x D\n",
        "  f = model.predict(input_.reshape(1, T, 1))[0,0] # f = model.predict(input_.reshape(1, T, 1))[0,0] // f = model.predict(input_.reshape(1, -1))[0,0]\n",
        "  forecast.append(f)\n",
        "\n",
        "  #make a new input with the latest forecast\n",
        "  input_ = np.roll(input_, -1)\n",
        "  input_[-1] = f"
      ],
      "metadata": {
        "id": "UZRIA6H1-96W"
      },
      "execution_count": null,
      "outputs": []
    }
  ]
}